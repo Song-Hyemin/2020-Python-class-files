{
  "nbformat": 4,
  "nbformat_minor": 0,
  "metadata": {
    "colab": {
      "name": "lab8+lab9_20201591_HyeminSong.ipynb",
      "provenance": []
    },
    "kernelspec": {
      "name": "python3",
      "display_name": "Python 3"
    }
  },
  "cells": [
    {
      "cell_type": "code",
      "metadata": {
        "id": "U0smqiml7sT8"
      },
      "source": [
        "# 8.1 오류와 예외처리의 필요성"
      ],
      "execution_count": null,
      "outputs": []
    },
    {
      "cell_type": "code",
      "metadata": {
        "id": "zfk1-3-D7_a6"
      },
      "source": [
        "# 8.2 try-except 문의 문법"
      ],
      "execution_count": null,
      "outputs": []
    },
    {
      "cell_type": "code",
      "metadata": {
        "colab": {
          "base_uri": "https://localhost:8080/"
        },
        "id": "wuLfAiwr9vyC",
        "outputId": "9186a139-1c60-41e4-8a7b-a839da08e5cf"
      },
      "source": [
        "try:\n",
        "  a,b = input('두 수를 입력하시오: ').split()\n",
        "  result = int(a) / int(b)\n",
        "  print('{}/{} = {}'.format(a,b,result))\n",
        "\n",
        "except:\n",
        "  print('수가 정확한지 확인하세요.')"
      ],
      "execution_count": null,
      "outputs": [
        {
          "output_type": "stream",
          "text": [
            "두 수를 입력하시오: 10 0\n",
            "수가 정확한지 확인하세요.\n"
          ],
          "name": "stdout"
        }
      ]
    },
    {
      "cell_type": "code",
      "metadata": {
        "colab": {
          "base_uri": "https://localhost:8080/"
        },
        "id": "1Hskgq15-Stw",
        "outputId": "86c0bddc-d2cd-4b44-ca53-9ab88f482192"
      },
      "source": [
        "try:\n",
        "  a,b = input('두 수를 입력하시오: ').split()\n",
        "  result = int(a) / int(b)\n",
        "  print('{}/{} = {}'.format(a,b,result))\n",
        "\n",
        "except:\n",
        "  print('수가 정확한지 확인하세요.')"
      ],
      "execution_count": null,
      "outputs": [
        {
          "output_type": "stream",
          "text": [
            "두 수를 입력하시오: 사백 이백\n",
            "수가 정확한지 확인하세요.\n"
          ],
          "name": "stdout"
        }
      ]
    },
    {
      "cell_type": "code",
      "metadata": {
        "colab": {
          "base_uri": "https://localhost:8080/"
        },
        "id": "wNqyz7wJ-U48",
        "outputId": "a627be6f-4daa-4944-fd71-97a96a3ae996"
      },
      "source": [
        "try:\n",
        "  a,b = input('두 수를 입력하시오: ').split()\n",
        "  result = int(a) / int(b)\n",
        "  print('{}/{} = {}'.format(a,b,result))\n",
        "\n",
        "except:\n",
        "  print('수가 정확한지 확인하세요.')"
      ],
      "execution_count": null,
      "outputs": [
        {
          "output_type": "stream",
          "text": [
            "두 수를 입력하시오: 50 2\n",
            "50/2 = 25.0\n"
          ],
          "name": "stdout"
        }
      ]
    },
    {
      "cell_type": "code",
      "metadata": {
        "colab": {
          "base_uri": "https://localhost:8080/"
        },
        "id": "h1Wa7KCe-_p6",
        "outputId": "db6cbd08-6e2f-4f0a-ba7d-e7bb7dc01715"
      },
      "source": [
        "try:\n",
        "  b = 2 / 0\n",
        "  a = 1 + 'hundred'\n",
        "  \n",
        "except Exception as e:\n",
        "  print('error :',e)"
      ],
      "execution_count": null,
      "outputs": [
        {
          "output_type": "stream",
          "text": [
            "error : division by zero\n"
          ],
          "name": "stdout"
        }
      ]
    },
    {
      "cell_type": "code",
      "metadata": {
        "colab": {
          "base_uri": "https://localhost:8080/"
        },
        "id": "afvE-_EX-_ng",
        "outputId": "d9f947ce-50c1-4fcf-8489-d60bc464cd3c"
      },
      "source": [
        "try:\n",
        "  # b = 2 / 0\n",
        "  a = 1 + 'hundred'\n",
        "  \n",
        "except Exception as e:\n",
        "  print('error :',e)"
      ],
      "execution_count": null,
      "outputs": [
        {
          "output_type": "stream",
          "text": [
            "error : unsupported operand type(s) for +: 'int' and 'str'\n"
          ],
          "name": "stdout"
        }
      ]
    },
    {
      "cell_type": "code",
      "metadata": {
        "id": "9_VmvJpD-W0h"
      },
      "source": [
        "# LAB 8.1 : 다음 코드는 어떤 예외를 발생시키는가?"
      ],
      "execution_count": null,
      "outputs": []
    },
    {
      "cell_type": "code",
      "metadata": {
        "id": "CcsKUrIt-fS2"
      },
      "source": [
        "# 1번"
      ],
      "execution_count": null,
      "outputs": []
    },
    {
      "cell_type": "code",
      "metadata": {
        "colab": {
          "base_uri": "https://localhost:8080/",
          "height": 195
        },
        "id": "8Vp6hdus-gOn",
        "outputId": "637c04b0-92fc-4319-f670-3e40ed84946a"
      },
      "source": [
        "a = [10,20,30]\n",
        "a[3]"
      ],
      "execution_count": null,
      "outputs": [
        {
          "output_type": "error",
          "ename": "IndexError",
          "evalue": "ignored",
          "traceback": [
            "\u001b[0;31m---------------------------------------------------------------------------\u001b[0m",
            "\u001b[0;31mIndexError\u001b[0m                                Traceback (most recent call last)",
            "\u001b[0;32m<ipython-input-8-a2693ab4115c>\u001b[0m in \u001b[0;36m<module>\u001b[0;34m()\u001b[0m\n\u001b[1;32m      1\u001b[0m \u001b[0ma\u001b[0m \u001b[0;34m=\u001b[0m \u001b[0;34m[\u001b[0m\u001b[0;36m10\u001b[0m\u001b[0;34m,\u001b[0m\u001b[0;36m20\u001b[0m\u001b[0;34m,\u001b[0m\u001b[0;36m30\u001b[0m\u001b[0;34m]\u001b[0m\u001b[0;34m\u001b[0m\u001b[0;34m\u001b[0m\u001b[0m\n\u001b[0;32m----> 2\u001b[0;31m \u001b[0ma\u001b[0m\u001b[0;34m[\u001b[0m\u001b[0;36m3\u001b[0m\u001b[0;34m]\u001b[0m\u001b[0;34m\u001b[0m\u001b[0;34m\u001b[0m\u001b[0m\n\u001b[0m",
            "\u001b[0;31mIndexError\u001b[0m: list index out of range"
          ]
        }
      ]
    },
    {
      "cell_type": "code",
      "metadata": {
        "colab": {
          "base_uri": "https://localhost:8080/",
          "height": 176
        },
        "id": "OaA6CqF1-jnP",
        "outputId": "5d36eb2c-bbc7-45d5-fac0-97c82c6de8f7"
      },
      "source": [
        "n = int('20%')"
      ],
      "execution_count": null,
      "outputs": [
        {
          "output_type": "error",
          "ename": "ValueError",
          "evalue": "ignored",
          "traceback": [
            "\u001b[0;31m---------------------------------------------------------------------------\u001b[0m",
            "\u001b[0;31mValueError\u001b[0m                                Traceback (most recent call last)",
            "\u001b[0;32m<ipython-input-9-9ff1c6791fc8>\u001b[0m in \u001b[0;36m<module>\u001b[0;34m()\u001b[0m\n\u001b[0;32m----> 1\u001b[0;31m \u001b[0mn\u001b[0m \u001b[0;34m=\u001b[0m \u001b[0mint\u001b[0m\u001b[0;34m(\u001b[0m\u001b[0;34m'20%'\u001b[0m\u001b[0;34m)\u001b[0m\u001b[0;34m\u001b[0m\u001b[0;34m\u001b[0m\u001b[0m\n\u001b[0m",
            "\u001b[0;31mValueError\u001b[0m: invalid literal for int() with base 10: '20%'"
          ]
        }
      ]
    },
    {
      "cell_type": "code",
      "metadata": {
        "colab": {
          "base_uri": "https://localhost:8080/",
          "height": 176
        },
        "id": "SlLa66ph-mMF",
        "outputId": "43b3c21a-025a-4541-a1e4-4c2c2360c142"
      },
      "source": [
        "a = 100 + '200'"
      ],
      "execution_count": null,
      "outputs": [
        {
          "output_type": "error",
          "ename": "TypeError",
          "evalue": "ignored",
          "traceback": [
            "\u001b[0;31m---------------------------------------------------------------------------\u001b[0m",
            "\u001b[0;31mTypeError\u001b[0m                                 Traceback (most recent call last)",
            "\u001b[0;32m<ipython-input-10-dbfd44d49627>\u001b[0m in \u001b[0;36m<module>\u001b[0;34m()\u001b[0m\n\u001b[0;32m----> 1\u001b[0;31m \u001b[0ma\u001b[0m \u001b[0;34m=\u001b[0m \u001b[0;36m100\u001b[0m \u001b[0;34m+\u001b[0m \u001b[0;34m'200'\u001b[0m\u001b[0;34m\u001b[0m\u001b[0;34m\u001b[0m\u001b[0m\n\u001b[0m",
            "\u001b[0;31mTypeError\u001b[0m: unsupported operand type(s) for +: 'int' and 'str'"
          ]
        }
      ]
    },
    {
      "cell_type": "code",
      "metadata": {
        "id": "g2ryHAt0-oUS"
      },
      "source": [
        "# 2번"
      ],
      "execution_count": null,
      "outputs": []
    },
    {
      "cell_type": "code",
      "metadata": {
        "colab": {
          "base_uri": "https://localhost:8080/"
        },
        "id": "wU-TSur4-x18",
        "outputId": "4a7f0f9e-0839-4048-cb77-32d8cdd3f80c"
      },
      "source": [
        "try:\n",
        "  a = [10,20,30]\n",
        "  a[3]\n",
        "  \n",
        "except Exception as e:\n",
        "  print('error: ',e)"
      ],
      "execution_count": null,
      "outputs": [
        {
          "output_type": "stream",
          "text": [
            "error:  list index out of range\n"
          ],
          "name": "stdout"
        }
      ]
    },
    {
      "cell_type": "code",
      "metadata": {
        "colab": {
          "base_uri": "https://localhost:8080/"
        },
        "id": "gvipqtBK--Ha",
        "outputId": "479aa3bc-bd34-416c-fb78-277315df3cd5"
      },
      "source": [
        "try:\n",
        "  n = int('20%')\n",
        "  \n",
        "except Exception as e:\n",
        "  print('error: ',e)"
      ],
      "execution_count": null,
      "outputs": [
        {
          "output_type": "stream",
          "text": [
            "error:  invalid literal for int() with base 10: '20%'\n"
          ],
          "name": "stdout"
        }
      ]
    },
    {
      "cell_type": "code",
      "metadata": {
        "colab": {
          "base_uri": "https://localhost:8080/"
        },
        "id": "DLPI1tx-_PW0",
        "outputId": "dcbd82d4-cc94-41db-e68a-9f9f340c7aaf"
      },
      "source": [
        "try:\n",
        "  a = 100 + '200'\n",
        "  \n",
        "except Exception as e:\n",
        "  print('error: ',e)"
      ],
      "execution_count": null,
      "outputs": [
        {
          "output_type": "stream",
          "text": [
            "error:  unsupported operand type(s) for +: 'int' and 'str'\n"
          ],
          "name": "stdout"
        }
      ]
    },
    {
      "cell_type": "code",
      "metadata": {
        "id": "ZRYRDb-H_Sbj"
      },
      "source": [
        "# 8.3 구체적인 예외를 명시하기"
      ],
      "execution_count": null,
      "outputs": []
    },
    {
      "cell_type": "code",
      "metadata": {
        "colab": {
          "base_uri": "https://localhost:8080/"
        },
        "id": "XKraqipX_VGD",
        "outputId": "1cf920cb-b20b-4d90-fe69-c6961081b8e7"
      },
      "source": [
        "try:\n",
        "  b = 2 / 0\n",
        "  a = 1 + 'hundred'\n",
        "  \n",
        "except ZeroDivisionError:\n",
        "  print('0으로 나누는 오류')\n",
        "\n",
        "except TypeError:\n",
        "  print('지원되지 않은 연산자를 사용하는 오류')"
      ],
      "execution_count": null,
      "outputs": [
        {
          "output_type": "stream",
          "text": [
            "0으로 나누는 오류\n"
          ],
          "name": "stdout"
        }
      ]
    },
    {
      "cell_type": "code",
      "metadata": {
        "colab": {
          "base_uri": "https://localhost:8080/"
        },
        "id": "s_4KEBZw_sA_",
        "outputId": "26fdac7f-0f47-4e2c-f169-5b4de5c87694"
      },
      "source": [
        "try:\n",
        "  # b = 2 / 0\n",
        "  a = 1 + 'hundred'\n",
        "  \n",
        "except ZeroDivisionError:\n",
        "  print('0으로 나누는 오류')\n",
        "\n",
        "except TypeError:\n",
        "  print('지원되지 않은 연산자를 사용하는 오류')"
      ],
      "execution_count": null,
      "outputs": [
        {
          "output_type": "stream",
          "text": [
            "지원되지 않은 연산자를 사용하는 오류\n"
          ],
          "name": "stdout"
        }
      ]
    },
    {
      "cell_type": "code",
      "metadata": {
        "id": "54G6gMnE_vCq"
      },
      "source": [
        "# 8.4 try-except-else 문"
      ],
      "execution_count": null,
      "outputs": []
    },
    {
      "cell_type": "code",
      "metadata": {
        "colab": {
          "base_uri": "https://localhost:8080/"
        },
        "id": "9rgukoZ0__wT",
        "outputId": "5c6953f1-a2f7-4d0b-81eb-e0268755ec8a"
      },
      "source": [
        "try:\n",
        "  a,b = input('두 수를 입력하시오: ').split()\n",
        "  result = int(a) / int(b)\n",
        "\n",
        "except ZeroDivisionError:\n",
        "  print('오류 : 0으로 나눔을 시도했습니다.')\n",
        "except ValueError:\n",
        "  print('오류 : 입력 값이 정수나 실수가 아닙니다.')\n",
        "except:\n",
        "  print('오류 : 10 2와 같이 두 정수를 입력하세요.')\n",
        "else:\n",
        "  print('{} / {} = {}'.format(a,b,result))"
      ],
      "execution_count": null,
      "outputs": [
        {
          "output_type": "stream",
          "text": [
            "두 수를 입력하시오: 10 2\n",
            "10 / 2 = 5.0\n"
          ],
          "name": "stdout"
        }
      ]
    },
    {
      "cell_type": "code",
      "metadata": {
        "id": "jwGeZFp1_1w3"
      },
      "source": [
        "# LAB 8-2 : 다음 코드는 어떤 예외를 발생시키는가?"
      ],
      "execution_count": null,
      "outputs": []
    },
    {
      "cell_type": "code",
      "metadata": {
        "id": "J9MwGRkvAe_T"
      },
      "source": [
        "# 1번"
      ],
      "execution_count": null,
      "outputs": []
    },
    {
      "cell_type": "code",
      "metadata": {
        "colab": {
          "base_uri": "https://localhost:8080/"
        },
        "id": "Z9MYoNK8AgkC",
        "outputId": "bf54890e-3477-4693-94ab-9bf4307ef887"
      },
      "source": [
        "try:\n",
        "  10 * (30 / 0)\n",
        "\n",
        "except Exception as e:\n",
        "  print('error :',e)"
      ],
      "execution_count": null,
      "outputs": [
        {
          "output_type": "stream",
          "text": [
            "error : division by zero\n"
          ],
          "name": "stdout"
        }
      ]
    },
    {
      "cell_type": "code",
      "metadata": {
        "colab": {
          "base_uri": "https://localhost:8080/"
        },
        "id": "j06kKX-1D--9",
        "outputId": "92934204-2647-4457-cdb0-032a237b6706"
      },
      "source": [
        "try:\n",
        "  x = int(input('정수 x를 입력하세요: '))\n",
        "  print(x)\n",
        "\n",
        "except Exception as e:\n",
        "  print('error :',e)"
      ],
      "execution_count": null,
      "outputs": [
        {
          "output_type": "stream",
          "text": [
            "정수 x를 입력하세요: 사\n",
            "error : invalid literal for int() with base 10: '사'\n"
          ],
          "name": "stdout"
        }
      ]
    },
    {
      "cell_type": "code",
      "metadata": {
        "colab": {
          "base_uri": "https://localhost:8080/"
        },
        "id": "BHTh1g4uD-6r",
        "outputId": "b4bebfbb-5d00-4187-995d-fb8e3548d864"
      },
      "source": [
        "try:\n",
        "  import sys\n",
        "  \n",
        "  f = open('myfile.txt')\n",
        "  s = f.readline()\n",
        "\n",
        "except Exception as e:\n",
        "  print('error :',e)"
      ],
      "execution_count": null,
      "outputs": [
        {
          "output_type": "stream",
          "text": [
            "error : [Errno 2] No such file or directory: 'myfile.txt'\n"
          ],
          "name": "stdout"
        }
      ]
    },
    {
      "cell_type": "code",
      "metadata": {
        "id": "uWF1UzNBA5fB"
      },
      "source": [
        "# 8.5 try-except-finally 문"
      ],
      "execution_count": null,
      "outputs": []
    },
    {
      "cell_type": "code",
      "metadata": {
        "colab": {
          "base_uri": "https://localhost:8080/"
        },
        "id": "ZgBxGcLpA-s1",
        "outputId": "295a482f-6fbf-4a7c-828c-9b1663ccaeb1"
      },
      "source": [
        "try:\n",
        "  a,b = input('두 수를 입력하시오: ').split()\n",
        "  result = int(a) / int(b)\n",
        "\n",
        "except ZeroDivisionError:\n",
        "  print('오류 : 0으로 나눔을 시도했습니다.')\n",
        "except ValueError:\n",
        "  print('오류 : 입력 값이 정수나 실수가 아닙니다.')\n",
        "except:\n",
        "  print('오류 : 10 2와 같이 두 정수를 입력하세요.')\n",
        "else:\n",
        "  print('{} / {} = {}'.format(a,b,result))\n",
        "finally:\n",
        "  print('done!')"
      ],
      "execution_count": null,
      "outputs": [
        {
          "output_type": "stream",
          "text": [
            "두 수를 입력하시오: 10 2\n",
            "10 / 2 = 5.0\n",
            "done!\n"
          ],
          "name": "stdout"
        }
      ]
    },
    {
      "cell_type": "code",
      "metadata": {
        "id": "Ehi7OvIWBCum"
      },
      "source": [
        "# LAB 8-3 : 예외의 생성과 처리"
      ],
      "execution_count": null,
      "outputs": []
    },
    {
      "cell_type": "code",
      "metadata": {
        "id": "IEfFnyBYBHJY"
      },
      "source": [
        "# 1번"
      ],
      "execution_count": null,
      "outputs": []
    },
    {
      "cell_type": "code",
      "metadata": {
        "colab": {
          "base_uri": "https://localhost:8080/"
        },
        "id": "WTEuP83hBbnE",
        "outputId": "d544d0e1-abde-4b78-ed33-784d85a9ce87"
      },
      "source": [
        "a = [1,2,3,4,5]\n",
        "print('a = [1,2,3,4,5]')\n",
        "\n",
        "요소 = int(input('a의 요소를 하나 선택하시오 : '))\n",
        "\n",
        "if a[요소-1] == 1:\n",
        "  print('{} 은(는) 첫 번째 요소입니다.'.format(요소))\n",
        "elif a[요소-1] == 2:\n",
        "  print('{} 은(는) 두 번째 요소입니다.'.format(요소))\n",
        "elif a[요소-1] == 3:\n",
        "  print('{} 은(는) 세 번째 요소입니다.'.format(요소))\n",
        "elif a[요소-1] == 4:\n",
        "  print('{} 은(는) 네 번째 요소입니다.'.format(요소))\n",
        "elif a[요소-1] == 5:\n",
        "  print('{} 은(는) 다섯 번째 요소입니다.'.format(요소))"
      ],
      "execution_count": null,
      "outputs": [
        {
          "output_type": "stream",
          "text": [
            "a = [1,2,3,4,5]\n",
            "a의 요소를 하나 선택하시오 : 2\n",
            "2 은(는) 두 번째 요소입니다.\n"
          ],
          "name": "stdout"
        }
      ]
    },
    {
      "cell_type": "code",
      "metadata": {
        "colab": {
          "base_uri": "https://localhost:8080/"
        },
        "id": "r47UV6xjBbZU",
        "outputId": "5083f5d3-e10a-424f-eeac-d83b368baf7c"
      },
      "source": [
        "a = [1,2,3,4,5]\n",
        "print('a = [1,2,3,4,5]')\n",
        "\n",
        "요소 = int(input('a의 요소를 하나 선택하시오 : '))\n",
        "\n",
        "if a[요소-1] == 1:\n",
        "  print('{} 은(는) 첫 번째 요소입니다.'.format(요소))\n",
        "elif a[요소-1] == 2:\n",
        "  print('{} 은(는) 두 번째 요소입니다.'.format(요소))\n",
        "elif a[요소-1] == 3:\n",
        "  print('{} 은(는) 세 번째 요소입니다.'.format(요소))\n",
        "elif a[요소-1] == 4:\n",
        "  print('{} 은(는) 네 번째 요소입니다.'.format(요소))\n",
        "elif a[요소-1] == 5:\n",
        "  print('{} 은(는) 다섯 번째 요소입니다.'.format(요소))"
      ],
      "execution_count": null,
      "outputs": [
        {
          "output_type": "stream",
          "text": [
            "a = [1,2,3,4,5]\n",
            "a의 요소를 하나 선택하시오 : 1\n",
            "1 은(는) 첫 번째 요소입니다.\n"
          ],
          "name": "stdout"
        }
      ]
    },
    {
      "cell_type": "code",
      "metadata": {
        "id": "ZOk_f44gBIjT"
      },
      "source": [
        "# 2번"
      ],
      "execution_count": null,
      "outputs": []
    },
    {
      "cell_type": "code",
      "metadata": {
        "colab": {
          "base_uri": "https://localhost:8080/"
        },
        "id": "I2ESKYrABcAi",
        "outputId": "85ef6cf1-c32b-46dc-fc08-19355b5c4b7d"
      },
      "source": [
        "a = [1,2,3,4,5]\n",
        "print('a = [1,2,3,4,5]')\n",
        "\n",
        "try:\n",
        "  요소 = int(input('a의 요소를 하나 선택하시오 : '))\n",
        "\n",
        "  if a[요소-1] == 1:\n",
        "    print('{} 은(는) 첫 번째 요소입니다.'.format(요소))\n",
        "  elif a[요소-1] == 2:\n",
        "    print('{} 은(는) 두 번째 요소입니다.'.format(요소))\n",
        "  elif a[요소-1] == 3:\n",
        "    print('{} 은(는) 세 번째 요소입니다.'.format(요소))\n",
        "  elif a[요소-1] == 4:\n",
        "    print('{} 은(는) 네 번째 요소입니다.'.format(요소))\n",
        "  elif a[요소-1] == 5:\n",
        "    print('{} 은(는) 다섯 번째 요소입니다.'.format(요소))\n",
        "  \n",
        "except:\n",
        "  print('오류 : 입력 값이 정수나 실수가 아님')"
      ],
      "execution_count": null,
      "outputs": [
        {
          "output_type": "stream",
          "text": [
            "a = [1,2,3,4,5]\n",
            "a의 요소를 하나 선택하시오 : 삼\n",
            "오류 : 입력 값이 정수나 실수가 아님\n"
          ],
          "name": "stdout"
        }
      ]
    },
    {
      "cell_type": "code",
      "metadata": {
        "id": "7lX9QbFVBJvt"
      },
      "source": [
        "# 8.6 raise 문"
      ],
      "execution_count": null,
      "outputs": []
    },
    {
      "cell_type": "code",
      "metadata": {
        "colab": {
          "base_uri": "https://localhost:8080/"
        },
        "id": "IH4dN-PyBMmk",
        "outputId": "364aaa1e-aab8-4989-afbb-d16031eab0a4"
      },
      "source": [
        "def get_ans(ans):\n",
        "  if ans in ['예', '아니요']:\n",
        "    print('정상적인 입력입니다.')\n",
        "  else:\n",
        "    raise ValueError('입력을 확인하세요.')\n",
        "  \n",
        "while True:\n",
        "  try:\n",
        "    ans = input('예/아니오 중 하나를 입력하세요: ')\n",
        "    get_ans(ans)\n",
        "    break\n",
        "  except Exception as e:\n",
        "    print('error :',e)"
      ],
      "execution_count": null,
      "outputs": [
        {
          "output_type": "stream",
          "text": [
            "예/아니오 중 하나를 입력하세요: yes\n",
            "error : 입력을 확인하세요.\n",
            "예/아니오 중 하나를 입력하세요: no\n",
            "error : 입력을 확인하세요.\n",
            "예/아니오 중 하나를 입력하세요: 옘\n",
            "error : 입력을 확인하세요.\n",
            "예/아니오 중 하나를 입력하세요: 예\n",
            "정상적인 입력입니다.\n"
          ],
          "name": "stdout"
        }
      ]
    },
    {
      "cell_type": "code",
      "metadata": {
        "id": "9_uRsCiSWEEx"
      },
      "source": [
        "# 9. 클래스와 객체 지향 프로그래밍"
      ],
      "execution_count": null,
      "outputs": []
    },
    {
      "cell_type": "code",
      "metadata": {
        "id": "sVYB3l8ACHDI"
      },
      "source": [
        "# 9.1 객체 지향 프로그래밍과 객체"
      ],
      "execution_count": null,
      "outputs": []
    },
    {
      "cell_type": "code",
      "metadata": {
        "id": "_NDkvrORWDgI"
      },
      "source": [
        "# LAB 9-1 : 객체와 메소드 호출"
      ],
      "execution_count": null,
      "outputs": []
    },
    {
      "cell_type": "code",
      "metadata": {
        "id": "npeL3P_JX7d_"
      },
      "source": [
        "# 1번"
      ],
      "execution_count": null,
      "outputs": []
    },
    {
      "cell_type": "code",
      "metadata": {
        "colab": {
          "base_uri": "https://localhost:8080/"
        },
        "id": "t1spmDXWX8L9",
        "outputId": "adef3ba8-27b7-4c1b-a11b-2186e63353c6"
      },
      "source": [
        "(200).__sub__(100)"
      ],
      "execution_count": null,
      "outputs": [
        {
          "output_type": "execute_result",
          "data": {
            "text/plain": [
              "100"
            ]
          },
          "metadata": {
            "tags": []
          },
          "execution_count": 6
        }
      ]
    },
    {
      "cell_type": "code",
      "metadata": {
        "colab": {
          "base_uri": "https://localhost:8080/"
        },
        "id": "wKZYQf9KX_Lr",
        "outputId": "fc77fa9e-3f76-4bec-c65b-ae5b95aa1712"
      },
      "source": [
        "(200).__mul__(100)"
      ],
      "execution_count": null,
      "outputs": [
        {
          "output_type": "execute_result",
          "data": {
            "text/plain": [
              "20000"
            ]
          },
          "metadata": {
            "tags": []
          },
          "execution_count": 7
        }
      ]
    },
    {
      "cell_type": "code",
      "metadata": {
        "colab": {
          "base_uri": "https://localhost:8080/"
        },
        "id": "oAAln1n1YKWG",
        "outputId": "5b6bcd2c-88ef-427f-d6ab-d03f8cd55433"
      },
      "source": [
        "(200).__truediv__(100)"
      ],
      "execution_count": null,
      "outputs": [
        {
          "output_type": "execute_result",
          "data": {
            "text/plain": [
              "2.0"
            ]
          },
          "metadata": {
            "tags": []
          },
          "execution_count": 8
        }
      ]
    },
    {
      "cell_type": "code",
      "metadata": {
        "id": "l2qTl1yzYTyp"
      },
      "source": [
        "# 2번"
      ],
      "execution_count": null,
      "outputs": []
    },
    {
      "cell_type": "code",
      "metadata": {
        "colab": {
          "base_uri": "https://localhost:8080/"
        },
        "id": "fS_nrutiYZyo",
        "outputId": "d46a5275-9d6d-403a-ef22-f1aab6a1cbda"
      },
      "source": [
        "[10,20,30,40].pop()"
      ],
      "execution_count": null,
      "outputs": [
        {
          "output_type": "execute_result",
          "data": {
            "text/plain": [
              "40"
            ]
          },
          "metadata": {
            "tags": []
          },
          "execution_count": 10
        }
      ]
    },
    {
      "cell_type": "code",
      "metadata": {
        "id": "YXT5ghpiYcvC"
      },
      "source": [
        "# 3번"
      ],
      "execution_count": null,
      "outputs": []
    },
    {
      "cell_type": "code",
      "metadata": {
        "id": "nJgWj2doYj9C"
      },
      "source": [
        "# - keys()를 호출할 수 없다."
      ],
      "execution_count": null,
      "outputs": []
    },
    {
      "cell_type": "code",
      "metadata": {
        "id": "W-CVRORwYwb1"
      },
      "source": [
        "# 4번"
      ],
      "execution_count": null,
      "outputs": []
    },
    {
      "cell_type": "code",
      "metadata": {
        "colab": {
          "base_uri": "https://localhost:8080/"
        },
        "id": "ia010JqzY2XN",
        "outputId": "ab667ea2-1b99-452c-97a0-2c901d69f97a"
      },
      "source": [
        "dir(int)"
      ],
      "execution_count": null,
      "outputs": [
        {
          "output_type": "execute_result",
          "data": {
            "text/plain": [
              "['__abs__',\n",
              " '__add__',\n",
              " '__and__',\n",
              " '__bool__',\n",
              " '__ceil__',\n",
              " '__class__',\n",
              " '__delattr__',\n",
              " '__dir__',\n",
              " '__divmod__',\n",
              " '__doc__',\n",
              " '__eq__',\n",
              " '__float__',\n",
              " '__floor__',\n",
              " '__floordiv__',\n",
              " '__format__',\n",
              " '__ge__',\n",
              " '__getattribute__',\n",
              " '__getnewargs__',\n",
              " '__gt__',\n",
              " '__hash__',\n",
              " '__index__',\n",
              " '__init__',\n",
              " '__init_subclass__',\n",
              " '__int__',\n",
              " '__invert__',\n",
              " '__le__',\n",
              " '__lshift__',\n",
              " '__lt__',\n",
              " '__mod__',\n",
              " '__mul__',\n",
              " '__ne__',\n",
              " '__neg__',\n",
              " '__new__',\n",
              " '__or__',\n",
              " '__pos__',\n",
              " '__pow__',\n",
              " '__radd__',\n",
              " '__rand__',\n",
              " '__rdivmod__',\n",
              " '__reduce__',\n",
              " '__reduce_ex__',\n",
              " '__repr__',\n",
              " '__rfloordiv__',\n",
              " '__rlshift__',\n",
              " '__rmod__',\n",
              " '__rmul__',\n",
              " '__ror__',\n",
              " '__round__',\n",
              " '__rpow__',\n",
              " '__rrshift__',\n",
              " '__rshift__',\n",
              " '__rsub__',\n",
              " '__rtruediv__',\n",
              " '__rxor__',\n",
              " '__setattr__',\n",
              " '__sizeof__',\n",
              " '__str__',\n",
              " '__sub__',\n",
              " '__subclasshook__',\n",
              " '__truediv__',\n",
              " '__trunc__',\n",
              " '__xor__',\n",
              " 'bit_length',\n",
              " 'conjugate',\n",
              " 'denominator',\n",
              " 'from_bytes',\n",
              " 'imag',\n",
              " 'numerator',\n",
              " 'real',\n",
              " 'to_bytes']"
            ]
          },
          "metadata": {
            "tags": []
          },
          "execution_count": 20
        }
      ]
    },
    {
      "cell_type": "code",
      "metadata": {
        "id": "xaP2MtIxY3qO"
      },
      "source": [
        "# 5번"
      ],
      "execution_count": null,
      "outputs": []
    },
    {
      "cell_type": "code",
      "metadata": {
        "colab": {
          "base_uri": "https://localhost:8080/"
        },
        "id": "8Pb-UN6lY8eX",
        "outputId": "ab8d2374-7d74-44b7-9d70-411b1f17895d"
      },
      "source": [
        "dir(list)"
      ],
      "execution_count": null,
      "outputs": [
        {
          "output_type": "execute_result",
          "data": {
            "text/plain": [
              "['__add__',\n",
              " '__class__',\n",
              " '__contains__',\n",
              " '__delattr__',\n",
              " '__delitem__',\n",
              " '__dir__',\n",
              " '__doc__',\n",
              " '__eq__',\n",
              " '__format__',\n",
              " '__ge__',\n",
              " '__getattribute__',\n",
              " '__getitem__',\n",
              " '__gt__',\n",
              " '__hash__',\n",
              " '__iadd__',\n",
              " '__imul__',\n",
              " '__init__',\n",
              " '__init_subclass__',\n",
              " '__iter__',\n",
              " '__le__',\n",
              " '__len__',\n",
              " '__lt__',\n",
              " '__mul__',\n",
              " '__ne__',\n",
              " '__new__',\n",
              " '__reduce__',\n",
              " '__reduce_ex__',\n",
              " '__repr__',\n",
              " '__reversed__',\n",
              " '__rmul__',\n",
              " '__setattr__',\n",
              " '__setitem__',\n",
              " '__sizeof__',\n",
              " '__str__',\n",
              " '__subclasshook__',\n",
              " 'append',\n",
              " 'clear',\n",
              " 'copy',\n",
              " 'count',\n",
              " 'extend',\n",
              " 'index',\n",
              " 'insert',\n",
              " 'pop',\n",
              " 'remove',\n",
              " 'reverse',\n",
              " 'sort']"
            ]
          },
          "metadata": {
            "tags": []
          },
          "execution_count": 22
        }
      ]
    },
    {
      "cell_type": "code",
      "metadata": {
        "id": "vuAysn9LY95S"
      },
      "source": [
        "# 9.2 객체 지향 프로그래밍과 절차적 프로그래밍"
      ],
      "execution_count": null,
      "outputs": []
    },
    {
      "cell_type": "code",
      "metadata": {
        "id": "A_3B2vfWZGa8"
      },
      "source": [
        "# 9.3 클래스와 객체, 인스턴스"
      ],
      "execution_count": null,
      "outputs": []
    },
    {
      "cell_type": "code",
      "metadata": {
        "id": "P-t9zHGdazTE"
      },
      "source": [
        "class Cat:\n",
        "  def meow(self):\n",
        "    print('야옹 야옹~~')"
      ],
      "execution_count": null,
      "outputs": []
    },
    {
      "cell_type": "code",
      "metadata": {
        "id": "9AR5EzIlcYzC"
      },
      "source": [
        "nabi = Cat()"
      ],
      "execution_count": null,
      "outputs": []
    },
    {
      "cell_type": "code",
      "metadata": {
        "colab": {
          "base_uri": "https://localhost:8080/"
        },
        "id": "aNSoOJBNcbV9",
        "outputId": "d16a5eec-f424-4dfb-c8de-d434449b1fce"
      },
      "source": [
        "nabi.meow()"
      ],
      "execution_count": null,
      "outputs": [
        {
          "output_type": "stream",
          "text": [
            "야옹 야옹~~\n"
          ],
          "name": "stdout"
        }
      ]
    },
    {
      "cell_type": "code",
      "metadata": {
        "id": "fNlwcjErcdUS"
      },
      "source": [
        "# LAB 9-4 : Dog 클래스와 인스턴스 생성"
      ],
      "execution_count": null,
      "outputs": []
    },
    {
      "cell_type": "code",
      "metadata": {
        "id": "mVwR138EcoKy"
      },
      "source": [
        "# 1번"
      ],
      "execution_count": null,
      "outputs": []
    },
    {
      "cell_type": "code",
      "metadata": {
        "colab": {
          "base_uri": "https://localhost:8080/"
        },
        "id": "5uNedscbco6i",
        "outputId": "21ac9ad5-8e05-40ed-de6e-893b53c52f2a"
      },
      "source": [
        "class Dog:\n",
        "  def bark(self):\n",
        "    print('멍멍~~')\n",
        "\n",
        "my_dog = Dog()\n",
        "my_dog.bark()"
      ],
      "execution_count": null,
      "outputs": [
        {
          "output_type": "stream",
          "text": [
            "멍멍~~\n"
          ],
          "name": "stdout"
        }
      ]
    },
    {
      "cell_type": "code",
      "metadata": {
        "id": "2X5WFlQsc2Oo"
      },
      "source": [
        " # 9.5 클래스 정의와 생성자"
      ],
      "execution_count": null,
      "outputs": []
    },
    {
      "cell_type": "code",
      "metadata": {
        "id": "Ps0KggxkdEGN"
      },
      "source": [
        "class Cat:\n",
        "  def __init__(self,name,color = '흰색'):\n",
        "    self.name = name\n",
        "    self.color = color\n",
        "\n",
        "  def meow(self):\n",
        "    print('내 이름은 {}, 색깔은 {}, 야옹 야옹~~'.format(self.name, self.color))"
      ],
      "execution_count": null,
      "outputs": []
    },
    {
      "cell_type": "code",
      "metadata": {
        "id": "DmkyL8gndhC9"
      },
      "source": [
        "nabi = Cat('나비')"
      ],
      "execution_count": null,
      "outputs": []
    },
    {
      "cell_type": "code",
      "metadata": {
        "colab": {
          "base_uri": "https://localhost:8080/",
          "height": 36
        },
        "id": "9dVp-PZrdo0F",
        "outputId": "57b41c0f-785f-4e2b-e83d-f7eec345d470"
      },
      "source": [
        "nabi.color"
      ],
      "execution_count": null,
      "outputs": [
        {
          "output_type": "execute_result",
          "data": {
            "application/vnd.google.colaboratory.intrinsic+json": {
              "type": "string"
            },
            "text/plain": [
              "'흰색'"
            ]
          },
          "metadata": {
            "tags": []
          },
          "execution_count": 35
        }
      ]
    },
    {
      "cell_type": "code",
      "metadata": {
        "id": "NRfM-mpvdxLu"
      },
      "source": [
        "nero = Cat('네로','검정색')"
      ],
      "execution_count": null,
      "outputs": []
    },
    {
      "cell_type": "code",
      "metadata": {
        "id": "jtS-h0Agd10K"
      },
      "source": [
        "mimi = Cat('미미', '갈색')"
      ],
      "execution_count": null,
      "outputs": []
    },
    {
      "cell_type": "code",
      "metadata": {
        "colab": {
          "base_uri": "https://localhost:8080/"
        },
        "id": "1PYN7SK-d44P",
        "outputId": "c97eb580-647a-4086-aa8d-c52f0f3d03bc"
      },
      "source": [
        "nabi.meow()"
      ],
      "execution_count": null,
      "outputs": [
        {
          "output_type": "stream",
          "text": [
            "내 이름은 나비, 색깔은 흰색, 야옹 야옹~~\n"
          ],
          "name": "stdout"
        }
      ]
    },
    {
      "cell_type": "code",
      "metadata": {
        "colab": {
          "base_uri": "https://localhost:8080/"
        },
        "id": "OA9O8im9d7iC",
        "outputId": "65d3c14a-39ae-4ac7-b3fd-5cb278180a68"
      },
      "source": [
        "nero.meow()"
      ],
      "execution_count": null,
      "outputs": [
        {
          "output_type": "stream",
          "text": [
            "내 이름은 네로, 색깔은 검정색, 야옹 야옹~~\n"
          ],
          "name": "stdout"
        }
      ]
    },
    {
      "cell_type": "code",
      "metadata": {
        "colab": {
          "base_uri": "https://localhost:8080/"
        },
        "id": "S-45Kz3Nd95k",
        "outputId": "d49b27b9-22e7-4137-a390-4fd47b322fd9"
      },
      "source": [
        "mimi.meow()"
      ],
      "execution_count": null,
      "outputs": [
        {
          "output_type": "stream",
          "text": [
            "내 이름은 미미, 색깔은 갈색, 야옹 야옹~~\n"
          ],
          "name": "stdout"
        }
      ]
    },
    {
      "cell_type": "code",
      "metadata": {
        "id": "2oD4fenrd-_Z"
      },
      "source": [
        "# LAB 9-5 : Dog 클래스와 인스턴스 생성"
      ],
      "execution_count": null,
      "outputs": []
    },
    {
      "cell_type": "code",
      "metadata": {
        "id": "z2PDQ3OzeJa9"
      },
      "source": [
        "# 1번"
      ],
      "execution_count": null,
      "outputs": []
    },
    {
      "cell_type": "code",
      "metadata": {
        "colab": {
          "base_uri": "https://localhost:8080/"
        },
        "id": "GE42G4tbeKDd",
        "outputId": "310c74e0-187c-4847-a7e7-d5b1364c84a3"
      },
      "source": [
        "class Dog:\n",
        "  def __init__(self,name):\n",
        "    self.name = name\n",
        "  \n",
        "  def bark(self):\n",
        "    print('내 강아지 이름은 {} 멍멍~~'.format(self.name))\n",
        "\n",
        "my_dog = Dog('Jindo')\n",
        "my_dog.bark()"
      ],
      "execution_count": null,
      "outputs": [
        {
          "output_type": "stream",
          "text": [
            "내 강아지 이름은 Jindo 멍멍~~\n"
          ],
          "name": "stdout"
        }
      ]
    },
    {
      "cell_type": "code",
      "metadata": {
        "id": "rQ7nLADpeWn4"
      },
      "source": [
        "# 9.7 캡슐화 "
      ],
      "execution_count": null,
      "outputs": []
    },
    {
      "cell_type": "code",
      "metadata": {
        "id": "sE4ldDuNfaM9"
      },
      "source": [
        "class Cat:\n",
        "  def __init__(self, name, age):\n",
        "    self.__name = name\n",
        "    self.__age = age\n",
        "\n",
        "  def __str__(self):\n",
        "    return 'Cat(name='+self.__name+',age = '+str(self.__age)+')'\n",
        "\n",
        "  def set_age(self,age):\n",
        "    if age > 0:\n",
        "      self.__age = age\n",
        "    \n",
        "  def get_age(self):\n",
        "    return self.__age"
      ],
      "execution_count": null,
      "outputs": []
    },
    {
      "cell_type": "code",
      "metadata": {
        "id": "Tvt0NgjLg1Ch"
      },
      "source": [
        "nabi = Cat('나비',3)"
      ],
      "execution_count": null,
      "outputs": []
    },
    {
      "cell_type": "code",
      "metadata": {
        "colab": {
          "base_uri": "https://localhost:8080/"
        },
        "id": "vocqSdNGhBxq",
        "outputId": "8f921f3d-a354-438f-afb8-8c22dc37540c"
      },
      "source": [
        "print(nabi)"
      ],
      "execution_count": null,
      "outputs": [
        {
          "output_type": "stream",
          "text": [
            "Cat(name=나비,age = 3)\n"
          ],
          "name": "stdout"
        }
      ]
    },
    {
      "cell_type": "code",
      "metadata": {
        "id": "D2FltjXUhDV1"
      },
      "source": [
        "nabi.set_age(4)"
      ],
      "execution_count": null,
      "outputs": []
    },
    {
      "cell_type": "code",
      "metadata": {
        "id": "hCfYXf_0hSB8"
      },
      "source": [
        "nabi.set_age(-5)"
      ],
      "execution_count": null,
      "outputs": []
    },
    {
      "cell_type": "code",
      "metadata": {
        "colab": {
          "base_uri": "https://localhost:8080/"
        },
        "id": "V6TBFIS9hVWl",
        "outputId": "f4baaf12-42a6-4ed8-fdfe-5865bb1f1f65"
      },
      "source": [
        "print(nabi)"
      ],
      "execution_count": null,
      "outputs": [
        {
          "output_type": "stream",
          "text": [
            "Cat(name=나비,age = 4)\n"
          ],
          "name": "stdout"
        }
      ]
    },
    {
      "cell_type": "code",
      "metadata": {
        "id": "xkZYZALChW4a"
      },
      "source": [
        "# 9.8 객체의 아이덴티티 연산: is, is not"
      ],
      "execution_count": null,
      "outputs": []
    },
    {
      "cell_type": "code",
      "metadata": {
        "colab": {
          "base_uri": "https://localhost:8080/"
        },
        "id": "fT_prq9NhiS1",
        "outputId": "82bc2bef-880e-4f2c-c544-35f111587fa7"
      },
      "source": [
        "list_a = [10,20,30]\n",
        "list_b = [10,20,30]\n",
        "\n",
        "if list_a is list_b:\n",
        "  print('list_a is list_b')\n",
        "else:\n",
        "  print('list_a is not list_b')"
      ],
      "execution_count": null,
      "outputs": [
        {
          "output_type": "stream",
          "text": [
            "list_a is not list_b\n"
          ],
          "name": "stdout"
        }
      ]
    },
    {
      "cell_type": "code",
      "metadata": {
        "colab": {
          "base_uri": "https://localhost:8080/"
        },
        "id": "je4miM2UiWI7",
        "outputId": "ef21f8cd-15a0-408f-aff6-2f1a86480166"
      },
      "source": [
        "list_a = [10,20,30]\n",
        "list_b = [10,20,30]\n",
        "\n",
        "if list_a == list_b:\n",
        "  print('list_a == list_b')\n",
        "else:\n",
        "  print('list_a != list_b')"
      ],
      "execution_count": null,
      "outputs": [
        {
          "output_type": "stream",
          "text": [
            "list_a == list_b\n"
          ],
          "name": "stdout"
        }
      ]
    },
    {
      "cell_type": "code",
      "metadata": {
        "colab": {
          "base_uri": "https://localhost:8080/"
        },
        "id": "8Pf6owJpicYQ",
        "outputId": "2107d7d2-00b1-4315-b507-98d47dc3dac1"
      },
      "source": [
        "a = 'ABC'\n",
        "b = 'ABC'\n",
        "\n",
        "if a is b:\n",
        "  print('a is b')\n",
        "else:\n",
        "  print('a is not b')"
      ],
      "execution_count": null,
      "outputs": [
        {
          "output_type": "stream",
          "text": [
            "a is b\n"
          ],
          "name": "stdout"
        }
      ]
    },
    {
      "cell_type": "code",
      "metadata": {
        "id": "-OrJDBtjilAW"
      },
      "source": [
        "# LAB 9-7 : 정수 객체의 is 연산"
      ],
      "execution_count": null,
      "outputs": []
    },
    {
      "cell_type": "code",
      "metadata": {
        "id": "evIoHOyCipBL"
      },
      "source": [
        "# 1번"
      ],
      "execution_count": null,
      "outputs": []
    },
    {
      "cell_type": "code",
      "metadata": {
        "colab": {
          "base_uri": "https://localhost:8080/"
        },
        "id": "pljjOpGRipw9",
        "outputId": "215fc9c6-53af-4ca8-89fc-d506f1a87de0"
      },
      "source": [
        "n = 100\n",
        "m = 100\n",
        "\n",
        "if n is m:\n",
        "  print('n is m')\n",
        "else:\n",
        "  print('n is not m')"
      ],
      "execution_count": null,
      "outputs": [
        {
          "output_type": "stream",
          "text": [
            "n is m\n"
          ],
          "name": "stdout"
        }
      ]
    },
    {
      "cell_type": "code",
      "metadata": {
        "id": "YWL-8hagivyE"
      },
      "source": [
        "# 9.9 클래스와 특수 메소드"
      ],
      "execution_count": null,
      "outputs": []
    },
    {
      "cell_type": "code",
      "metadata": {
        "id": "IejulC8ai1rz"
      },
      "source": [
        "class Vector2D:\n",
        "  def __init__(self,x,y):\n",
        "    self.x = x\n",
        "    self.y = y\n",
        "\n",
        "  def add(self,other):\n",
        "    return Vector2D(self.x + other.x, self.y + other.y)"
      ],
      "execution_count": null,
      "outputs": []
    },
    {
      "cell_type": "code",
      "metadata": {
        "id": "aetNfGs_jNOu"
      },
      "source": [
        "v1 = Vector2D(30,40)\n",
        "v2 = Vector2D(10,20)\n",
        "v3 = v1.add(v2)"
      ],
      "execution_count": null,
      "outputs": []
    },
    {
      "cell_type": "code",
      "metadata": {
        "colab": {
          "base_uri": "https://localhost:8080/"
        },
        "id": "DkJHp5yRjRgx",
        "outputId": "d2b2c107-8d9d-45c5-c293-09ee5e1159df"
      },
      "source": [
        "print(v3.x, v3.y)"
      ],
      "execution_count": null,
      "outputs": [
        {
          "output_type": "stream",
          "text": [
            "40 60\n"
          ],
          "name": "stdout"
        }
      ]
    },
    {
      "cell_type": "code",
      "metadata": {
        "id": "4nEQjzATjkx0"
      },
      "source": [
        "# LAB 9-8 : 특수 메소드의 응용 "
      ],
      "execution_count": null,
      "outputs": []
    },
    {
      "cell_type": "code",
      "metadata": {
        "id": "QNmoyoYrkYsY"
      },
      "source": [
        "# 1번"
      ],
      "execution_count": null,
      "outputs": []
    },
    {
      "cell_type": "code",
      "metadata": {
        "colab": {
          "base_uri": "https://localhost:8080/"
        },
        "id": "iMBsOxYRkaB1",
        "outputId": "f5fc1f23-b4bd-4750-f416-4760f48a1c78"
      },
      "source": [
        "class Vector2D:\n",
        "  def __init__(self,x,y):\n",
        "    self.x = x\n",
        "    self.y = y\n",
        "\n",
        "  def __mul__(self,other):\n",
        "    return Vector2D(self.x * other.x, self.y * other.y)\n",
        "\n",
        "  def __truediv__(self,other):\n",
        "    return Vector2D(self.x / other.x, self.y / other.y)\n",
        "\n",
        "v1 = Vector2D(30,40)\n",
        "v2 = Vector2D(10,20)\n",
        "\n",
        "v3 = v1 * v2\n",
        "print('v1 * v2 = ({}, {})'.format(v3.x,v3.y))\n",
        "v4 = v1 / v2\n",
        "print('v1 / v2 = ({}, {})'.format(v4.x,v4.y))"
      ],
      "execution_count": null,
      "outputs": [
        {
          "output_type": "stream",
          "text": [
            "v1 * v2 = (300, 800)\n",
            "v1 / v2 = (3.0, 2.0)\n"
          ],
          "name": "stdout"
        }
      ]
    },
    {
      "cell_type": "code",
      "metadata": {
        "id": "hFPnZd82lm4N"
      },
      "source": [
        "# 2번"
      ],
      "execution_count": null,
      "outputs": []
    },
    {
      "cell_type": "code",
      "metadata": {
        "colab": {
          "base_uri": "https://localhost:8080/"
        },
        "id": "RBGkHuyvl6qr",
        "outputId": "27472cb0-53ce-49fe-febc-b6a2c4715317"
      },
      "source": [
        "class Vector2D:\n",
        "  def __init__(self,x,y):\n",
        "    self.x = x\n",
        "    self.y = y\n",
        "\n",
        "  def __neg__(self):\n",
        "    return Vector2D(-self.x, -self.y)\n",
        "\n",
        "v1 = Vector2D(10,20)\n",
        "v5 = -v1\n",
        "print('-v1 = ({}, {})'.format(v5.x,v5.y))"
      ],
      "execution_count": null,
      "outputs": [
        {
          "output_type": "stream",
          "text": [
            "-v1 = (-10, -20)\n"
          ],
          "name": "stdout"
        }
      ]
    },
    {
      "cell_type": "code",
      "metadata": {
        "id": "RWr8R9yQmZEU"
      },
      "source": [
        "# LAB 9-9 : 벡터의 크기 비교하기"
      ],
      "execution_count": null,
      "outputs": []
    },
    {
      "cell_type": "code",
      "metadata": {
        "id": "j18GaNbJmiMa"
      },
      "source": [
        "# 1번"
      ],
      "execution_count": null,
      "outputs": []
    },
    {
      "cell_type": "code",
      "metadata": {
        "id": "-Mq0Lp58mi8l",
        "colab": {
          "base_uri": "https://localhost:8080/"
        },
        "outputId": "bf9bafe2-ebb3-4834-87f1-08e24a98475e"
      },
      "source": [
        "import math\n",
        "\n",
        "class Vector2D:\n",
        "  def __init__(self,x,y):\n",
        "    self.x = x\n",
        "    self.y = y\n",
        "\n",
        "  def __gt__(self,other):\n",
        "    return (math.sqrt(self.x ** 2 + self.y ** 2)> math.sqrt(other.x ** 2 + other.y ** 2))\n",
        "\n",
        "  def __ge__(self,other):\n",
        "    return (math.sqrt(self.x ** 2 + self.y ** 2)>= math.sqrt(other.x ** 2 + other.y ** 2))\n",
        "\n",
        "  def __lt__(self,other):\n",
        "    return (math.sqrt(self.x ** 2 + self.y ** 2)< math.sqrt(other.x ** 2 + other.y ** 2))\n",
        "\n",
        "  def __le__(self,other):\n",
        "    return (math.sqrt(self.x ** 2 + self.y ** 2)<= math.sqrt(other.x ** 2 + other.y ** 2))\n",
        "\n",
        "v1 = Vector2D(30,40)\n",
        "v2 = Vector2D(10,20)\n",
        "v3 = v1.__gt__(v2)\n",
        "v4 = v1.__ge__(v2)\n",
        "v5 = v1.__lt__(v2)\n",
        "v6 = v1.__le__(v2)\n",
        "\n",
        "print('v1 > v2 =',v3)\n",
        "print('v1 >= v2 =',v4)\n",
        "print('v1 < v2 =',v5)\n",
        "print('v1 <= v2 =',v6)\n"
      ],
      "execution_count": 3,
      "outputs": [
        {
          "output_type": "stream",
          "text": [
            "v1 > v2 = True\n",
            "v1 >= v2 = True\n",
            "v1 < v2 = False\n",
            "v1 <= v2 = False\n"
          ],
          "name": "stdout"
        }
      ]
    },
    {
      "cell_type": "code",
      "metadata": {
        "id": "gVgaY_pKnJHr"
      },
      "source": [
        "# 9.10 클래스 변수와 __dict__"
      ],
      "execution_count": null,
      "outputs": []
    },
    {
      "cell_type": "code",
      "metadata": {
        "id": "C8NGrs5KnNHT"
      },
      "source": [
        "class Circle:\n",
        "  PI = 3.14\n",
        "  def __init__(self,name,radius):\n",
        "    self._name = name\n",
        "    self._radius = radius "
      ],
      "execution_count": null,
      "outputs": []
    },
    {
      "cell_type": "code",
      "metadata": {
        "colab": {
          "base_uri": "https://localhost:8080/"
        },
        "id": "xeIuh4Dao0I1",
        "outputId": "669a6c9b-3c4f-48cd-e140-c53382db5d77"
      },
      "source": [
        "c1 = Circle(\"C1\",4)\n",
        "print('c1의 속성들:',c1.__dict__)"
      ],
      "execution_count": null,
      "outputs": [
        {
          "output_type": "stream",
          "text": [
            "c1의 속성들: {'_name': 'C1', '_radius': 4}\n"
          ],
          "name": "stdout"
        }
      ]
    },
    {
      "cell_type": "code",
      "metadata": {
        "colab": {
          "base_uri": "https://localhost:8080/"
        },
        "id": "hB-sy0ospA1B",
        "outputId": "ae2aa913-1002-4576-aa7d-93d6deb4c2b6"
      },
      "source": [
        "print('c1의 _name 변수값:',c1.__dict__['_name'])"
      ],
      "execution_count": null,
      "outputs": [
        {
          "output_type": "stream",
          "text": [
            "c1의 _name 변수값: C1\n"
          ],
          "name": "stdout"
        }
      ]
    },
    {
      "cell_type": "code",
      "metadata": {
        "colab": {
          "base_uri": "https://localhost:8080/"
        },
        "id": "UVpaIL2HpLSG",
        "outputId": "5d28996c-e298-4764-98dd-21715f51ee71"
      },
      "source": [
        "print('c1의 _radius 변수값:',c1.__dict__['_radius'])"
      ],
      "execution_count": null,
      "outputs": [
        {
          "output_type": "stream",
          "text": [
            "c1의 _radius 변수값: 4\n"
          ],
          "name": "stdout"
        }
      ]
    },
    {
      "cell_type": "code",
      "metadata": {
        "id": "dFQwGioYpqOR"
      },
      "source": [
        "# LAB 9-10 : __dict__를 이용한 인스턴스변수의 조회"
      ],
      "execution_count": null,
      "outputs": []
    },
    {
      "cell_type": "code",
      "metadata": {
        "id": "gBgyQ3Wkp5bT"
      },
      "source": [
        "# 1번"
      ],
      "execution_count": null,
      "outputs": []
    },
    {
      "cell_type": "code",
      "metadata": {
        "colab": {
          "base_uri": "https://localhost:8080/"
        },
        "id": "bReh9evYp7HY",
        "outputId": "c61aa8ea-d515-4c7d-8f68-75dc04e9bf18"
      },
      "source": [
        "class Rect:\n",
        "  def __init__(self,width,height):\n",
        "    self.width = width\n",
        "    self.height = height\n",
        "\n",
        "r1 = Rect(100,200)\n",
        "print(r1.__dict__)\n",
        "print(r1.__dict__['width'])"
      ],
      "execution_count": null,
      "outputs": [
        {
          "output_type": "stream",
          "text": [
            "{'width': 100, 'height': 200}\n",
            "100\n"
          ],
          "name": "stdout"
        }
      ]
    },
    {
      "cell_type": "code",
      "metadata": {
        "id": "RxOAalffqQjJ"
      },
      "source": [
        "# 2번"
      ],
      "execution_count": null,
      "outputs": []
    },
    {
      "cell_type": "code",
      "metadata": {
        "colab": {
          "base_uri": "https://localhost:8080/"
        },
        "id": "qz4VhspFqSTf",
        "outputId": "414018c0-484c-476b-c020-6194c840a139"
      },
      "source": [
        "class Rect:\n",
        "  def __init__(self,width,height):\n",
        "    self.__width = width\n",
        "    self.__height = height\n",
        "\n",
        "r1 = Rect(100,200)\n",
        "print(r1.__dict__)\n",
        "print(r1.__dict__['_Rect__width'])"
      ],
      "execution_count": null,
      "outputs": [
        {
          "output_type": "stream",
          "text": [
            "{'_Rect__width': 100, '_Rect__height': 200}\n",
            "100\n"
          ],
          "name": "stdout"
        }
      ]
    },
    {
      "cell_type": "code",
      "metadata": {
        "id": "0eZAFyihqY80"
      },
      "source": [
        "# 9.11 객체와 참조, 할당연산의 의미"
      ],
      "execution_count": null,
      "outputs": []
    },
    {
      "cell_type": "code",
      "metadata": {
        "id": "l17zPltqqnDA"
      },
      "source": [
        "# LAB 9-11 : 객체와 메소드 호출"
      ],
      "execution_count": null,
      "outputs": []
    },
    {
      "cell_type": "code",
      "metadata": {
        "id": "YQRt1boAr-VF"
      },
      "source": [
        "# 1번"
      ],
      "execution_count": null,
      "outputs": []
    },
    {
      "cell_type": "code",
      "metadata": {
        "id": "IOoNm8BNr_nd"
      },
      "source": [
        "a = 100"
      ],
      "execution_count": null,
      "outputs": []
    },
    {
      "cell_type": "code",
      "metadata": {
        "id": "j_E9S0OtsBPZ"
      },
      "source": [
        "b = a"
      ],
      "execution_count": null,
      "outputs": []
    },
    {
      "cell_type": "code",
      "metadata": {
        "colab": {
          "base_uri": "https://localhost:8080/"
        },
        "id": "Dr5OgZpmsB-s",
        "outputId": "1f1fa87e-67fd-45e7-da99-2d5ee9606712"
      },
      "source": [
        "id(a)  == id(100)"
      ],
      "execution_count": null,
      "outputs": [
        {
          "output_type": "execute_result",
          "data": {
            "text/plain": [
              "True"
            ]
          },
          "metadata": {
            "tags": []
          },
          "execution_count": 109
        }
      ]
    },
    {
      "cell_type": "code",
      "metadata": {
        "colab": {
          "base_uri": "https://localhost:8080/"
        },
        "id": "8u2ltxDlsEHi",
        "outputId": "01a86e4b-d17f-4114-b433-30ccfd3d27ac"
      },
      "source": [
        "id(b) == id(100)"
      ],
      "execution_count": null,
      "outputs": [
        {
          "output_type": "execute_result",
          "data": {
            "text/plain": [
              "True"
            ]
          },
          "metadata": {
            "tags": []
          },
          "execution_count": 110
        }
      ]
    },
    {
      "cell_type": "code",
      "metadata": {
        "colab": {
          "base_uri": "https://localhost:8080/"
        },
        "id": "BB1zRi-2sGTC",
        "outputId": "ce96c5fc-8c42-4081-c588-a76ab1dfa74e"
      },
      "source": [
        "id(a) == id(b)"
      ],
      "execution_count": null,
      "outputs": [
        {
          "output_type": "execute_result",
          "data": {
            "text/plain": [
              "True"
            ]
          },
          "metadata": {
            "tags": []
          },
          "execution_count": 111
        }
      ]
    },
    {
      "cell_type": "code",
      "metadata": {
        "id": "NgLWu8dtsInI"
      },
      "source": [
        "a = 200"
      ],
      "execution_count": null,
      "outputs": []
    },
    {
      "cell_type": "code",
      "metadata": {
        "colab": {
          "base_uri": "https://localhost:8080/"
        },
        "id": "HR6EGMQPsKX0",
        "outputId": "bba64de6-ceef-4371-fd25-e85b74e5abb8"
      },
      "source": [
        "id(a) == id(200)"
      ],
      "execution_count": null,
      "outputs": [
        {
          "output_type": "execute_result",
          "data": {
            "text/plain": [
              "True"
            ]
          },
          "metadata": {
            "tags": []
          },
          "execution_count": 113
        }
      ]
    },
    {
      "cell_type": "code",
      "metadata": {
        "colab": {
          "base_uri": "https://localhost:8080/"
        },
        "id": "J2FWTuPIsMC0",
        "outputId": "a8bf156e-73bc-406b-c313-b1dde9df7568"
      },
      "source": [
        "id(b) == id(200)"
      ],
      "execution_count": null,
      "outputs": [
        {
          "output_type": "execute_result",
          "data": {
            "text/plain": [
              "False"
            ]
          },
          "metadata": {
            "tags": []
          },
          "execution_count": 114
        }
      ]
    },
    {
      "cell_type": "code",
      "metadata": {
        "colab": {
          "base_uri": "https://localhost:8080/"
        },
        "id": "KBez-ukPsOOK",
        "outputId": "fe088f3d-06a7-4ef0-feb8-2576ae6fb33e"
      },
      "source": [
        "id(a) == id(b)"
      ],
      "execution_count": null,
      "outputs": [
        {
          "output_type": "execute_result",
          "data": {
            "text/plain": [
              "False"
            ]
          },
          "metadata": {
            "tags": []
          },
          "execution_count": 115
        }
      ]
    },
    {
      "cell_type": "code",
      "metadata": {
        "id": "JTp_K2UvsQkW"
      },
      "source": [
        ""
      ],
      "execution_count": null,
      "outputs": []
    }
  ]
}