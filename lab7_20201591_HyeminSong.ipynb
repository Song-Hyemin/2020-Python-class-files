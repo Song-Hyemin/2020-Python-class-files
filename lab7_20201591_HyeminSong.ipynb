{
  "nbformat": 4,
  "nbformat_minor": 0,
  "metadata": {
    "colab": {
      "name": "lab7_20201591_HyeminSong.ipynb",
      "provenance": []
    },
    "kernelspec": {
      "name": "python3",
      "display_name": "Python 3"
    }
  },
  "cells": [
    {
      "cell_type": "code",
      "metadata": {
        "id": "jT3E9_DnSIci"
      },
      "source": [
        "# 7.1 모듈의 정의와 import 문법"
      ],
      "execution_count": null,
      "outputs": []
    },
    {
      "cell_type": "code",
      "metadata": {
        "id": "uAfNzhK4Vk2J"
      },
      "source": [
        "# 7.2 날짜와 시간 모듈 datetime"
      ],
      "execution_count": null,
      "outputs": []
    },
    {
      "cell_type": "code",
      "metadata": {
        "id": "SRxNTDdXVoBF"
      },
      "source": [
        "import datetime"
      ],
      "execution_count": null,
      "outputs": []
    },
    {
      "cell_type": "code",
      "metadata": {
        "colab": {
          "base_uri": "https://localhost:8080/"
        },
        "id": "Iu_2rnPWWIoM",
        "outputId": "270d5e2a-8e1e-460e-e4ff-9a138814337a"
      },
      "source": [
        "datetime.datetime.now()"
      ],
      "execution_count": null,
      "outputs": [
        {
          "output_type": "execute_result",
          "data": {
            "text/plain": [
              "datetime.datetime(2020, 11, 19, 11, 51, 51, 896370)"
            ]
          },
          "metadata": {
            "tags": []
          },
          "execution_count": 4
        }
      ]
    },
    {
      "cell_type": "code",
      "metadata": {
        "id": "X9chM8k9WLiQ"
      },
      "source": [
        "today = datetime.date.today()"
      ],
      "execution_count": null,
      "outputs": []
    },
    {
      "cell_type": "code",
      "metadata": {
        "colab": {
          "base_uri": "https://localhost:8080/"
        },
        "id": "fIRmyL69WXEM",
        "outputId": "85f6b561-7700-4fa6-e420-3adc26b1cff1"
      },
      "source": [
        "print(today)"
      ],
      "execution_count": null,
      "outputs": [
        {
          "output_type": "stream",
          "text": [
            "2020-11-19\n"
          ],
          "name": "stdout"
        }
      ]
    },
    {
      "cell_type": "code",
      "metadata": {
        "colab": {
          "base_uri": "https://localhost:8080/"
        },
        "id": "86l8M-olWYj3",
        "outputId": "5978126d-a3a1-4576-f9ec-9c5122af4aad"
      },
      "source": [
        "today"
      ],
      "execution_count": null,
      "outputs": [
        {
          "output_type": "execute_result",
          "data": {
            "text/plain": [
              "datetime.date(2020, 11, 19)"
            ]
          },
          "metadata": {
            "tags": []
          },
          "execution_count": 7
        }
      ]
    },
    {
      "cell_type": "code",
      "metadata": {
        "colab": {
          "base_uri": "https://localhost:8080/"
        },
        "id": "HqByTYUdWaAU",
        "outputId": "37d42247-d64b-4710-90df-42ea86c85618"
      },
      "source": [
        "today.year"
      ],
      "execution_count": null,
      "outputs": [
        {
          "output_type": "execute_result",
          "data": {
            "text/plain": [
              "2020"
            ]
          },
          "metadata": {
            "tags": []
          },
          "execution_count": 8
        }
      ]
    },
    {
      "cell_type": "code",
      "metadata": {
        "colab": {
          "base_uri": "https://localhost:8080/"
        },
        "id": "EizILDrnWbTy",
        "outputId": "425b3907-f96e-497a-f89d-02d22a8e6411"
      },
      "source": [
        "today.month"
      ],
      "execution_count": null,
      "outputs": [
        {
          "output_type": "execute_result",
          "data": {
            "text/plain": [
              "11"
            ]
          },
          "metadata": {
            "tags": []
          },
          "execution_count": 9
        }
      ]
    },
    {
      "cell_type": "code",
      "metadata": {
        "colab": {
          "base_uri": "https://localhost:8080/"
        },
        "id": "JGv_7xbPWccG",
        "outputId": "3787de32-4009-4351-8710-a370da8b253a"
      },
      "source": [
        "today.day"
      ],
      "execution_count": null,
      "outputs": [
        {
          "output_type": "execute_result",
          "data": {
            "text/plain": [
              "19"
            ]
          },
          "metadata": {
            "tags": []
          },
          "execution_count": 10
        }
      ]
    },
    {
      "cell_type": "code",
      "metadata": {
        "colab": {
          "base_uri": "https://localhost:8080/"
        },
        "id": "DXKV0WRNWdGa",
        "outputId": "e9dfb619-06d2-46c0-fc65-88775ded9335"
      },
      "source": [
        "dir(datetime)"
      ],
      "execution_count": null,
      "outputs": [
        {
          "output_type": "execute_result",
          "data": {
            "text/plain": [
              "['MAXYEAR',\n",
              " 'MINYEAR',\n",
              " '__builtins__',\n",
              " '__cached__',\n",
              " '__doc__',\n",
              " '__file__',\n",
              " '__loader__',\n",
              " '__name__',\n",
              " '__package__',\n",
              " '__spec__',\n",
              " 'date',\n",
              " 'datetime',\n",
              " 'datetime_CAPI',\n",
              " 'sys',\n",
              " 'time',\n",
              " 'timedelta',\n",
              " 'timezone',\n",
              " 'tzinfo']"
            ]
          },
          "metadata": {
            "tags": []
          },
          "execution_count": 11
        }
      ]
    },
    {
      "cell_type": "code",
      "metadata": {
        "colab": {
          "base_uri": "https://localhost:8080/"
        },
        "id": "3Nut-s0sWhGH",
        "outputId": "a073e847-07e0-4a8d-9d91-49c5154425ef"
      },
      "source": [
        "datetime.MAXYEAR"
      ],
      "execution_count": null,
      "outputs": [
        {
          "output_type": "execute_result",
          "data": {
            "text/plain": [
              "9999"
            ]
          },
          "metadata": {
            "tags": []
          },
          "execution_count": 12
        }
      ]
    },
    {
      "cell_type": "code",
      "metadata": {
        "id": "9yDDBqZ0W4ZK"
      },
      "source": [
        "start_time = datetime.datetime.now()"
      ],
      "execution_count": null,
      "outputs": []
    },
    {
      "cell_type": "code",
      "metadata": {
        "colab": {
          "base_uri": "https://localhost:8080/"
        },
        "id": "jvKfJPIvXADf",
        "outputId": "3bc498ac-58f2-4100-af7b-53052ad2e9fe"
      },
      "source": [
        "start_time.replace(month = 12, day = 25)"
      ],
      "execution_count": null,
      "outputs": [
        {
          "output_type": "execute_result",
          "data": {
            "text/plain": [
              "datetime.datetime(2020, 12, 25, 11, 55, 27, 5048)"
            ]
          },
          "metadata": {
            "tags": []
          },
          "execution_count": 14
        }
      ]
    },
    {
      "cell_type": "code",
      "metadata": {
        "colab": {
          "base_uri": "https://localhost:8080/"
        },
        "id": "2qX3j0uAXD1w",
        "outputId": "9fe1e7d8-778c-404e-a9a7-22acbe7b175c"
      },
      "source": [
        "start_time.replace(month = 11, day = 1, hour = 6)"
      ],
      "execution_count": null,
      "outputs": [
        {
          "output_type": "execute_result",
          "data": {
            "text/plain": [
              "datetime.datetime(2020, 11, 1, 6, 55, 27, 5048)"
            ]
          },
          "metadata": {
            "tags": []
          },
          "execution_count": 15
        }
      ]
    },
    {
      "cell_type": "code",
      "metadata": {
        "id": "BOeacXoNXfM0"
      },
      "source": [
        "# LAB 7-1 : 오늘의 날짜와 현재시간 출력하기"
      ],
      "execution_count": null,
      "outputs": []
    },
    {
      "cell_type": "code",
      "metadata": {
        "id": "5sxscwwVX_4F"
      },
      "source": [
        "# 1번"
      ],
      "execution_count": null,
      "outputs": []
    },
    {
      "cell_type": "code",
      "metadata": {
        "id": "OOkFeHuOYtu-"
      },
      "source": [
        "import datetime\n",
        "today = datetime.datetime.now()\n",
        "\n",
        "if today.hour > 12:\n",
        "  시간 = '오후'\n",
        "else :\n",
        "  시간 = '오전'"
      ],
      "execution_count": null,
      "outputs": []
    },
    {
      "cell_type": "code",
      "metadata": {
        "colab": {
          "base_uri": "https://localhost:8080/"
        },
        "id": "M1ZN-6--YAh2",
        "outputId": "4814db7b-520d-4db4-c3b8-bf701a8ac192"
      },
      "source": [
        "print('오늘의 날짜 : {0}년 {1}월 {2}일'.format(today.year,today.month,today.day))\n",
        "print('현재 시간 : {} {}시 {}분 {}초'.format(시간,today.hour,today.minute,today.second))"
      ],
      "execution_count": null,
      "outputs": [
        {
          "output_type": "stream",
          "text": [
            "오늘의 날짜 : 2020년 11월 19일\n",
            "현재 시간 : 오전 12시 5분 21초\n"
          ],
          "name": "stdout"
        }
      ]
    },
    {
      "cell_type": "code",
      "metadata": {
        "id": "afWXWh1vZGhf"
      },
      "source": [
        "# 7.2.1 남은 시간 구하기"
      ],
      "execution_count": null,
      "outputs": []
    },
    {
      "cell_type": "code",
      "metadata": {
        "colab": {
          "base_uri": "https://localhost:8080/"
        },
        "id": "mNNwh1lrZVsT",
        "outputId": "72cb7745-262f-4f81-aea2-c61db0a2876c"
      },
      "source": [
        "import datetime as dt\n",
        "\n",
        "today = dt.date.today()\n",
        "print('오늘은 {}년 {}월 {}일입니다.'.format(today.year, today.month, today.day))\n",
        "\n",
        "xMas = dt.datetime(2020,12,25)\n",
        "time_gap = xMas - dt.datetime.now()\n",
        "\n",
        "print('다음 크리스마스 까지는 {}일 {}시간 남았습니다.'.format(time_gap.days,time_gap.seconds//3600))"
      ],
      "execution_count": null,
      "outputs": [
        {
          "output_type": "stream",
          "text": [
            "오늘은 2020년 11월 19일입니다.\n",
            "다음 크리스마스 까지는 35일 11시간 남았습니다.\n"
          ],
          "name": "stdout"
        }
      ]
    },
    {
      "cell_type": "code",
      "metadata": {
        "id": "p5-NFJi_Z6Oo"
      },
      "source": [
        "# LAB 7-2 : 남은 날짜 계산하기"
      ],
      "execution_count": null,
      "outputs": []
    },
    {
      "cell_type": "code",
      "metadata": {
        "id": "pCdpNs3aaGCe"
      },
      "source": [
        "# 1번"
      ],
      "execution_count": null,
      "outputs": []
    },
    {
      "cell_type": "code",
      "metadata": {
        "colab": {
          "base_uri": "https://localhost:8080/"
        },
        "id": "0xY6erOSaG0Q",
        "outputId": "24578693-9b15-4919-d006-f100afb31af4"
      },
      "source": [
        "import datetime as dt\n",
        "\n",
        "today = dt.date.today()\n",
        "print('오늘은 {}년 {}월 {}일입니다.'.format(today.year, today.month, today.day))\n",
        "\n",
        "xMas = dt.datetime(2025,12,25)\n",
        "time_gap = xMas - dt.datetime.now()\n",
        "\n",
        "print('2025년 크리스마스 까지는 {}일 {}시간 남았습니다.'.format(time_gap.days,time_gap.seconds//3600))"
      ],
      "execution_count": null,
      "outputs": [
        {
          "output_type": "stream",
          "text": [
            "오늘은 2020년 11월 19일입니다.\n",
            "2025년 크리스마스 까지는 1861일 11시간 남았습니다.\n"
          ],
          "name": "stdout"
        }
      ]
    },
    {
      "cell_type": "code",
      "metadata": {
        "id": "aJ-4tg64aL_d"
      },
      "source": [
        "# 2번"
      ],
      "execution_count": null,
      "outputs": []
    },
    {
      "cell_type": "code",
      "metadata": {
        "colab": {
          "base_uri": "https://localhost:8080/"
        },
        "id": "cq1-tZ9WaQqk",
        "outputId": "4f2eb580-3355-458b-e103-b08af03832b1"
      },
      "source": [
        "import datetime as dt\n",
        "\n",
        "today = dt.date.today()\n",
        "print('오늘은 {}년 {}월 {}일입니다.'.format(today.year, today.month, today.day))\n",
        "\n",
        "newyear = dt.datetime(2036,1,1)\n",
        "time_gap = newyear - dt.datetime.now()\n",
        "\n",
        "print('2036년 새해 까지는 {}일 {}시간 남았습니다.'.format(time_gap.days,time_gap.seconds//3600))"
      ],
      "execution_count": null,
      "outputs": [
        {
          "output_type": "stream",
          "text": [
            "오늘은 2020년 11월 19일입니다.\n",
            "2036년 새해 까지는 5520일 11시간 남았습니다.\n"
          ],
          "name": "stdout"
        }
      ]
    },
    {
      "cell_type": "code",
      "metadata": {
        "id": "6Jmx1jZnabkZ"
      },
      "source": [
        "# 3번"
      ],
      "execution_count": null,
      "outputs": []
    },
    {
      "cell_type": "code",
      "metadata": {
        "colab": {
          "base_uri": "https://localhost:8080/"
        },
        "id": "rwvEcb5OadUj",
        "outputId": "55e983fa-fce1-4642-da6f-e568c2349d38"
      },
      "source": [
        "import datetime as dt\n",
        "\n",
        "today = dt.date.today()\n",
        "print('오늘은 {}년 {}월 {}일입니다.'.format(today.year, today.month, today.day))\n",
        "\n",
        "birthday = dt.datetime(2021,8,19)\n",
        "time_gap = birthday - dt.datetime.now()\n",
        "\n",
        "print('2021년 생일까지는 {}일 {}시간 남았습니다.'.format(time_gap.days,time_gap.seconds//3600))"
      ],
      "execution_count": null,
      "outputs": [
        {
          "output_type": "stream",
          "text": [
            "오늘은 2020년 11월 19일입니다.\n",
            "2021년 생일까지는 272일 11시간 남았습니다.\n"
          ],
          "name": "stdout"
        }
      ]
    },
    {
      "cell_type": "code",
      "metadata": {
        "id": "T2MvMsM9al8F"
      },
      "source": [
        "# 7.2.2 100일 뒤 날짜 구하기"
      ],
      "execution_count": null,
      "outputs": []
    },
    {
      "cell_type": "code",
      "metadata": {
        "colab": {
          "base_uri": "https://localhost:8080/"
        },
        "id": "SF7OyPaiaqJL",
        "outputId": "cf2340d2-09d3-406f-e775-af9b1398a37f"
      },
      "source": [
        "import datetime as dt\n",
        "print('오늘 =', dt.datetime.now())\n",
        "\n",
        "hundred = dt.timedelta(days = 100)\n",
        "plus100day = dt.datetime.now() + hundred\n",
        "print('100일 후 =', plus100day)\n",
        "minus100day = dt.datetime.now() - hundred\n",
        "print('100일 전 =', minus100day)"
      ],
      "execution_count": null,
      "outputs": [
        {
          "output_type": "stream",
          "text": [
            "오늘 = 2020-11-19 12:13:34.517692\n",
            "100일 후 = 2021-02-27 12:13:34.517844\n",
            "100일 전 = 2020-08-11 12:13:34.517951\n"
          ],
          "name": "stdout"
        }
      ]
    },
    {
      "cell_type": "code",
      "metadata": {
        "id": "os43Z5JTbJj6"
      },
      "source": [
        "# LAB 7-3 : 날짜 계산하기"
      ],
      "execution_count": null,
      "outputs": []
    },
    {
      "cell_type": "code",
      "metadata": {
        "id": "iQCuVT6nbNTA"
      },
      "source": [
        "# 1번"
      ],
      "execution_count": null,
      "outputs": []
    },
    {
      "cell_type": "code",
      "metadata": {
        "colab": {
          "base_uri": "https://localhost:8080/"
        },
        "id": "OJEwSMQ8bO-F",
        "outputId": "52530676-4d06-4772-889d-fdc316bcbf0b"
      },
      "source": [
        "import datetime as dt\n",
        "thousand = dt.timedelta(days = 1000)\n",
        "plus1000day = dt.datetime.now() + thousand\n",
        "print('1000일 후 =', plus1000day)"
      ],
      "execution_count": null,
      "outputs": [
        {
          "output_type": "stream",
          "text": [
            "1000일 후 = 2023-08-16 12:14:44.089448\n"
          ],
          "name": "stdout"
        }
      ]
    },
    {
      "cell_type": "code",
      "metadata": {
        "id": "7LPtjjvfbaix"
      },
      "source": [
        "# 2번"
      ],
      "execution_count": null,
      "outputs": []
    },
    {
      "cell_type": "code",
      "metadata": {
        "colab": {
          "base_uri": "https://localhost:8080/"
        },
        "id": "LznHl7twbc-7",
        "outputId": "739a7698-b37c-40de-e768-779cc5adae6d"
      },
      "source": [
        "day = input('처음으로 사귄 연도와 월, 일을 입력하시오 : ').split(' ')\n",
        "\n",
        "a,b,c = day\n",
        "a = int(a)\n",
        "b = int(b)\n",
        "c = int(c)\n",
        "\n",
        "import datetime as dt\n",
        "\n",
        "couple_time = dt.datetime.now()\n",
        "couple = couple_time.replace(year=a, month=b, day=c)\n",
        "\n",
        "hundred = dt.timedelta(days = 100)\n",
        "plus100day = couple + hundred\n",
        "\n",
        "print('100일 기념일은 : {}년 {}월 {}일입니다.'.format(plus100day.year, plus100day.month,plus100day.day-1))"
      ],
      "execution_count": 162,
      "outputs": [
        {
          "output_type": "stream",
          "text": [
            "처음으로 사귄 연도와 월, 일을 입력하시오 : 2019 3 30\n",
            "100일 기념일은 : 2019년 7월 7일입니다.\n"
          ],
          "name": "stdout"
        }
      ]
    },
    {
      "cell_type": "code",
      "metadata": {
        "id": "lNtD3zuBdHby"
      },
      "source": [
        "# 7.3 time 모듈"
      ],
      "execution_count": null,
      "outputs": []
    },
    {
      "cell_type": "code",
      "metadata": {
        "id": "ewJtPSdLd6nX"
      },
      "source": [
        "import time"
      ],
      "execution_count": null,
      "outputs": []
    },
    {
      "cell_type": "code",
      "metadata": {
        "id": "FUtzAMxCeI1y"
      },
      "source": [
        "tic = time.time()"
      ],
      "execution_count": null,
      "outputs": []
    },
    {
      "cell_type": "code",
      "metadata": {
        "id": "sg9umoFreKth"
      },
      "source": [
        "toc = time.time()"
      ],
      "execution_count": null,
      "outputs": []
    },
    {
      "cell_type": "code",
      "metadata": {
        "colab": {
          "base_uri": "https://localhost:8080/"
        },
        "id": "rxOZ6ZLweMWs",
        "outputId": "38827e21-76b3-4484-e937-83d507525839"
      },
      "source": [
        "toc-tic"
      ],
      "execution_count": null,
      "outputs": [
        {
          "output_type": "execute_result",
          "data": {
            "text/plain": [
              "6.861984729766846"
            ]
          },
          "metadata": {
            "tags": []
          },
          "execution_count": 53
        }
      ]
    },
    {
      "cell_type": "code",
      "metadata": {
        "id": "xGIbxTNceNP1"
      },
      "source": [
        "import time"
      ],
      "execution_count": null,
      "outputs": []
    },
    {
      "cell_type": "code",
      "metadata": {
        "id": "-mlsC5X-e-Z1"
      },
      "source": [
        "seconds = time.time()"
      ],
      "execution_count": null,
      "outputs": []
    },
    {
      "cell_type": "code",
      "metadata": {
        "colab": {
          "base_uri": "https://localhost:8080/"
        },
        "id": "3vK9RPmvfAOv",
        "outputId": "1b51ce81-e31e-435e-fb9c-20e41345f878"
      },
      "source": [
        "print('에폭 이후의 시간 = ',seconds)"
      ],
      "execution_count": null,
      "outputs": [
        {
          "output_type": "stream",
          "text": [
            "에폭 이후의 시간 =  1605789024.8916516\n"
          ],
          "name": "stdout"
        }
      ]
    },
    {
      "cell_type": "code",
      "metadata": {
        "colab": {
          "base_uri": "https://localhost:8080/"
        },
        "id": "5HuFGcp-fCrt",
        "outputId": "ad44bcef-94ca-4c62-cd9e-9e6f714678ca"
      },
      "source": [
        "import time\n",
        "unix_timestamp = time.time()\n",
        "local_time = time.localtime(unix_timestamp)\n",
        "print(time.strftime('%Y-%m-%d %H:%M:%S',local_time))"
      ],
      "execution_count": null,
      "outputs": [
        {
          "output_type": "stream",
          "text": [
            "2020-11-19 12:31:49\n"
          ],
          "name": "stdout"
        }
      ]
    },
    {
      "cell_type": "code",
      "metadata": {
        "colab": {
          "base_uri": "https://localhost:8080/"
        },
        "id": "tqgRb6urfU7d",
        "outputId": "bdec9aaf-1c1f-4082-d4ad-391bc42a7e52"
      },
      "source": [
        "print('문제 : 당신의 가장 행복했던 상황을 이야기하세요. 생각할 시간 5초 줄게요')\n",
        "time.sleep(5)\n",
        "print('지금 당장 말하세요! 영어로!')"
      ],
      "execution_count": null,
      "outputs": [
        {
          "output_type": "stream",
          "text": [
            "문제 : 당신의 가장 행복했던 상황을 이야기하세요. 생각할 시간 5초 줄게요\n",
            "지금 당장 말하세요! 영어로!\n"
          ],
          "name": "stdout"
        }
      ]
    },
    {
      "cell_type": "code",
      "metadata": {
        "colab": {
          "base_uri": "https://localhost:8080/"
        },
        "id": "h0HCvlo5fiCk",
        "outputId": "08489df9-a873-4643-bbdf-e05fd4dd9af3"
      },
      "source": [
        "import time\n",
        "\n",
        "start_time = time.time()\n",
        "print(1+2+3+4+5+6+7+8+9+10)\n",
        "end_time = time.time()\n",
        "gap = end_time - start_time\n",
        "print('1에서 10까지의 합을 구하고 출력하는 시간 :{:7.4f}초'.format(gap))"
      ],
      "execution_count": null,
      "outputs": [
        {
          "output_type": "stream",
          "text": [
            "55\n",
            "1에서 10까지의 합을 구하고 출력하는 시간 : 0.0003초\n"
          ],
          "name": "stdout"
        }
      ]
    },
    {
      "cell_type": "code",
      "metadata": {
        "id": "OvyYIBtCf-Ym"
      },
      "source": [
        "# 7.4 수학 관련 모듈 math"
      ],
      "execution_count": null,
      "outputs": []
    },
    {
      "cell_type": "code",
      "metadata": {
        "id": "Ak-UpzOnh3UR"
      },
      "source": [
        "import math"
      ],
      "execution_count": null,
      "outputs": []
    },
    {
      "cell_type": "code",
      "metadata": {
        "colab": {
          "base_uri": "https://localhost:8080/"
        },
        "id": "jkC34bPQh79V",
        "outputId": "252a5c36-8602-48e7-ca54-9db940f86173"
      },
      "source": [
        "dir(math)"
      ],
      "execution_count": null,
      "outputs": [
        {
          "output_type": "execute_result",
          "data": {
            "text/plain": [
              "['__doc__',\n",
              " '__loader__',\n",
              " '__name__',\n",
              " '__package__',\n",
              " '__spec__',\n",
              " 'acos',\n",
              " 'acosh',\n",
              " 'asin',\n",
              " 'asinh',\n",
              " 'atan',\n",
              " 'atan2',\n",
              " 'atanh',\n",
              " 'ceil',\n",
              " 'copysign',\n",
              " 'cos',\n",
              " 'cosh',\n",
              " 'degrees',\n",
              " 'e',\n",
              " 'erf',\n",
              " 'erfc',\n",
              " 'exp',\n",
              " 'expm1',\n",
              " 'fabs',\n",
              " 'factorial',\n",
              " 'floor',\n",
              " 'fmod',\n",
              " 'frexp',\n",
              " 'fsum',\n",
              " 'gamma',\n",
              " 'gcd',\n",
              " 'hypot',\n",
              " 'inf',\n",
              " 'isclose',\n",
              " 'isfinite',\n",
              " 'isinf',\n",
              " 'isnan',\n",
              " 'ldexp',\n",
              " 'lgamma',\n",
              " 'log',\n",
              " 'log10',\n",
              " 'log1p',\n",
              " 'log2',\n",
              " 'modf',\n",
              " 'nan',\n",
              " 'pi',\n",
              " 'pow',\n",
              " 'radians',\n",
              " 'sin',\n",
              " 'sinh',\n",
              " 'sqrt',\n",
              " 'tan',\n",
              " 'tanh',\n",
              " 'tau',\n",
              " 'trunc']"
            ]
          },
          "metadata": {
            "tags": []
          },
          "execution_count": 81
        }
      ]
    },
    {
      "cell_type": "code",
      "metadata": {
        "id": "FWef1tADh85K"
      },
      "source": [
        "import math as m"
      ],
      "execution_count": null,
      "outputs": []
    },
    {
      "cell_type": "code",
      "metadata": {
        "colab": {
          "base_uri": "https://localhost:8080/"
        },
        "id": "F2PeHFLIiHrg",
        "outputId": "a9c3b0e8-6cea-4b91-8b0b-c43cdcb952da"
      },
      "source": [
        "m.pow(2,3)"
      ],
      "execution_count": null,
      "outputs": [
        {
          "output_type": "execute_result",
          "data": {
            "text/plain": [
              "8.0"
            ]
          },
          "metadata": {
            "tags": []
          },
          "execution_count": 84
        }
      ]
    },
    {
      "cell_type": "code",
      "metadata": {
        "colab": {
          "base_uri": "https://localhost:8080/"
        },
        "id": "tnT5U0K9iLvY",
        "outputId": "1e938d45-fa57-4e3b-b3dd-2fdee9e486fb"
      },
      "source": [
        "m.fabs(-99)"
      ],
      "execution_count": null,
      "outputs": [
        {
          "output_type": "execute_result",
          "data": {
            "text/plain": [
              "99.0"
            ]
          },
          "metadata": {
            "tags": []
          },
          "execution_count": 85
        }
      ]
    },
    {
      "cell_type": "code",
      "metadata": {
        "colab": {
          "base_uri": "https://localhost:8080/"
        },
        "id": "AgTLRwGPiN6A",
        "outputId": "0f9c394a-41bf-478b-a7fe-06157c2fba3a"
      },
      "source": [
        "m.ceil(2.1)"
      ],
      "execution_count": null,
      "outputs": [
        {
          "output_type": "execute_result",
          "data": {
            "text/plain": [
              "3"
            ]
          },
          "metadata": {
            "tags": []
          },
          "execution_count": 86
        }
      ]
    },
    {
      "cell_type": "code",
      "metadata": {
        "colab": {
          "base_uri": "https://localhost:8080/"
        },
        "id": "opj-VOHgiRA7",
        "outputId": "7d1138f4-9b89-4330-a66c-bcb4167856a8"
      },
      "source": [
        "m.ceil(-2.1)"
      ],
      "execution_count": null,
      "outputs": [
        {
          "output_type": "execute_result",
          "data": {
            "text/plain": [
              "-2"
            ]
          },
          "metadata": {
            "tags": []
          },
          "execution_count": 87
        }
      ]
    },
    {
      "cell_type": "code",
      "metadata": {
        "colab": {
          "base_uri": "https://localhost:8080/"
        },
        "id": "9jsZaBvziTUw",
        "outputId": "ee01a554-04b9-43c4-d335-d8232d5b590a"
      },
      "source": [
        "m.floor(2.1)"
      ],
      "execution_count": null,
      "outputs": [
        {
          "output_type": "execute_result",
          "data": {
            "text/plain": [
              "2"
            ]
          },
          "metadata": {
            "tags": []
          },
          "execution_count": 88
        }
      ]
    },
    {
      "cell_type": "code",
      "metadata": {
        "colab": {
          "base_uri": "https://localhost:8080/"
        },
        "id": "MDaGeZhNiUxI",
        "outputId": "069ede0e-fefa-495a-82ed-92d05e2a0d55"
      },
      "source": [
        "m.log(2.71828)"
      ],
      "execution_count": null,
      "outputs": [
        {
          "output_type": "execute_result",
          "data": {
            "text/plain": [
              "0.999999327347282"
            ]
          },
          "metadata": {
            "tags": []
          },
          "execution_count": 89
        }
      ]
    },
    {
      "cell_type": "code",
      "metadata": {
        "colab": {
          "base_uri": "https://localhost:8080/"
        },
        "id": "UzZ2nLNRiXrc",
        "outputId": "6753b196-7144-42a3-ae87-3a6b32ec0770"
      },
      "source": [
        "m.log(100,10)"
      ],
      "execution_count": null,
      "outputs": [
        {
          "output_type": "execute_result",
          "data": {
            "text/plain": [
              "2.0"
            ]
          },
          "metadata": {
            "tags": []
          },
          "execution_count": 90
        }
      ]
    },
    {
      "cell_type": "code",
      "metadata": {
        "id": "74P6VWVTiaH-"
      },
      "source": [
        "# LAB 7-4 : math 모듈을 이용한 계산"
      ],
      "execution_count": null,
      "outputs": []
    },
    {
      "cell_type": "code",
      "metadata": {
        "id": "YodjRWC4iqRc"
      },
      "source": [
        "# 1번"
      ],
      "execution_count": null,
      "outputs": []
    },
    {
      "cell_type": "code",
      "metadata": {
        "colab": {
          "base_uri": "https://localhost:8080/"
        },
        "id": "0pNamQl1ir9x",
        "outputId": "3232fe61-631e-4a0a-9db3-1379e144efc9"
      },
      "source": [
        "import math\n",
        "\n",
        "for i in range(2,11):\n",
        "  print('4**{0} = {1}'.format(i,math.pow(4,i)))"
      ],
      "execution_count": null,
      "outputs": [
        {
          "output_type": "stream",
          "text": [
            "4**2 = 16.0\n",
            "4**3 = 64.0\n",
            "4**4 = 256.0\n",
            "4**5 = 1024.0\n",
            "4**6 = 4096.0\n",
            "4**7 = 16384.0\n",
            "4**8 = 65536.0\n",
            "4**9 = 262144.0\n",
            "4**10 = 1048576.0\n"
          ],
          "name": "stdout"
        }
      ]
    },
    {
      "cell_type": "code",
      "metadata": {
        "id": "EQBCIh0Ci9c7"
      },
      "source": [
        "# 2번"
      ],
      "execution_count": null,
      "outputs": []
    },
    {
      "cell_type": "code",
      "metadata": {
        "colab": {
          "base_uri": "https://localhost:8080/"
        },
        "id": "vdY4-WiOi_cY",
        "outputId": "5df731ed-f25b-4d0a-f620-4efd5544bf43"
      },
      "source": [
        "for j in range(0,181,10):\n",
        "  print('{0}degree = {1:.3f} radian'.format(j,math.radians(j)))"
      ],
      "execution_count": null,
      "outputs": [
        {
          "output_type": "stream",
          "text": [
            "0degree = 0.000 radian\n",
            "10degree = 0.175 radian\n",
            "20degree = 0.349 radian\n",
            "30degree = 0.524 radian\n",
            "40degree = 0.698 radian\n",
            "50degree = 0.873 radian\n",
            "60degree = 1.047 radian\n",
            "70degree = 1.222 radian\n",
            "80degree = 1.396 radian\n",
            "90degree = 1.571 radian\n",
            "100degree = 1.745 radian\n",
            "110degree = 1.920 radian\n",
            "120degree = 2.094 radian\n",
            "130degree = 2.269 radian\n",
            "140degree = 2.443 radian\n",
            "150degree = 2.618 radian\n",
            "160degree = 2.793 radian\n",
            "170degree = 2.967 radian\n",
            "180degree = 3.142 radian\n"
          ],
          "name": "stdout"
        }
      ]
    },
    {
      "cell_type": "code",
      "metadata": {
        "id": "UE1_DIPAjNno"
      },
      "source": [
        "# 3번"
      ],
      "execution_count": null,
      "outputs": []
    },
    {
      "cell_type": "code",
      "metadata": {
        "colab": {
          "base_uri": "https://localhost:8080/"
        },
        "id": "3ZkhXq6xjTqn",
        "outputId": "6be32249-1602-4474-c57f-4b5b50866706"
      },
      "source": [
        "for j in range(0,181,10):\n",
        "  print('sin({0}) = {1:.2f}'.format(j,math.sin(math.radians(j))))"
      ],
      "execution_count": null,
      "outputs": [
        {
          "output_type": "stream",
          "text": [
            "sin(0) = 0.00\n",
            "sin(10) = 0.17\n",
            "sin(20) = 0.34\n",
            "sin(30) = 0.50\n",
            "sin(40) = 0.64\n",
            "sin(50) = 0.77\n",
            "sin(60) = 0.87\n",
            "sin(70) = 0.94\n",
            "sin(80) = 0.98\n",
            "sin(90) = 1.00\n",
            "sin(100) = 0.98\n",
            "sin(110) = 0.94\n",
            "sin(120) = 0.87\n",
            "sin(130) = 0.77\n",
            "sin(140) = 0.64\n",
            "sin(150) = 0.50\n",
            "sin(160) = 0.34\n",
            "sin(170) = 0.17\n",
            "sin(180) = 0.00\n"
          ],
          "name": "stdout"
        }
      ]
    },
    {
      "cell_type": "code",
      "metadata": {
        "id": "td3hscqdjgma"
      },
      "source": [
        "# 7.5 랜덤 모듈 random"
      ],
      "execution_count": null,
      "outputs": []
    },
    {
      "cell_type": "code",
      "metadata": {
        "id": "YWWNIjmekhC7"
      },
      "source": [
        "import random as rd"
      ],
      "execution_count": null,
      "outputs": []
    },
    {
      "cell_type": "code",
      "metadata": {
        "colab": {
          "base_uri": "https://localhost:8080/"
        },
        "id": "aKnSNLCjk1tl",
        "outputId": "a3b4fbf1-ea5c-4090-9e21-cde02d1e1712"
      },
      "source": [
        "rd.random()"
      ],
      "execution_count": null,
      "outputs": [
        {
          "output_type": "execute_result",
          "data": {
            "text/plain": [
              "0.24378394923987545"
            ]
          },
          "metadata": {
            "tags": []
          },
          "execution_count": 113
        }
      ]
    },
    {
      "cell_type": "code",
      "metadata": {
        "colab": {
          "base_uri": "https://localhost:8080/"
        },
        "id": "QFe5OzdVk24n",
        "outputId": "d85e0bbe-b47d-491a-a296-67cee263daf8"
      },
      "source": [
        "rd.random()"
      ],
      "execution_count": null,
      "outputs": [
        {
          "output_type": "execute_result",
          "data": {
            "text/plain": [
              "0.24958877931936985"
            ]
          },
          "metadata": {
            "tags": []
          },
          "execution_count": 114
        }
      ]
    },
    {
      "cell_type": "code",
      "metadata": {
        "colab": {
          "base_uri": "https://localhost:8080/"
        },
        "id": "PmRGkC-Ok43c",
        "outputId": "5d596d33-64d6-4538-a4c0-b74fd2ba7a90"
      },
      "source": [
        "rd.randrange(1,7)"
      ],
      "execution_count": null,
      "outputs": [
        {
          "output_type": "execute_result",
          "data": {
            "text/plain": [
              "6"
            ]
          },
          "metadata": {
            "tags": []
          },
          "execution_count": 116
        }
      ]
    },
    {
      "cell_type": "code",
      "metadata": {
        "colab": {
          "base_uri": "https://localhost:8080/"
        },
        "id": "Y0QMloSwk8PV",
        "outputId": "df45eedb-7b06-4638-ce8c-663bbb23cad7"
      },
      "source": [
        "rd.randrange(0,10,2)"
      ],
      "execution_count": null,
      "outputs": [
        {
          "output_type": "execute_result",
          "data": {
            "text/plain": [
              "2"
            ]
          },
          "metadata": {
            "tags": []
          },
          "execution_count": 117
        }
      ]
    },
    {
      "cell_type": "code",
      "metadata": {
        "colab": {
          "base_uri": "https://localhost:8080/"
        },
        "id": "A_dlIOCSlGCf",
        "outputId": "049870b4-0168-45e8-d462-136ed76a204c"
      },
      "source": [
        "rd.randint(1,10)"
      ],
      "execution_count": null,
      "outputs": [
        {
          "output_type": "execute_result",
          "data": {
            "text/plain": [
              "6"
            ]
          },
          "metadata": {
            "tags": []
          },
          "execution_count": 118
        }
      ]
    },
    {
      "cell_type": "code",
      "metadata": {
        "id": "7AQXTct7lIBK"
      },
      "source": [
        "numlist = [10,20,30,40,50]"
      ],
      "execution_count": null,
      "outputs": []
    },
    {
      "cell_type": "code",
      "metadata": {
        "id": "yKK4Jxq_lN-c"
      },
      "source": [
        "rd.shuffle(numlist)"
      ],
      "execution_count": null,
      "outputs": []
    },
    {
      "cell_type": "code",
      "metadata": {
        "colab": {
          "base_uri": "https://localhost:8080/"
        },
        "id": "UtVK3MTRlPww",
        "outputId": "a2c33ef4-4864-43ed-806e-6ed34d97b4c0"
      },
      "source": [
        "numlist"
      ],
      "execution_count": null,
      "outputs": [
        {
          "output_type": "execute_result",
          "data": {
            "text/plain": [
              "[20, 30, 50, 10, 40]"
            ]
          },
          "metadata": {
            "tags": []
          },
          "execution_count": 121
        }
      ]
    },
    {
      "cell_type": "code",
      "metadata": {
        "colab": {
          "base_uri": "https://localhost:8080/"
        },
        "id": "Lwb_nJW4lQTJ",
        "outputId": "9fe6a862-8bd8-4042-8a5c-fcfaa988781b"
      },
      "source": [
        "rd.choice(numlist)"
      ],
      "execution_count": null,
      "outputs": [
        {
          "output_type": "execute_result",
          "data": {
            "text/plain": [
              "40"
            ]
          },
          "metadata": {
            "tags": []
          },
          "execution_count": 122
        }
      ]
    },
    {
      "cell_type": "code",
      "metadata": {
        "colab": {
          "base_uri": "https://localhost:8080/"
        },
        "id": "hQ1id4o7lTO3",
        "outputId": "13f3df8d-06a5-480f-de7b-4f8c39624f2c"
      },
      "source": [
        "rd.sample(numlist,3)"
      ],
      "execution_count": null,
      "outputs": [
        {
          "output_type": "execute_result",
          "data": {
            "text/plain": [
              "[10, 40, 20]"
            ]
          },
          "metadata": {
            "tags": []
          },
          "execution_count": 123
        }
      ]
    },
    {
      "cell_type": "code",
      "metadata": {
        "id": "8RpgVU5BlVq5"
      },
      "source": [
        "# LAB 7-5 : 랜덤 번호 생성기"
      ],
      "execution_count": null,
      "outputs": []
    },
    {
      "cell_type": "code",
      "metadata": {
        "id": "xwwz5SGsl7X3"
      },
      "source": [
        "# 1번"
      ],
      "execution_count": null,
      "outputs": []
    },
    {
      "cell_type": "code",
      "metadata": {
        "colab": {
          "base_uri": "https://localhost:8080/"
        },
        "id": "tib8DrG5lZZ5",
        "outputId": "15f3f2e4-d9f0-42ad-a4d6-642feb3dc8e1"
      },
      "source": [
        "a = list(range(0,101,5))\n",
        "\n",
        "rd.shuffle(a)\n",
        "print('0에서 100 이하의 정수 중에서 5의 배수')\n",
        "rd.sample(a,3)"
      ],
      "execution_count": null,
      "outputs": [
        {
          "output_type": "stream",
          "text": [
            "0에서 100 이하의 정수 중에서 5의 배수\n"
          ],
          "name": "stdout"
        },
        {
          "output_type": "execute_result",
          "data": {
            "text/plain": [
              "[100, 70, 90]"
            ]
          },
          "metadata": {
            "tags": []
          },
          "execution_count": 133
        }
      ]
    },
    {
      "cell_type": "code",
      "metadata": {
        "id": "gWyzET9Mlt61"
      },
      "source": [
        "# 2번"
      ],
      "execution_count": null,
      "outputs": []
    },
    {
      "cell_type": "code",
      "metadata": {
        "colab": {
          "base_uri": "https://localhost:8080/"
        },
        "id": "zQW1C9hgl62a",
        "outputId": "de525bcc-e2bb-4fcf-cdba-ec6f4525b3eb"
      },
      "source": [
        "b = list(range(1,11))\n",
        "rd.shuffle(b)\n",
        "print('1에서 10 사이의 임의의 정수 :',rd.sample(b,3))"
      ],
      "execution_count": null,
      "outputs": [
        {
          "output_type": "stream",
          "text": [
            "1에서 10 사이의 임의의 정수 : [8, 7, 10]\n"
          ],
          "name": "stdout"
        }
      ]
    },
    {
      "cell_type": "code",
      "metadata": {
        "id": "lyb2udEmmK2X"
      },
      "source": [
        "# 7.5.1 의사 랜덤과 시드 번호"
      ],
      "execution_count": null,
      "outputs": []
    },
    {
      "cell_type": "code",
      "metadata": {
        "colab": {
          "base_uri": "https://localhost:8080/"
        },
        "id": "T3VUUauTmQbv",
        "outputId": "8a1114a4-ddda-44d1-b9a2-0c129967cb54"
      },
      "source": [
        "def pseudo_rand(x):\n",
        "  a = 1103515245\n",
        "  b = 12345\n",
        "  m = 2 ** 31\n",
        "  new_x = (a * x + b) % m\n",
        "  return new_x\n",
        "\n",
        "x = pseudo_rand(100)\n",
        "print(x)\n",
        "x = pseudo_rand(101)\n",
        "print(x)"
      ],
      "execution_count": null,
      "outputs": [
        {
          "output_type": "stream",
          "text": [
            "829870797\n",
            "1933386042\n"
          ],
          "name": "stdout"
        }
      ]
    },
    {
      "cell_type": "code",
      "metadata": {
        "colab": {
          "base_uri": "https://localhost:8080/"
        },
        "id": "a0JANKoEmrnX",
        "outputId": "1cdf2498-756e-4af3-c4c7-b30af9ea6aee"
      },
      "source": [
        "def pseudo_rand(x):\n",
        "  new_x = (1103515245 * x + 12345) % ( 2 ** 31 )\n",
        "  return new_x\n",
        "\n",
        "x = 12234\n",
        "for _ in range(5):\n",
        "  x = pseudo_rand(x)\n",
        "  print(x)"
      ],
      "execution_count": null,
      "outputs": [
        {
          "output_type": "stream",
          "text": [
            "1323308347\n",
            "1115894872\n",
            "534792625\n",
            "1490648726\n",
            "389073431\n"
          ],
          "name": "stdout"
        }
      ]
    },
    {
      "cell_type": "code",
      "metadata": {
        "id": "xu7LRIcOm9C6"
      },
      "source": [
        "# 7.5.2 로또 번호 만들기"
      ],
      "execution_count": null,
      "outputs": []
    },
    {
      "cell_type": "code",
      "metadata": {
        "colab": {
          "base_uri": "https://localhost:8080/"
        },
        "id": "WYtDQ-uvnDmp",
        "outputId": "8eb9b894-8f3c-493c-9ef0-3c6b8ede0bf3"
      },
      "source": [
        "import random as rd\n",
        "\n",
        "lotto_list = list(range(1,46))\n",
        "rd.shuffle(lotto_list)\n",
        "lotto_list = lotto_list[:6]\n",
        "lotto_list.sort()\n",
        "print('이번 주의 추천 로또 번호 :', lotto_list)"
      ],
      "execution_count": null,
      "outputs": [
        {
          "output_type": "stream",
          "text": [
            "이번 주의 추천 로또 번호 : [4, 20, 25, 30, 32, 34]\n"
          ],
          "name": "stdout"
        }
      ]
    },
    {
      "cell_type": "code",
      "metadata": {
        "colab": {
          "base_uri": "https://localhost:8080/"
        },
        "id": "UEDDD-3CnW7h",
        "outputId": "724c4433-fd21-459d-faf3-299f8f7dcfdd"
      },
      "source": [
        "import random as rd\n",
        "\n",
        "lotto_list = list(range(1,46))\n",
        "lotto_list = rd.sample(lotto_list,6)\n",
        "lotto_list.sort()\n",
        "print('이번 주의 추천 로또 번호 :', lotto_list)"
      ],
      "execution_count": null,
      "outputs": [
        {
          "output_type": "stream",
          "text": [
            "이번 주의 추천 로또 번호 : [15, 20, 21, 22, 26, 37]\n"
          ],
          "name": "stdout"
        }
      ]
    },
    {
      "cell_type": "code",
      "metadata": {
        "id": "Wm8vzb-znkew"
      },
      "source": [
        "# LAB 7-6 : 로또 번호 얻기"
      ],
      "execution_count": null,
      "outputs": []
    },
    {
      "cell_type": "code",
      "metadata": {
        "id": "yjwM51H3noAZ"
      },
      "source": [
        "# 1번"
      ],
      "execution_count": null,
      "outputs": []
    },
    {
      "cell_type": "code",
      "metadata": {
        "colab": {
          "base_uri": "https://localhost:8080/"
        },
        "id": "TSVIW2xVno0L",
        "outputId": "13431718-7181-4c22-be44-b6db02738569"
      },
      "source": [
        "import random as rd\n",
        "\n",
        "print('이번 주의 추천 로또번호')\n",
        "for j in range(5):\n",
        "  lotto_list = list(range(1,46))\n",
        "  lotto_list = rd.sample(lotto_list,6)\n",
        "  lotto_list.sort()\n",
        "  print(lotto_list)"
      ],
      "execution_count": null,
      "outputs": [
        {
          "output_type": "stream",
          "text": [
            "이번 주의 추천 로또번호\n",
            "[6, 8, 9, 13, 36, 44]\n",
            "[2, 4, 9, 25, 26, 36]\n",
            "[9, 11, 31, 32, 36, 44]\n",
            "[6, 15, 22, 29, 39, 44]\n",
            "[1, 2, 10, 12, 14, 28]\n"
          ],
          "name": "stdout"
        }
      ]
    },
    {
      "cell_type": "code",
      "metadata": {
        "id": "cLFU9u-Un2_b"
      },
      "source": [
        "# 2번"
      ],
      "execution_count": null,
      "outputs": []
    },
    {
      "cell_type": "code",
      "metadata": {
        "colab": {
          "base_uri": "https://localhost:8080/"
        },
        "id": "gz36BOEDn5Fz",
        "outputId": "f13ac153-d97b-4c5a-83fa-1652d4b9eb1d"
      },
      "source": [
        "import random as rd\n",
        "\n",
        "print('이번 주의 당첨 로또번호 + 보너스')\n",
        "lotto_list = list(range(1,46))\n",
        "lotto_list_a = rd.sample(lotto_list,6)\n",
        "lotto_list_b = rd.sample(lotto_list,1)\n",
        "lotto_list_a.sort()\n",
        "print(lotto_list_a,'+',lotto_list_b)"
      ],
      "execution_count": null,
      "outputs": [
        {
          "output_type": "stream",
          "text": [
            "이번 주의 당첨 로또번호 + 보너스\n",
            "[17, 20, 26, 32, 41, 45] + [30]\n"
          ],
          "name": "stdout"
        }
      ]
    },
    {
      "cell_type": "code",
      "metadata": {
        "id": "1KGXTdT8oJbj"
      },
      "source": [
        ""
      ],
      "execution_count": null,
      "outputs": []
    }
  ]
}