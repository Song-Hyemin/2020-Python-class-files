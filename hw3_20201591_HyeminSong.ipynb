{
  "nbformat": 4,
  "nbformat_minor": 0,
  "metadata": {
    "colab": {
      "name": "hw3_20201591_HyeminSong.ipynb",
      "provenance": []
    },
    "kernelspec": {
      "name": "python3",
      "display_name": "Python 3"
    }
  },
  "cells": [
    {
      "cell_type": "code",
      "metadata": {
        "id": "Qctx2oS9O8-f"
      },
      "source": [
        "# 연습문제 3.2"
      ],
      "execution_count": null,
      "outputs": []
    },
    {
      "cell_type": "code",
      "metadata": {
        "id": "4KZcveQzPeJk",
        "outputId": "a888c510-dd5f-4e3f-b30a-29958f01d72a",
        "colab": {
          "base_uri": "https://localhost:8080/",
          "height": 73
        }
      },
      "source": [
        "이름 = input('이름을 입력하시오 : ')\n",
        "키 = int(input('키를 입력하시오(단위 cm) : '))\n",
        "if 키 < 140 :\n",
        "  print(이름,'님은 놀이기구를 탈 수 없습니다.')\n",
        "else :\n",
        "  print(이름,'님은 놀이기구를 탈 수 있습니다.')"
      ],
      "execution_count": null,
      "outputs": [
        {
          "output_type": "stream",
          "text": [
            "이름을 입력하시오 : 동윤\n",
            "키를 입력하시오(단위 cm) : 170\n",
            "동윤 님은 놀이기구를 탈 수 있습니다.\n"
          ],
          "name": "stdout"
        }
      ]
    },
    {
      "cell_type": "code",
      "metadata": {
        "id": "I2r_thoOPlfH",
        "outputId": "b5646081-d12c-461b-8229-8c6e49e73138",
        "colab": {
          "base_uri": "https://localhost:8080/",
          "height": 73
        }
      },
      "source": [
        "이름 = input('이름을 입력하시오 : ')\n",
        "키 = int(input('키를 입력하시오(단위 cm) : '))\n",
        "if 키 < 140 :\n",
        "  print(이름,'님은 놀이기구를 탈 수 없습니다.')\n",
        "else :\n",
        "  print(이름,'님은 놀이기구를 탈 수 있습니다.')"
      ],
      "execution_count": null,
      "outputs": [
        {
          "output_type": "stream",
          "text": [
            "이름을 입력하시오 : 승주\n",
            "키를 입력하시오(단위 cm) : 132\n",
            "승주 님은 놀이기구를 탈 수 없습니다.\n"
          ],
          "name": "stdout"
        }
      ]
    },
    {
      "cell_type": "code",
      "metadata": {
        "id": "d99tFUfcPDnp"
      },
      "source": [
        "# 연습문제 3.3"
      ],
      "execution_count": null,
      "outputs": []
    },
    {
      "cell_type": "code",
      "metadata": {
        "id": "PEgmb-orQokw",
        "outputId": "b5650549-b596-41f8-bea8-bf26f58ac40c",
        "colab": {
          "base_uri": "https://localhost:8080/",
          "height": 73
        }
      },
      "source": [
        "나이 = int(input('나이를 입력하시오 : '))\n",
        "키 = int(input('키를 입력하시오(단위 cm) : '))\n",
        "if 나이 >= 19 and 키 >=150 :\n",
        "  print('입장할 수 있습니다.')\n",
        "else:\n",
        "  print('입장할 수 없습니다.')"
      ],
      "execution_count": null,
      "outputs": [
        {
          "output_type": "stream",
          "text": [
            "나이를 입력하시오 : 23\n",
            "키를 입력하시오(단위 cm) : 160\n",
            "입장할 수 있습니다.\n"
          ],
          "name": "stdout"
        }
      ]
    },
    {
      "cell_type": "code",
      "metadata": {
        "id": "H2KXdTbpQn8g",
        "outputId": "c5858cb1-9ac2-41d5-9c4b-f1f6c9c1abbe",
        "colab": {
          "base_uri": "https://localhost:8080/",
          "height": 73
        }
      },
      "source": [
        "나이 = int(input('나이를 입력하시오 : '))\n",
        "키 = int(input('키를 입력하시오(단위 cm) : '))\n",
        "if 나이 >= 19 and 키 >=150 :\n",
        "  print('입장할 수 있습니다.')\n",
        "else:\n",
        "  print('입장할 수 없습니다.')"
      ],
      "execution_count": null,
      "outputs": [
        {
          "output_type": "stream",
          "text": [
            "나이를 입력하시오 : 16\n",
            "키를 입력하시오(단위 cm) : 162\n",
            "입장할 수 없습니다.\n"
          ],
          "name": "stdout"
        }
      ]
    },
    {
      "cell_type": "code",
      "metadata": {
        "id": "p1lZPwE7PEd2"
      },
      "source": [
        "# 연습문제 3.4"
      ],
      "execution_count": null,
      "outputs": []
    },
    {
      "cell_type": "code",
      "metadata": {
        "id": "ExUG6hTIMXND",
        "outputId": "2c15a908-8f49-4619-eb87-d9441dcd2e7d",
        "colab": {
          "base_uri": "https://localhost:8080/",
          "height": 55
        }
      },
      "source": [
        "나이 = int(input('나이를 입력하시오 :'))\n",
        "if 나이 >= 20:\n",
        "  print('Adult')\n",
        "elif (나이 >= 10) and (나이 <20):\n",
        "  print('Youth')\n",
        "else:\n",
        "  print('Kid')"
      ],
      "execution_count": null,
      "outputs": [
        {
          "output_type": "stream",
          "text": [
            "나이를 입력하시오 :23\n",
            "Adult\n"
          ],
          "name": "stdout"
        }
      ]
    },
    {
      "cell_type": "code",
      "metadata": {
        "id": "ihwIn4sxNB2h",
        "outputId": "f84a77ff-1c18-41cc-db4e-0cb6d0ff1f4c",
        "colab": {
          "base_uri": "https://localhost:8080/",
          "height": 55
        }
      },
      "source": [
        "나이 = int(input('나이를 입력하시오 :'))\n",
        "if 나이 >= 20:\n",
        "  print('Adult')\n",
        "elif (나이 >= 10) and (나이 <20):\n",
        "  print('Youth')\n",
        "else:\n",
        "  print('Kid')"
      ],
      "execution_count": null,
      "outputs": [
        {
          "output_type": "stream",
          "text": [
            "나이를 입력하시오 :18\n",
            "Youth\n"
          ],
          "name": "stdout"
        }
      ]
    },
    {
      "cell_type": "code",
      "metadata": {
        "id": "qHgkzyyvNF3l",
        "outputId": "971a8ebd-358f-4980-d556-3fdf314318cf",
        "colab": {
          "base_uri": "https://localhost:8080/",
          "height": 55
        }
      },
      "source": [
        "나이 = int(input('나이를 입력하시오 :'))\n",
        "if 나이 >= 20:\n",
        "  print('Adult')\n",
        "elif (나이 >= 10) and (나이 <20):\n",
        "  print('Youth')\n",
        "else:\n",
        "  print('Kid')"
      ],
      "execution_count": null,
      "outputs": [
        {
          "output_type": "stream",
          "text": [
            "나이를 입력하시오 :9\n",
            "Kid\n"
          ],
          "name": "stdout"
        }
      ]
    },
    {
      "cell_type": "code",
      "metadata": {
        "id": "vFeAbELqPFCh"
      },
      "source": [
        "# 연습문제 3.5"
      ],
      "execution_count": null,
      "outputs": []
    },
    {
      "cell_type": "code",
      "metadata": {
        "id": "oevYqOBbNNKg",
        "outputId": "7943b7cb-191d-49a3-b5c4-0d5d3ef859e5",
        "colab": {
          "base_uri": "https://localhost:8080/",
          "height": 55
        }
      },
      "source": [
        "x,y = input('두 정수를 입력하시오 :').split()\n",
        "x = int(x)\n",
        "y = int(y)\n",
        "if x > y:\n",
        "  print(y,x)\n",
        "else:\n",
        "  print(x,y)"
      ],
      "execution_count": null,
      "outputs": [
        {
          "output_type": "stream",
          "text": [
            "두 정수를 입력하시오 :99 12\n",
            "12 99\n"
          ],
          "name": "stdout"
        }
      ]
    },
    {
      "cell_type": "code",
      "metadata": {
        "id": "uwshy5AQPGIi"
      },
      "source": [
        "# 연습문제 3.6"
      ],
      "execution_count": null,
      "outputs": []
    },
    {
      "cell_type": "code",
      "metadata": {
        "id": "RPIjS8arp5CY",
        "outputId": "70f58fcb-a5a8-404f-fce3-1da8b5aecefc",
        "colab": {
          "base_uri": "https://localhost:8080/",
          "height": 52
        }
      },
      "source": [
        "x,y,z = input('세 정수를 입력하시오 : ').split()\n",
        "x = int(x)\n",
        "y = int(y)\n",
        "z = int(z)\n",
        "if x > y:\n",
        "  if y>z:\n",
        "    print(z,y,x)\n",
        "  elif z>y:\n",
        "    if x>z:\n",
        "      print(y,z,x)\n",
        "    else:\n",
        "      print(y,x,z)\n",
        "elif y>z:\n",
        "  if x>z:\n",
        "    if x>y:\n",
        "      print(z,y,x)\n",
        "    elif y>x:\n",
        "      print(z,x,y)\n",
        "  elif z>x:\n",
        "    print(x,z,y)\n",
        "elif z>y:\n",
        "  if y>x:\n",
        "    print(x,y,z)\n",
        "  "
      ],
      "execution_count": 12,
      "outputs": [
        {
          "output_type": "stream",
          "text": [
            "세 정수를 입력하시오 : 9 12 4\n",
            "4 9 12\n"
          ],
          "name": "stdout"
        }
      ]
    },
    {
      "cell_type": "code",
      "metadata": {
        "id": "8kV0T4-u2X4U",
        "outputId": "74ff41a1-63ed-42fb-83b6-49de7c4466a4",
        "colab": {
          "base_uri": "https://localhost:8080/",
          "height": 52
        }
      },
      "source": [
        "x,y,z = input('세 정수를 입력하시오 : ').split()\n",
        "x = int(x)\n",
        "y = int(y)\n",
        "z = int(z)\n",
        "if x > y:\n",
        "  if y>z:\n",
        "    print(z,y,x)\n",
        "  elif z>y:\n",
        "    if x>z:\n",
        "      print(y,z,x)\n",
        "    else:\n",
        "      print(y,x,z)\n",
        "elif y>z:\n",
        "  if x>z:\n",
        "    if x>y:\n",
        "      print(z,y,x)\n",
        "    elif y>x:\n",
        "      print(z,x,y)\n",
        "  elif z>x:\n",
        "    print(x,z,y)\n",
        "elif z>y:\n",
        "  if y>x:\n",
        "    print(x,y,z)\n",
        "  "
      ],
      "execution_count": 13,
      "outputs": [
        {
          "output_type": "stream",
          "text": [
            "세 정수를 입력하시오 : 99 12 4\n",
            "4 12 99\n"
          ],
          "name": "stdout"
        }
      ]
    },
    {
      "cell_type": "code",
      "metadata": {
        "id": "OHtP4bgpPGrt"
      },
      "source": [
        "# 연습문제 3.7"
      ],
      "execution_count": null,
      "outputs": []
    },
    {
      "cell_type": "code",
      "metadata": {
        "id": "HyPZLF22RIrY",
        "outputId": "2ed3a13d-88e1-4d9f-c223-4eddcc203b96",
        "colab": {
          "base_uri": "https://localhost:8080/",
          "height": 55
        }
      },
      "source": [
        "점수 = int(input('게임점수를 입력하시오 :'))\n",
        "if 점수 >= 1000:\n",
        "  print('고수입니다.')\n",
        "else:\n",
        "  print('입문자입니다.')"
      ],
      "execution_count": null,
      "outputs": [
        {
          "output_type": "stream",
          "text": [
            "게임점수를 입력하시오 :990\n",
            "입문자입니다.\n"
          ],
          "name": "stdout"
        }
      ]
    },
    {
      "cell_type": "code",
      "metadata": {
        "id": "LOKr_fDBPHS8"
      },
      "source": [
        "# 연습문제 3.8"
      ],
      "execution_count": null,
      "outputs": []
    },
    {
      "cell_type": "code",
      "metadata": {
        "id": "G2W3-h-kqrtM",
        "outputId": "0ffd7865-8fc6-4df8-e60c-0537e4f4435c",
        "colab": {
          "base_uri": "https://localhost:8080/",
          "height": 55
        }
      },
      "source": [
        "x,y = input('점의 좌표 x, y를 입력하시오 :').split()\n",
        "x=int(x)\n",
        "y=int(y)\n",
        "if x>0 and y>0:\n",
        "  print('1사분면에 있음')\n",
        "elif x>0 and y<0:\n",
        "  print('4사분면에 있음')\n",
        "elif x<0 and y>0:\n",
        "  print('2사분면에 있음')\n",
        "else:\n",
        "  print('3사분면에 있음')"
      ],
      "execution_count": null,
      "outputs": [
        {
          "output_type": "stream",
          "text": [
            "점의 좌표 x, y를 입력하시오 :2 4\n",
            "1사분면에 있음\n"
          ],
          "name": "stdout"
        }
      ]
    },
    {
      "cell_type": "code",
      "metadata": {
        "id": "R3X1DBomrRg3",
        "outputId": "77535f5f-adc2-4c9e-8ceb-a59c785ffd65",
        "colab": {
          "base_uri": "https://localhost:8080/",
          "height": 55
        }
      },
      "source": [
        "x,y = input('점의 좌표 x, y를 입력하시오 :').split()\n",
        "x=int(x)\n",
        "y=int(y)\n",
        "if x>0 and y>0:\n",
        "  print('1사분면에 있음')\n",
        "elif x>0 and y<0:\n",
        "  print('4사분면에 있음')\n",
        "elif x<0 and y>0:\n",
        "  print('2사분면에 있음')\n",
        "else:\n",
        "  print('3사분면에 있음')"
      ],
      "execution_count": null,
      "outputs": [
        {
          "output_type": "stream",
          "text": [
            "점의 좌표 x, y를 입력하시오 :-2 -4\n",
            "3사분면에 있음\n"
          ],
          "name": "stdout"
        }
      ]
    },
    {
      "cell_type": "code",
      "metadata": {
        "id": "B9H9rWw2PKMg"
      },
      "source": [
        "# 연습문제 3.9"
      ],
      "execution_count": null,
      "outputs": []
    },
    {
      "cell_type": "code",
      "metadata": {
        "id": "B-_8XzATRbVY",
        "outputId": "df3ebec3-d055-4506-f394-6578fea68088",
        "colab": {
          "base_uri": "https://localhost:8080/",
          "height": 92
        }
      },
      "source": [
        "정수 = int(input('정수를 입력하시오 :'))\n",
        "if 정수 % 2 == 0:\n",
        "  print(정수,'는(은) 2(으)로 나누어집니다.')\n",
        "  if 정수 % 3 == 0:\n",
        "    print(정수,'는(은) 3(으)로 나누어집니다.')\n",
        "    print(정수,'는(은) 2와(과) 3 모두로 나누어집니다.')\n",
        "  else:\n",
        "    print(정수,'는(은) 3(으)로 나누어지지 않습니다.')\n",
        "    print(정수,'는(은) 2와(과) 3 모두로 나누어지지 않습니다.')\n",
        "else:\n",
        "  print(정수,'는(은) 2(으)로 나누어지지 않습니다.')\n",
        "  if 정수 % 3 == 0:\n",
        "    print(정수,'는(은) 3(으)로 나누어집니다.')\n",
        "    print(정수,'는(은) 2와(과) 3 모두로 나누어지지 않습니다.')\n",
        "  else:\n",
        "    print(정수,'는(은) 3(으)로 나누어지지 않습니다.')\n",
        "    print(정수,'는(은) 2와(과) 3 모두로 나누어지지 않습니다.')"
      ],
      "execution_count": null,
      "outputs": [
        {
          "output_type": "stream",
          "text": [
            "정수를 입력하시오 :15\n",
            "15 는(은) 2(으)로 나누어지지 않습니다.\n",
            "15 는(은) 3(으)로 나누어집니다.\n",
            "15 는(은) 2와(과) 3 모두로 나누어지지 않습니다.\n"
          ],
          "name": "stdout"
        }
      ]
    },
    {
      "cell_type": "code",
      "metadata": {
        "id": "iIHmjoRERcKQ",
        "outputId": "5a609287-2481-4d6a-e92f-da8f9664953c",
        "colab": {
          "base_uri": "https://localhost:8080/",
          "height": 92
        }
      },
      "source": [
        "정수 = int(input('정수를 입력하시오 :'))\n",
        "if 정수 % 2 == 0:\n",
        "  print(정수,'는(은) 2(으)로 나누어집니다.')\n",
        "  if 정수 % 3 == 0:\n",
        "    print(정수,'는(은) 3(으)로 나누어집니다.')\n",
        "    print(정수,'는(은) 2와(과) 3 모두로 나누어집니다.')\n",
        "  else:\n",
        "    print(정수,'는(은) 3(으)로 나누어지지 않습니다.')\n",
        "    print(정수,'는(은) 2와(과) 3 모두로 나누어지지 않습니다.')\n",
        "else:\n",
        "  print(정수,'는(은) 2(으)로 나누어지지 않습니다.')\n",
        "  if 정수 % 3 == 0:\n",
        "    print(정수,'는(은) 3(으)로 나누어집니다.')\n",
        "    print(정수,'는(은) 2와(과) 3 모두로 나누어지지 않습니다.')\n",
        "  else:\n",
        "    print(정수,'는(은) 3(으)로 나누어지지 않습니다.')\n",
        "    print(정수,'는(은) 2와(과) 3 모두로 나누어지지 않습니다.')"
      ],
      "execution_count": null,
      "outputs": [
        {
          "output_type": "stream",
          "text": [
            "정수를 입력하시오 :12\n",
            "12 는(은) 2(으)로 나누어집니다.\n",
            "12 는(은) 3(으)로 나누어집니다.\n",
            "12 는(은) 2와(과) 3 모두로 나누어집니다.\n"
          ],
          "name": "stdout"
        }
      ]
    },
    {
      "cell_type": "code",
      "metadata": {
        "id": "aYtE_6NSPKxp"
      },
      "source": [
        "# 연습문제 3.10"
      ],
      "execution_count": null,
      "outputs": []
    },
    {
      "cell_type": "code",
      "metadata": {
        "id": "Qgcj7LFRrWem",
        "outputId": "993ce80a-5c40-4cb7-8719-6787762ce056",
        "colab": {
          "base_uri": "https://localhost:8080/",
          "height": 55
        }
      },
      "source": [
        "a,b = input('두 정수를 입력하시오 :').split()\n",
        "a=int(a)\n",
        "b=int(b)\n",
        "if a % b == 0:\n",
        "  print(a,'는(은)',b,'의 배수입니다.')\n",
        "else:\n",
        "  print(a,'는(은)',b,'의 배수가 아닙니다.') "
      ],
      "execution_count": null,
      "outputs": [
        {
          "output_type": "stream",
          "text": [
            "두 정수를 입력하시오 :15 5\n",
            "15 는(은) 5 의 배수입니다.\n"
          ],
          "name": "stdout"
        }
      ]
    },
    {
      "cell_type": "code",
      "metadata": {
        "id": "oB8FdwvxrzcA",
        "outputId": "e83694e8-cf68-4740-fe1f-6d69e73024a1",
        "colab": {
          "base_uri": "https://localhost:8080/",
          "height": 55
        }
      },
      "source": [
        "a,b = input('두 정수를 입력하시오 :').split()\n",
        "a=int(a)\n",
        "b=int(b)\n",
        "if a % b == 0:\n",
        "  print(a,'는(은)',b,'의 배수입니다.')\n",
        "else:\n",
        "  print(a,'는(은)',b,'의 배수가 아닙니다.') "
      ],
      "execution_count": null,
      "outputs": [
        {
          "output_type": "stream",
          "text": [
            "두 정수를 입력하시오 :125 52\n",
            "125 는(은) 52 의 배수가 아닙니다.\n"
          ],
          "name": "stdout"
        }
      ]
    },
    {
      "cell_type": "code",
      "metadata": {
        "id": "K78bTF8WPLRl"
      },
      "source": [
        "# 연습문제 3.11"
      ],
      "execution_count": null,
      "outputs": []
    },
    {
      "cell_type": "code",
      "metadata": {
        "id": "ZsIVd7EjsQoN",
        "outputId": "4df30e4e-baab-472a-cdd8-f5729cb01a58",
        "colab": {
          "base_uri": "https://localhost:8080/",
          "height": 55
        }
      },
      "source": [
        "a,b,c = input('세 복권번호를 입력하시오 : ').split()\n",
        "a=int(a)\n",
        "b=int(b)\n",
        "c=int(c)\n",
        "\n",
        "if a==2 and b==3 and c==9:\n",
        "  print('상금 1억 원')\n",
        "elif a==2:\n",
        "  if b==3 or c==3:\n",
        "    print('상금 1천만 원')\n",
        "  elif b==9 or c==9:\n",
        "    print('상금 1천만 원')\n",
        "  else:\n",
        "    print('상금 1만 원')\n",
        "elif b==2:\n",
        "  if c==3 or c==9:\n",
        "    print('상금 1천만 원')\n",
        "  else:\n",
        "    print('상금 1만 원')\n",
        "else:\n",
        "  print('다음 기회에...')\n"
      ],
      "execution_count": null,
      "outputs": [
        {
          "output_type": "stream",
          "text": [
            "세 복권번호를 입력하시오 : 1 5 7\n",
            "다음 기회에...\n"
          ],
          "name": "stdout"
        }
      ]
    },
    {
      "cell_type": "code",
      "metadata": {
        "id": "aZBrWRuBdGis",
        "outputId": "849a4ffc-548f-4d8b-c4bd-0ec0fd2e9fb7",
        "colab": {
          "base_uri": "https://localhost:8080/",
          "height": 55
        }
      },
      "source": [
        "a,b,c = input('세 복권번호를 입력하시오 : ').split()\n",
        "a=int(a)\n",
        "b=int(b)\n",
        "c=int(c)\n",
        "\n",
        "if a==2 and b==3 and c==9:\n",
        "  print('상금 1억 원')\n",
        "elif a==2:\n",
        "  if b==3 or c==3:\n",
        "    print('상금 1천만 원')\n",
        "  elif b==9 or c==9:\n",
        "    print('상금 1천만 원')\n",
        "  else:\n",
        "    print('상금 1만 원')\n",
        "elif b==2:\n",
        "  if c==3 or c==9:\n",
        "    print('상금 1천만 원')\n",
        "  else:\n",
        "    print('상금 1만 원')\n",
        "else:\n",
        "  print('다음 기회에...')\n"
      ],
      "execution_count": null,
      "outputs": [
        {
          "output_type": "stream",
          "text": [
            "세 복권번호를 입력하시오 : 1 2 7\n",
            "상금 1만 원\n"
          ],
          "name": "stdout"
        }
      ]
    },
    {
      "cell_type": "code",
      "metadata": {
        "id": "OQYitlwwbL9y",
        "outputId": "65796384-9c64-4b78-8020-d30db44dc0c8",
        "colab": {
          "base_uri": "https://localhost:8080/",
          "height": 55
        }
      },
      "source": [
        "a,b,c = input('세 복권번호를 입력하시오 : ').split()\n",
        "a=int(a)\n",
        "b=int(b)\n",
        "c=int(c)\n",
        "\n",
        "if a==2 and b==3 and c==9:\n",
        "  print('상금 1억 원')\n",
        "elif a==2:\n",
        "  if b==3 or c==3:\n",
        "    print('상금 1천만 원')\n",
        "  elif b==9 or c==9:\n",
        "    print('상금 1천만 원')\n",
        "  else:\n",
        "    print('상금 1만 원')\n",
        "elif b==2:\n",
        "  if c==3 or c==9:\n",
        "    print('상금 1천만 원')\n",
        "  else:\n",
        "    print('상금 1만 원')\n",
        "else:\n",
        "  print('다음 기회에...')\n"
      ],
      "execution_count": null,
      "outputs": [
        {
          "output_type": "stream",
          "text": [
            "세 복권번호를 입력하시오 : 1 2 9\n",
            "상금 1천만 원\n"
          ],
          "name": "stdout"
        }
      ]
    },
    {
      "cell_type": "code",
      "metadata": {
        "id": "FZ5auuk0PLwL"
      },
      "source": [
        "# 연습문제 3.12"
      ],
      "execution_count": null,
      "outputs": []
    },
    {
      "cell_type": "code",
      "metadata": {
        "id": "8YQUsB3VxrfM",
        "outputId": "42a31019-2492-4f54-ec64-aacf496a053c",
        "colab": {
          "base_uri": "https://localhost:8080/",
          "height": 55
        }
      },
      "source": [
        "x,y = input('점의 좌표 x, y를 입력하시오 : ').split()\n",
        "x=int(x)\n",
        "y=int(y)\n",
        "거리 = (x*x+y*y)**0.5\n",
        "if 거리 >10:\n",
        "  print('원의 외부에 있음')\n",
        "else:\n",
        "  print('원의 내부에 있음')"
      ],
      "execution_count": null,
      "outputs": [
        {
          "output_type": "stream",
          "text": [
            "점의 좌표 x, y를 입력하시오 : 2 4\n",
            "원의 내부에 있음\n"
          ],
          "name": "stdout"
        }
      ]
    },
    {
      "cell_type": "code",
      "metadata": {
        "id": "7nYuTYKU0IKv",
        "outputId": "9558bfa0-23f9-4c63-9400-cdd934d2172e",
        "colab": {
          "base_uri": "https://localhost:8080/",
          "height": 55
        }
      },
      "source": [
        "x,y = input('점의 좌표 x, y를 입력하시오 : ').split()\n",
        "x=int(x)\n",
        "y=int(y)\n",
        "거리 = (x*x+y*y)**0.5\n",
        "if 거리 >10:\n",
        "  print('원의 외부에 있음')\n",
        "else:\n",
        "  print('원의 내부에 있음')"
      ],
      "execution_count": null,
      "outputs": [
        {
          "output_type": "stream",
          "text": [
            "점의 좌표 x, y를 입력하시오 : 7 9\n",
            "원의 외부에 있음\n"
          ],
          "name": "stdout"
        }
      ]
    },
    {
      "cell_type": "code",
      "metadata": {
        "id": "3iSjKIf9PMSU"
      },
      "source": [
        "# 연습문제 3.13"
      ],
      "execution_count": null,
      "outputs": []
    },
    {
      "cell_type": "code",
      "metadata": {
        "id": "gmOcdN-b0N82",
        "outputId": "258a4ea0-ef89-469b-8451-b3ec4ede1745",
        "colab": {
          "base_uri": "https://localhost:8080/",
          "height": 55
        }
      },
      "source": [
        "x,y = input('점의 좌표 x, y를 입력하시오 : ').split()\n",
        "x=int(x)\n",
        "y=int(y)\n",
        "거리 = ((x-3)**2+(y-4)**2)**0.5\n",
        "if 거리 >10:\n",
        "  print('원의 외부에 있음')\n",
        "else:\n",
        "  print('원의 내부에 있음')"
      ],
      "execution_count": null,
      "outputs": [
        {
          "output_type": "stream",
          "text": [
            "점의 좌표 x, y를 입력하시오 : -9 -5\n",
            "원의 외부에 있음\n"
          ],
          "name": "stdout"
        }
      ]
    },
    {
      "cell_type": "code",
      "metadata": {
        "id": "1pZlsh5B0OWO",
        "outputId": "e5c87e3d-5ac5-483d-ae7d-122974faf7e5",
        "colab": {
          "base_uri": "https://localhost:8080/",
          "height": 55
        }
      },
      "source": [
        "x,y = input('점의 좌표 x, y를 입력하시오 : ').split()\n",
        "x=int(x)\n",
        "y=int(y)\n",
        "거리 = ((x-3)**2+(y-4)**2)**0.5\n",
        "if 거리 >10:\n",
        "  print('원의 외부에 있음')\n",
        "else:\n",
        "  print('원의 내부에 있음')"
      ],
      "execution_count": null,
      "outputs": [
        {
          "output_type": "stream",
          "text": [
            "점의 좌표 x, y를 입력하시오 : 7 9\n",
            "원의 내부에 있음\n"
          ],
          "name": "stdout"
        }
      ]
    },
    {
      "cell_type": "code",
      "metadata": {
        "id": "m2oRrUsOPMxy"
      },
      "source": [
        "# 연습문제 3.14"
      ],
      "execution_count": null,
      "outputs": []
    },
    {
      "cell_type": "code",
      "metadata": {
        "id": "WzlyGvzoTB3F",
        "outputId": "91e5e82b-b342-47d8-ee9a-520b240974b3",
        "colab": {
          "base_uri": "https://localhost:8080/",
          "height": 55
        }
      },
      "source": [
        "알파벳 = input('알파벳을 입력하시오 :')\n",
        "if 알파벳 == 'a' or 알파벳 == 'e' or 알파벳 == 'i' or 알파벳 == 'o' or 알파벳 == 'u' :\n",
        "  print(알파벳,'(은)는 모음입니다.')\n",
        "else:\n",
        "  print(알파벳,'(은)는 자음입니다.') "
      ],
      "execution_count": null,
      "outputs": [
        {
          "output_type": "stream",
          "text": [
            "알파벳을 입력하시오 :i\n",
            "i (은)는 모음입니다.\n"
          ],
          "name": "stdout"
        }
      ]
    },
    {
      "cell_type": "code",
      "metadata": {
        "id": "algbmX9-TCYT",
        "outputId": "ae4df5a3-7073-451a-8ec8-d66ee52ec2a0",
        "colab": {
          "base_uri": "https://localhost:8080/",
          "height": 55
        }
      },
      "source": [
        "알파벳 = input('알파벳을 입력하시오 :')\n",
        "if 알파벳 == 'a' or 알파벳 == 'e' or 알파벳 == 'i' or 알파벳 == 'o' or 알파벳 == 'u' :\n",
        "  print(알파벳,'(은)는 모음입니다.')\n",
        "else:\n",
        "  print(알파벳,'(은)는 자음입니다.') "
      ],
      "execution_count": null,
      "outputs": [
        {
          "output_type": "stream",
          "text": [
            "알파벳을 입력하시오 :t\n",
            "t (은)는 자음입니다.\n"
          ],
          "name": "stdout"
        }
      ]
    },
    {
      "cell_type": "code",
      "metadata": {
        "id": "pqHl2DoDPNO1"
      },
      "source": [
        "# 연습문제 3.15"
      ],
      "execution_count": null,
      "outputs": []
    },
    {
      "cell_type": "code",
      "metadata": {
        "id": "vbm9jdC8UURC",
        "outputId": "50db937c-1e5c-49aa-8202-7ae23a32a589",
        "colab": {
          "base_uri": "https://localhost:8080/",
          "height": 179
        }
      },
      "source": [
        "for i in range(1,10):\n",
        "  print('2 *',i,'=',2*i)"
      ],
      "execution_count": null,
      "outputs": [
        {
          "output_type": "stream",
          "text": [
            "2 * 1 = 2\n",
            "2 * 2 = 4\n",
            "2 * 3 = 6\n",
            "2 * 4 = 8\n",
            "2 * 5 = 10\n",
            "2 * 6 = 12\n",
            "2 * 7 = 14\n",
            "2 * 8 = 16\n",
            "2 * 9 = 18\n"
          ],
          "name": "stdout"
        }
      ]
    },
    {
      "cell_type": "code",
      "metadata": {
        "id": "12_XGsciVYan",
        "outputId": "808105b0-cae4-4e63-e91c-99bc9dbab755",
        "colab": {
          "base_uri": "https://localhost:8080/",
          "height": 185
        }
      },
      "source": [
        "i=1\n",
        "while i <10:\n",
        "  print('2 *',i,'=',2*i)\n",
        "  i += 1"
      ],
      "execution_count": null,
      "outputs": [
        {
          "output_type": "stream",
          "text": [
            "2 * 1 = 2\n",
            "2 * 2 = 4\n",
            "2 * 3 = 6\n",
            "2 * 4 = 8\n",
            "2 * 5 = 10\n",
            "2 * 6 = 12\n",
            "2 * 7 = 14\n",
            "2 * 8 = 16\n",
            "2 * 9 = 18\n"
          ],
          "name": "stdout"
        }
      ]
    },
    {
      "cell_type": "code",
      "metadata": {
        "id": "VEiuHDN1POMc"
      },
      "source": [
        "# 연습문제 3.16"
      ],
      "execution_count": null,
      "outputs": []
    },
    {
      "cell_type": "code",
      "metadata": {
        "id": "diVcn2OWWVDN",
        "outputId": "a226a5de-8ab1-491c-c0f5-d0cad4642aa6",
        "colab": {
          "base_uri": "https://localhost:8080/",
          "height": 209
        }
      },
      "source": [
        "수 = int(input('1에서 9까지의 수를 입력하세요: '))\n",
        "while 수 > 9 or 수 <1:\n",
        "  수 = int(input('1에서 9까지의 수를 다시 입력하세요: '))\n",
        "  continue\n",
        "else:  \n",
        "  i = 1\n",
        "  while i <= 9:\n",
        "    print(수,'*',i,'=',수*i)\n",
        "    i += 1\n",
        "\n"
      ],
      "execution_count": 27,
      "outputs": [
        {
          "output_type": "stream",
          "text": [
            "1에서 9까지의 수를 입력하세요: 11\n",
            "1에서 9까지의 수를 다시 입력하세요: 2\n",
            "2 * 1 = 2\n",
            "2 * 2 = 4\n",
            "2 * 3 = 6\n",
            "2 * 4 = 8\n",
            "2 * 5 = 10\n",
            "2 * 6 = 12\n",
            "2 * 7 = 14\n",
            "2 * 8 = 16\n",
            "2 * 9 = 18\n"
          ],
          "name": "stdout"
        }
      ]
    },
    {
      "cell_type": "code",
      "metadata": {
        "id": "5sXmhJ7qWUxt",
        "outputId": "4f0968d7-fb76-46cd-91db-baf6039c7135",
        "colab": {
          "base_uri": "https://localhost:8080/",
          "height": 209
        }
      },
      "source": [
        "n = int(input('1에서 9까지의 수를 입력하세요: '))\n",
        "\n",
        "if n > 9 or n <1:\n",
        "  n = int(input('1에서 9까지의 수를 다시 입력하세요: '))\n",
        "  if n<= 9 or n>0:\n",
        "    for i in range (1,10,1):\n",
        "      print(n,'*',i,'=',n*i)\n",
        "\n",
        "else:\n",
        "  for i in range (1,10,1):\n",
        "    print(n,'*',i,'=',n*i)\n",
        "    print()\n",
        "\n",
        "    \n",
        "  "
      ],
      "execution_count": 32,
      "outputs": [
        {
          "output_type": "stream",
          "text": [
            "1에서 9까지의 수를 입력하세요: 11\n",
            "1에서 9까지의 수를 다시 입력하세요: 2\n",
            "2 * 1 = 2\n",
            "2 * 2 = 4\n",
            "2 * 3 = 6\n",
            "2 * 4 = 8\n",
            "2 * 5 = 10\n",
            "2 * 6 = 12\n",
            "2 * 7 = 14\n",
            "2 * 8 = 16\n",
            "2 * 9 = 18\n"
          ],
          "name": "stdout"
        }
      ]
    },
    {
      "cell_type": "code",
      "metadata": {
        "id": "7gCVLue_POrZ"
      },
      "source": [
        "# 연습문제 3.18"
      ],
      "execution_count": null,
      "outputs": []
    },
    {
      "cell_type": "code",
      "metadata": {
        "id": "CvaZYmxeiu_z",
        "outputId": "6c8f50ae-998f-4d96-ecf0-938651d3c5d2",
        "colab": {
          "base_uri": "https://localhost:8080/",
          "height": 185
        }
      },
      "source": [
        "print('맛나 식당에 오신 것을 환영합니다. 메뉴는 다음과 같습니다.')\n",
        "print('1) 햄버거')\n",
        "print('2) 치킨')\n",
        "print('3) 피자')\n",
        "메뉴 = int(input('1에서 3까지의 메뉴를 선택하세요 :'))\n",
        "while 메뉴 > 3 or 메뉴 < 1:\n",
        "  메뉴 = int(input('메뉴를 다시 입력하세요:'))\n",
        "  continue\n",
        "else:  \n",
        "  if 메뉴==1 :\n",
        "    print('햄버거를 선택하였습니다.')\n",
        "  elif 메뉴==2:\n",
        "    print('치킨을 선택하였습니다.')\n",
        "  elif 메뉴==3:\n",
        "    print('피자를 선택하였습니다.')\n",
        "\n",
        "  "
      ],
      "execution_count": null,
      "outputs": [
        {
          "output_type": "stream",
          "text": [
            "맛나 식당에 오신 것을 환영합니다. 메뉴는 다음과 같습니다.\n",
            "1) 햄버거\n",
            "2) 치킨\n",
            "3) 피자\n",
            "1에서 3까지의 메뉴를 선택하세요 :5\n",
            "메뉴를 다시 입력하세요:6\n",
            "메뉴를 다시 입력하세요:0\n",
            "메뉴를 다시 입력하세요:2\n",
            "치킨을 선택하였습니다.\n"
          ],
          "name": "stdout"
        }
      ]
    },
    {
      "cell_type": "code",
      "metadata": {
        "id": "EonZDLp3PPOj"
      },
      "source": [
        "# 연습문제 3.19"
      ],
      "execution_count": null,
      "outputs": []
    },
    {
      "cell_type": "code",
      "metadata": {
        "id": "1n5DjLf4ZNUc",
        "outputId": "73a1bf16-4856-4c76-8852-ddd789b3b270",
        "colab": {
          "base_uri": "https://localhost:8080/",
          "height": 148
        }
      },
      "source": [
        "print('맛나 식당에 오신 것을 환영합니다. 메뉴는 다음과 같습니다.')\n",
        "print('- 햄버거(입력 b)')\n",
        "print('- 치킨(입력 c)')\n",
        "print('- 피자(입력 p)')\n",
        "메뉴 = input('메뉴를 선택하세요(알파벳 b, c, p 입력) : ')\n",
        "while 1:\n",
        "  if 메뉴 == 'b':\n",
        "    print('햄버거를 선택하였습니다.')\n",
        "    break\n",
        "  elif 메뉴 == 'c':\n",
        "    print('치킨을 선택하였습니다.')\n",
        "    break\n",
        "  elif 메뉴 == 'p':\n",
        "    print('피자를 선택하였습니다.')\n",
        "    break\n",
        "  else:\n",
        "    메뉴 = input('메뉴를 다시 입력하세요(알파벳 b, c, p 입력) : ')\n",
        "  continue"
      ],
      "execution_count": null,
      "outputs": [
        {
          "output_type": "stream",
          "text": [
            "맛나 식당에 오신 것을 환영합니다. 메뉴는 다음과 같습니다.\n",
            "- 햄버거(입력 b)\n",
            "- 치킨(입력 c)\n",
            "- 피자(입력 p)\n",
            "메뉴를 선택하세요(알파벳 b, c, p 입력) : x\n",
            "메뉴를 다시 입력하세요(알파벳 b, c, p 입력) : c\n",
            "치킨을 선택하였습니다.\n"
          ],
          "name": "stdout"
        }
      ]
    },
    {
      "cell_type": "code",
      "metadata": {
        "id": "uJfncPBPPSHg"
      },
      "source": [
        "# 연습문제 3.20"
      ],
      "execution_count": null,
      "outputs": []
    },
    {
      "cell_type": "code",
      "metadata": {
        "id": "hWwisxJelr7X",
        "outputId": "d7ea5a71-6a6f-4ab0-826c-41d24f655b2e",
        "colab": {
          "base_uri": "https://localhost:8080/",
          "height": 129
        }
      },
      "source": [
        "n = int(input('숫자를 입력하세요 :'))\n",
        "for i in range(n):\n",
        "  print(' '*(n-i+1)+'*'*(i+1))"
      ],
      "execution_count": null,
      "outputs": [
        {
          "output_type": "stream",
          "text": [
            "숫자를 입력하세요 :5\n",
            "      *\n",
            "     **\n",
            "    ***\n",
            "   ****\n",
            "  *****\n"
          ],
          "name": "stdout"
        }
      ]
    },
    {
      "cell_type": "code",
      "metadata": {
        "id": "TNG1NfmYuDvc",
        "outputId": "2cad975b-0fe5-4685-d017-00e49a53157c",
        "colab": {
          "base_uri": "https://localhost:8080/",
          "height": 139
        }
      },
      "source": [
        "n = int(input('숫자를 입력하세요 :'))\n",
        "for i in range(n):\n",
        "  print(' '*(n-i+1)+'*'*(i+1))"
      ],
      "execution_count": 33,
      "outputs": [
        {
          "output_type": "stream",
          "text": [
            "숫자를 입력하세요 :6\n",
            "       *\n",
            "      **\n",
            "     ***\n",
            "    ****\n",
            "   *****\n",
            "  ******\n"
          ],
          "name": "stdout"
        }
      ]
    },
    {
      "cell_type": "code",
      "metadata": {
        "id": "v8vXUvf1PU7s"
      },
      "source": [
        "# 연습문제 3.21"
      ],
      "execution_count": null,
      "outputs": []
    },
    {
      "cell_type": "code",
      "metadata": {
        "id": "3PFU9Kn-lDVH",
        "outputId": "d1971cec-7707-4433-a991-4f657ff20259",
        "colab": {
          "base_uri": "https://localhost:8080/",
          "height": 55
        }
      },
      "source": [
        "n = int(input('숫자를 입력하세요 : '))\n",
        "is_prime = True\n",
        "for num in range(2,n):\n",
        "  if n % num == 0:\n",
        "    is_prime = False\n",
        "\n",
        "if is_prime == True:\n",
        "  print(n,'는 소수입니다')\n",
        "elif is_prime == False:\n",
        "  print(n,'소수가 아닙니다')"
      ],
      "execution_count": null,
      "outputs": [
        {
          "output_type": "stream",
          "text": [
            "숫자를 입력하세요 : 5\n",
            "5 는 소수입니다\n"
          ],
          "name": "stdout"
        }
      ]
    },
    {
      "cell_type": "code",
      "metadata": {
        "id": "pq21o69Vp0xA",
        "outputId": "24666d88-1e8d-4d8f-eb72-a8bbd4105d7d",
        "colab": {
          "base_uri": "https://localhost:8080/",
          "height": 55
        }
      },
      "source": [
        "n = int(input('숫자를 입력하세요 : '))\n",
        "is_prime = True\n",
        "for num in range(2,n):\n",
        "  if n % num == 0:\n",
        "    is_prime = False\n",
        "\n",
        "if is_prime == True:\n",
        "  print(n,'는 소수입니다')\n",
        "elif is_prime == False:\n",
        "  print(n,'는 소수가 아닙니다')\n"
      ],
      "execution_count": null,
      "outputs": [
        {
          "output_type": "stream",
          "text": [
            "숫자를 입력하세요 : 9\n",
            "9 는 소수가 아닙니다\n"
          ],
          "name": "stdout"
        }
      ]
    },
    {
      "cell_type": "code",
      "metadata": {
        "id": "nXwJRdgePVkD"
      },
      "source": [
        "# 연습문제 3.22"
      ],
      "execution_count": null,
      "outputs": []
    },
    {
      "cell_type": "code",
      "metadata": {
        "id": "Rq8XUKbuL_CD",
        "outputId": "c655e101-2f42-4924-9303-b24a671626d6",
        "colab": {
          "base_uri": "https://localhost:8080/",
          "height": 223
        }
      },
      "source": [
        "\n",
        "for n in range(2,13):\n",
        "  is_prime = True\n",
        "  for num in range(2,n):\n",
        "    if n % num == 0:\n",
        "      is_prime = False\n",
        "\n",
        "  if is_prime == True:\n",
        "    print(n,': 소수')\n",
        "  elif is_prime == False:\n",
        "    print(n,': 합성수')\n",
        "\n",
        "  \n"
      ],
      "execution_count": null,
      "outputs": [
        {
          "output_type": "stream",
          "text": [
            "2 : 소수\n",
            "3 : 소수\n",
            "4 : 합성수\n",
            "5 : 소수\n",
            "6 : 합성수\n",
            "7 : 소수\n",
            "8 : 합성수\n",
            "9 : 합성수\n",
            "10 : 합성수\n",
            "11 : 소수\n",
            "12 : 합성수\n"
          ],
          "name": "stdout"
        }
      ]
    },
    {
      "cell_type": "code",
      "metadata": {
        "id": "21XNP1F_PWYM"
      },
      "source": [
        "# 연습문제 3.23"
      ],
      "execution_count": null,
      "outputs": []
    },
    {
      "cell_type": "code",
      "metadata": {
        "id": "S_dmbuvikZZo",
        "outputId": "d21023b2-5e45-481c-92b3-6fbc6c595bde",
        "colab": {
          "base_uri": "https://localhost:8080/",
          "height": 55
        }
      },
      "source": [
        "n = int(input('숫자를 입력하세요 : '))\n",
        "s=0\n",
        "for i in range (1,n+1):\n",
        "  s = s + i**2\n",
        "print('결과는 {}입니다.'.format(s))\n"
      ],
      "execution_count": null,
      "outputs": [
        {
          "output_type": "stream",
          "text": [
            "숫자를 입력하세요 : 5\n",
            "결과는 55입니다.\n"
          ],
          "name": "stdout"
        }
      ]
    },
    {
      "cell_type": "code",
      "metadata": {
        "id": "VnEQQ57JPW3s"
      },
      "source": [
        "# 연습문제 3.24"
      ],
      "execution_count": null,
      "outputs": []
    },
    {
      "cell_type": "code",
      "metadata": {
        "id": "UuZMANfDD3Cp",
        "outputId": "7625f57a-b037-43c9-edc5-4bec59bea522",
        "colab": {
          "base_uri": "https://localhost:8080/",
          "height": 55
        }
      },
      "source": [
        "n = int(input('숫자를 입력하세요 : '))\n",
        "s=0\n",
        "for i in range (1,n+1):\n",
        "  s = s +(1/i**2)\n",
        "print('결과는 {}입니다.'.format(s))"
      ],
      "execution_count": null,
      "outputs": [
        {
          "output_type": "stream",
          "text": [
            "숫자를 입력하세요 : 10\n",
            "결과는 1.5497677311665408입니다.\n"
          ],
          "name": "stdout"
        }
      ]
    },
    {
      "cell_type": "code",
      "metadata": {
        "id": "RygvMPHJEBwb",
        "outputId": "b97c634d-c307-4338-ba87-ac7cd20efb9e",
        "colab": {
          "base_uri": "https://localhost:8080/",
          "height": 55
        }
      },
      "source": [
        "n = int(input('숫자를 입력하세요 : '))\n",
        "s=0\n",
        "for i in range (1,n+1):\n",
        "  s = s +(1/i**2)\n",
        "print('결과는 {}입니다.'.format(s))"
      ],
      "execution_count": null,
      "outputs": [
        {
          "output_type": "stream",
          "text": [
            "숫자를 입력하세요 : 100\n",
            "결과는 1.6349839001848923입니다.\n"
          ],
          "name": "stdout"
        }
      ]
    },
    {
      "cell_type": "code",
      "metadata": {
        "id": "F3xSIZ9ePXXA"
      },
      "source": [
        "# 연습문제 3.25"
      ],
      "execution_count": null,
      "outputs": []
    },
    {
      "cell_type": "code",
      "metadata": {
        "id": "gun_-9w9EHCQ",
        "outputId": "1b5cabda-79de-4132-ac8a-222d7fccc42f",
        "colab": {
          "base_uri": "https://localhost:8080/",
          "height": 279
        }
      },
      "source": [
        "거리 = 0\n",
        "n = 1\n",
        "while 거리 < 25:\n",
        "  거리 = 거리 + 7\n",
        "  print('day :',n, '달팽이의 위치 :',거리,'미터')\n",
        "  거리 = 거리 - 5\n",
        "  n += 1\n",
        "else:\n",
        "  print('우물을 탈출하는 데 걸린 날은 {}일 입니다.'.format(n-1))\n"
      ],
      "execution_count": null,
      "outputs": [
        {
          "output_type": "stream",
          "text": [
            "day : 1 달팽이의 위치 : 7 미터\n",
            "day : 2 달팽이의 위치 : 9 미터\n",
            "day : 3 달팽이의 위치 : 11 미터\n",
            "day : 4 달팽이의 위치 : 13 미터\n",
            "day : 5 달팽이의 위치 : 15 미터\n",
            "day : 6 달팽이의 위치 : 17 미터\n",
            "day : 7 달팽이의 위치 : 19 미터\n",
            "day : 8 달팽이의 위치 : 21 미터\n",
            "day : 9 달팽이의 위치 : 23 미터\n",
            "day : 10 달팽이의 위치 : 25 미터\n",
            "day : 11 달팽이의 위치 : 27 미터\n",
            "day : 12 달팽이의 위치 : 29 미터\n",
            "day : 13 달팽이의 위치 : 31 미터\n",
            "우물을 탈출하는 데 걸린 날은 13일 입니다.\n"
          ],
          "name": "stdout"
        }
      ]
    },
    {
      "cell_type": "code",
      "metadata": {
        "id": "INfNTLyzPX3B"
      },
      "source": [
        "# 연습문제 3.26"
      ],
      "execution_count": null,
      "outputs": []
    },
    {
      "cell_type": "code",
      "metadata": {
        "id": "huJBcSxOhifs",
        "outputId": "a5a26101-d3ad-4ce0-8396-698e3fd51d3f",
        "colab": {
          "base_uri": "https://localhost:8080/",
          "height": 129
        }
      },
      "source": [
        "n = int(input('n을 입력하시오 : '))\n",
        "m = 1\n",
        "\n",
        "for i in range(1,n+1):\n",
        "  if i % 2 != 0:\n",
        "    for j in range(1,n+1):\n",
        "      print(m,end = ' ')\n",
        "      m += 1\n",
        "  else:\n",
        "    m = m + n\n",
        "    m -= 1\n",
        "    for k in range(1,n+1):\n",
        "      print(m,end = ' ')\n",
        "      m -= 1\n",
        "    m = m + n\n",
        "    m += 1\n",
        "  print()"
      ],
      "execution_count": null,
      "outputs": [
        {
          "output_type": "stream",
          "text": [
            "n을 입력하시오 : 5\n",
            "1 2 3 4 5 \n",
            "10 9 8 7 6 \n",
            "11 12 13 14 15 \n",
            "20 19 18 17 16 \n",
            "21 22 23 24 25 \n"
          ],
          "name": "stdout"
        }
      ]
    },
    {
      "cell_type": "code",
      "metadata": {
        "id": "cTA2e2bUWijL",
        "outputId": "136aa874-6a9f-44f1-e3a6-2b5b35a197bf",
        "colab": {
          "base_uri": "https://localhost:8080/",
          "height": 148
        }
      },
      "source": [
        "n = int(input('n을 입력하시오 : '))\n",
        "m = 1\n",
        "\n",
        "for i in range(1,n+1):\n",
        "  if i % 2 != 0:\n",
        "    for j in range(1,n+1):\n",
        "      print(m,end = ' ')\n",
        "      m += 1\n",
        "  else:\n",
        "    m = m + n\n",
        "    m -= 1\n",
        "    for k in range(1,n+1):\n",
        "      print(m,end = ' ')\n",
        "      m -= 1\n",
        "    m = m + n\n",
        "    m += 1\n",
        "  print()"
      ],
      "execution_count": null,
      "outputs": [
        {
          "output_type": "stream",
          "text": [
            "n을 입력하시오 : 6\n",
            "1 2 3 4 5 6 \n",
            "12 11 10 9 8 7 \n",
            "13 14 15 16 17 18 \n",
            "24 23 22 21 20 19 \n",
            "25 26 27 28 29 30 \n",
            "36 35 34 33 32 31 \n"
          ],
          "name": "stdout"
        }
      ]
    },
    {
      "cell_type": "code",
      "metadata": {
        "id": "w32XeS6OPYcT"
      },
      "source": [
        "# 연습문제 3.27"
      ],
      "execution_count": null,
      "outputs": []
    },
    {
      "cell_type": "code",
      "metadata": {
        "id": "3d1khYtrZW-S",
        "outputId": "101b8802-ddc1-4454-f2d4-7bac14d4112d",
        "colab": {
          "base_uri": "https://localhost:8080/",
          "height": 36
        }
      },
      "source": [
        "print('세 자리의 암스트롱 수 : ',end = ' ')\n",
        "for i in range(100,1000):\n",
        "    if(i==((i//100)**3)+(((i%100)//10)**3)+((i%10)**3)):\n",
        "      print(i,end = ' ')"
      ],
      "execution_count": null,
      "outputs": [
        {
          "output_type": "stream",
          "text": [
            "세 자리의 암스트롱 수 :  153 370 371 407 "
          ],
          "name": "stdout"
        }
      ]
    },
    {
      "cell_type": "code",
      "metadata": {
        "id": "zfwhPO4UPY8L"
      },
      "source": [
        "# 연습문제 3.28"
      ],
      "execution_count": null,
      "outputs": []
    },
    {
      "cell_type": "code",
      "metadata": {
        "id": "WHori3Hmk35r",
        "outputId": "638c10e1-c0d3-4a60-8b91-7b042955be25",
        "colab": {
          "base_uri": "https://localhost:8080/",
          "height": 52
        }
      },
      "source": [
        "number = int(input('정수를 입력하시오 : '))\n",
        "n = number\n",
        "L = []\n",
        "\n",
        "s = 0\n",
        "while True:\n",
        "  a = n % 10\n",
        "  L.append(a)\n",
        "  n = (int)(n/10)\n",
        "  s = s + 1\n",
        "  if n == 0:\n",
        "    break\n",
        "\n",
        "정수 = 0\n",
        "\n",
        "for i in range(0,s,1):\n",
        "  if L[i] != L[s - 1 - i]:\n",
        "    정수 = 1\n",
        "    break\n",
        "\n",
        "if 정수 == 0:\n",
        "  print(number,'은(는) 거꾸로 정수입니다.')\n",
        "else:\n",
        "  print(number,'은(는) 거꾸로 정수가 아닙니다.')\n",
        "\n"
      ],
      "execution_count": 10,
      "outputs": [
        {
          "output_type": "stream",
          "text": [
            "정수를 입력하시오 : 3443\n",
            "3443 은(는) 거꾸로 정수입니다.\n"
          ],
          "name": "stdout"
        }
      ]
    },
    {
      "cell_type": "code",
      "metadata": {
        "id": "o-v_bF5toCBL",
        "outputId": "c4176e1e-7285-41b6-c291-4d76d668c0b5",
        "colab": {
          "base_uri": "https://localhost:8080/",
          "height": 52
        }
      },
      "source": [
        "number = int(input('정수를 입력하시오 : '))\n",
        "n = number\n",
        "L = []\n",
        "\n",
        "s = 0\n",
        "while True:\n",
        "  a = n % 10\n",
        "  L.append(a)\n",
        "  n = (int)(n/10)\n",
        "  s = s + 1\n",
        "  if n == 0:\n",
        "    break\n",
        "\n",
        "정수 = 0\n",
        "\n",
        "for i in range(0,s,1):\n",
        "  if L[i] != L[s - 1 - i]:\n",
        "    정수 = 1\n",
        "    break\n",
        "\n",
        "if 정수 == 0:\n",
        "  print(number,'은(는) 거꾸로 정수입니다.')\n",
        "else:\n",
        "  print(number,'은(는) 거꾸로 정수가 아닙니다.')\n"
      ],
      "execution_count": 11,
      "outputs": [
        {
          "output_type": "stream",
          "text": [
            "정수를 입력하시오 : 324\n",
            "324 은(는) 거꾸로 정수가 아닙니다.\n"
          ],
          "name": "stdout"
        }
      ]
    },
    {
      "cell_type": "code",
      "metadata": {
        "id": "-w2HoAIzPZaT"
      },
      "source": [
        "# 연습문제 3.29"
      ],
      "execution_count": null,
      "outputs": []
    },
    {
      "cell_type": "code",
      "metadata": {
        "id": "RbROhRwd4R5P",
        "outputId": "e97f41d6-58c9-4723-bc5f-5cf81d392491",
        "colab": {
          "base_uri": "https://localhost:8080/",
          "height": 148
        }
      },
      "source": [
        "탱크양 = 500\n",
        "while 탱크양 >= 50:\n",
        "  연료 = int(input('충전 또는 사용한 연료를 +/- 기호와 함께 입력하시오: '))\n",
        "  탱크양 = 탱크양 + 연료\n",
        "  print('현재 탱크양은 {}입니다.'.format(탱크양))\n",
        "else:\n",
        "  print('경고 : 연료가 10% 미만이니 충전하세요!')\n",
        "  "
      ],
      "execution_count": null,
      "outputs": [
        {
          "output_type": "stream",
          "text": [
            "충전 또는 사용한 연료를 +/- 기호와 함께 입력하시오: +60\n",
            "현재 탱크양은 560입니다.\n",
            "충전 또는 사용한 연료를 +/- 기호와 함께 입력하시오: -300\n",
            "현재 탱크양은 260입니다.\n",
            "충전 또는 사용한 연료를 +/- 기호와 함께 입력하시오: -220\n",
            "현재 탱크양은 40입니다.\n",
            "경고 : 연료가 10% 미만이니 충전하세요!\n"
          ],
          "name": "stdout"
        }
      ]
    },
    {
      "cell_type": "code",
      "metadata": {
        "id": "x2ZZF-tjPZ1c"
      },
      "source": [
        "# 연습문제 3.30"
      ],
      "execution_count": null,
      "outputs": []
    },
    {
      "cell_type": "code",
      "metadata": {
        "id": "fUj2Y-7Th0BR",
        "outputId": "1a6f53f1-62ff-48b1-f73c-71372d44527b",
        "colab": {
          "base_uri": "https://localhost:8080/",
          "height": 129
        }
      },
      "source": [
        "print('1)덧셈  2)뺄셈  3)곱셈  4)나눗셈')\n",
        "번호 = int(input('어떤 연산을 원하는지 번호를 입력하세요: '))\n",
        "while(번호>=1 and 번호<=4):\n",
        "  if 번호 == 1:\n",
        "    print('연산을 원하는 숫자 두개를 입력하세요')\n",
        "    수1 = int(input())\n",
        "    수2 = int(input())\n",
        "    print(수1,'+',수2,'=',수1+수2)\n",
        "  elif 번호 == 2:\n",
        "    print('연산을 원하는 숫자 두개를 입력하세요')\n",
        "    수1 = int(input())\n",
        "    수2 = int(input())\n",
        "    print(수1,'-',수2,'=',수1-수2)\n",
        "  elif 번호 == 3:\n",
        "    print('연산을 원하는 숫자 두개를 입력하세요')\n",
        "    수1 = int(input())\n",
        "    수2 = int(input())\n",
        "    print(수1,'*',수2,'=',수1*수2)\n",
        "  elif 번호 == 4:\n",
        "    print('연산을 원하는 숫자 두개를 입력하세요')\n",
        "    수1 = int(input())\n",
        "    수2 = int(input())\n",
        "    print(수1,'/',수2,'=',수1/수2)\n",
        "  break\n",
        "else:\n",
        "  print('잘못 입력하였습니다.')"
      ],
      "execution_count": null,
      "outputs": [
        {
          "output_type": "stream",
          "text": [
            "1)덧셈  2)뺄셈  3)곱셈  4)나눗셈\n",
            "어떤 연산을 원하는지 번호를 입력하세요: 4\n",
            "연산을 원하는 숫자 두개를 입력하세요\n",
            "3\n",
            "4\n",
            "3 / 4 = 0.75\n"
          ],
          "name": "stdout"
        }
      ]
    },
    {
      "cell_type": "code",
      "metadata": {
        "id": "DNZkXYEdkmj0",
        "outputId": "2239dee9-7b7d-4fec-851f-26ab98811442",
        "colab": {
          "base_uri": "https://localhost:8080/",
          "height": 73
        }
      },
      "source": [
        "print('1)덧셈  2)뺄셈  3)곱셈  4)나눗셈')\n",
        "번호 = int(input('어떤 연산을 원하는지 번호를 입력하세요: '))\n",
        "while(번호>=1 and 번호<=4):\n",
        "  if 번호 == 1:\n",
        "    print('연산을 원하는 숫자 두개를 입력하세요')\n",
        "    수1 = int(input())\n",
        "    수2 = int(input())\n",
        "    print(수1,'+',수2,'=',수1+수2)\n",
        "  elif 번호 == 2:\n",
        "    print('연산을 원하는 숫자 두개를 입력하세요')\n",
        "    수1 = int(input())\n",
        "    수2 = int(input())\n",
        "    print(수1,'-',수2,'=',수1-수2)\n",
        "  elif 번호 == 3:\n",
        "    print('연산을 원하는 숫자 두개를 입력하세요')\n",
        "    수1 = int(input())\n",
        "    수2 = int(input())\n",
        "    print(수1,'*',수2,'=',수1*수2)\n",
        "  elif 번호 == 4:\n",
        "    print('연산을 원하는 숫자 두개를 입력하세요')\n",
        "    수1 = int(input())\n",
        "    수2 = int(input())\n",
        "    print(수1,'/',수2,'=',수1/수2)\n",
        "  break\n",
        "else:\n",
        "  print('잘못 입력하였습니다.')"
      ],
      "execution_count": null,
      "outputs": [
        {
          "output_type": "stream",
          "text": [
            "1)덧셈  2)뺄셈  3)곱셈  4)나눗셈\n",
            "어떤 연산을 원하는지 번호를 입력하세요: 6\n",
            "잘못 입력하였습니다.\n"
          ],
          "name": "stdout"
        }
      ]
    },
    {
      "cell_type": "code",
      "metadata": {
        "id": "nn2BI_XZPaal"
      },
      "source": [
        "# 연습문제 3.31"
      ],
      "execution_count": null,
      "outputs": []
    },
    {
      "cell_type": "code",
      "metadata": {
        "id": "h17AfEDIYk0F",
        "outputId": "5f916e74-f123-4647-d9ea-d378ef66a076",
        "colab": {
          "base_uri": "https://localhost:8080/",
          "height": 297
        }
      },
      "source": [
        "s = 0\n",
        "for i in range (1,20001):\n",
        "  s = 0\n",
        "\n",
        "  for j in range (1,i):\n",
        "    if i % j == 0:\n",
        "      s = s + j\n",
        "\n",
        "  k = 0\n",
        "  for l in range(1,s):\n",
        "    if s % l == 0:\n",
        "      k = k + l\n",
        "  \n",
        "  if k == i and i != s:\n",
        "    print(i,'의 친화수 = ',s)"
      ],
      "execution_count": 3,
      "outputs": [
        {
          "output_type": "stream",
          "text": [
            "220 의 친화수 =  284\n",
            "284 의 친화수 =  220\n",
            "1184 의 친화수 =  1210\n",
            "1210 의 친화수 =  1184\n",
            "2620 의 친화수 =  2924\n",
            "2924 의 친화수 =  2620\n",
            "5020 의 친화수 =  5564\n",
            "5564 의 친화수 =  5020\n",
            "6232 의 친화수 =  6368\n",
            "6368 의 친화수 =  6232\n",
            "10744 의 친화수 =  10856\n",
            "10856 의 친화수 =  10744\n",
            "12285 의 친화수 =  14595\n",
            "14595 의 친화수 =  12285\n",
            "17296 의 친화수 =  18416\n",
            "18416 의 친화수 =  17296\n"
          ],
          "name": "stdout"
        }
      ]
    }
  ]
}