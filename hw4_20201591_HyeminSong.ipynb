{
  "nbformat": 4,
  "nbformat_minor": 0,
  "metadata": {
    "colab": {
      "name": "hw4_20201591_HyeminSong.ipynb",
      "provenance": []
    },
    "kernelspec": {
      "name": "python3",
      "display_name": "Python 3"
    }
  },
  "cells": [
    {
      "cell_type": "code",
      "metadata": {
        "id": "oHkF2cRAI-Wd"
      },
      "source": [
        "# 연습문제 4.1번"
      ],
      "execution_count": null,
      "outputs": []
    },
    {
      "cell_type": "code",
      "metadata": {
        "id": "EmtkQtTYD7kj",
        "outputId": "c73e1dc7-46ab-43d1-861c-09005ee50c8b",
        "colab": {
          "base_uri": "https://localhost:8080/",
          "height": 54
        }
      },
      "source": [
        "def my_greet():\n",
        "  print('환영합니다.')\n",
        "\n",
        "my_greet()\n",
        "my_greet()"
      ],
      "execution_count": null,
      "outputs": [
        {
          "output_type": "stream",
          "text": [
            "환영합니다.\n",
            "환영합니다.\n"
          ],
          "name": "stdout"
        }
      ]
    },
    {
      "cell_type": "code",
      "metadata": {
        "id": "E_b4F1fmEFBt"
      },
      "source": [
        "# 연습문제 4.2번"
      ],
      "execution_count": null,
      "outputs": []
    },
    {
      "cell_type": "code",
      "metadata": {
        "id": "UwuW2oI7EXdO",
        "outputId": "89c07567-10ed-40ac-a619-fca7591bbcd8",
        "colab": {
          "base_uri": "https://localhost:8080/",
          "height": 54
        }
      },
      "source": [
        "def square(n):\n",
        "  return n**2\n",
        "\n",
        "print('3의 제곱은 : ',square(3))\n",
        "print('3의 제곱은 : ',square(4))"
      ],
      "execution_count": null,
      "outputs": [
        {
          "output_type": "stream",
          "text": [
            "3의 제곱은 :  9\n",
            "3의 제곱은 :  16\n"
          ],
          "name": "stdout"
        }
      ]
    },
    {
      "cell_type": "code",
      "metadata": {
        "id": "jrmuMlCeFhuq"
      },
      "source": [
        "# 연습문제 4.3번"
      ],
      "execution_count": null,
      "outputs": []
    },
    {
      "cell_type": "code",
      "metadata": {
        "id": "o41OMpq9PTHF",
        "outputId": "db79b823-e150-485a-f143-5f5953fea5d4",
        "colab": {
          "base_uri": "https://localhost:8080/",
          "height": 54
        }
      },
      "source": [
        "def max2(m,n):\n",
        "  if m > n:\n",
        "    return m\n",
        "  else :\n",
        "    return n\n",
        "\n",
        "def min2(m,n):\n",
        "  if m > n:\n",
        "    return n\n",
        "  else : \n",
        "    return m\n",
        "\n",
        "print('100과 200중 큰 수는 :',max2(100,200))\n",
        "print('100과 200중 작은 수는 :',min2(100,200))"
      ],
      "execution_count": null,
      "outputs": [
        {
          "output_type": "stream",
          "text": [
            "100과 200중 큰 수는 : 200\n",
            "100과 200중 작은 수는 : 100\n"
          ],
          "name": "stdout"
        }
      ]
    },
    {
      "cell_type": "code",
      "metadata": {
        "id": "gL3M_rJqFvGJ"
      },
      "source": [
        "# 연습문제 4.4번"
      ],
      "execution_count": null,
      "outputs": []
    },
    {
      "cell_type": "code",
      "metadata": {
        "id": "T6P1gC85PTew",
        "outputId": "0d99d83b-6566-4656-fea4-89a3f0d67e8a",
        "colab": {
          "base_uri": "https://localhost:8080/",
          "height": 110
        }
      },
      "source": [
        "def mile2km():\n",
        "  for i in range(1,6):\n",
        "    마일 = i * 1.61\n",
        "    print(i,'마일 =',마일,'킬로미터')\n",
        "\n",
        "mile2km()"
      ],
      "execution_count": null,
      "outputs": [
        {
          "output_type": "stream",
          "text": [
            "1 마일 = 1.61 킬로미터\n",
            "2 마일 = 3.22 킬로미터\n",
            "3 마일 = 4.83 킬로미터\n",
            "4 마일 = 6.44 킬로미터\n",
            "5 마일 = 8.05 킬로미터\n"
          ],
          "name": "stdout"
        }
      ]
    },
    {
      "cell_type": "code",
      "metadata": {
        "id": "2jDO_-UBFx_W"
      },
      "source": [
        "# 연습문제 4.5번"
      ],
      "execution_count": null,
      "outputs": []
    },
    {
      "cell_type": "code",
      "metadata": {
        "id": "uYzHmr7oPT2Y",
        "outputId": "934c08ff-6d60-4a69-ccba-8b93fd486c00",
        "colab": {
          "base_uri": "https://localhost:8080/",
          "height": 110
        }
      },
      "source": [
        "def inch2cm():\n",
        "  for i in range(1,6):\n",
        "    센티미터 = i * 2.54\n",
        "    print(i,'인치 =',센티미터,'센티미터')\n",
        "\n",
        "inch2cm()"
      ],
      "execution_count": null,
      "outputs": [
        {
          "output_type": "stream",
          "text": [
            "1 인치 = 2.54 센티미터\n",
            "2 인치 = 5.08 센티미터\n",
            "3 인치 = 7.62 센티미터\n",
            "4 인치 = 10.16 센티미터\n",
            "5 인치 = 12.7 센티미터\n"
          ],
          "name": "stdout"
        }
      ]
    },
    {
      "cell_type": "code",
      "metadata": {
        "id": "dLU35dYQFypM"
      },
      "source": [
        "# 연습문제 4.6번"
      ],
      "execution_count": null,
      "outputs": []
    },
    {
      "cell_type": "code",
      "metadata": {
        "id": "KQ5q-OzxPUI_",
        "outputId": "38a7cae9-143f-4e8a-8f3e-8277e07fba33",
        "colab": {
          "base_uri": "https://localhost:8080/",
          "height": 110
        }
      },
      "source": [
        "def cel2fah():\n",
        "  for i in range(10,51,10):\n",
        "    화씨 = (9/5) * i + 32\n",
        "    print('섭씨',i,'도 = 화씨',화씨,'도')\n",
        "\n",
        "cel2fah()"
      ],
      "execution_count": null,
      "outputs": [
        {
          "output_type": "stream",
          "text": [
            "섭씨 10 도 = 화씨 50.0 도\n",
            "섭씨 20 도 = 화씨 68.0 도\n",
            "섭씨 30 도 = 화씨 86.0 도\n",
            "섭씨 40 도 = 화씨 104.0 도\n",
            "섭씨 50 도 = 화씨 122.0 도\n"
          ],
          "name": "stdout"
        }
      ]
    },
    {
      "cell_type": "code",
      "metadata": {
        "id": "qNyDqsCHFzxB"
      },
      "source": [
        "# 연습문제 4.7번"
      ],
      "execution_count": null,
      "outputs": []
    },
    {
      "cell_type": "code",
      "metadata": {
        "id": "NMpUs3wpPUds",
        "outputId": "11c5dcf4-274c-46f7-f0d6-5d225a4bebb3",
        "colab": {
          "base_uri": "https://localhost:8080/",
          "height": 91
        }
      },
      "source": [
        "a,b,c = map(int,input('세 수를 입력하시오 : ').split(' '))\n",
        "\n",
        "def mean3(a,b,c):\n",
        "  평균 = (a + b + c) / 3\n",
        "  return 평균\n",
        "\n",
        "def max3(a,b,c):\n",
        "  x = 0\n",
        "  lists = [a,b,c]\n",
        "  for i in lists:\n",
        "    if x < i:\n",
        "      x = i\n",
        "  return x\n",
        "\n",
        "\n",
        "def min3(a,b,c):\n",
        "  lists = [a,b,c]  \n",
        "  y = lists[0]\n",
        "  for j in lists:\n",
        "    if j < y : \n",
        "      y = j  \n",
        "  return y\n",
        "\n",
        "\n",
        "print('{}, {}, {}의 평균값은 {}'.format(a,b,c,mean3(a,b,c)))\n",
        "print('{}, {}, {}의 최댓값은 {}'.format(a,b,c,max3(a,b,c)))\n",
        "print('{}, {}, {}의 최솟값은 {}'.format(a,b,c,min3(a,b,c)))"
      ],
      "execution_count": null,
      "outputs": [
        {
          "output_type": "stream",
          "text": [
            "세 수를 입력하시오 : 10 30 20\n",
            "10, 30, 20의 평균값은 20.0\n",
            "10, 30, 20의 최댓값은 30\n",
            "10, 30, 20의 최솟값은 10\n"
          ],
          "name": "stdout"
        }
      ]
    },
    {
      "cell_type": "code",
      "metadata": {
        "id": "Y3xeB8wcF04F"
      },
      "source": [
        "# 연습문제 4.8번"
      ],
      "execution_count": null,
      "outputs": []
    },
    {
      "cell_type": "code",
      "metadata": {
        "id": "27HKtSSMPVBp",
        "outputId": "3fb0b6b3-eb9d-48f0-8034-73f36a054f1b",
        "colab": {
          "base_uri": "https://localhost:8080/",
          "height": 91
        }
      },
      "source": [
        "a,b,c,d,e,f = map(int,input('여섯 개의 수를 입력하시오 : ').split(' '))\n",
        "\n",
        "def mean3(a,b,c,d,e,f):\n",
        "  평균 = (a + b + c + d + e + f) / 6\n",
        "  return 평균\n",
        "\n",
        "def max3(a,b,c,d,e,f):\n",
        "  x = 0\n",
        "  lists = [a,b,c,d,e,f]\n",
        "  for i in lists:\n",
        "    if x < i:\n",
        "      x = i\n",
        "  return x\n",
        "\n",
        "\n",
        "def min3(a,b,c,d,e,f):\n",
        "  lists = [a,b,c,d,e,f]  \n",
        "  y = lists[0]\n",
        "  for j in lists:\n",
        "    if j < y : \n",
        "      y = j  \n",
        "  return y\n",
        "\n",
        "\n",
        "print('평균값은 {}'.format(mean3(a,b,c,d,e,f)))\n",
        "print('최댓값은 {}'.format(max3(a,b,c,d,e,f)))\n",
        "print('최솟값은 {}'.format(min3(a,b,c,d,e,f)))"
      ],
      "execution_count": null,
      "outputs": [
        {
          "output_type": "stream",
          "text": [
            "여섯 개의 수를 입력하시오 : 100 20 30 45 260 370\n",
            "평균값은 137.5\n",
            "최댓값은 370\n",
            "최솟값은 20\n"
          ],
          "name": "stdout"
        }
      ]
    },
    {
      "cell_type": "code",
      "metadata": {
        "id": "0ZUY6_wnF11X"
      },
      "source": [
        "# 연습문제 4.9번"
      ],
      "execution_count": null,
      "outputs": []
    },
    {
      "cell_type": "code",
      "metadata": {
        "id": "weTzEby3WHiC",
        "outputId": "eb40008c-f8ec-463c-ae35-f11c4315f14e",
        "colab": {
          "base_uri": "https://localhost:8080/"
        }
      },
      "source": [
        "nums = input('정수를 여러 개 입력하시오 : ').split(' ')\n",
        "\n",
        "for i in range(0,len(nums)):\n",
        "  nums[i] = int(nums[i])     # 문자열 리스트를 정수로 바꾸기\n",
        "\n",
        "def min_of_n(nums):\n",
        "  list1 = []\n",
        "  for k in nums:\n",
        "    list1.append(k)\n",
        "\n",
        "  y = list1[0]\n",
        "\n",
        "  for j in list1:\n",
        "    if j < y : \n",
        "      y = j\n",
        "  return y\n",
        "\n",
        "def mean_of_n(nums):\n",
        "  평균 = sum(nums) / len(nums)\n",
        "  return 평균\n",
        "\n",
        "def max_of_n(nums):\n",
        "  x = 0\n",
        "  list1 = []\n",
        "  for k in nums:\n",
        "    list1.append(k)\n",
        "\n",
        "  for i in list1:\n",
        "    if x < i:\n",
        "      x = i\n",
        "  return x\n",
        "\n",
        "print('평균값은 {0:.1f}'.format(mean_of_n(nums)))\n",
        "print('최댓값은 {}'.format(max_of_n(nums)))\n",
        "print('최솟값은 {}'.format(min_of_n(nums)))"
      ],
      "execution_count": null,
      "outputs": [
        {
          "output_type": "stream",
          "text": [
            "정수를 여러 개 입력하시오 : 3 45 32 5 7 8 4 44 5 90 17\n",
            "평균값은 23.6\n",
            "최댓값은 90\n",
            "최솟값은 3\n"
          ],
          "name": "stdout"
        }
      ]
    },
    {
      "cell_type": "code",
      "metadata": {
        "id": "qdiDUG4rF22v"
      },
      "source": [
        "# 연습문제 4.10번"
      ],
      "execution_count": null,
      "outputs": []
    },
    {
      "cell_type": "code",
      "metadata": {
        "id": "gc4d6odydREC"
      },
      "source": [
        "def distance(x1, y1, x2, y2):\n",
        "  거리 = (((x2-x1)**2)+((y2-y1)**2))**(1/2)\n",
        "  return 거리"
      ],
      "execution_count": null,
      "outputs": []
    },
    {
      "cell_type": "code",
      "metadata": {
        "id": "-xnpSa4nePxP",
        "outputId": "dce603e9-f845-4813-fd48-4a2d703d6076",
        "colab": {
          "base_uri": "https://localhost:8080/",
          "height": 110
        }
      },
      "source": [
        "x1 = int(input(\"x1 좌표를 입력하시오 : \"))\n",
        "y1 = int(input(\"y1 좌표를 입력하시오 : \"))\n",
        "x2 = int(input(\"x2 좌표를 입력하시오 : \"))\n",
        "y2 = int(input(\"y2 좌표를 입력하시오 : \"))\n",
        "\n",
        "print('두 점의 거리:',distance(x1, y1, x2, y2))"
      ],
      "execution_count": null,
      "outputs": [
        {
          "output_type": "stream",
          "text": [
            "x1 좌표를 입력하시오 : 0\n",
            "y1 좌표를 입력하시오 : 0\n",
            "x2 좌표를 입력하시오 : 3\n",
            "y2 좌표를 입력하시오 : 4\n",
            "두 점의 거리: 5.0\n"
          ],
          "name": "stdout"
        }
      ]
    },
    {
      "cell_type": "code",
      "metadata": {
        "id": "e8TLBr6rF3ip"
      },
      "source": [
        "# 연습문제 4.11번"
      ],
      "execution_count": null,
      "outputs": []
    },
    {
      "cell_type": "code",
      "metadata": {
        "id": "2BmY31FIec6T"
      },
      "source": [
        "def area(x1, y1, x2, y2):\n",
        "  밑변 = (((x2-x1)**2))**(1/2)\n",
        "  높이 = (((y2-y1)**2))**(1/2)\n",
        "  면적 = 밑변 * 높이 / 2\n",
        "  return 면적"
      ],
      "execution_count": null,
      "outputs": []
    },
    {
      "cell_type": "code",
      "metadata": {
        "id": "7SIJVjnTdRYi",
        "outputId": "cc3f24ce-f406-486d-9e22-934d6c3bcc11",
        "colab": {
          "base_uri": "https://localhost:8080/",
          "height": 110
        }
      },
      "source": [
        "x1 = int(input(\"x1 좌표를 입력하시오 : \"))\n",
        "y1 = int(input(\"y1 좌표를 입력하시오 : \"))\n",
        "x2 = int(input(\"x2 좌표를 입력하시오 : \"))\n",
        "y2 = int(input(\"y2 좌표를 입력하시오 : \"))\n",
        "\n",
        "print('직각삼각형의 면적은 :',area(x1, y1, x2, y2))"
      ],
      "execution_count": null,
      "outputs": [
        {
          "output_type": "stream",
          "text": [
            "x1 좌표를 입력하시오 : 0\n",
            "y1 좌표를 입력하시오 : 0\n",
            "x2 좌표를 입력하시오 : 3\n",
            "y2 좌표를 입력하시오 : 4\n",
            "직각삼각형의 면적은 : 6.0\n"
          ],
          "name": "stdout"
        }
      ]
    },
    {
      "cell_type": "code",
      "metadata": {
        "id": "in6Q5-uQO6oz"
      },
      "source": [
        "# 연습문제 4.12번"
      ],
      "execution_count": null,
      "outputs": []
    },
    {
      "cell_type": "code",
      "metadata": {
        "id": "iO-TOD1BTp9T",
        "outputId": "a501fd48-fd1d-4533-f82a-27a603824a6a",
        "colab": {
          "base_uri": "https://localhost:8080/",
          "height": 72
        }
      },
      "source": [
        "def cal_area(width,height):\n",
        "  s = (1/2) * width * height\n",
        "  return s\n",
        "\n",
        "width = int(input('밑변을 입력하시오: '))\n",
        "height = int(input('높이를 입력하시오: '))\n",
        "\n",
        "print('삼각형의 면적 : {}'.format(cal_area(width,height)))"
      ],
      "execution_count": null,
      "outputs": [
        {
          "output_type": "stream",
          "text": [
            "밑변을 입력하시오: 20\n",
            "높이를 입력하시오: 15\n",
            "삼각형의 면적 : 150.0\n"
          ],
          "name": "stdout"
        }
      ]
    },
    {
      "cell_type": "code",
      "metadata": {
        "id": "VPzPhHHrO-kk"
      },
      "source": [
        "# 연습문제 4.13번 (총 6문제)"
      ],
      "execution_count": null,
      "outputs": []
    },
    {
      "cell_type": "code",
      "metadata": {
        "id": "5iVL81sQRyiK"
      },
      "source": [
        "# (1) 모서리의 길이가 12인 정육면체의 부피 "
      ],
      "execution_count": null,
      "outputs": []
    },
    {
      "cell_type": "code",
      "metadata": {
        "id": "q7hjcOFlRb_P",
        "outputId": "bb3d70b8-3a00-44bc-9f3a-ccde7392d331",
        "colab": {
          "base_uri": "https://localhost:8080/",
          "height": 35
        }
      },
      "source": [
        "def square(s):\n",
        "  v = s ** 3\n",
        "  return v\n",
        "\n",
        "square(12)"
      ],
      "execution_count": null,
      "outputs": [
        {
          "output_type": "execute_result",
          "data": {
            "text/plain": [
              "1728"
            ]
          },
          "metadata": {
            "tags": []
          },
          "execution_count": 103
        }
      ]
    },
    {
      "cell_type": "code",
      "metadata": {
        "id": "JtxNaa2FR3rf"
      },
      "source": [
        "# (2) 모서리의 길이가 20인 정육면체의 부피"
      ],
      "execution_count": null,
      "outputs": []
    },
    {
      "cell_type": "code",
      "metadata": {
        "id": "hgP22cQiR_IR",
        "outputId": "38c851cd-6135-4889-e5ef-62a94ba1b2a3",
        "colab": {
          "base_uri": "https://localhost:8080/",
          "height": 35
        }
      },
      "source": [
        "def 정육면체(s):\n",
        "  v = s ** 3\n",
        "  return v\n",
        "\n",
        "정육면체(20)"
      ],
      "execution_count": null,
      "outputs": [
        {
          "output_type": "execute_result",
          "data": {
            "text/plain": [
              "8000"
            ]
          },
          "metadata": {
            "tags": []
          },
          "execution_count": 109
        }
      ]
    },
    {
      "cell_type": "code",
      "metadata": {
        "id": "RHGDiEdISCcJ"
      },
      "source": [
        "# (3) 가로, 세로, 길이가 각각 3, 5, 6인 직육면체의 부피"
      ],
      "execution_count": null,
      "outputs": []
    },
    {
      "cell_type": "code",
      "metadata": {
        "id": "AIgAY6s4SCk5",
        "outputId": "c0c25773-2b9f-43d1-a497-3100a4494407",
        "colab": {
          "base_uri": "https://localhost:8080/",
          "height": 35
        }
      },
      "source": [
        "def 직육면체(w,h,l):\n",
        "  v = w * h * l\n",
        "  return v\n",
        "\n",
        "직육면체(3,5,6)"
      ],
      "execution_count": null,
      "outputs": [
        {
          "output_type": "execute_result",
          "data": {
            "text/plain": [
              "90"
            ]
          },
          "metadata": {
            "tags": []
          },
          "execution_count": 105
        }
      ]
    },
    {
      "cell_type": "code",
      "metadata": {
        "id": "ZJ9turC4SCtC"
      },
      "source": [
        "# (4) 반지름과 높이가 각각 20, 10인 원뿔의 부피"
      ],
      "execution_count": null,
      "outputs": []
    },
    {
      "cell_type": "code",
      "metadata": {
        "id": "MQZmlo9pSCwc",
        "outputId": "7a678bfa-b1f0-48a3-a138-469be21cb8d4",
        "colab": {
          "base_uri": "https://localhost:8080/",
          "height": 35
        }
      },
      "source": [
        "def 원뿔(r,h):\n",
        "  v = (1/3) * 3.14 * (r**2) * h\n",
        "  return v\n",
        "\n",
        "원뿔(20,10)"
      ],
      "execution_count": null,
      "outputs": [
        {
          "output_type": "execute_result",
          "data": {
            "text/plain": [
              "4186.666666666666"
            ]
          },
          "metadata": {
            "tags": []
          },
          "execution_count": 106
        }
      ]
    },
    {
      "cell_type": "code",
      "metadata": {
        "id": "j4PWCOtqSCp3"
      },
      "source": [
        "# (5) 반지름이 15인 구의 부피"
      ],
      "execution_count": null,
      "outputs": []
    },
    {
      "cell_type": "code",
      "metadata": {
        "id": "GasANJNjSCh1",
        "outputId": "cd1d6740-7801-41ff-c96e-f46dc7c980c2",
        "colab": {
          "base_uri": "https://localhost:8080/",
          "height": 35
        }
      },
      "source": [
        "def 구(r):\n",
        "  v = (4/3) * 3.14 * (r**3)\n",
        "  return v\n",
        "\n",
        "구(15)"
      ],
      "execution_count": null,
      "outputs": [
        {
          "output_type": "execute_result",
          "data": {
            "text/plain": [
              "14130.0"
            ]
          },
          "metadata": {
            "tags": []
          },
          "execution_count": 107
        }
      ]
    },
    {
      "cell_type": "code",
      "metadata": {
        "id": "EkcvnwnZSCfy"
      },
      "source": [
        "# (6) 반지름과 높이가 각각 20, 10인 원기둥의 부피"
      ],
      "execution_count": null,
      "outputs": []
    },
    {
      "cell_type": "code",
      "metadata": {
        "id": "vYhZy5BDSCB2",
        "outputId": "30ea6e2c-416e-45d6-8ca2-03189db03bdf",
        "colab": {
          "base_uri": "https://localhost:8080/",
          "height": 35
        }
      },
      "source": [
        "def 원기둥(r,h):\n",
        "  v = 3.14 * (r**2) * h\n",
        "  return v\n",
        "\n",
        "원기둥(20,10)"
      ],
      "execution_count": null,
      "outputs": [
        {
          "output_type": "execute_result",
          "data": {
            "text/plain": [
              "12560.0"
            ]
          },
          "metadata": {
            "tags": []
          },
          "execution_count": 108
        }
      ]
    },
    {
      "cell_type": "code",
      "metadata": {
        "id": "__Av_C3LO_Qy"
      },
      "source": [
        "# 연습문제 4.14번"
      ],
      "execution_count": null,
      "outputs": []
    },
    {
      "cell_type": "code",
      "metadata": {
        "id": "1Y8wYbfKqONp"
      },
      "source": [
        "def sort3(num1, num2, num3):"
      ],
      "execution_count": null,
      "outputs": []
    },
    {
      "cell_type": "code",
      "metadata": {
        "id": "13Ejejy-UnIl",
        "outputId": "fff75e83-d3c4-4d3f-b0c4-f3e7ffcc6d36",
        "colab": {
          "base_uri": "https://localhost:8080/"
        }
      },
      "source": [
        "def sort3(num1, num2, num3):\n",
        "  list1.append(num1)\n",
        "  list1.append(num2)\n",
        "  list1.append(num3)\n",
        "  a= sorted(list1)\n",
        "\n",
        "  print('정렬된 리스트는 다음과 같습니다: {0} {1} {2}'.format(a[0],a[1],a[2]))\n",
        "  \n",
        "\n",
        "list1 = []\n",
        "print('세 수를 입력하세요 :')\n",
        "num1 = int(input())\n",
        "num2 = int(input())\n",
        "num3 = int(input())\n",
        "\n",
        "sort3(num1, num2, num3)\n",
        "\n",
        "\n"
      ],
      "execution_count": null,
      "outputs": [
        {
          "output_type": "stream",
          "text": [
            "세 수를 입력하세요 :\n",
            "3\n",
            "2\n",
            "5\n",
            "정렬된 리스트는 다음과 같습니다: 2 3 5\n"
          ],
          "name": "stdout"
        }
      ]
    },
    {
      "cell_type": "code",
      "metadata": {
        "id": "WFKwyH2TO_30"
      },
      "source": [
        "5# 연습문제 4.15번"
      ],
      "execution_count": null,
      "outputs": []
    },
    {
      "cell_type": "code",
      "metadata": {
        "id": "Mjsez_CQOUTU",
        "outputId": "84ba768d-cf26-4fba-a75b-d4e394cd4e48",
        "colab": {
          "base_uri": "https://localhost:8080/"
        }
      },
      "source": [
        "def my_sort(*nums):\n",
        "  a = []\n",
        "  a.append(nums)\n",
        "  print('결과 :',sorted(nums))\n",
        "\n",
        "my_sort(45,3,4,56,5)\n"
      ],
      "execution_count": null,
      "outputs": [
        {
          "output_type": "stream",
          "text": [
            "결과 : [3, 4, 5, 45, 56]\n"
          ],
          "name": "stdout"
        }
      ]
    },
    {
      "cell_type": "code",
      "metadata": {
        "id": "u3FS4vomnpRi",
        "outputId": "6fe45c2e-2092-465f-d8ef-b7be7f689c52",
        "colab": {
          "base_uri": "https://localhost:8080/"
        }
      },
      "source": [
        "def my_sort(*nums):\n",
        "  a = []\n",
        "  a.append(nums)\n",
        "  print('결과 :',sorted(nums))\n",
        "\n",
        "my_sort(9,8,7,6,5,4,3)\n"
      ],
      "execution_count": null,
      "outputs": [
        {
          "output_type": "stream",
          "text": [
            "결과 : [3, 4, 5, 6, 7, 8, 9]\n"
          ],
          "name": "stdout"
        }
      ]
    },
    {
      "cell_type": "code",
      "metadata": {
        "id": "JKnlFn7iPAvD"
      },
      "source": [
        "# 연습문제 4.16번"
      ],
      "execution_count": null,
      "outputs": []
    },
    {
      "cell_type": "code",
      "metadata": {
        "id": "_-6yk0Tqnwve",
        "outputId": "ab3f4500-0e1b-4c52-960f-3f292d157ed9",
        "colab": {
          "base_uri": "https://localhost:8080/"
        }
      },
      "source": [
        "inputList = input('쉽표로 구분된 정수를 임의의 개수 입력하시오: ').split(',')\n",
        "\n",
        "for i in range(0,len(inputList)):\n",
        "  inputList[i] = int(inputList[i])\n",
        "\n",
        "print('입력된 정수의 리스트:',inputList)\n",
        "\n",
        "inputList.sort()\n",
        "\n",
        "print('정렬된 정수의 리스트:',inputList)\n",
        "\n"
      ],
      "execution_count": null,
      "outputs": [
        {
          "output_type": "stream",
          "text": [
            "쉽표로 구분된 정수를 임의의 개수 입력하시오: 56,67,89,34,24,300,99\n",
            "입력된 정수의 리스트: [56, 67, 89, 34, 24, 300, 99]\n",
            "정렬된 정수의 리스트: [24, 34, 56, 67, 89, 99, 300]\n"
          ],
          "name": "stdout"
        }
      ]
    },
    {
      "cell_type": "code",
      "metadata": {
        "id": "pcETeKGMPBk8"
      },
      "source": [
        "# 연습문제 4.17번"
      ],
      "execution_count": null,
      "outputs": []
    },
    {
      "cell_type": "code",
      "metadata": {
        "id": "fj4JfKefWL2E",
        "outputId": "5bff8a64-7156-467a-8b1f-1e96f4a60e9c",
        "colab": {
          "base_uri": "https://localhost:8080/"
        }
      },
      "source": [
        "def sum_range(n1,n2):\n",
        "  hap = 0\n",
        "  for i in range(n1,n2+1):\n",
        "    hap = hap + i\n",
        "  return hap\n",
        "\n",
        "print('10에서  20까지의 정수의 합 : {}'.format(sum_range(10,20)))\n",
        "print('40에서 100까지의 정수의 합 : {}'.format(sum_range(40,100)))"
      ],
      "execution_count": null,
      "outputs": [
        {
          "output_type": "stream",
          "text": [
            "10에서  20까지의 정수의 합 : 165\n",
            "40에서 100까지의 정수의 합 : 4270\n"
          ],
          "name": "stdout"
        }
      ]
    },
    {
      "cell_type": "code",
      "metadata": {
        "id": "rRTEwfQ5PCit"
      },
      "source": [
        "# 연습문제 4.18번"
      ],
      "execution_count": null,
      "outputs": []
    },
    {
      "cell_type": "code",
      "metadata": {
        "id": "zlDHZP7dAGbw",
        "outputId": "f0e35a13-93f7-43c3-d90e-af021df80b4b",
        "colab": {
          "base_uri": "https://localhost:8080/"
        }
      },
      "source": [
        "def 최소공배수(a,b):\n",
        "  i = 1\n",
        "  while True:\n",
        "    for k in range(a,b+1):\n",
        "      if i % a == 0 and i % b == 0:\n",
        "        return i\n",
        "      i = i + 1\n",
        "\n",
        "a = int(input('범위의 시작 정수 : '))\n",
        "b = int(input('범위의 마지막 정수 : '))\n",
        "\n",
        "start = a\n",
        "next = a + 1\n",
        "end = b\n",
        "\n",
        "p = 최소공배수(start,next)\n",
        "\n",
        "while True:\n",
        "  next = next + 1\n",
        "  if next > end:\n",
        "    break\n",
        "\n",
        "  if p > next:\n",
        "    p = 최소공배수(next,p)       # a<b라는 조건 맞추기\n",
        "  \n",
        "  else:\n",
        "    p = 최소공배수(p,next)\n",
        "\n",
        "print('{0}에서 {1}까지의 정수들의 최소 공배수는 : {2}'.format(start,end,p))"
      ],
      "execution_count": null,
      "outputs": [
        {
          "output_type": "stream",
          "text": [
            "범위의 시작 정수 : 2\n",
            "범위의 마지막 정수 : 4\n",
            "2에서 4까지의 정수들의 최소 공배수는 : 12\n"
          ],
          "name": "stdout"
        }
      ]
    },
    {
      "cell_type": "code",
      "metadata": {
        "id": "ENMhwMy0UE1r",
        "outputId": "f844e9e7-a834-4734-c1df-c9d0acb31548",
        "colab": {
          "base_uri": "https://localhost:8080/"
        }
      },
      "source": [
        "def 최소공배수(a,b):\n",
        "  i = 1\n",
        "  while True:\n",
        "    for k in range(a,b+1):\n",
        "      if i % a == 0 and i % b == 0:\n",
        "        return i\n",
        "      i = i + 1\n",
        "\n",
        "a = int(input('범위의 시작 정수 : '))\n",
        "b = int(input('범위의 마지막 정수 : '))\n",
        "\n",
        "start = a\n",
        "next = a + 1\n",
        "end = b\n",
        "\n",
        "p = 최소공배수(start,next)\n",
        "\n",
        "while True:\n",
        "  next = next + 1\n",
        "  if next > end:\n",
        "    break\n",
        "\n",
        "  if p > next:\n",
        "    p = 최소공배수(next,p)\n",
        "  \n",
        "  else:\n",
        "    p = 최소공배수(p,next)\n",
        "\n",
        "print('{0}에서 {1}까지의 정수들의 최소 공배수는 : {2}'.format(start,end,p))"
      ],
      "execution_count": null,
      "outputs": [
        {
          "output_type": "stream",
          "text": [
            "범위의 시작 정수 : 3\n",
            "범위의 마지막 정수 : 5\n",
            "3에서 5까지의 정수들의 최소 공배수는 : 60\n"
          ],
          "name": "stdout"
        }
      ]
    },
    {
      "cell_type": "code",
      "metadata": {
        "id": "wUO-Xc90PDUR"
      },
      "source": [
        "4# 연습문제 4.19번"
      ],
      "execution_count": null,
      "outputs": []
    },
    {
      "cell_type": "code",
      "metadata": {
        "id": "Z3LcfqDbIBbG",
        "outputId": "dd7dcec9-b96f-4930-affa-ecf80fc30bc9",
        "colab": {
          "base_uri": "https://localhost:8080/",
          "height": 54
        }
      },
      "source": [
        "def fibonacci(n):\n",
        "  if n == 1:\n",
        "    return 1\n",
        "  elif n == 0:\n",
        "    return 0\n",
        "  else :\n",
        "    return (fibonacci(n-1) + fibonacci(n-2))\n",
        "\n",
        "fibo = int(input('fibo(n)의 n을 입력하세요: '))\n",
        "print('fibo({}) ='.format(fibo),fibonacci(fibo+1))"
      ],
      "execution_count": null,
      "outputs": [
        {
          "output_type": "stream",
          "text": [
            "fibo(n)의 n을 입력하세요: 3\n",
            "fibo(3) = 3\n"
          ],
          "name": "stdout"
        }
      ]
    },
    {
      "cell_type": "code",
      "metadata": {
        "id": "gaFBIL1MLwzN",
        "outputId": "d6947b0d-e170-4652-f63f-7a6de8b9ac78",
        "colab": {
          "base_uri": "https://localhost:8080/",
          "height": 54
        }
      },
      "source": [
        "def fibonacci(n):\n",
        "  if n == 1:\n",
        "    return 1\n",
        "  elif n == 0:\n",
        "    return 0\n",
        "  else :\n",
        "    return (fibonacci(n-1) + fibonacci(n-2))\n",
        "\n",
        "fibo = int(input('fibo(n)의 n을 입력하세요: '))\n",
        "print('fibo({}) ='.format(fibo),fibonacci(fibo+1))"
      ],
      "execution_count": null,
      "outputs": [
        {
          "output_type": "stream",
          "text": [
            "fibo(n)의 n을 입력하세요: 4\n",
            "fibo(4) = 5\n"
          ],
          "name": "stdout"
        }
      ]
    },
    {
      "cell_type": "code",
      "metadata": {
        "id": "-WttdWVKPEUZ"
      },
      "source": [
        "# 연습문제 4.20번"
      ],
      "execution_count": null,
      "outputs": []
    },
    {
      "cell_type": "code",
      "metadata": {
        "id": "px8PMW4DKrq8",
        "outputId": "c46fb8e2-bf3d-4bee-b570-97b306553b8c",
        "colab": {
          "base_uri": "https://localhost:8080/"
        }
      },
      "source": [
        "def fibonacci(n):\n",
        "  if n == 1:\n",
        "    return 1\n",
        "  elif n == 0:\n",
        "    return 0\n",
        "  else :\n",
        "    return (fibonacci(n-1) + fibonacci(n-2))\n",
        "\n",
        "for i in range(16):\n",
        "  print('fibo({0}) = {1}'.format(i,fibonacci(i+1)))"
      ],
      "execution_count": null,
      "outputs": [
        {
          "output_type": "stream",
          "text": [
            "fibo(0) = 1\n",
            "fibo(1) = 1\n",
            "fibo(2) = 2\n",
            "fibo(3) = 3\n",
            "fibo(4) = 5\n",
            "fibo(5) = 8\n",
            "fibo(6) = 13\n",
            "fibo(7) = 21\n",
            "fibo(8) = 34\n",
            "fibo(9) = 55\n",
            "fibo(10) = 89\n",
            "fibo(11) = 144\n",
            "fibo(12) = 233\n",
            "fibo(13) = 377\n",
            "fibo(14) = 610\n",
            "fibo(15) = 987\n"
          ],
          "name": "stdout"
        }
      ]
    },
    {
      "cell_type": "code",
      "metadata": {
        "id": "sRhGO5CEPH80"
      },
      "source": [
        "# 연습문제 4.21번"
      ],
      "execution_count": null,
      "outputs": []
    },
    {
      "cell_type": "code",
      "metadata": {
        "id": "rXHUH0LFetMo",
        "outputId": "f977f03a-92ba-4b8a-cb4e-ca77d16a1495",
        "colab": {
          "base_uri": "https://localhost:8080/",
          "height": 54
        }
      },
      "source": [
        "num = int(input('주민등록번호 첫 6숫자 형식 입력: '))\n",
        "\n",
        "if num % 10000 < 50:\n",
        "  y = 2000 + (num // 10000)\n",
        "  m = ((num % 10000 - num % 100)//100)\n",
        "  d = num % 100\n",
        "  print('{}년 {}월 {}일'.format(y,m,d)) \n",
        "  \n",
        "elif num % 10000 > 50 :\n",
        "  y = 1900 + (num // 10000)\n",
        "  m = ((num % 10000 - num % 100)//100)\n",
        "  d = num % 100\n",
        "  print('{}년 {}월 {}일'.format(y,m,d))\n"
      ],
      "execution_count": null,
      "outputs": [
        {
          "output_type": "stream",
          "text": [
            "주민등록번호 첫 6숫자 형식 입력: 570312\n",
            "1957년 3월 12일\n"
          ],
          "name": "stdout"
        }
      ]
    },
    {
      "cell_type": "code",
      "metadata": {
        "id": "UpZlBHYmbbsk",
        "outputId": "6d656ebc-0f29-4adc-fb70-90a0b36e64fa",
        "colab": {
          "base_uri": "https://localhost:8080/",
          "height": 54
        }
      },
      "source": [
        "num = int(input('주민등록번호 첫 6숫자 형식 입력: '))\n",
        "\n",
        "if num % 10000 < 50:\n",
        "  y = 2000 + (num // 10000)\n",
        "  m = ((num % 10000 - num % 100)//100)\n",
        "  d = num % 100\n",
        "  print('{}년 {}월 {}일'.format(y,m,d)) \n",
        "  \n",
        "elif num % 10000 > 50 :\n",
        "  y = 2000 + (num // 10000)\n",
        "  m = ((num % 10000 - num % 100)//100)\n",
        "  d = num % 100\n",
        "  print('{}년 {}월 {}일'.format(y,m,d))\n"
      ],
      "execution_count": null,
      "outputs": [
        {
          "output_type": "stream",
          "text": [
            "주민등록번호 첫 6숫자 형식 입력: 011123\n",
            "2001년 11월 23일\n"
          ],
          "name": "stdout"
        }
      ]
    },
    {
      "cell_type": "code",
      "metadata": {
        "id": "Nan3zCaZaXfh",
        "outputId": "5f2b612b-97cf-4186-e59d-9c07beb120ab",
        "colab": {
          "base_uri": "https://localhost:8080/",
          "height": 54
        }
      },
      "source": [
        "num = 570312\n",
        "print((num % 10000 - num % 100)//100)\n",
        "print(num - ((num % 100)*100)) "
      ],
      "execution_count": null,
      "outputs": [
        {
          "output_type": "stream",
          "text": [
            "3\n",
            "569112\n"
          ],
          "name": "stdout"
        }
      ]
    },
    {
      "cell_type": "code",
      "metadata": {
        "id": "7hhLfEdCPI4x"
      },
      "source": [
        "# 연습문제 4.22번"
      ],
      "execution_count": null,
      "outputs": []
    },
    {
      "cell_type": "code",
      "metadata": {
        "id": "k1lyktWTdlNz",
        "outputId": "9af04fec-8f31-4625-c1f8-e5705500cbaf",
        "colab": {
          "base_uri": "https://localhost:8080/",
          "height": 54
        }
      },
      "source": [
        "import datetime\n",
        "date = datetime.datetime.now()\n",
        "y , m, d = date.year, date.month, date.day\n",
        "주민번호앞자리 = ((y - 2000)*10000) + (m*100) + d\n",
        "\n",
        "print('현재 시간은 {}년 {}월 {}일입니다.'.format(y,m,d))\n",
        "\n",
        "print('지금 태어난 아이의 주민등록번호 앞자리는 :',주민번호앞자리)"
      ],
      "execution_count": null,
      "outputs": [
        {
          "output_type": "stream",
          "text": [
            "현재 시간은 2020년 10월 28일입니다.\n",
            "지금 태어난 아이의 주민등록번호 앞자리는 : 201028\n"
          ],
          "name": "stdout"
        }
      ]
    },
    {
      "cell_type": "code",
      "metadata": {
        "id": "udoVt-MePJnv"
      },
      "source": [
        "# 연습문제 4.23번"
      ],
      "execution_count": null,
      "outputs": []
    },
    {
      "cell_type": "code",
      "metadata": {
        "id": "qBDtFGh8aU6y",
        "outputId": "ef63865d-969d-4b60-f42c-b9710855d378",
        "colab": {
          "base_uri": "https://localhost:8080/"
        }
      },
      "source": [
        "import math\n",
        "\n",
        "\n",
        "def area_and_circumference(r):\n",
        "  s = math.pi *(r**2)\n",
        "  l = 2 * math.pi * r\n",
        "  print(\"넓이 : {0:7.3f}, 둘레 : {1:7.3f}\".format(s,l))\n",
        "\n",
        "while True:\n",
        "\n",
        "  r = int(input('반지름을 입력하시오: '))\n",
        "\n",
        "  if r > 0:\n",
        "    area_and_circumference(r)\n",
        "    continue\n",
        "  else :\n",
        "    print('프로그램을 종료합니다.')\n",
        "    break\n"
      ],
      "execution_count": null,
      "outputs": [
        {
          "output_type": "stream",
          "text": [
            "반지름을 입력하시오: 6\n",
            "넓이 : 113.097, 둘레 :  37.699\n",
            "반지름을 입력하시오: 22\n",
            "넓이 : 1520.531, 둘레 : 138.230\n",
            "반지름을 입력하시오: 4\n",
            "넓이 :  50.265, 둘레 :  25.133\n",
            "반지름을 입력하시오: -1\n",
            "프로그램을 종료합니다.\n"
          ],
          "name": "stdout"
        }
      ]
    },
    {
      "cell_type": "code",
      "metadata": {
        "id": "SHT5op1YPKY_"
      },
      "source": [
        "# 연습문제 4.24번"
      ],
      "execution_count": null,
      "outputs": []
    },
    {
      "cell_type": "code",
      "metadata": {
        "id": "K5Hf9D-8gxCH",
        "outputId": "f645d021-ac52-4db4-dcc3-34406f476502",
        "colab": {
          "base_uri": "https://localhost:8080/",
          "height": 72
        }
      },
      "source": [
        "글 = input('여러 단어로 이루어진 글을 입력하세요: ')\n",
        "글 = 글.replace(':',' ')\n",
        "글 = 글.replace(',',' ')\n",
        "글 = 글.replace('.',' ')\n",
        "\n",
        "print('정렬결과 : ')\n",
        "print(sorted(글.split()))"
      ],
      "execution_count": null,
      "outputs": [
        {
          "output_type": "stream",
          "text": [
            "여러 단어로 이루어진 글을 입력하세요: 임의의 문장을 입력:출력, 이것은 테스트 문장.가:가나:나:나나:다람쥐 : 마린보이.\n",
            "정렬결과 : \n",
            "['가', '가나', '나', '나나', '다람쥐', '마린보이', '문장', '문장을', '이것은', '임의의', '입력', '출력', '테스트']\n"
          ],
          "name": "stdout"
        }
      ]
    },
    {
      "cell_type": "code",
      "metadata": {
        "id": "TpVpZoEuPLF_"
      },
      "source": [
        "# 연습문제 4.25번"
      ],
      "execution_count": null,
      "outputs": []
    },
    {
      "cell_type": "code",
      "metadata": {
        "id": "Yn6u9FVSlgry",
        "outputId": "fb32f7ed-d677-41eb-daf5-00373295362f",
        "colab": {
          "base_uri": "https://localhost:8080/",
          "height": 165
        }
      },
      "source": [
        "s1 = 'Kang Young Min'\n",
        "s2 = ' Kang Young-Min'\n",
        "s3 = 'Park Dong Min'\n",
        "s4 = ' Park Dong-Yun'\n",
        "\n",
        "s1 = s1.upper()\n",
        "s1 = s1.strip()\n",
        "s1 = s1.replace(' ','')\n",
        "a = s1.count('N')\n",
        "\n",
        "s2 = s2.upper()\n",
        "s2 = s2.replace('-','')\n",
        "s2 = s2.replace(' ','')\n",
        "b = s2.count('N')\n",
        "\n",
        "s3 = s3.upper()\n",
        "s3 = s3.replace(' ','')\n",
        "c = s3.count('N')\n",
        "\n",
        "s4 = s4.upper()\n",
        "s4 = s4.replace('-','')\n",
        "s4 = s4.replace(' ','')\n",
        "d = s4.count('N')\n",
        "\n",
        "print('Kang Young Min(은)는 {}(으)로 수정됨'.format(s1))\n",
        "print(' Kang Young-Min(은)는 {}(으)로 수정됨'.format(s2))\n",
        "print('Park Dong Min(은)는 {}(으)로 수정됨'.format(s3))\n",
        "print(' Park Dong-Yun(은)는 {}(으)로 수정됨'.format(s4))\n",
        "print(s1,':',a,'개의 N이 나타남')\n",
        "print(s2,':',b,'개의 N이 나타남')\n",
        "print(s3,':',c,'개의 N이 나타남')\n",
        "print(s4,':',d,'개의 N이 나타남')"
      ],
      "execution_count": null,
      "outputs": [
        {
          "output_type": "stream",
          "text": [
            "Kang Young Min(은)는 KANGYOUNGMIN(으)로 수정됨\n",
            " Kang Young-Min(은)는 KANGYOUNGMIN(으)로 수정됨\n",
            "Park Dong Min(은)는 PARKDONGMIN(으)로 수정됨\n",
            " Park Dong-Yun(은)는 PARKDONGYUN(으)로 수정됨\n",
            "KANGYOUNGMIN : 3 개의 N이 나타남\n",
            "KANGYOUNGMIN : 3 개의 N이 나타남\n",
            "PARKDONGMIN : 2 개의 N이 나타남\n",
            "PARKDONGYUN : 2 개의 N이 나타남\n"
          ],
          "name": "stdout"
        }
      ]
    },
    {
      "cell_type": "code",
      "metadata": {
        "id": "Vx_vyxOzPMEJ"
      },
      "source": [
        "# 연습문제 4.26번"
      ],
      "execution_count": null,
      "outputs": []
    },
    {
      "cell_type": "code",
      "metadata": {
        "id": "n0taifEkD9lt",
        "outputId": "d1f97ed3-e9d2-42f8-a2ec-22dbd31a8852",
        "colab": {
          "base_uri": "https://localhost:8080/",
          "height": 128
        }
      },
      "source": [
        "l = 'Park(Java city), Kim(C city), Kang(Bython city), Lee(Bython city), Hong(Ruby city), Cho(Bython city), Ryu(C++ city)'\n",
        "print('주어진 문자열 :')\n",
        "print(l)\n",
        "print()\n",
        "\n",
        "m = l.count('Bython')\n",
        "l = l.replace('Bython','Python')\n",
        "\n",
        "print('수정된 문자열 :')\n",
        "print(l)\n",
        "print('Bython 문자열은 모두 {}번 수정했습니다.'.format(m))"
      ],
      "execution_count": null,
      "outputs": [
        {
          "output_type": "stream",
          "text": [
            "주어진 문자열 :\n",
            "Park(Java city), Kim(C city), Kang(Bython city), Lee(Bython city), Hong(Ruby city), Cho(Bython city), Ryu(C++ city)\n",
            "\n",
            "수정된 문자열 :\n",
            "Park(Java city), Kim(C city), Kang(Python city), Lee(Python city), Hong(Ruby city), Cho(Python city), Ryu(C++ city)\n",
            "Bython 문자열은 모두 3번 수정했습니다.\n"
          ],
          "name": "stdout"
        }
      ]
    },
    {
      "cell_type": "code",
      "metadata": {
        "id": "bhtpDaXgPQp8"
      },
      "source": [
        "# 연습문제 4.27번"
      ],
      "execution_count": null,
      "outputs": []
    },
    {
      "cell_type": "code",
      "metadata": {
        "id": "CczdMb4J2Qqd"
      },
      "source": [
        "# 방법 1 (너무 작은 소수일때는 너무 시간이 오래걸리는 단점이 있다.)"
      ],
      "execution_count": null,
      "outputs": []
    },
    {
      "cell_type": "code",
      "metadata": {
        "id": "iY86G3c6fQBj",
        "outputId": "3a94d2a4-571c-465a-faa2-b580c0aca34f",
        "colab": {
          "base_uri": "https://localhost:8080/"
        }
      },
      "source": [
        "def unit_fraction(frac):\n",
        "  i = 2\n",
        "  while (abs((1/i)-frac) > abs((1/(i+1)-frac))):\n",
        "    i = i + 1\n",
        "    if abs((1/i)-frac) < abs((1/(i+1)-frac)):\n",
        "      print('가장 가까운 단위분수는 1/{0}이며, 이 값은 {1}입니다.'.format(i,1/i))\n",
        "      break\n",
        " \n",
        "\n",
        "frac = float(input('1보다 작고 0보다 큰 소수를 입력하세요: '))\n",
        "unit_fraction(frac)"
      ],
      "execution_count": 1,
      "outputs": [
        {
          "output_type": "stream",
          "text": [
            "1보다 작고 0보다 큰 소수를 입력하세요: 0.0732\n",
            "가장 가까운 단위분수는 1/14이며, 이 값은 0.07142857142857142입니다.\n"
          ],
          "name": "stdout"
        }
      ]
    },
    {
      "cell_type": "code",
      "metadata": {
        "id": "2-oPcX1x2dZp"
      },
      "source": [
        "# 방법 2 (너무 작은 소수일때도 시간이 오래 걸리지 않고 결과값을 출력할 수 있다.) - Core튜터링 튜터님을 통해 알게된 방법 (위의 방법으로 실행했는데 아래의 값을 출력하려니 출력되지 않아서 도움을 받음)"
      ],
      "execution_count": null,
      "outputs": []
    },
    {
      "cell_type": "code",
      "metadata": {
        "id": "Dgr66b0QOYo0",
        "outputId": "166f77bb-4033-443f-ab1f-9a90450d512e",
        "colab": {
          "base_uri": "https://localhost:8080/"
        }
      },
      "source": [
        "def unit_fraction(frac):\n",
        "  a = int(1/frac)   # 버림하는 연산\n",
        "\n",
        "  case1 = frac - 1/(a+1)\n",
        "  case2 = 1/a - frac\n",
        "\n",
        "  if case1 < case2:\n",
        "    print('가장 가까운 단위분수는 1/{0}이며, 이 값은 {1}입니다.'.format(a+1,1/(a+1)))\n",
        "  else:\n",
        "    print('가장 가까운 단위분수는 1/{0}이며, 이 값은 {1}입니다.'.format(a,1/a))\n",
        " \n",
        "\n",
        "frac = float(input('1보다 작고 0보다 큰 소수를 입력하세요: '))\n",
        "unit_fraction(frac)"
      ],
      "execution_count": 4,
      "outputs": [
        {
          "output_type": "stream",
          "text": [
            "1보다 작고 0보다 큰 소수를 입력하세요: 0.00000000000000000000000000000000000000000003423423\n",
            "가장 가까운 단위분수는 1/29210529928670802965804389820847695375368193이며, 이 값은 3.4234230000000007e-44입니다.\n"
          ],
          "name": "stdout"
        }
      ]
    },
    {
      "cell_type": "code",
      "metadata": {
        "id": "xs13ZRMhPRuF"
      },
      "source": [
        "# 연습문제 4.28번"
      ],
      "execution_count": null,
      "outputs": []
    },
    {
      "cell_type": "code",
      "metadata": {
        "id": "Z1AESOWqfPzS"
      },
      "source": [
        "# (1) 팩토리얼 함수 정의하기"
      ],
      "execution_count": null,
      "outputs": []
    },
    {
      "cell_type": "code",
      "metadata": {
        "id": "5swKYIiafaEB"
      },
      "source": [
        "def factorial(k):\n",
        "  if k <= 1 :\n",
        "    return 1\n",
        "  else :\n",
        "    return k * factorial(k-1)"
      ],
      "execution_count": null,
      "outputs": []
    },
    {
      "cell_type": "code",
      "metadata": {
        "id": "-HVkuY_Mg64U",
        "outputId": "c2252e41-8d45-4550-d0a5-6384e4819688",
        "colab": {
          "base_uri": "https://localhost:8080/"
        }
      },
      "source": [
        "print(factorial(5))"
      ],
      "execution_count": null,
      "outputs": [
        {
          "output_type": "stream",
          "text": [
            "120\n"
          ],
          "name": "stdout"
        }
      ]
    },
    {
      "cell_type": "code",
      "metadata": {
        "id": "jfNfhHJafvxa"
      },
      "source": [
        "# (2) euler(n) 함수 정의하기"
      ],
      "execution_count": null,
      "outputs": []
    },
    {
      "cell_type": "code",
      "metadata": {
        "id": "rklD5ujjfzSL"
      },
      "source": [
        "def euler(n):\n",
        "  hap = 0\n",
        "  for i in range(0,n+1):\n",
        "    hap = hap + ( 1 / factorial(i))\n",
        "  return hap "
      ],
      "execution_count": null,
      "outputs": []
    },
    {
      "cell_type": "code",
      "metadata": {
        "id": "nxoloUtcgcHO"
      },
      "source": [
        "# (3) euler(5), euler(20) 값 출력하기"
      ],
      "execution_count": null,
      "outputs": []
    },
    {
      "cell_type": "code",
      "metadata": {
        "id": "zrVEXBzSgno7",
        "outputId": "1b575ba6-4bd8-4ff4-dde7-bffa0244dbbf",
        "colab": {
          "base_uri": "https://localhost:8080/"
        }
      },
      "source": [
        "print('euler( 5) = {0:.5f}'.format(euler(5)))\n",
        "print('euler(20) = {0:.5f}'.format(euler(20)))"
      ],
      "execution_count": null,
      "outputs": [
        {
          "output_type": "stream",
          "text": [
            "euler( 5) = 2.71667\n",
            "euler(20) = 2.71828\n"
          ],
          "name": "stdout"
        }
      ]
    },
    {
      "cell_type": "code",
      "metadata": {
        "id": "8NXi3CrGNQq-"
      },
      "source": [
        ""
      ],
      "execution_count": null,
      "outputs": []
    }
  ]
}