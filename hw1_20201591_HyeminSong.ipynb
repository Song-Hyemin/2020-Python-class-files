{
  "nbformat": 4,
  "nbformat_minor": 0,
  "metadata": {
    "colab": {
      "name": "hw1_20201591_HyeminSong.ipynb",
      "provenance": [],
      "collapsed_sections": []
    },
    "kernelspec": {
      "name": "python3",
      "display_name": "Python 3"
    }
  },
  "cells": [
    {
      "cell_type": "code",
      "metadata": {
        "id": "kOWEdJvVM50G",
        "colab_type": "code",
        "colab": {
          "base_uri": "https://localhost:8080/",
          "height": 36
        },
        "outputId": "f7186e94-22ef-408c-fc50-e7c9906fa78b"
      },
      "source": [
        "print(100)"
      ],
      "execution_count": null,
      "outputs": [
        {
          "output_type": "stream",
          "text": [
            "100\n"
          ],
          "name": "stdout"
        }
      ]
    },
    {
      "cell_type": "code",
      "metadata": {
        "id": "4nRDaMFANF9S",
        "colab_type": "code",
        "colab": {
          "base_uri": "https://localhost:8080/",
          "height": 36
        },
        "outputId": "ce969b89-3e93-49f6-fba7-3345066c6779"
      },
      "source": [
        "print(100 + 200)"
      ],
      "execution_count": null,
      "outputs": [
        {
          "output_type": "stream",
          "text": [
            "300\n"
          ],
          "name": "stdout"
        }
      ]
    },
    {
      "cell_type": "code",
      "metadata": {
        "id": "X9S7HyZeNIu8",
        "colab_type": "code",
        "colab": {
          "base_uri": "https://localhost:8080/",
          "height": 36
        },
        "outputId": "db492fd8-9aca-458e-caf5-47eb716131ab"
      },
      "source": [
        "print('100 + 200')"
      ],
      "execution_count": null,
      "outputs": [
        {
          "output_type": "stream",
          "text": [
            "100 + 200\n"
          ],
          "name": "stdout"
        }
      ]
    },
    {
      "cell_type": "code",
      "metadata": {
        "id": "hw1i0MsFNK8k",
        "colab_type": "code",
        "colab": {
          "base_uri": "https://localhost:8080/",
          "height": 36
        },
        "outputId": "4c89bcff-1cb3-4385-f593-1898361edf4b"
      },
      "source": [
        "print(100, 200)"
      ],
      "execution_count": null,
      "outputs": [
        {
          "output_type": "stream",
          "text": [
            "100 200\n"
          ],
          "name": "stdout"
        }
      ]
    },
    {
      "cell_type": "code",
      "metadata": {
        "id": "1N8o4qe-NN3H",
        "colab_type": "code",
        "colab": {
          "base_uri": "https://localhost:8080/",
          "height": 36
        },
        "outputId": "382fdade-88cc-46fb-bfd6-5e6f2b3049e8"
      },
      "source": [
        "print('100', '200')"
      ],
      "execution_count": null,
      "outputs": [
        {
          "output_type": "stream",
          "text": [
            "100 200\n"
          ],
          "name": "stdout"
        }
      ]
    },
    {
      "cell_type": "code",
      "metadata": {
        "id": "hF0XGZym4tYc",
        "colab_type": "code",
        "colab": {
          "base_uri": "https://localhost:8080/",
          "height": 36
        },
        "outputId": "433d3ab9-fbd9-4fcc-e3f6-cf095d2c46c8"
      },
      "source": [
        "print('100''200')"
      ],
      "execution_count": null,
      "outputs": [
        {
          "output_type": "stream",
          "text": [
            "100200\n"
          ],
          "name": "stdout"
        }
      ]
    },
    {
      "cell_type": "code",
      "metadata": {
        "id": "bTZOybLO4xwJ",
        "colab_type": "code",
        "colab": {
          "base_uri": "https://localhost:8080/",
          "height": 36
        },
        "outputId": "55e87185-92f2-4396-83d8-3483045b2d1a"
      },
      "source": [
        "print('Hello Python!')"
      ],
      "execution_count": null,
      "outputs": [
        {
          "output_type": "stream",
          "text": [
            "Hello Python!\n"
          ],
          "name": "stdout"
        }
      ]
    },
    {
      "cell_type": "code",
      "metadata": {
        "id": "WeJRm78y43g8",
        "colab_type": "code",
        "colab": {
          "base_uri": "https://localhost:8080/",
          "height": 36
        },
        "outputId": "08037d0d-6465-44c5-c877-411b36724e0d"
      },
      "source": [
        "print('Hello','Python', '!')"
      ],
      "execution_count": null,
      "outputs": [
        {
          "output_type": "stream",
          "text": [
            "Hello Python !\n"
          ],
          "name": "stdout"
        }
      ]
    },
    {
      "cell_type": "code",
      "metadata": {
        "id": "ghGpWKp44_aS",
        "colab_type": "code",
        "colab": {
          "base_uri": "https://localhost:8080/",
          "height": 36
        },
        "outputId": "eebb42e3-3c35-4eff-8ca5-12f254f0c020"
      },
      "source": [
        "print('Hello'+'Python'+'!')"
      ],
      "execution_count": null,
      "outputs": [
        {
          "output_type": "stream",
          "text": [
            "HelloPython!\n"
          ],
          "name": "stdout"
        }
      ]
    },
    {
      "cell_type": "code",
      "metadata": {
        "id": "psk0DDjDL8P7",
        "colab_type": "code",
        "colab": {
          "base_uri": "https://localhost:8080/",
          "height": 36
        },
        "outputId": "1be14393-ff24-4c95-ef6f-be05510af0cb"
      },
      "source": [
        "print('Hello''Python''!')"
      ],
      "execution_count": null,
      "outputs": [
        {
          "output_type": "stream",
          "text": [
            "HelloPython!\n"
          ],
          "name": "stdout"
        }
      ]
    },
    {
      "cell_type": "code",
      "metadata": {
        "id": "DqU5UUOeMJti",
        "colab_type": "code",
        "colab": {
          "base_uri": "https://localhost:8080/",
          "height": 36
        },
        "outputId": "16bcc05a-9fd4-4086-ae99-07bc22c2f483"
      },
      "source": [
        "print('**********')"
      ],
      "execution_count": null,
      "outputs": [
        {
          "output_type": "stream",
          "text": [
            "**********\n"
          ],
          "name": "stdout"
        }
      ]
    },
    {
      "cell_type": "code",
      "metadata": {
        "id": "Gj-Cl7MuMMtC",
        "colab_type": "code",
        "colab": {
          "base_uri": "https://localhost:8080/",
          "height": 36
        },
        "outputId": "4d95076c-4fbf-4bc9-e69c-6a9340585588"
      },
      "source": [
        "print('*' * 10)"
      ],
      "execution_count": null,
      "outputs": [
        {
          "output_type": "stream",
          "text": [
            "**********\n"
          ],
          "name": "stdout"
        }
      ]
    },
    {
      "cell_type": "code",
      "metadata": {
        "id": "7RjbgetwMPFC",
        "colab_type": "code",
        "colab": {
          "base_uri": "https://localhost:8080/",
          "height": 176
        },
        "outputId": "4f3aec9f-85e6-4678-8bd3-baaad596b523"
      },
      "source": [
        "Print('Hello Python!')"
      ],
      "execution_count": null,
      "outputs": [
        {
          "output_type": "error",
          "ename": "NameError",
          "evalue": "ignored",
          "traceback": [
            "\u001b[0;31m---------------------------------------------------------------------------\u001b[0m",
            "\u001b[0;31mNameError\u001b[0m                                 Traceback (most recent call last)",
            "\u001b[0;32m<ipython-input-10-3630f070b056>\u001b[0m in \u001b[0;36m<module>\u001b[0;34m()\u001b[0m\n\u001b[0;32m----> 1\u001b[0;31m \u001b[0mPrint\u001b[0m\u001b[0;34m(\u001b[0m\u001b[0;34m'Hello Python!'\u001b[0m\u001b[0;34m)\u001b[0m\u001b[0;34m\u001b[0m\u001b[0;34m\u001b[0m\u001b[0m\n\u001b[0m",
            "\u001b[0;31mNameError\u001b[0m: name 'Print' is not defined"
          ]
        }
      ]
    },
    {
      "cell_type": "code",
      "metadata": {
        "id": "80gdnnIgMUJg",
        "colab_type": "code",
        "colab": {
          "base_uri": "https://localhost:8080/",
          "height": 36
        },
        "outputId": "e63e4eaf-3d1a-4044-c14f-80509f7ba0ae"
      },
      "source": [
        "print('Hello Python!')"
      ],
      "execution_count": null,
      "outputs": [
        {
          "output_type": "stream",
          "text": [
            "Hello Python!\n"
          ],
          "name": "stdout"
        }
      ]
    },
    {
      "cell_type": "code",
      "metadata": {
        "id": "68ypLKowMbyV",
        "colab_type": "code",
        "colab": {
          "base_uri": "https://localhost:8080/",
          "height": 139
        },
        "outputId": "fdf393ee-8c75-45ab-c9ea-be9513de2bb7"
      },
      "source": [
        "print(\"Hello Python!')"
      ],
      "execution_count": null,
      "outputs": [
        {
          "output_type": "error",
          "ename": "SyntaxError",
          "evalue": "ignored",
          "traceback": [
            "\u001b[0;36m  File \u001b[0;32m\"<ipython-input-13-000552d4ba70>\"\u001b[0;36m, line \u001b[0;32m1\u001b[0m\n\u001b[0;31m    print(\"Hello Python!')\u001b[0m\n\u001b[0m                          ^\u001b[0m\n\u001b[0;31mSyntaxError\u001b[0m\u001b[0;31m:\u001b[0m EOL while scanning string literal\n"
          ]
        }
      ]
    },
    {
      "cell_type": "code",
      "metadata": {
        "id": "bz9HkDEmMfMR",
        "colab_type": "code",
        "colab": {
          "base_uri": "https://localhost:8080/",
          "height": 36
        },
        "outputId": "7b5cbf64-a65d-43e9-a0a1-531155837208"
      },
      "source": [
        "print('Hello Python!')"
      ],
      "execution_count": null,
      "outputs": [
        {
          "output_type": "stream",
          "text": [
            "Hello Python!\n"
          ],
          "name": "stdout"
        }
      ]
    },
    {
      "cell_type": "code",
      "metadata": {
        "id": "A27_9ScoMkML",
        "colab_type": "code",
        "colab": {
          "base_uri": "https://localhost:8080/",
          "height": 139
        },
        "outputId": "51c12944-c4c5-45b2-f7c3-838e96e61826"
      },
      "source": [
        "print(Hello Python!)"
      ],
      "execution_count": null,
      "outputs": [
        {
          "output_type": "error",
          "ename": "SyntaxError",
          "evalue": "ignored",
          "traceback": [
            "\u001b[0;36m  File \u001b[0;32m\"<ipython-input-15-bcd1e4a04da8>\"\u001b[0;36m, line \u001b[0;32m1\u001b[0m\n\u001b[0;31m    print(Hello Python!)\u001b[0m\n\u001b[0m                     ^\u001b[0m\n\u001b[0;31mSyntaxError\u001b[0m\u001b[0;31m:\u001b[0m invalid syntax\n"
          ]
        }
      ]
    },
    {
      "cell_type": "code",
      "metadata": {
        "id": "bm6donOVMs9J",
        "colab_type": "code",
        "colab": {
          "base_uri": "https://localhost:8080/",
          "height": 36
        },
        "outputId": "a46a7b4b-61a8-469c-86c9-781647900789"
      },
      "source": [
        "print('Hello Python!')"
      ],
      "execution_count": null,
      "outputs": [
        {
          "output_type": "stream",
          "text": [
            "Hello Python!\n"
          ],
          "name": "stdout"
        }
      ]
    },
    {
      "cell_type": "code",
      "metadata": {
        "id": "gCXjZvBxM0FA",
        "colab_type": "code",
        "colab": {
          "base_uri": "https://localhost:8080/",
          "height": 176
        },
        "outputId": "6810aafe-831c-430a-b349-57bf10b3683a"
      },
      "source": [
        "print(100 + '200')"
      ],
      "execution_count": null,
      "outputs": [
        {
          "output_type": "error",
          "ename": "TypeError",
          "evalue": "ignored",
          "traceback": [
            "\u001b[0;31m---------------------------------------------------------------------------\u001b[0m",
            "\u001b[0;31mTypeError\u001b[0m                                 Traceback (most recent call last)",
            "\u001b[0;32m<ipython-input-17-84339996c357>\u001b[0m in \u001b[0;36m<module>\u001b[0;34m()\u001b[0m\n\u001b[0;32m----> 1\u001b[0;31m \u001b[0mprint\u001b[0m\u001b[0;34m(\u001b[0m\u001b[0;36m100\u001b[0m \u001b[0;34m+\u001b[0m \u001b[0;34m'200'\u001b[0m\u001b[0;34m)\u001b[0m\u001b[0;34m\u001b[0m\u001b[0;34m\u001b[0m\u001b[0m\n\u001b[0m",
            "\u001b[0;31mTypeError\u001b[0m: unsupported operand type(s) for +: 'int' and 'str'"
          ]
        }
      ]
    },
    {
      "cell_type": "code",
      "metadata": {
        "id": "ZD6l3Cv3M2zH",
        "colab_type": "code",
        "colab": {
          "base_uri": "https://localhost:8080/",
          "height": 36
        },
        "outputId": "0602da72-06bf-4e48-bc15-f9950e4cb37f"
      },
      "source": [
        "print(100 + 200)"
      ],
      "execution_count": null,
      "outputs": [
        {
          "output_type": "stream",
          "text": [
            "300\n"
          ],
          "name": "stdout"
        }
      ]
    },
    {
      "cell_type": "code",
      "metadata": {
        "id": "ee5jcbmAM5t5",
        "colab_type": "code",
        "colab": {
          "base_uri": "https://localhost:8080/",
          "height": 111
        },
        "outputId": "fc33db11-0539-4886-8875-a0f08f3b258d"
      },
      "source": [
        "print('*' * 36)\n",
        "print('안녕하세요~')\n",
        "print('저는 송혜민입니다.')\n",
        "print('숭실대학교 전자정보공학부 1학년입니다')\n",
        "print('*' * 36)"
      ],
      "execution_count": null,
      "outputs": [
        {
          "output_type": "stream",
          "text": [
            "************************************\n",
            "안녕하세요~\n",
            "저는 송혜민입니다.\n",
            "숭실대학교 전자정보공학부 1학년입니다\n",
            "************************************\n"
          ],
          "name": "stdout"
        }
      ]
    },
    {
      "cell_type": "code",
      "metadata": {
        "id": "zUb_Pl6yNekO",
        "colab_type": "code",
        "colab": {
          "base_uri": "https://localhost:8080/",
          "height": 92
        },
        "outputId": "40e20e08-1f86-4777-aedc-57291fb3c144"
      },
      "source": [
        "print('   *   ')\n",
        "print('  ***  ')\n",
        "print(' ***** ')\n",
        "print('*******')"
      ],
      "execution_count": null,
      "outputs": [
        {
          "output_type": "stream",
          "text": [
            "   *   \n",
            "  ***  \n",
            " ***** \n",
            "*******\n"
          ],
          "name": "stdout"
        }
      ]
    },
    {
      "cell_type": "code",
      "metadata": {
        "id": "pKccugL_Np1q",
        "colab_type": "code",
        "colab": {
          "base_uri": "https://localhost:8080/",
          "height": 92
        },
        "outputId": "3b939dce-f730-4357-b3ce-f2c2be00d3a7"
      },
      "source": [
        "print('*******')\n",
        "print(' ***** ')\n",
        "print('  ***  ')\n",
        "print('   *   ')"
      ],
      "execution_count": null,
      "outputs": [
        {
          "output_type": "stream",
          "text": [
            "*******\n",
            " ***** \n",
            "  ***  \n",
            "   *   \n"
          ],
          "name": "stdout"
        }
      ]
    },
    {
      "cell_type": "code",
      "metadata": {
        "id": "4eYlwqSCN5RJ",
        "colab_type": "code",
        "colab": {
          "base_uri": "https://localhost:8080/",
          "height": 36
        },
        "outputId": "f188ff24-2031-40a4-a2ee-da2b029b13d4"
      },
      "source": [
        "400 - 200"
      ],
      "execution_count": null,
      "outputs": [
        {
          "output_type": "execute_result",
          "data": {
            "text/plain": [
              "200"
            ]
          },
          "metadata": {
            "tags": []
          },
          "execution_count": 26
        }
      ]
    },
    {
      "cell_type": "code",
      "metadata": {
        "id": "byazJgerN93y",
        "colab_type": "code",
        "colab": {
          "base_uri": "https://localhost:8080/",
          "height": 36
        },
        "outputId": "79f74fff-602d-4777-95b6-9f03ed2fe6e0"
      },
      "source": [
        "45 * 89"
      ],
      "execution_count": null,
      "outputs": [
        {
          "output_type": "execute_result",
          "data": {
            "text/plain": [
              "4005"
            ]
          },
          "metadata": {
            "tags": []
          },
          "execution_count": 27
        }
      ]
    },
    {
      "cell_type": "code",
      "metadata": {
        "id": "5MgESHwBOAL8",
        "colab_type": "code",
        "colab": {
          "base_uri": "https://localhost:8080/",
          "height": 36
        },
        "outputId": "c4aa1838-3ff4-4137-abf1-9005e24bcce8"
      },
      "source": [
        "32 / 8"
      ],
      "execution_count": null,
      "outputs": [
        {
          "output_type": "execute_result",
          "data": {
            "text/plain": [
              "4.0"
            ]
          },
          "metadata": {
            "tags": []
          },
          "execution_count": 28
        }
      ]
    },
    {
      "cell_type": "code",
      "metadata": {
        "id": "ZouLfL0GOGjG",
        "colab_type": "code",
        "colab": {
          "base_uri": "https://localhost:8080/",
          "height": 36
        },
        "outputId": "a35f7c35-bd92-4be4-9f13-9458063fccb0"
      },
      "source": [
        "9 * 3"
      ],
      "execution_count": null,
      "outputs": [
        {
          "output_type": "execute_result",
          "data": {
            "text/plain": [
              "27"
            ]
          },
          "metadata": {
            "tags": []
          },
          "execution_count": 29
        }
      ]
    },
    {
      "cell_type": "code",
      "metadata": {
        "id": "MEOXe5SBOL9c",
        "colab_type": "code",
        "colab": {
          "base_uri": "https://localhost:8080/",
          "height": 36
        },
        "outputId": "d0c206c7-6afe-4924-f3f3-7371036e5b24"
      },
      "source": [
        "9 ** 3"
      ],
      "execution_count": null,
      "outputs": [
        {
          "output_type": "execute_result",
          "data": {
            "text/plain": [
              "729"
            ]
          },
          "metadata": {
            "tags": []
          },
          "execution_count": 30
        }
      ]
    },
    {
      "cell_type": "code",
      "metadata": {
        "id": "seOhz57OOOk2",
        "colab_type": "code",
        "colab": {
          "base_uri": "https://localhost:8080/",
          "height": 36
        },
        "outputId": "afbef10a-1086-457c-e433-7d425b4d495b"
      },
      "source": [
        "9 / 3"
      ],
      "execution_count": null,
      "outputs": [
        {
          "output_type": "execute_result",
          "data": {
            "text/plain": [
              "3.0"
            ]
          },
          "metadata": {
            "tags": []
          },
          "execution_count": 31
        }
      ]
    },
    {
      "cell_type": "code",
      "metadata": {
        "id": "u6f2lPt2OSSa",
        "colab_type": "code",
        "colab": {
          "base_uri": "https://localhost:8080/",
          "height": 36
        },
        "outputId": "a593d0ba-dad9-4321-bbc0-47169bcbacfd"
      },
      "source": [
        "9 // 3"
      ],
      "execution_count": null,
      "outputs": [
        {
          "output_type": "execute_result",
          "data": {
            "text/plain": [
              "3"
            ]
          },
          "metadata": {
            "tags": []
          },
          "execution_count": 32
        }
      ]
    },
    {
      "cell_type": "code",
      "metadata": {
        "id": "N5ly45fwOT9C",
        "colab_type": "code",
        "colab": {
          "base_uri": "https://localhost:8080/",
          "height": 36
        },
        "outputId": "ac7296a0-4762-4713-e4de-8da5fe0e3084"
      },
      "source": [
        "9 % 3"
      ],
      "execution_count": null,
      "outputs": [
        {
          "output_type": "execute_result",
          "data": {
            "text/plain": [
              "0"
            ]
          },
          "metadata": {
            "tags": []
          },
          "execution_count": 33
        }
      ]
    },
    {
      "cell_type": "code",
      "metadata": {
        "id": "kcn7Wb0_OVvU",
        "colab_type": "code",
        "colab": {
          "base_uri": "https://localhost:8080/",
          "height": 36
        },
        "outputId": "64c5c54b-d550-42ea-f974-0ae09e32778a"
      },
      "source": [
        "1 + 2 + 3 + 4 + 5 + 6 + 7 + 8 + 9 + 10"
      ],
      "execution_count": null,
      "outputs": [
        {
          "output_type": "execute_result",
          "data": {
            "text/plain": [
              "55"
            ]
          },
          "metadata": {
            "tags": []
          },
          "execution_count": 34
        }
      ]
    },
    {
      "cell_type": "code",
      "metadata": {
        "id": "ahfP3qLMOrv4",
        "colab_type": "code",
        "colab": {
          "base_uri": "https://localhost:8080/",
          "height": 36
        },
        "outputId": "46962e5c-e1a9-453a-86c1-39b9674a41dd"
      },
      "source": [
        "반지름 = 5\n",
        "원주율 = 3.14\n",
        "원의둘레 = 2 * 반지름 * 원주율\n",
        "print(원의둘레)"
      ],
      "execution_count": null,
      "outputs": [
        {
          "output_type": "stream",
          "text": [
            "31.400000000000002\n"
          ],
          "name": "stdout"
        }
      ]
    },
    {
      "cell_type": "code",
      "metadata": {
        "id": "-V4GYPYEO4g4",
        "colab_type": "code",
        "colab": {
          "base_uri": "https://localhost:8080/",
          "height": 36
        },
        "outputId": "5fbe250d-62cc-43cb-9e75-4b9624d17a95"
      },
      "source": [
        "한변 = 25\n",
        "정사각형둘레 = 4 * 한변\n",
        "print(정사각형둘레)"
      ],
      "execution_count": null,
      "outputs": [
        {
          "output_type": "stream",
          "text": [
            "100\n"
          ],
          "name": "stdout"
        }
      ]
    },
    {
      "cell_type": "code",
      "metadata": {
        "id": "9Jdy9Iw-PyXY",
        "colab_type": "code",
        "colab": {
          "base_uri": "https://localhost:8080/",
          "height": 36
        },
        "outputId": "e66248fb-0c1f-4255-fdc7-a42828e06fe3"
      },
      "source": [
        "한변 = 25\n",
        "정사각형면적 = 한변 ** 2\n",
        "print(정사각형면적)"
      ],
      "execution_count": null,
      "outputs": [
        {
          "output_type": "stream",
          "text": [
            "625\n"
          ],
          "name": "stdout"
        }
      ]
    },
    {
      "cell_type": "code",
      "metadata": {
        "id": "h1NIEY07P4Vw",
        "colab_type": "code",
        "colab": {
          "base_uri": "https://localhost:8080/",
          "height": 36
        },
        "outputId": "dd30c875-0804-4625-a7b2-4369702f1a81"
      },
      "source": [
        "높이 = 10\n",
        "밑변 = 30\n",
        "직사각형둘레 = 2 * 높이 + 2 * 밑변\n",
        "print(직사각형둘레)"
      ],
      "execution_count": null,
      "outputs": [
        {
          "output_type": "stream",
          "text": [
            "80\n"
          ],
          "name": "stdout"
        }
      ]
    },
    {
      "cell_type": "code",
      "metadata": {
        "id": "-60i6c5QQFG5",
        "colab_type": "code",
        "colab": {
          "base_uri": "https://localhost:8080/",
          "height": 36
        },
        "outputId": "c26c9dbf-ecda-4bf4-e480-0f0935499f70"
      },
      "source": [
        "높이 = 10\n",
        "밑변 = 30\n",
        "직사각형면적 = 높이 * 밑변\n",
        "print(직사각형면적)"
      ],
      "execution_count": null,
      "outputs": [
        {
          "output_type": "stream",
          "text": [
            "300\n"
          ],
          "name": "stdout"
        }
      ]
    },
    {
      "cell_type": "code",
      "metadata": {
        "id": "9A87sB1HQNSx",
        "colab_type": "code",
        "colab": {
          "base_uri": "https://localhost:8080/",
          "height": 36
        },
        "outputId": "b6773649-ff96-40de-8cbe-dc090ba1a829"
      },
      "source": [
        "속력 = 80\n",
        "시간 = 1.5\n",
        "거리 = 속력 * 시간\n",
        "print(거리)"
      ],
      "execution_count": null,
      "outputs": [
        {
          "output_type": "stream",
          "text": [
            "120.0\n"
          ],
          "name": "stdout"
        }
      ]
    },
    {
      "cell_type": "code",
      "metadata": {
        "id": "xrvLovMuQh68",
        "colab_type": "code",
        "colab": {
          "base_uri": "https://localhost:8080/",
          "height": 36
        },
        "outputId": "bdf2bfeb-6ed5-4308-c038-6132713c5834"
      },
      "source": [
        "이동거리=190\n",
        "걸린시간=2\n",
        "평균속력 = 이동거리 / 걸린시간\n",
        "print(평균속력)"
      ],
      "execution_count": null,
      "outputs": [
        {
          "output_type": "stream",
          "text": [
            "95.0\n"
          ],
          "name": "stdout"
        }
      ]
    },
    {
      "cell_type": "code",
      "metadata": {
        "id": "Yz1RSME9RC_W",
        "colab_type": "code",
        "colab": {
          "base_uri": "https://localhost:8080/",
          "height": 55
        },
        "outputId": "378f33c1-6640-46e2-98f9-269912d9b763"
      },
      "source": [
        "태양과지구의평균거리 = 149597870\n",
        "빛이1초동안이동한거리 = 299792\n",
        "빛이도착하는데걸린시간 = 태양과지구의평균거리 / 빛이1초동안이동한거리\n",
        "print(빛이도착하는데걸린시간,'초')\n",
        "print(빛이도착하는데걸린시간 / 60 ,'분' )"
      ],
      "execution_count": null,
      "outputs": [
        {
          "output_type": "stream",
          "text": [
            "499.00554384373163 초\n",
            "8.316759064062193 분\n"
          ],
          "name": "stdout"
        }
      ]
    },
    {
      "cell_type": "code",
      "metadata": {
        "id": "hUrixvg_SMYf",
        "colab_type": "code",
        "colab": {
          "base_uri": "https://localhost:8080/",
          "height": 36
        },
        "outputId": "66262dde-08ae-411a-88fa-3dddc17cc6de"
      },
      "source": [
        "n=3\n",
        "n팩토리얼 = n * (n-1) * (n-2)\n",
        "print(n,'! =', n팩토리얼)"
      ],
      "execution_count": null,
      "outputs": [
        {
          "output_type": "stream",
          "text": [
            "3 ! = 6\n"
          ],
          "name": "stdout"
        }
      ]
    },
    {
      "cell_type": "code",
      "metadata": {
        "id": "STLJC4hoTLfv",
        "colab_type": "code",
        "colab": {
          "base_uri": "https://localhost:8080/",
          "height": 36
        },
        "outputId": "c6cef5f1-94a2-47d3-989f-7f79bbd0503c"
      },
      "source": [
        "n=5\n",
        "n팩토리얼 = n * (n-1) * (n-2) * (n-3) * (n-4)\n",
        "print(n,'! =', n팩토리얼)"
      ],
      "execution_count": null,
      "outputs": [
        {
          "output_type": "stream",
          "text": [
            "5 ! = 120\n"
          ],
          "name": "stdout"
        }
      ]
    },
    {
      "cell_type": "code",
      "metadata": {
        "id": "uQJG1r3wTpfo",
        "colab_type": "code",
        "colab": {
          "base_uri": "https://localhost:8080/",
          "height": 36
        },
        "outputId": "88d3d73b-3907-4295-f500-1ac1e2d391ec"
      },
      "source": [
        "n=12\n",
        "n팩토리얼 = n * (n-1) * (n-2)* (n-3) * (n-4) * (n-5) * (n-6) * (n-7) * (n-8) *(n-9) * (n-10) * (n-11)\n",
        "print(n,'! =', n팩토리얼)"
      ],
      "execution_count": null,
      "outputs": [
        {
          "output_type": "stream",
          "text": [
            "12 ! = 479001600\n"
          ],
          "name": "stdout"
        }
      ]
    },
    {
      "cell_type": "code",
      "metadata": {
        "id": "o1PGOqTVTrB0",
        "colab_type": "code",
        "colab": {
          "base_uri": "https://localhost:8080/",
          "height": 36
        },
        "outputId": "7b8cdf51-28ef-4ff4-83c3-a9f368f6c515"
      },
      "source": [
        "n=20\n",
        "n팩토리얼 = n * (n-1) * (n-2)* (n-3) * (n-4) * (n-5) * (n-6) * (n-7) * (n-8) *(n-9) * (n-10) * (n-11) * (n-12) * (n-13) * (n-14) * (n-15) * (n-16) * (n-17) * (n-18) * (n-19)\n",
        "print(n,'! =', n팩토리얼)"
      ],
      "execution_count": null,
      "outputs": [
        {
          "output_type": "stream",
          "text": [
            "20 ! = 2432902008176640000\n"
          ],
          "name": "stdout"
        }
      ]
    },
    {
      "cell_type": "code",
      "metadata": {
        "id": "gJxXiIoDTrpZ",
        "colab_type": "code",
        "colab": {
          "base_uri": "https://localhost:8080/",
          "height": 36
        },
        "outputId": "e07108cd-9d60-4f9e-cd24-3a74b563d866"
      },
      "source": [
        "print('100과 200의 평균값 :', (100 + 200) / 2)"
      ],
      "execution_count": null,
      "outputs": [
        {
          "output_type": "stream",
          "text": [
            "100과 200의 평균값 : 150.0\n"
          ],
          "name": "stdout"
        }
      ]
    },
    {
      "cell_type": "code",
      "metadata": {
        "id": "NU5lEOzCT6mb",
        "colab_type": "code",
        "colab": {
          "base_uri": "https://localhost:8080/",
          "height": 92
        },
        "outputId": "f3a1d4b6-0cac-4ea8-d37f-a97afc0c3b74"
      },
      "source": [
        "print('50 + 30 =', 50 + 30)\n",
        "print('50 - 30 =', 50 - 30)\n",
        "print('50 * 30 =', 50 * 30)\n",
        "print('50 / 30 =', 50 / 30)"
      ],
      "execution_count": null,
      "outputs": [
        {
          "output_type": "stream",
          "text": [
            "50 + 30 = 80\n",
            "50 - 30 = 20\n",
            "50 * 30 = 1500\n",
            "50 / 30 = 1.6666666666666667\n"
          ],
          "name": "stdout"
        }
      ]
    },
    {
      "cell_type": "code",
      "metadata": {
        "id": "3T_hL52sUTej",
        "colab_type": "code",
        "colab": {
          "base_uri": "https://localhost:8080/",
          "height": 92
        },
        "outputId": "731fec25-7bec-4c41-9d04-6514031e5efd"
      },
      "source": [
        "print('4 + 5 =', 4 + 5)\n",
        "print('4 - 5 =', 4 - 5)\n",
        "print('4 * 5 =', 4 * 5)\n",
        "print('4 / 5 =', 4 / 5)"
      ],
      "execution_count": null,
      "outputs": [
        {
          "output_type": "stream",
          "text": [
            "4 + 5 = 9\n",
            "4 - 5 = -1\n",
            "4 * 5 = 20\n",
            "4 / 5 = 0.8\n"
          ],
          "name": "stdout"
        }
      ]
    },
    {
      "cell_type": "code",
      "metadata": {
        "id": "1M7HAZHsUmUR",
        "colab_type": "code",
        "colab": {
          "base_uri": "https://localhost:8080/",
          "height": 92
        },
        "outputId": "d22c25ab-a0e9-44aa-e126-f12f23280b54"
      },
      "source": [
        "print('10 + 20 =', 10 + 20)\n",
        "print('10 - 20 =', 10 - 20)\n",
        "print('10 * 20 =', 10 * 20)\n",
        "print('10 / 20 =', 10 / 20)"
      ],
      "execution_count": null,
      "outputs": [
        {
          "output_type": "stream",
          "text": [
            "10 + 20 = 30\n",
            "10 - 20 = -10\n",
            "10 * 20 = 200\n",
            "10 / 20 = 0.5\n"
          ],
          "name": "stdout"
        }
      ]
    },
    {
      "cell_type": "code",
      "metadata": {
        "id": "0nuOYrHLU7T3",
        "colab_type": "code",
        "colab": {
          "base_uri": "https://localhost:8080/",
          "height": 92
        },
        "outputId": "4fe91710-f424-49db-ec1e-2d0af327a255"
      },
      "source": [
        "print('6000 + 3000 =', 6000 + 3000)\n",
        "print('6000 - 3000 =', 6000- 3000)\n",
        "print('6000 * 3000 =', 6000 * 3000)\n",
        "print('6000 / 3000 =', 6000 / 3000)"
      ],
      "execution_count": null,
      "outputs": [
        {
          "output_type": "stream",
          "text": [
            "6000 + 3000 = 9000\n",
            "6000 - 3000 = 3000\n",
            "6000 * 3000 = 18000000\n",
            "6000 / 3000 = 2.0\n"
          ],
          "name": "stdout"
        }
      ]
    },
    {
      "cell_type": "code",
      "metadata": {
        "id": "-Tj30o0hVcTl",
        "colab_type": "code",
        "colab": {
          "base_uri": "https://localhost:8080/",
          "height": 92
        },
        "outputId": "30a9bece-5ac1-42bf-d896-ea0a28212c96"
      },
      "source": [
        "print('60000000 + 50000000 =', 60000000 + 50000000)\n",
        "print('60000000 - 50000000 =', 60000000 - 50000000)\n",
        "print('60000000 * 50000000 =', 60000000 * 50000000)\n",
        "print('60000000 / 50000000 =', 60000000 / 50000000)"
      ],
      "execution_count": null,
      "outputs": [
        {
          "output_type": "stream",
          "text": [
            "60000000 + 50000000 = 110000000\n",
            "60000000 - 50000000 = 10000000\n",
            "60000000 * 50000000 = 3000000000000000\n",
            "60000000 / 50000000 = 1.2\n"
          ],
          "name": "stdout"
        }
      ]
    },
    {
      "cell_type": "code",
      "metadata": {
        "id": "AVbb3HmxVwwO",
        "colab_type": "code",
        "colab": {}
      },
      "source": [
        ""
      ],
      "execution_count": null,
      "outputs": []
    }
  ]
}