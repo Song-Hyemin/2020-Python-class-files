{
  "nbformat": 4,
  "nbformat_minor": 0,
  "metadata": {
    "colab": {
      "name": "hw6_20201591_HyeminSong.ipynb",
      "provenance": []
    },
    "kernelspec": {
      "name": "python3",
      "display_name": "Python 3"
    }
  },
  "cells": [
    {
      "cell_type": "code",
      "metadata": {
        "id": "ZUo9t5ADidSq"
      },
      "source": [
        "# 연습문제 6.7번"
      ],
      "execution_count": null,
      "outputs": []
    },
    {
      "cell_type": "code",
      "metadata": {
        "colab": {
          "base_uri": "https://localhost:8080/"
        },
        "id": "iWvRkB-6Tskx",
        "outputId": "0918eda9-08c9-4793-9bfd-e2e3dabde24b"
      },
      "source": [
        "t = (100,121,120,130,140,120,122,123,190,125)\n",
        "n = 0\n",
        "for i in range(len(t)-1):\n",
        "  if t[i] > t[i+1]:\n",
        "    n = n + 1\n",
        "\n",
        "print('일일 매출 기록:',t)\n",
        "print('지난 10일 동안 전일대비 매출이 감소한 날은 {}일입니다.'.format(n))"
      ],
      "execution_count": null,
      "outputs": [
        {
          "output_type": "stream",
          "text": [
            "일일 매출 기록: (100, 121, 120, 130, 140, 120, 122, 123, 190, 125)\n",
            "지난 10일 동안 전일대비 매출이 감소한 날은 3일입니다.\n"
          ],
          "name": "stdout"
        }
      ]
    },
    {
      "cell_type": "code",
      "metadata": {
        "id": "spf4j-6uUZJL"
      },
      "source": [
        "# 연습문제 6.8번"
      ],
      "execution_count": null,
      "outputs": []
    },
    {
      "cell_type": "code",
      "metadata": {
        "colab": {
          "base_uri": "https://localhost:8080/"
        },
        "id": "UDyeAzN8odGB",
        "outputId": "052b7160-29a3-4632-98dd-d510a216d0e5"
      },
      "source": [
        "tup_1 = (1,2,5,4,3,2,9,1,4,7,8,9,9)\n",
        "print('주어진 튜플은:',tup_1)\n",
        "\n",
        "dup = set()\n",
        "\n",
        "for i in tup_1:\n",
        "  if tup_1.count(i) > 1:\n",
        "    dup.add(i)\n",
        "\n",
        "print('중복 원소는',dup)\n"
      ],
      "execution_count": 1,
      "outputs": [
        {
          "output_type": "stream",
          "text": [
            "주어진 튜플은: (1, 2, 5, 4, 3, 2, 9, 1, 4, 7, 8, 9, 9)\n",
            "중복 원소는 {1, 2, 4, 9}\n"
          ],
          "name": "stdout"
        }
      ]
    },
    {
      "cell_type": "code",
      "metadata": {
        "id": "I4zl3H2WUljX"
      },
      "source": [
        "# 연습문제 6.9번"
      ],
      "execution_count": null,
      "outputs": []
    },
    {
      "cell_type": "code",
      "metadata": {
        "colab": {
          "base_uri": "https://localhost:8080/"
        },
        "id": "zZO2sWoVUp6F",
        "outputId": "26b1646b-5f83-421e-f1aa-8bd8fe1c4956"
      },
      "source": [
        "tup = (1,2,5,4,3,2,1,4,7,8,9,9,3,7,3)\n",
        "tup_set = set(tup)\n",
        "tup_set = tuple(tup_set)\n",
        "\n",
        "print('주어진 튜플:',tup)\n",
        "print('중복 제거 튜플:',tup_set)"
      ],
      "execution_count": null,
      "outputs": [
        {
          "output_type": "stream",
          "text": [
            "주어진 튜플: (1, 2, 5, 4, 3, 2, 1, 4, 7, 8, 9, 9, 3, 7, 3)\n",
            "중복 제거 튜플: (1, 2, 3, 4, 5, 7, 8, 9)\n"
          ],
          "name": "stdout"
        }
      ]
    },
    {
      "cell_type": "code",
      "metadata": {
        "id": "JTIA9gjtm3rt"
      },
      "source": [
        "# 연습문제 6.10번"
      ],
      "execution_count": null,
      "outputs": []
    },
    {
      "cell_type": "code",
      "metadata": {
        "id": "cwlgcJZAm3uR",
        "colab": {
          "base_uri": "https://localhost:8080/"
        },
        "outputId": "8b0680de-ae1b-4625-b878-6714f47e5c9c"
      },
      "source": [
        "tup = (1,2,5,4,3,2,1,4,7,8,9,9,3,7,3)\n",
        "\n",
        "k = tup[0]\n",
        "for i in range(len(tup)):\n",
        "  if (tup.count(k) < tup.count(tup[i])):\n",
        "    k = tup[i]\n",
        "  elif (tup.count(k) == tup.count(tup[i])):\n",
        "    if (k < tup[i]):\n",
        "      k = tup[i]\n",
        "\n",
        "print('가장 많이 나타나는 요소는 :',k)\n"
      ],
      "execution_count": 2,
      "outputs": [
        {
          "output_type": "stream",
          "text": [
            "가장 많이 나타나는 요소는 : 3\n"
          ],
          "name": "stdout"
        }
      ]
    },
    {
      "cell_type": "code",
      "metadata": {
        "colab": {
          "base_uri": "https://localhost:8080/"
        },
        "id": "TDLXQRcqmfJY",
        "outputId": "dc4f498d-0513-4be3-bbbc-be3cbd39547e"
      },
      "source": [
        "tup = (1,2,5,4,3,2,9,4,7,8,9,9,3,7,3)\n",
        "\n",
        "k = tup[0]\n",
        "for i in range(len(tup)):\n",
        "  if (tup.count(k) < tup.count(tup[i])):\n",
        "    k = tup[i]\n",
        "  elif (tup.count(k) == tup.count(tup[i])):\n",
        "    if (k < tup[i]):\n",
        "      k = tup[i]\n",
        "\n",
        "print('가장 많이 나타나는 요소는 :',k)"
      ],
      "execution_count": 4,
      "outputs": [
        {
          "output_type": "stream",
          "text": [
            "가장 많이 나타나는 요소는 : 9\n"
          ],
          "name": "stdout"
        }
      ]
    },
    {
      "cell_type": "code",
      "metadata": {
        "id": "-aIHfrEaMnIj"
      },
      "source": [
        "# 연습문제 6.11번"
      ],
      "execution_count": null,
      "outputs": []
    },
    {
      "cell_type": "code",
      "metadata": {
        "id": "6o6WWOKvMm_r",
        "colab": {
          "base_uri": "https://localhost:8080/"
        },
        "outputId": "5a77b523-9202-47a6-efa0-d27696b217b1"
      },
      "source": [
        "tup_1 = ((),1,(),(),(1,),('a',),('a','b'),((),),('a','b'), '')\n",
        "tup_1 = list(tup_1)\n",
        "print('주어진 튜플 :',tup_1)\n",
        "for i in range(tup_1.count(())):\n",
        "  tup_1.remove(())\n",
        "print('빈 튜플 요소를 제거한 결과 :',tup_1)"
      ],
      "execution_count": 57,
      "outputs": [
        {
          "output_type": "stream",
          "text": [
            "주어진 튜플 : [(), 1, (), (), (1,), ('a',), ('a', 'b'), ((),), ('a', 'b'), '']\n",
            "빈 튜플 요소를 제거한 결과 : [1, (1,), ('a',), ('a', 'b'), ((),), ('a', 'b'), '']\n"
          ],
          "name": "stdout"
        }
      ]
    },
    {
      "cell_type": "code",
      "metadata": {
        "id": "fy7YEY5oMm0O"
      },
      "source": [
        "# 연습문제 6.12번"
      ],
      "execution_count": null,
      "outputs": []
    },
    {
      "cell_type": "code",
      "metadata": {
        "colab": {
          "base_uri": "https://localhost:8080/"
        },
        "id": "hGMyp2_F_Tqp",
        "outputId": "b52fa363-7f99-4232-977a-7fa4a7aa32eb"
      },
      "source": [
        "list_a = [5,6,3,9,2,12,3,8,7]\n",
        "print('주어진 리스트는 :',list_a)\n",
        "\n",
        "for i in range(len(list_a)-1):\n",
        "  if list_a[i] > list_a[i+1]:\n",
        "    list_a[i+1], list_a[i] = (list_a[i], list_a[i+1])\n",
        "\n",
        "print('가장 큰 수를 마지막으로 옮긴 결과 :',list_a)"
      ],
      "execution_count": 59,
      "outputs": [
        {
          "output_type": "stream",
          "text": [
            "주어진 리스트는 : [5, 6, 3, 9, 2, 12, 3, 8, 7]\n",
            "가장 큰 수를 마지막으로 옮긴 결과 : [5, 3, 6, 2, 9, 3, 8, 7, 12]\n"
          ],
          "name": "stdout"
        }
      ]
    },
    {
      "cell_type": "code",
      "metadata": {
        "id": "zmqFEoF4m32Q"
      },
      "source": [
        "# 연습문제 6.13번"
      ],
      "execution_count": null,
      "outputs": []
    },
    {
      "cell_type": "code",
      "metadata": {
        "id": "MLDMPtaUMmqs",
        "colab": {
          "base_uri": "https://localhost:8080/"
        },
        "outputId": "2835a7c6-acd4-439c-f0b2-13922585649b"
      },
      "source": [
        "list_a = [5,6,3,9,2,12,3,8,7]\n",
        "print('주어진 리스트는 =',list_a)\n",
        "\n",
        "for i in range(len(list_a)-1):\n",
        "  for k in range(len(list_a)-i-1):\n",
        "    if list_a[k] > list_a[k+1]:\n",
        "      list_a[k], list_a[k+1] = list_a[k+1], list_a[k]\n",
        "      \n",
        "print('정렬된 결과는 =',list_a)"
      ],
      "execution_count": 21,
      "outputs": [
        {
          "output_type": "stream",
          "text": [
            "주어진 리스트는 = [5, 6, 3, 9, 2, 12, 3, 8, 7]\n",
            "정렬된 결과는 = [2, 3, 3, 5, 6, 7, 8, 9, 12]\n"
          ],
          "name": "stdout"
        }
      ]
    },
    {
      "cell_type": "code",
      "metadata": {
        "id": "xx--4UzBm3o-"
      },
      "source": [
        "# 연습문제 6.14번"
      ],
      "execution_count": null,
      "outputs": []
    },
    {
      "cell_type": "code",
      "metadata": {
        "colab": {
          "base_uri": "https://localhost:8080/"
        },
        "id": "oWm2f5UF_rpb",
        "outputId": "8bbb5c86-7d29-4954-d7a7-6ff204bbdcfe"
      },
      "source": [
        "lists_a = [5,6,3,9,2,12,3,8,7]\n",
        "print('주어진 리스트는 :',lists_a)\n",
        "\n",
        "for k in range(len(lists_a),1,-1):\n",
        "  for i in range(k-1):\n",
        "    if lists_a[i] > lists_a[i+1]:\n",
        "      lists_a[i+1], lists_a[i] = (lists_a[i], lists_a[i+1])\n",
        "\n",
        "  print(len(lists_a)-1-i,'단계 :',lists_a[0:k-1],end = ', ')\n",
        "  print(lists_a[k-1:])\n",
        "\n",
        "print('정렬된 리스트 =',lists)"
      ],
      "execution_count": 58,
      "outputs": [
        {
          "output_type": "stream",
          "text": [
            "주어진 리스트는 : [5, 6, 3, 9, 2, 12, 3, 8, 7]\n",
            "1 단계 : [5, 3, 6, 2, 9, 3, 8, 7], [12]\n",
            "2 단계 : [3, 5, 2, 6, 3, 8, 7], [9, 12]\n",
            "3 단계 : [3, 2, 5, 3, 6, 7], [8, 9, 12]\n",
            "4 단계 : [2, 3, 3, 5, 6], [7, 8, 9, 12]\n",
            "5 단계 : [2, 3, 3, 5], [6, 7, 8, 9, 12]\n",
            "6 단계 : [2, 3, 3], [5, 6, 7, 8, 9, 12]\n",
            "7 단계 : [2, 3], [3, 5, 6, 7, 8, 9, 12]\n",
            "8 단계 : [2], [3, 3, 5, 6, 7, 8, 9, 12]\n",
            "정렬된 리스트 = [5, 3, 6, 2, 9, 3, 8, 7, 12]\n"
          ],
          "name": "stdout"
        }
      ]
    },
    {
      "cell_type": "code",
      "metadata": {
        "id": "o9fLKXdZVELD"
      },
      "source": [
        "# 연습문제 6.15번"
      ],
      "execution_count": null,
      "outputs": []
    },
    {
      "cell_type": "code",
      "metadata": {
        "colab": {
          "base_uri": "https://localhost:8080/"
        },
        "id": "AHBE2SGnGqEe",
        "outputId": "5ddbcc61-1b2b-4c03-913a-6c0c45f1bab7"
      },
      "source": [
        "tu = (4, 5, 2, 3, 8, 1, 9, 0)\n",
        "for i in range(len(tu)):\n",
        "  print(tu[0:len(tu)-i:1])"
      ],
      "execution_count": null,
      "outputs": [
        {
          "output_type": "stream",
          "text": [
            "(4, 5, 2, 3, 8, 1, 9, 0)\n",
            "(4, 5, 2, 3, 8, 1, 9)\n",
            "(4, 5, 2, 3, 8, 1)\n",
            "(4, 5, 2, 3, 8)\n",
            "(4, 5, 2, 3)\n",
            "(4, 5, 2)\n",
            "(4, 5)\n",
            "(4,)\n"
          ],
          "name": "stdout"
        }
      ]
    },
    {
      "cell_type": "code",
      "metadata": {
        "id": "iqFheWLgG-SH"
      },
      "source": [
        "# 연습문제 6.16번"
      ],
      "execution_count": null,
      "outputs": []
    },
    {
      "cell_type": "code",
      "metadata": {
        "colab": {
          "base_uri": "https://localhost:8080/"
        },
        "id": "95pVK2xXHe1H",
        "outputId": "bf79f109-b0da-49cd-c0be-d8d9c206160d"
      },
      "source": [
        "a = (191101, '홍길동')\n",
        "b = (191102, '임꺽정')\n",
        "c = (191103, '장길산')\n",
        "dictionary = dict((a,b,c))\n",
        "print('학생 정보:',dictionary)\n",
        "\n",
        "while True:\n",
        "  학번 = int(input('학번을 입력하세요 : '))\n",
        "  if 학번 > 0:\n",
        "    if (학번 in dictionary) == True:\n",
        "      print('{}번 학생은 {}입니다.'.format(학번,dictionary[학번]))\n",
        "    else:\n",
        "      print('해당 학번의 학생이 없습니다.')\n",
        "  else:\n",
        "    print('프로그램을 종료합니다.')\n",
        "    break"
      ],
      "execution_count": null,
      "outputs": [
        {
          "output_type": "stream",
          "text": [
            "학생 정보: {191101: '홍길동', 191102: '임꺽정', 191103: '장길산'}\n",
            "학번을 입력하세요 : 191102\n",
            "191102번 학생은 임꺽정입니다.\n",
            "학번을 입력하세요 : 191106\n",
            "해당 학번의 학생이 없습니다.\n",
            "학번을 입력하세요 : -1\n",
            "프로그램을 종료합니다.\n"
          ],
          "name": "stdout"
        }
      ]
    },
    {
      "cell_type": "code",
      "metadata": {
        "id": "5OJeGzqGIdyD"
      },
      "source": [
        "# 연습문제 6.17번"
      ],
      "execution_count": null,
      "outputs": []
    },
    {
      "cell_type": "code",
      "metadata": {
        "id": "iexpaOIaKCqh"
      },
      "source": [
        "population_A = (100, 150, 230, 120, 180, 100, 140, 95, 81, 21, 4)\n",
        "population_B = (300, 420, 530, 420, 400, 300, 40, 5, 1, 1, 1)"
      ],
      "execution_count": null,
      "outputs": []
    },
    {
      "cell_type": "code",
      "metadata": {
        "id": "1eKChFUYKThH"
      },
      "source": [
        "# (1)번"
      ],
      "execution_count": null,
      "outputs": []
    },
    {
      "cell_type": "code",
      "metadata": {
        "colab": {
          "base_uri": "https://localhost:8080/"
        },
        "id": "T7hG2LUnKgMq",
        "outputId": "491e3eaf-0db0-46f6-dc4f-8454db84e67b"
      },
      "source": [
        "a_sum = 0\n",
        "b_sum = 0\n",
        "\n",
        "for i in range(2,len(population_A)):\n",
        "  a_sum = a_sum + population_A[i]\n",
        "\n",
        "for j in range(2,len(population_B)):\n",
        "  b_sum = b_sum + population_B[j]\n",
        "\n",
        "print('마을 A와 B에 보낼 투표용지의 개수는 각각 {0} 장과 {1} 장 입니다.'.format(a_sum,b_sum))"
      ],
      "execution_count": null,
      "outputs": [
        {
          "output_type": "stream",
          "text": [
            "마을 A와 B에 보낼 투표용지의 개수는 각각 971 장과 1698 장 입니다.\n"
          ],
          "name": "stdout"
        }
      ]
    },
    {
      "cell_type": "code",
      "metadata": {
        "id": "WZp2CfmZLbNb"
      },
      "source": [
        "# (2)번"
      ],
      "execution_count": null,
      "outputs": []
    },
    {
      "cell_type": "code",
      "metadata": {
        "colab": {
          "base_uri": "https://localhost:8080/"
        },
        "id": "Nktf2OKiLcTq",
        "outputId": "eb213cd2-f336-4576-a687-3c52fbc9dee1"
      },
      "source": [
        "a_year = 0\n",
        "a_grand = 0\n",
        "b_year = 0\n",
        "b_grand = 0\n",
        "\n",
        "for i in range(len(population_A)):\n",
        "  a_year = a_year + population_A[i]\n",
        "  if i >= 7:\n",
        "    a_grand = a_grand + population_A[i]\n",
        "\n",
        "for j in range(len(population_B)):\n",
        "  b_year = b_year + population_B[j]\n",
        "  \n",
        "  if j >= 7:\n",
        "    b_grand = b_grand + population_B[j]\n",
        "\n",
        "  \n",
        "A = (a_grand / a_year )\n",
        "B = (b_grand / b_year )\n",
        "\n",
        "print('마을 A와 B의 고령화 정도는 각각 {0:.3f}와 {1:.3f}입니다.'.format(A,B))"
      ],
      "execution_count": null,
      "outputs": [
        {
          "output_type": "stream",
          "text": [
            "마을 A와 B의 고령화 정도는 각각 0.165와 0.003입니다.\n"
          ],
          "name": "stdout"
        }
      ]
    },
    {
      "cell_type": "code",
      "metadata": {
        "id": "_C7SMTodMWnW"
      },
      "source": [
        "# 연습문제 6.20번"
      ],
      "execution_count": null,
      "outputs": []
    },
    {
      "cell_type": "code",
      "metadata": {
        "id": "OqJyK3y5cqis"
      },
      "source": [
        "scores = (('박동규',88,95,90), ('강영민',85,90,95), ('박동민',70,90,80), ('홍승주',90,90,95))"
      ],
      "execution_count": null,
      "outputs": []
    },
    {
      "cell_type": "code",
      "metadata": {
        "id": "Izn7t1YEc470"
      },
      "source": [
        "# (1)번"
      ],
      "execution_count": null,
      "outputs": []
    },
    {
      "cell_type": "code",
      "metadata": {
        "colab": {
          "base_uri": "https://localhost:8080/"
        },
        "id": "18P--Xr3c6nn",
        "outputId": "03456ff4-f4a1-4c50-9df6-fba9ad8e46e7"
      },
      "source": [
        "a,b,c,d = zip(*scores)\n",
        "q,w,e,r = c\n",
        "평균 = ((q+w+e+r)/4)\n",
        "\n",
        "print('학생들의 수학 성적의 평균은 {:.2f}입니다.'.format(평균))"
      ],
      "execution_count": null,
      "outputs": [
        {
          "output_type": "stream",
          "text": [
            "학생들의 수학 성적의 평균은 91.25입니다.\n"
          ],
          "name": "stdout"
        }
      ]
    },
    {
      "cell_type": "code",
      "metadata": {
        "id": "aBI7dEa1dvAL"
      },
      "source": [
        "# (2)번"
      ],
      "execution_count": null,
      "outputs": []
    },
    {
      "cell_type": "code",
      "metadata": {
        "colab": {
          "base_uri": "https://localhost:8080/"
        },
        "id": "lUyZpz6Yfz5U",
        "outputId": "59b96f72-0fea-46e8-f916-1441b83f2244"
      },
      "source": [
        "a,b,c,d = zip(*scores)\n",
        "q,w,e,r = c\n",
        "t,y,u,i = d\n",
        "수과평균 = ((q+w+e+r+t+y+u+i)/8)\n",
        "\n",
        "print('학생들의 수학과 과학 성적의 평균은 {:.2f}입니다.'.format(수과평균))"
      ],
      "execution_count": null,
      "outputs": [
        {
          "output_type": "stream",
          "text": [
            "학생들의 수학과 과학 성적의 평균은 90.62입니다.\n"
          ],
          "name": "stdout"
        }
      ]
    },
    {
      "cell_type": "code",
      "metadata": {
        "id": "Yr17sLuvgHdx"
      },
      "source": [
        "# (3)번"
      ],
      "execution_count": null,
      "outputs": []
    },
    {
      "cell_type": "code",
      "metadata": {
        "colab": {
          "base_uri": "https://localhost:8080/",
          "height": 36
        },
        "id": "BSXHxTgHh3co",
        "outputId": "042b4ccd-e26f-4544-f229-d366b3d21479"
      },
      "source": [
        "a,b,c,d = zip(*scores)\n",
        "a[0]"
      ],
      "execution_count": null,
      "outputs": [
        {
          "output_type": "execute_result",
          "data": {
            "application/vnd.google.colaboratory.intrinsic+json": {
              "type": "string"
            },
            "text/plain": [
              "'박동규'"
            ]
          },
          "metadata": {
            "tags": []
          },
          "execution_count": 40
        }
      ]
    },
    {
      "cell_type": "code",
      "metadata": {
        "colab": {
          "base_uri": "https://localhost:8080/"
        },
        "id": "ea0IesTYgb6L",
        "outputId": "10a9cdf5-4867-4a86-ff44-de480c5450d4"
      },
      "source": [
        "a,b,c,d = zip(*scores)\n",
        "student_dic = {}\n",
        "\n",
        "for i in range(4):\n",
        "  t = a[i]\n",
        "  평균 = (b[i]+c[i]+d[i])/3\n",
        "  student_dic[t]=평균 \n",
        "\n",
        "print('이름        평균성적')\n",
        "print('--------------------')\n",
        "print('박동규       {:.2f}'.format(student_dic['박동규']))\n",
        "print('강영민       {:.2f}'.format(student_dic['강영민']))\n",
        "print('박동민       {:.2f}'.format(student_dic['박동민']))\n",
        "print('홍승주       {:.2f}'.format(student_dic['홍승주']))"
      ],
      "execution_count": null,
      "outputs": [
        {
          "output_type": "stream",
          "text": [
            "이름        평균성적\n",
            "--------------------\n",
            "박동규       91.00\n",
            "강영민       90.00\n",
            "박동민       80.00\n",
            "홍승주       91.67\n"
          ],
          "name": "stdout"
        }
      ]
    },
    {
      "cell_type": "code",
      "metadata": {
        "id": "aHKUdjPhhJN2"
      },
      "source": [
        "# 연습문제 6.21번"
      ],
      "execution_count": null,
      "outputs": []
    },
    {
      "cell_type": "code",
      "metadata": {
        "id": "X_Bar8DtkHwm",
        "colab": {
          "base_uri": "https://localhost:8080/"
        },
        "outputId": "abe8fea0-cd1a-4644-ff43-3925567ac477"
      },
      "source": [
        "def sentence(s,l,r):\n",
        "  if len(s) == 1:\n",
        "    return True\n",
        "  elif s[l] == s[r]:\n",
        "    if len(s)==2:\n",
        "      return True\n",
        "    else:\n",
        "      return sentence(s[1:-1],0,len(s[1:-1])-1)\n",
        "  else:\n",
        "    return False\n",
        "\n",
        "s = input('문자열을 입력하시오 : ').lower()\n",
        "s = \"\".join(s.split())\n",
        "result = sentence(s,0,len(s)-1)\n",
        "\n",
        "if result == True:\n",
        "  print('회문입니다.')\n",
        "elif result == False:\n",
        "  print('회문이 아닙니다.')"
      ],
      "execution_count": null,
      "outputs": [
        {
          "output_type": "stream",
          "text": [
            "문자열을 입력하시오 : racecar\n",
            "회문입니다.\n"
          ],
          "name": "stdout"
        }
      ]
    },
    {
      "cell_type": "code",
      "metadata": {
        "colab": {
          "base_uri": "https://localhost:8080/"
        },
        "id": "dTIlEDNYQfQz",
        "outputId": "718d46a5-6c9c-4a2c-c8f5-aaa6112bb6ea"
      },
      "source": [
        "def sentence(s,l,r):\n",
        "  if len(s) == 1:\n",
        "    return True\n",
        "  elif s[l] == s[r]:\n",
        "    if len(s)==2:\n",
        "      return True\n",
        "    else:\n",
        "      return sentence(s[1:-1],0,len(s[1:-1])-1)\n",
        "  else:\n",
        "    return False\n",
        "\n",
        "s = input('문자열을 입력하시오 : ').lower()\n",
        "s = \"\".join(s.split())\n",
        "result = sentence(s,0,len(s)-1)\n",
        "\n",
        "if result == True:\n",
        "  print('회문입니다.')\n",
        "elif result == False:\n",
        "  print('회문이 아닙니다.')"
      ],
      "execution_count": null,
      "outputs": [
        {
          "output_type": "stream",
          "text": [
            "문자열을 입력하시오 : racecing\n",
            "회문이 아닙니다.\n"
          ],
          "name": "stdout"
        }
      ]
    },
    {
      "cell_type": "code",
      "metadata": {
        "colab": {
          "base_uri": "https://localhost:8080/"
        },
        "id": "GyZFSv1uQiKR",
        "outputId": "fe10d58d-1a5b-4519-8922-2846a2d6574a"
      },
      "source": [
        "def sentence(s,l,r):\n",
        "  if len(s) == 1:\n",
        "    return True\n",
        "  elif s[l] == s[r]:\n",
        "    if len(s)==2:\n",
        "      return True\n",
        "    else:\n",
        "      return sentence(s[1:-1],0,len(s[1:-1])-1)\n",
        "  else:\n",
        "    return False\n",
        "\n",
        "s = input('문자열을 입력하시오 : ').lower()\n",
        "s = \"\".join(s.split())\n",
        "result = sentence(s,0,len(s)-1)\n",
        "\n",
        "if result == True:\n",
        "  print('회문입니다.')\n",
        "elif result == False:\n",
        "  print('회문이 아닙니다.')"
      ],
      "execution_count": null,
      "outputs": [
        {
          "output_type": "stream",
          "text": [
            "문자열을 입력하시오 : A nut for a jar of tuna\n",
            "회문입니다.\n"
          ],
          "name": "stdout"
        }
      ]
    },
    {
      "cell_type": "code",
      "metadata": {
        "id": "mLB4HFUytT4C"
      },
      "source": [
        "# 연습문제 6.22번"
      ],
      "execution_count": null,
      "outputs": []
    },
    {
      "cell_type": "code",
      "metadata": {
        "colab": {
          "base_uri": "https://localhost:8080/"
        },
        "id": "fgQxBRL6tTzo",
        "outputId": "ec084f58-c8ed-4b93-938c-d50ccf705f40"
      },
      "source": [
        "name = input('이름을 입력하세요 : ')\n",
        "\n",
        "if tuple(name[-3:]) == ('v','i','c'):\n",
        "  print('안녕하세요?',name,'님. 발칸 반도에서 오셨나요?')\n",
        "else:\n",
        "  print('안녕하세요?',name,'님.')"
      ],
      "execution_count": 5,
      "outputs": [
        {
          "output_type": "stream",
          "text": [
            "이름을 입력하세요 : Sinisa Mihajlovic\n",
            "안녕하세요? Sinisa Mihajlovic 님. 발칸 반도에서 오셨나요?\n"
          ],
          "name": "stdout"
        }
      ]
    },
    {
      "cell_type": "code",
      "metadata": {
        "colab": {
          "base_uri": "https://localhost:8080/"
        },
        "id": "Qet-57BYGgbD",
        "outputId": "ca2b4f4c-40aa-4685-be30-58e130e9793b"
      },
      "source": [
        "name = input('이름을 입력하세요 : ')\n",
        "\n",
        "if tuple(name[-3:]) == ('v','i','c'):\n",
        "  print('안녕하세요?',name,'님. 발칸 반도에서 오셨나요?')\n",
        "else:\n",
        "  print('안녕하세요?',name,'님.')"
      ],
      "execution_count": 6,
      "outputs": [
        {
          "output_type": "stream",
          "text": [
            "이름을 입력하세요 : Tom Cruise\n",
            "안녕하세요? Tom Cruise 님.\n"
          ],
          "name": "stdout"
        }
      ]
    },
    {
      "cell_type": "code",
      "metadata": {
        "id": "7Su1N_2xtU1g"
      },
      "source": [
        "# 연습문제 6.23번"
      ],
      "execution_count": null,
      "outputs": []
    },
    {
      "cell_type": "code",
      "metadata": {
        "colab": {
          "base_uri": "https://localhost:8080/"
        },
        "id": "eHQnCUu2tWNA",
        "outputId": "1cbffa9e-f4cc-4d96-986b-690737b61ff1"
      },
      "source": [
        "import string\n",
        "k = string.ascii_uppercase\n",
        "\n",
        "for i in range(10):\n",
        "  print(k[i::1]+k[:i:1])\n"
      ],
      "execution_count": null,
      "outputs": [
        {
          "output_type": "stream",
          "text": [
            "ABCDEFGHIJKLMNOPQRSTUVWXYZ\n",
            "BCDEFGHIJKLMNOPQRSTUVWXYZA\n",
            "CDEFGHIJKLMNOPQRSTUVWXYZAB\n",
            "DEFGHIJKLMNOPQRSTUVWXYZABC\n",
            "EFGHIJKLMNOPQRSTUVWXYZABCD\n",
            "FGHIJKLMNOPQRSTUVWXYZABCDE\n",
            "GHIJKLMNOPQRSTUVWXYZABCDEF\n",
            "HIJKLMNOPQRSTUVWXYZABCDEFG\n",
            "IJKLMNOPQRSTUVWXYZABCDEFGH\n",
            "JKLMNOPQRSTUVWXYZABCDEFGHI\n"
          ],
          "name": "stdout"
        }
      ]
    },
    {
      "cell_type": "code",
      "metadata": {
        "id": "ZaT0of4TtreB"
      },
      "source": [
        "# 연습문제 6.24번"
      ],
      "execution_count": null,
      "outputs": []
    },
    {
      "cell_type": "code",
      "metadata": {
        "id": "w8nPXjFK5Bkj"
      },
      "source": [
        "# (1)번"
      ],
      "execution_count": null,
      "outputs": []
    },
    {
      "cell_type": "code",
      "metadata": {
        "colab": {
          "base_uri": "https://localhost:8080/"
        },
        "id": "ND92v8Lj4QT6",
        "outputId": "d7174ce3-9222-45b9-cfb0-27c35043960f"
      },
      "source": [
        "import string\n",
        "src_str = string.ascii_uppercase\n",
        "dst_str = src_str[3:]+src_str[0:3]\n",
        "\n",
        "print(src_str)\n",
        "print(dst_str)"
      ],
      "execution_count": 31,
      "outputs": [
        {
          "output_type": "stream",
          "text": [
            "ABCDEFGHIJKLMNOPQRSTUVWXYZ\n",
            "DEFGHIJKLMNOPQRSTUVWXYZABC\n"
          ],
          "name": "stdout"
        }
      ]
    },
    {
      "cell_type": "code",
      "metadata": {
        "id": "o2Wc4xe347uP"
      },
      "source": [
        "# (2)번"
      ],
      "execution_count": null,
      "outputs": []
    },
    {
      "cell_type": "code",
      "metadata": {
        "colab": {
          "base_uri": "https://localhost:8080/"
        },
        "id": "s7VqF4Wv8khn",
        "outputId": "8ec8890c-2cb3-45e2-d073-3d14ac0e6477"
      },
      "source": [
        "def ciper(a):\n",
        "  import string\n",
        "  src_str = string.ascii_uppercase\n",
        "  dst_str = src_str[3:]+src_str[0:3]\n",
        "\n",
        "  dst_str = list(dst_str)\n",
        "\n",
        "  return dst_str[a]\n",
        "\n",
        "print('src_str의 A인덱스 :',dst_str.index(dst_str[0]))\n",
        "print('dst_str의 0번째 알파벳 :',ciper(0))\n",
        "print('src_str의 B인덱스 :',dst_str.index(dst_str[1]))\n",
        "print('dst_str의 1번째 알파벳 :',ciper(1))"
      ],
      "execution_count": 32,
      "outputs": [
        {
          "output_type": "stream",
          "text": [
            "src_str의 A인덱스 : 0\n",
            "dst_str의 0번째 알파벳 : D\n",
            "src_str의 B인덱스 : 1\n",
            "dst_str의 1번째 알파벳 : E\n"
          ],
          "name": "stdout"
        }
      ]
    },
    {
      "cell_type": "code",
      "metadata": {
        "id": "n2AeMhfF9HVg"
      },
      "source": [
        "# (3)번"
      ],
      "execution_count": null,
      "outputs": []
    },
    {
      "cell_type": "code",
      "metadata": {
        "colab": {
          "base_uri": "https://localhost:8080/"
        },
        "id": "JEQ2p5i5POz0",
        "outputId": "1ab8ddfb-5992-4a0e-ceec-9cf68f40f894"
      },
      "source": [
        "def ciper(a):\n",
        "  ans_str = ''\n",
        "  for i in range(len(a)):\n",
        "    if (a[i].isalpha()) == True:\n",
        "      a_index = src_str.index(a[i])\n",
        "      ans_str += dst_str[a_index]\n",
        "    else:\n",
        "      ans_str += a[i]\n",
        "  print('암호화된 문장:', ans_str)\n",
        "\n",
        "문장 = input('문장을 입력하시오: ')\n",
        "ciper(문장)"
      ],
      "execution_count": 40,
      "outputs": [
        {
          "output_type": "stream",
          "text": [
            "문장을 입력하시오: ATTACK TONIGHT!\n",
            "암호화된 문장: DWWDFN WRQLJKW!\n"
          ],
          "name": "stdout"
        }
      ]
    },
    {
      "cell_type": "code",
      "metadata": {
        "id": "k59lxvD0MyGl"
      },
      "source": [
        "# (4)번"
      ],
      "execution_count": null,
      "outputs": []
    },
    {
      "cell_type": "code",
      "metadata": {
        "id": "JBqdm9ZvMxxt",
        "colab": {
          "base_uri": "https://localhost:8080/"
        },
        "outputId": "396093cc-95a1-4886-c1a9-3393c1991584"
      },
      "source": [
        "암호문장 = input('암호화된 문장을 입력하시오: ')\n",
        "input_str = 암호문장\n",
        "ans_str = ''\n",
        "for i in range(len(input_str)):\n",
        "  if (input_str[i].isalpha()) == True:\n",
        "    a_index = dst_str.index(input_str[i])\n",
        "    ans_str += src_str[a_index]\n",
        "  else:\n",
        "    ans_str += input_str[i]\n",
        "\n",
        "print('해독된 문장:', ans_str)"
      ],
      "execution_count": 42,
      "outputs": [
        {
          "output_type": "stream",
          "text": [
            "암호화된 문장을 입력하시오: DWWDFN WRQLJKW!\n",
            "해독된 문장: ATTACK TONIGHT!\n"
          ],
          "name": "stdout"
        }
      ]
    },
    {
      "cell_type": "code",
      "metadata": {
        "id": "CssRxS6mMxqZ"
      },
      "source": [
        "# (5)번"
      ],
      "execution_count": null,
      "outputs": []
    },
    {
      "cell_type": "code",
      "metadata": {
        "id": "1LmEYNvEMxjq",
        "colab": {
          "base_uri": "https://localhost:8080/"
        },
        "outputId": "a109c0c0-7645-41e4-a6a1-154e7b5e0323"
      },
      "source": [
        "문장 = input('문장을 입력하시오: ')\n",
        "\n",
        "import string\n",
        "src_str = string.ascii_uppercase + string.ascii_lowercase\n",
        "dst_str = src_str[3:]+src_str[0:3]\n",
        "\n",
        "ciper(문장)"
      ],
      "execution_count": 44,
      "outputs": [
        {
          "output_type": "stream",
          "text": [
            "문장을 입력하시오: Attack tonight!\n",
            "암호화된 문장: Dwwdfn wrqljkw!\n"
          ],
          "name": "stdout"
        }
      ]
    },
    {
      "cell_type": "code",
      "metadata": {
        "colab": {
          "base_uri": "https://localhost:8080/"
        },
        "id": "CLiTyOvACkue",
        "outputId": "ca82afda-992b-4175-c570-7e461fcf4af6"
      },
      "source": [
        "문장 = input('문장을 입력하시오: ')\n",
        "\n",
        "import string\n",
        "src_str = string.ascii_uppercase + string.ascii_lowercase\n",
        "dst_str = src_str[3:]+src_str[0:3]\n",
        "\n",
        "ciper(문장)"
      ],
      "execution_count": 46,
      "outputs": [
        {
          "output_type": "stream",
          "text": [
            "문장을 입력하시오: Veni, vidi, vici.\n",
            "암호화된 문장: Yhql, ylgl, ylfl.\n"
          ],
          "name": "stdout"
        }
      ]
    },
    {
      "cell_type": "code",
      "metadata": {
        "id": "1dFnSqVR6LhC"
      },
      "source": [
        "# 연습문제 6.25번"
      ],
      "execution_count": null,
      "outputs": []
    },
    {
      "cell_type": "code",
      "metadata": {
        "colab": {
          "base_uri": "https://localhost:8080/"
        },
        "id": "_Ljn4gmBsHm_",
        "outputId": "9e7379cb-df0d-418e-9afd-03f7da5fe893"
      },
      "source": [
        "print('사전 프로그램 시작... 종료는 q를 입력')\n",
        "word_dic = {}\n",
        "\n",
        "while True:\n",
        "  word = input('$ ')\n",
        "  if word[0] == '<':\n",
        "    info = word.split(' ')[1].split(':')\n",
        "    word_dic[info[0]] = info[1]\n",
        "\n",
        "  elif word[0] == '>':\n",
        "    info = word.split(' ')[1]\n",
        "    if word_dic.get(info):\n",
        "      print(word_dic.get(info))\n",
        "\n",
        "    else:\n",
        "      print(info,'가 사전에 없습니다.')\n",
        "\n",
        "  elif word[0] == 'q':\n",
        "    print('사전 프로그램을 종료합니다.')\n",
        "    break\n",
        "\n",
        "  else :\n",
        "    print('입력오류가 발생했습니다.')"
      ],
      "execution_count": null,
      "outputs": [
        {
          "output_type": "stream",
          "text": [
            "사전 프로그램 시작... 종료는 q를 입력\n",
            "$ < boy:소년\n",
            "$ < girl:소녀\n",
            "$ < man:남자,사람\n",
            "$ < woman:여자\n",
            "$ < house:집\n",
            "$ < Korea:한국\n",
            "$ > boy\n",
            "소년\n",
            "$ > body\n",
            "body 가 사전에 없습니다.\n",
            "$ man\n",
            "입력오류가 발생했습니다.\n",
            "$ > man\n",
            "남자,사람\n",
            "$ q\n",
            "사전 프로그램을 종료합니다.\n"
          ],
          "name": "stdout"
        }
      ]
    },
    {
      "cell_type": "code",
      "metadata": {
        "id": "qatflJ2sv4xV"
      },
      "source": [
        "# 연습문제 6.26번"
      ],
      "execution_count": null,
      "outputs": []
    },
    {
      "cell_type": "code",
      "metadata": {
        "id": "TEoMuqtUwW0W"
      },
      "source": [
        "mylist = [(1,2), (4,5), (4,2), (3,1), (9,4)]"
      ],
      "execution_count": 8,
      "outputs": []
    },
    {
      "cell_type": "code",
      "metadata": {
        "colab": {
          "base_uri": "https://localhost:8080/"
        },
        "id": "oWIZXPsNwso2",
        "outputId": "9659697c-8915-4130-80d9-cda65b8737ed"
      },
      "source": [
        "a,b = input('두 정수를 입력하시오: ').split(' ')\n",
        "a = int(a)\n",
        "b = int(b)\n",
        "num = (a,b)\n",
        "num = tuple(num)\n",
        "num_ex = (b,a)\n",
        "\n",
        "if ((num in mylist) == True):\n",
        "  print('{}번째에 {}요소가 있습니다.'.format(mylist.index(num)+1,num))\n",
        "\n",
        "\n",
        "else:\n",
        "  if ((num_ex in mylist) == True):\n",
        "    print('{} 요소는 없으나 {}번째에 {} 요소가 있습니다.'.format(num, mylist.index(num_ex)+1, num_ex))\n",
        "  else:\n",
        "    print('이 요소는 없습니다.')\n"
      ],
      "execution_count": 18,
      "outputs": [
        {
          "output_type": "stream",
          "text": [
            "두 정수를 입력하시오: 4 9\n",
            "(4, 9) 요소는 없으나 5번째에 (9, 4) 요소가 있습니다.\n"
          ],
          "name": "stdout"
        }
      ]
    },
    {
      "cell_type": "code",
      "metadata": {
        "id": "rJpfX2f3w6Rn"
      },
      "source": [
        "\n",
        "if (num in mylist == True):\n",
        "  print('번째에',num,'요소가 있습니다.')\n",
        "else:\n",
        "  if (num_ex in mylist == True):\n",
        "    print(num,'요소는 없으니 번째에',num_ex,'요소가 있습니다.')\n",
        "  else:\n",
        "    print('이 요소는 없습니다.')"
      ],
      "execution_count": null,
      "outputs": []
    }
  ]
}