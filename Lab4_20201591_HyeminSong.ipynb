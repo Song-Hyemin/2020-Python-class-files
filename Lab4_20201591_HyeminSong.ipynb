{
  "nbformat": 4,
  "nbformat_minor": 0,
  "metadata": {
    "colab": {
      "name": "Lab4_20201591_HyeminSong.ipynb",
      "provenance": []
    },
    "kernelspec": {
      "name": "python3",
      "display_name": "Python 3"
    }
  },
  "cells": [
    {
      "cell_type": "code",
      "metadata": {
        "id": "ACbpdi6-wfPj"
      },
      "source": [
        "# 4.1 함수의 역할"
      ],
      "execution_count": null,
      "outputs": []
    },
    {
      "cell_type": "code",
      "metadata": {
        "id": "PwzRm139i8BO",
        "outputId": "e8f740b9-7ab0-406b-b057-9fe093c31ebb",
        "colab": {
          "base_uri": "https://localhost:8080/",
          "height": 35
        }
      },
      "source": [
        "def print_star():\n",
        "  print('********!!!!***********')\n",
        "\n",
        "print_star()"
      ],
      "execution_count": 2,
      "outputs": [
        {
          "output_type": "stream",
          "text": [
            "********!!!!***********\n"
          ],
          "name": "stdout"
        }
      ]
    },
    {
      "cell_type": "code",
      "metadata": {
        "id": "vvEQxbCvmTjc",
        "outputId": "e1436b37-4746-4ea0-fd3f-0ffb9ae39784",
        "colab": {
          "base_uri": "https://localhost:8080/",
          "height": 108
        }
      },
      "source": [
        "print_star()\n",
        "print_star()\n",
        "print_star()\n",
        "print_star()\n",
        "print_star()"
      ],
      "execution_count": 3,
      "outputs": [
        {
          "output_type": "stream",
          "text": [
            "********!!!!***********\n",
            "********!!!!***********\n",
            "********!!!!***********\n",
            "********!!!!***********\n",
            "********!!!!***********\n"
          ],
          "name": "stdout"
        }
      ]
    },
    {
      "cell_type": "code",
      "metadata": {
        "id": "cUHJ_BL4twJJ"
      },
      "source": [
        "# LAB 4-1 : 함수 정의와 호출"
      ],
      "execution_count": 4,
      "outputs": []
    },
    {
      "cell_type": "code",
      "metadata": {
        "id": "KPl8kPJOt4Hi"
      },
      "source": [
        "# 1. [코드 4-1]의 함수 호출문을 삭제하면 어떻게 되는가?"
      ],
      "execution_count": null,
      "outputs": []
    },
    {
      "cell_type": "code",
      "metadata": {
        "id": "-pA5Ozr3t0IA"
      },
      "source": [
        "def print_star():\n",
        "  print('********!!!!***********')"
      ],
      "execution_count": 5,
      "outputs": []
    },
    {
      "cell_type": "code",
      "metadata": {
        "id": "DyLaYP1it3aH"
      },
      "source": [
        "# 2. [코드 4-2]를 수정하여 6줄의 별표를 출력해 보시오. 이때 함수 호출을 6회 하시오."
      ],
      "execution_count": 6,
      "outputs": []
    },
    {
      "cell_type": "code",
      "metadata": {
        "id": "E4vQrRLSuG0m",
        "outputId": "69258269-7fed-4b1d-b40f-9081877f136e",
        "colab": {
          "base_uri": "https://localhost:8080/",
          "height": 127
        }
      },
      "source": [
        "def print_star():\n",
        "  print('******************')\n",
        "\n",
        "print_star()\n",
        "print_star()\n",
        "print_star()\n",
        "print_star()\n",
        "print_star()\n",
        "print_star()"
      ],
      "execution_count": 7,
      "outputs": [
        {
          "output_type": "stream",
          "text": [
            "******************\n",
            "******************\n",
            "******************\n",
            "******************\n",
            "******************\n",
            "******************\n"
          ],
          "name": "stdout"
        }
      ]
    },
    {
      "cell_type": "code",
      "metadata": {
        "id": "4wvIMV4nuP-m",
        "outputId": "fcb14beb-d9ab-4962-f63a-87074651bc85",
        "colab": {
          "base_uri": "https://localhost:8080/",
          "height": 72
        }
      },
      "source": [
        "def print_star3():\n",
        "  print('******************')\n",
        "  print('******************')\n",
        "  print('******************')\n",
        "\n",
        "print_star3()"
      ],
      "execution_count": 8,
      "outputs": [
        {
          "output_type": "stream",
          "text": [
            "******************\n",
            "******************\n",
            "******************\n"
          ],
          "name": "stdout"
        }
      ]
    },
    {
      "cell_type": "code",
      "metadata": {
        "id": "5TU5kYHOvOk_"
      },
      "source": [
        "# LAB 4-2 : 함수 정의와 호출"
      ],
      "execution_count": null,
      "outputs": []
    },
    {
      "cell_type": "code",
      "metadata": {
        "id": "nvwmanUcveLC"
      },
      "source": [
        "# 1. [코드 4-3]을 수정하여 함수 호출 두 번으로 10줄의 별표를 출력해 보시오."
      ],
      "execution_count": 11,
      "outputs": []
    },
    {
      "cell_type": "code",
      "metadata": {
        "id": "kwaYlYsTvQnT",
        "outputId": "ef6c0511-6cd7-4899-f773-cd19ff2ce605",
        "colab": {
          "base_uri": "https://localhost:8080/",
          "height": 200
        }
      },
      "source": [
        "def print_star5():\n",
        "  print('******************')\n",
        "  print('******************')\n",
        "  print('******************')\n",
        "  print('******************')\n",
        "  print('******************')\n",
        "\n",
        "print_star5()\n",
        "print_star5()"
      ],
      "execution_count": 12,
      "outputs": [
        {
          "output_type": "stream",
          "text": [
            "******************\n",
            "******************\n",
            "******************\n",
            "******************\n",
            "******************\n",
            "******************\n",
            "******************\n",
            "******************\n",
            "******************\n",
            "******************\n"
          ],
          "name": "stdout"
        }
      ]
    },
    {
      "cell_type": "code",
      "metadata": {
        "id": "bNT6_zlYuexT",
        "outputId": "3470ff6e-1d6d-4ca8-c434-2db373d4df96",
        "colab": {
          "base_uri": "https://localhost:8080/",
          "height": 90
        }
      },
      "source": [
        "def print_star():\n",
        "  print('**********************')\n",
        "\n",
        "def print_plus():\n",
        "  print('++++++++++++++++++++++')\n",
        "\n",
        "print_star()\n",
        "print_plus()\n",
        "print_star()\n",
        "print_plus()"
      ],
      "execution_count": 13,
      "outputs": [
        {
          "output_type": "stream",
          "text": [
            "**********************\n",
            "++++++++++++++++++++++\n",
            "**********************\n",
            "++++++++++++++++++++++\n"
          ],
          "name": "stdout"
        }
      ]
    },
    {
      "cell_type": "code",
      "metadata": {
        "id": "JlbTadXJu_y1"
      },
      "source": [
        "# LAB 4-3 : 함수 정의와 호출"
      ],
      "execution_count": null,
      "outputs": []
    },
    {
      "cell_type": "code",
      "metadata": {
        "id": "OSJmFrl4vsw1"
      },
      "source": [
        "# 1. [코드 4-4]를 수정하여 해시마크(#)를 한 줄 출력하는 print_hash() 함수를 추가로 구현하시오."
      ],
      "execution_count": 14,
      "outputs": []
    },
    {
      "cell_type": "code",
      "metadata": {
        "id": "0yhPHjDkv2sk",
        "outputId": "95c02b84-4d14-4096-86b9-9f5e0b853934",
        "colab": {
          "base_uri": "https://localhost:8080/",
          "height": 35
        }
      },
      "source": [
        "def print_hash():\n",
        "  print('#####################')\n",
        "\n",
        "print_hash()"
      ],
      "execution_count": 15,
      "outputs": [
        {
          "output_type": "stream",
          "text": [
            "#####################\n"
          ],
          "name": "stdout"
        }
      ]
    },
    {
      "cell_type": "code",
      "metadata": {
        "id": "oZ40TLhsv9EE"
      },
      "source": [
        "# 2. print_star(), print_plus(), print_hash() 함수를 모두 이용하여 다음과 같은 출력이 나타나도록 함수를 호출하시오."
      ],
      "execution_count": null,
      "outputs": []
    },
    {
      "cell_type": "code",
      "metadata": {
        "id": "Kj0fBWYmwBgt",
        "outputId": "127a1596-7280-4608-f5e4-ccddde96d76c",
        "colab": {
          "base_uri": "https://localhost:8080/",
          "height": 127
        }
      },
      "source": [
        "def print_hash():\n",
        "  print('######################')\n",
        "\n",
        "def print_star():\n",
        "  print('**********************')\n",
        "\n",
        "def print_plus():\n",
        "  print('++++++++++++++++++++++')\n",
        "\n",
        "print_hash()\n",
        "print_star()\n",
        "print_plus()\n",
        "print_plus()\n",
        "print_star()\n",
        "print_hash()"
      ],
      "execution_count": 16,
      "outputs": [
        {
          "output_type": "stream",
          "text": [
            "######################\n",
            "**********************\n",
            "++++++++++++++++++++++\n",
            "++++++++++++++++++++++\n",
            "**********************\n",
            "######################\n"
          ],
          "name": "stdout"
        }
      ]
    },
    {
      "cell_type": "code",
      "metadata": {
        "id": "tlt4x0dlwN1W"
      },
      "source": [
        "# 4.2 함수와 매개변수"
      ],
      "execution_count": 17,
      "outputs": []
    },
    {
      "cell_type": "code",
      "metadata": {
        "id": "t2Rb1JzFx54g",
        "outputId": "eff3f127-cf7f-425f-b6c5-cffb234cb0a8",
        "colab": {
          "base_uri": "https://localhost:8080/",
          "height": 90
        }
      },
      "source": [
        "def print_star(n):\n",
        "  for _ in range(n):\n",
        "    print('**********')\n",
        "\n",
        "print_star(4)"
      ],
      "execution_count": 24,
      "outputs": [
        {
          "output_type": "stream",
          "text": [
            "**********\n",
            "**********\n",
            "**********\n",
            "**********\n"
          ],
          "name": "stdout"
        }
      ]
    },
    {
      "cell_type": "code",
      "metadata": {
        "id": "MhU9bd3OyLFr",
        "outputId": "7aa97b0e-f46c-4791-bd42-0e784287ebd8",
        "colab": {
          "base_uri": "https://localhost:8080/",
          "height": 200
        }
      },
      "source": [
        "print_star(10)"
      ],
      "execution_count": 26,
      "outputs": [
        {
          "output_type": "stream",
          "text": [
            "**********\n",
            "**********\n",
            "**********\n",
            "**********\n",
            "**********\n",
            "**********\n",
            "**********\n",
            "**********\n",
            "**********\n",
            "**********\n"
          ],
          "name": "stdout"
        }
      ]
    },
    {
      "cell_type": "code",
      "metadata": {
        "id": "IrtVlMGzwj-H"
      },
      "source": [
        "# LAB 4-4 : 다양한 별표와 패턴 출력"
      ],
      "execution_count": 27,
      "outputs": []
    },
    {
      "cell_type": "code",
      "metadata": {
        "id": "h1RGb8RgxeZv"
      },
      "source": [
        "# 1. [코드 4-5]를 수정하여 별표(*)줄이 10개 출력되도록 인자를 변경하시오."
      ],
      "execution_count": 28,
      "outputs": []
    },
    {
      "cell_type": "code",
      "metadata": {
        "id": "rwlKi375yS0g",
        "outputId": "72cbe69c-af70-47b0-e5cf-ce9df6eec41d",
        "colab": {
          "base_uri": "https://localhost:8080/",
          "height": 200
        }
      },
      "source": [
        "def print_star(n):\n",
        "  for _ in range(n):\n",
        "    print('**********')\n",
        "\n",
        "print_star(10)"
      ],
      "execution_count": 29,
      "outputs": [
        {
          "output_type": "stream",
          "text": [
            "**********\n",
            "**********\n",
            "**********\n",
            "**********\n",
            "**********\n",
            "**********\n",
            "**********\n",
            "**********\n",
            "**********\n",
            "**********\n"
          ],
          "name": "stdout"
        }
      ]
    },
    {
      "cell_type": "code",
      "metadata": {
        "id": "gPq83WOXxj-J"
      },
      "source": [
        "# 2. [코드 4-5]를 수정하여 별표(*) 표시 대신 해시마크(#)가 출력되도록 하시오. 이를 위해 함수 이름을  print_hash(n)으로 수정하고 수정된 함수를 print_hash(10)과 같이 호출하시오."
      ],
      "execution_count": 20,
      "outputs": []
    },
    {
      "cell_type": "code",
      "metadata": {
        "id": "8kmnIwGCyXo0",
        "outputId": "4011b8d4-20a6-4dbe-9808-88893aaf0c6c",
        "colab": {
          "base_uri": "https://localhost:8080/",
          "height": 200
        }
      },
      "source": [
        "def print_hash(n):\n",
        "  for _ in range(n):\n",
        "    print('##########')\n",
        "\n",
        "print_hash(10)"
      ],
      "execution_count": 30,
      "outputs": [
        {
          "output_type": "stream",
          "text": [
            "##########\n",
            "##########\n",
            "##########\n",
            "##########\n",
            "##########\n",
            "##########\n",
            "##########\n",
            "##########\n",
            "##########\n",
            "##########\n"
          ],
          "name": "stdout"
        }
      ]
    },
    {
      "cell_type": "code",
      "metadata": {
        "id": "E2LdMY7Mxy43"
      },
      "source": [
        "# 3. print_hash(6)을 호출하여 다음과 같은 출력이 나타나도록 하여라."
      ],
      "execution_count": 21,
      "outputs": []
    },
    {
      "cell_type": "code",
      "metadata": {
        "id": "Wzg2wiNLx5Ow",
        "outputId": "0d336394-9e6d-4e03-b0b6-80f5b288d79b",
        "colab": {
          "base_uri": "https://localhost:8080/",
          "height": 127
        }
      },
      "source": [
        "def print_hash(n):\n",
        "  for _ in range(n):\n",
        "    print('###################')\n",
        "\n",
        "print_hash(6)"
      ],
      "execution_count": 31,
      "outputs": [
        {
          "output_type": "stream",
          "text": [
            "###################\n",
            "###################\n",
            "###################\n",
            "###################\n",
            "###################\n",
            "###################\n"
          ],
          "name": "stdout"
        }
      ]
    },
    {
      "cell_type": "code",
      "metadata": {
        "id": "wgy4lsAtyt1V"
      },
      "source": [
        "# 4. print_hash(6)을 호출하여 다음과 같은 출력이 나타나도록 하여라. 다음 화면과 같이 매번 해시가 출력될 때마다 앞 칸에 줄 번호를 0부터 표시하도록 하여라."
      ],
      "execution_count": 32,
      "outputs": []
    },
    {
      "cell_type": "code",
      "metadata": {
        "id": "RjW-coULy5qQ",
        "outputId": "0d12545c-6068-4200-bed2-3045cda8b6f8",
        "colab": {
          "base_uri": "https://localhost:8080/",
          "height": 127
        }
      },
      "source": [
        "def print_hash(n):\n",
        "  for i in range(n):\n",
        "    print(i,'###################')\n",
        "\n",
        "print_hash(6)"
      ],
      "execution_count": 33,
      "outputs": [
        {
          "output_type": "stream",
          "text": [
            "0 ###################\n",
            "1 ###################\n",
            "2 ###################\n",
            "3 ###################\n",
            "4 ###################\n",
            "5 ###################\n"
          ],
          "name": "stdout"
        }
      ]
    },
    {
      "cell_type": "code",
      "metadata": {
        "id": "nDxRMaRzzfvf",
        "outputId": "be8804cd-962e-4477-d7b8-0bca857dc552",
        "colab": {
          "base_uri": "https://localhost:8080/",
          "height": 127
        }
      },
      "source": [
        "def print_hello(n):\n",
        "  print('Hello '*n)\n",
        "\n",
        "print('hello를 두 번 출력합니다.')\n",
        "print_hello(2)\n",
        "print('hello를 세 번 출력합니다.')\n",
        "print_hello(3)\n",
        "print('hello를 네 번 출력합니다.')\n",
        "print_hello(4)"
      ],
      "execution_count": 38,
      "outputs": [
        {
          "output_type": "stream",
          "text": [
            "hello를 두 번 출력합니다.\n",
            "Hello Hello \n",
            "hello를 세 번 출력합니다.\n",
            "Hello Hello Hello \n",
            "hello를 네 번 출력합니다.\n",
            "Hello Hello Hello Hello \n"
          ],
          "name": "stdout"
        }
      ]
    },
    {
      "cell_type": "code",
      "metadata": {
        "id": "Q4QXwG3Jz0vo"
      },
      "source": [
        "def print_sum(a, b):\n",
        "  result = a + b\n",
        "  print(a,'와',b,'의 합은', result,'입니다')\n",
        "  "
      ],
      "execution_count": 39,
      "outputs": []
    },
    {
      "cell_type": "code",
      "metadata": {
        "id": "GWgqT5US0CYY",
        "outputId": "67b94351-6db5-44e7-a8fb-6253bbfa6cd4",
        "colab": {
          "base_uri": "https://localhost:8080/",
          "height": 35
        }
      },
      "source": [
        "print_sum(10,20)"
      ],
      "execution_count": 40,
      "outputs": [
        {
          "output_type": "stream",
          "text": [
            "10 와 20 의 합은 30 입니다\n"
          ],
          "name": "stdout"
        }
      ]
    },
    {
      "cell_type": "code",
      "metadata": {
        "id": "pJVaUJeG0HSW",
        "outputId": "2ae6a0bb-bc76-438a-cd93-9bc2ce1196c5",
        "colab": {
          "base_uri": "https://localhost:8080/",
          "height": 35
        }
      },
      "source": [
        "print_sum(100,200)"
      ],
      "execution_count": 41,
      "outputs": [
        {
          "output_type": "stream",
          "text": [
            "100 와 200 의 합은 300 입니다\n"
          ],
          "name": "stdout"
        }
      ]
    },
    {
      "cell_type": "code",
      "metadata": {
        "id": "FkIERqEZ0KIa",
        "outputId": "39762639-4af7-4dbd-c283-ff5dc5861c60",
        "colab": {
          "base_uri": "https://localhost:8080/",
          "height": 173
        }
      },
      "source": [
        "print_sum(10)"
      ],
      "execution_count": 42,
      "outputs": [
        {
          "output_type": "error",
          "ename": "TypeError",
          "evalue": "ignored",
          "traceback": [
            "\u001b[0;31m---------------------------------------------------------------------------\u001b[0m",
            "\u001b[0;31mTypeError\u001b[0m                                 Traceback (most recent call last)",
            "\u001b[0;32m<ipython-input-42-d1826138d1e2>\u001b[0m in \u001b[0;36m<module>\u001b[0;34m()\u001b[0m\n\u001b[0;32m----> 1\u001b[0;31m \u001b[0mprint_sum\u001b[0m\u001b[0;34m(\u001b[0m\u001b[0;36m10\u001b[0m\u001b[0;34m)\u001b[0m\u001b[0;34m\u001b[0m\u001b[0;34m\u001b[0m\u001b[0m\n\u001b[0m",
            "\u001b[0;31mTypeError\u001b[0m: print_sum() missing 1 required positional argument: 'b'"
          ]
        }
      ]
    },
    {
      "cell_type": "code",
      "metadata": {
        "id": "3aqjIR4V0L2l",
        "outputId": "8f87ea15-b329-4e9f-9b7d-3e905f44893d",
        "colab": {
          "base_uri": "https://localhost:8080/",
          "height": 173
        }
      },
      "source": [
        "print_sum(100,0,100)"
      ],
      "execution_count": 43,
      "outputs": [
        {
          "output_type": "error",
          "ename": "TypeError",
          "evalue": "ignored",
          "traceback": [
            "\u001b[0;31m---------------------------------------------------------------------------\u001b[0m",
            "\u001b[0;31mTypeError\u001b[0m                                 Traceback (most recent call last)",
            "\u001b[0;32m<ipython-input-43-1c7afd01fad7>\u001b[0m in \u001b[0;36m<module>\u001b[0;34m()\u001b[0m\n\u001b[0;32m----> 1\u001b[0;31m \u001b[0mprint_sum\u001b[0m\u001b[0;34m(\u001b[0m\u001b[0;36m100\u001b[0m\u001b[0;34m,\u001b[0m\u001b[0;36m0\u001b[0m\u001b[0;34m,\u001b[0m\u001b[0;36m100\u001b[0m\u001b[0;34m)\u001b[0m\u001b[0;34m\u001b[0m\u001b[0;34m\u001b[0m\u001b[0m\n\u001b[0m",
            "\u001b[0;31mTypeError\u001b[0m: print_sum() takes 2 positional arguments but 3 were given"
          ]
        }
      ]
    },
    {
      "cell_type": "code",
      "metadata": {
        "id": "zljdgekQy9EX"
      },
      "source": [
        "# LAB 4-5 : 두 수 연산을 수행하는 함수"
      ],
      "execution_count": 34,
      "outputs": []
    },
    {
      "cell_type": "code",
      "metadata": {
        "id": "L3MxBuUNzPQo"
      },
      "source": [
        "# 1. 두 개의 매개변수 a, b를 받아서 두 수의 차를 구하여 출력하는 print_sub(a,b) 함수를 구현하여라. print_sub(10, 20)을 호출한 결과 다음과 같은 출력이 나타나도록 하여라."
      ],
      "execution_count": 35,
      "outputs": []
    },
    {
      "cell_type": "code",
      "metadata": {
        "id": "3sZeTQtX0Y58",
        "outputId": "85daea11-70a0-41f6-b2fb-78d4025c7215",
        "colab": {
          "base_uri": "https://localhost:8080/",
          "height": 35
        }
      },
      "source": [
        "def print_sub(a, b):\n",
        "  result = a - b\n",
        "  print(a,'와',b,'의 차는', result,'입니다')\n",
        "\n",
        "print_sub(10,20)"
      ],
      "execution_count": 46,
      "outputs": [
        {
          "output_type": "stream",
          "text": [
            "10 와 20 의 차는 -10 입니다\n"
          ],
          "name": "stdout"
        }
      ]
    },
    {
      "cell_type": "code",
      "metadata": {
        "id": "ZPu160Hwzc1v"
      },
      "source": [
        "# 2. 두 개의 매개변수 a, b를 받아서 두 수의 곱을 구하여 출력하는 print_mult(a,b) 함수를 구현하여라. print_mult(10, 20)을 호출한 결과 다음과 같은 출력이 나타나도록 하여라."
      ],
      "execution_count": null,
      "outputs": []
    },
    {
      "cell_type": "code",
      "metadata": {
        "id": "-l6vILPZ0vLK",
        "outputId": "7b8a9353-ed5e-4d3b-fd81-9eaa1fe36ca4",
        "colab": {
          "base_uri": "https://localhost:8080/",
          "height": 35
        }
      },
      "source": [
        "def print_mult(a, b):\n",
        "  result = a * b\n",
        "  print(a,'과',b,'의 곱은', result,'입니다')\n",
        "\n",
        "print_mult(10,20)"
      ],
      "execution_count": 48,
      "outputs": [
        {
          "output_type": "stream",
          "text": [
            "10 과 20 의 곱은 200 입니다\n"
          ],
          "name": "stdout"
        }
      ]
    },
    {
      "cell_type": "code",
      "metadata": {
        "id": "eBj4N3DY0084"
      },
      "source": [
        "# 4.3 매개변수를 활용한 2차 방정식의 근 구하기"
      ],
      "execution_count": 49,
      "outputs": []
    },
    {
      "cell_type": "code",
      "metadata": {
        "id": "pONYHuJq08QA",
        "outputId": "9e6b211c-036d-4061-8361-f4d17daef5ef",
        "colab": {
          "base_uri": "https://localhost:8080/",
          "height": 35
        }
      },
      "source": [
        "a = 1\n",
        "b = 2\n",
        "c = -8\n",
        "\n",
        "r1 = (-b + (b ** 2 - 4 * a * c) ** 0.5) / (2 * a)\n",
        "r2 = (-b - (b ** 2 - 4 * a * c) ** 0.5) / (2 * a)\n",
        "\n",
        "print('해는',r1,'또는',r2)"
      ],
      "execution_count": 53,
      "outputs": [
        {
          "output_type": "stream",
          "text": [
            "해는 2.0 또는 -4.0\n"
          ],
          "name": "stdout"
        }
      ]
    },
    {
      "cell_type": "code",
      "metadata": {
        "id": "P5EkacpM1MVM"
      },
      "source": [
        "def print_root(a,b,c):\n",
        "  r1 = (-b + (b ** 2 - 4 * a * c) ** 0.5) / (2 * a)\n",
        "  r2 = (-b - (b ** 2 - 4 * a * c) ** 0.5) / (2 * a)\n",
        "  print('해는',r1,'또는',r2)"
      ],
      "execution_count": 54,
      "outputs": []
    },
    {
      "cell_type": "code",
      "metadata": {
        "id": "IdMe7qaE2FPA",
        "outputId": "0bb68e2c-7f3c-4aef-ae46-6ede56bb9717",
        "colab": {
          "base_uri": "https://localhost:8080/",
          "height": 35
        }
      },
      "source": [
        "print_root(1,2,-8)"
      ],
      "execution_count": 55,
      "outputs": [
        {
          "output_type": "stream",
          "text": [
            "해는 2.0 또는 -4.0\n"
          ],
          "name": "stdout"
        }
      ]
    },
    {
      "cell_type": "code",
      "metadata": {
        "id": "3kJOE0gr2K05",
        "outputId": "6212b5a9-e486-4f12-b5f7-25e80c2cef96",
        "colab": {
          "base_uri": "https://localhost:8080/",
          "height": 35
        }
      },
      "source": [
        "print_root(2,-6,-8)"
      ],
      "execution_count": 56,
      "outputs": [
        {
          "output_type": "stream",
          "text": [
            "해는 4.0 또는 -1.0\n"
          ],
          "name": "stdout"
        }
      ]
    },
    {
      "cell_type": "code",
      "metadata": {
        "id": "7KoHpHEh1Map"
      },
      "source": [
        "# LAB 4-6 : 함수의 사용"
      ],
      "execution_count": 50,
      "outputs": []
    },
    {
      "cell_type": "code",
      "metadata": {
        "id": "Q8QR7wpu1MLp"
      },
      "source": [
        "# 1. 다음 2차 방정식의 근을 [코드 4-10]의 함수를 사용하여 출력하여라."
      ],
      "execution_count": 51,
      "outputs": []
    },
    {
      "cell_type": "code",
      "metadata": {
        "id": "6tf_K7ZQ2Xbp",
        "outputId": "b92522ed-ad5e-46bb-820b-4ddc8c0ea4d5",
        "colab": {
          "base_uri": "https://localhost:8080/",
          "height": 35
        }
      },
      "source": [
        "# (1)\n",
        "def print_root(a,b,c):\n",
        "  r1 = (-b + (b ** 2 - 4 * a * c) ** 0.5) / (2 * a)\n",
        "  r2 = (-b - (b ** 2 - 4 * a * c) ** 0.5) / (2 * a)\n",
        "  print('해는',r1,'또는',r2)\n",
        "\n",
        "print_root(1,4,-21)"
      ],
      "execution_count": 57,
      "outputs": [
        {
          "output_type": "stream",
          "text": [
            "해는 3.0 또는 -7.0\n"
          ],
          "name": "stdout"
        }
      ]
    },
    {
      "cell_type": "code",
      "metadata": {
        "id": "MLyK7z1g2f2J",
        "outputId": "8c3c6b8a-0866-4ed4-f144-5cc012fe34de",
        "colab": {
          "base_uri": "https://localhost:8080/",
          "height": 35
        }
      },
      "source": [
        "# (2)\n",
        "def print_root(a,b,c):\n",
        "  r1 = (-b + (b ** 2 - 4 * a * c) ** 0.5) / (2 * a)\n",
        "  r2 = (-b - (b ** 2 - 4 * a * c) ** 0.5) / (2 * a)\n",
        "  print('해는',r1,'또는',r2)\n",
        "\n",
        "print_root(1,-6,8)"
      ],
      "execution_count": 58,
      "outputs": [
        {
          "output_type": "stream",
          "text": [
            "해는 4.0 또는 2.0\n"
          ],
          "name": "stdout"
        }
      ]
    },
    {
      "cell_type": "code",
      "metadata": {
        "id": "1iX1G1sM1TuZ"
      },
      "source": [
        "# 2. 삼각형의 면적을 구하기 위하여 밑변과 높이를 사용하려고 한다. 두 개의 매개변수 width, height를 받아서 삼각형의 면적을 출력하는 함수 print_area(width, height)를 구현하여라. 이때 print_area(10,20)을 호출하여 다음과 같은 출력이 나타나도록 하여라. "
      ],
      "execution_count": 59,
      "outputs": []
    },
    {
      "cell_type": "code",
      "metadata": {
        "id": "-nzPx0wP2kyO",
        "outputId": "8aa149df-8196-4d96-91ad-e8a14a3f74ca",
        "colab": {
          "base_uri": "https://localhost:8080/",
          "height": 35
        }
      },
      "source": [
        "def print_area(width, height):\n",
        "  면적 = width * height * 0.5\n",
        "  print('밑변',width,', 높이',height,'인 삼각형의 면적은 :', 면적)\n",
        "\n",
        "print_area(10,20)"
      ],
      "execution_count": 60,
      "outputs": [
        {
          "output_type": "stream",
          "text": [
            "밑변 10 , 높이 20 인 삼각형의 면적은 : 100.0\n"
          ],
          "name": "stdout"
        }
      ]
    },
    {
      "cell_type": "code",
      "metadata": {
        "id": "14nqzoDT3Mog"
      },
      "source": [
        "# 4.4 return을 이용한 반환과 튜플"
      ],
      "execution_count": 61,
      "outputs": []
    },
    {
      "cell_type": "code",
      "metadata": {
        "id": "SbzevmvJ3S2z"
      },
      "source": [
        "def print_sum2(a,b):\n",
        "  result = a + b\n",
        "  result_mul = a * b\n",
        "  return result, result_mul"
      ],
      "execution_count": 65,
      "outputs": []
    },
    {
      "cell_type": "code",
      "metadata": {
        "id": "1zidaiw33aA5",
        "outputId": "dbb843b6-fa36-4934-a927-a3ce8e8ee6c9",
        "colab": {
          "base_uri": "https://localhost:8080/",
          "height": 35
        }
      },
      "source": [
        "sum, mul = print_sum2(100,100)\n",
        "print('더하기:', sum,'곱하기:', mul)"
      ],
      "execution_count": 66,
      "outputs": [
        {
          "output_type": "stream",
          "text": [
            "더하기: 200 곱하기: 10000\n"
          ],
          "name": "stdout"
        }
      ]
    },
    {
      "cell_type": "code",
      "metadata": {
        "id": "yDDuB3tZ3fEP"
      },
      "source": [
        "def print_sum2(a,b):\n",
        "  # result = a + b\n",
        "  # result_mul = a * b\n",
        "  return a+b, a*b"
      ],
      "execution_count": 67,
      "outputs": []
    },
    {
      "cell_type": "code",
      "metadata": {
        "id": "UH0EW8XA4ke_",
        "outputId": "acf3ac87-7bd5-4654-9908-f115212de517",
        "colab": {
          "base_uri": "https://localhost:8080/",
          "height": 35
        }
      },
      "source": [
        "sum, mul = print_sum2(100,100)\n",
        "print('더하기:', sum,'곱하기:', mul)"
      ],
      "execution_count": 68,
      "outputs": [
        {
          "output_type": "stream",
          "text": [
            "더하기: 200 곱하기: 10000\n"
          ],
          "name": "stdout"
        }
      ]
    },
    {
      "cell_type": "code",
      "metadata": {
        "id": "AHcdwKdF4lh6",
        "outputId": "a75be6f4-29f0-4e63-f307-15be20767b1f",
        "colab": {
          "base_uri": "https://localhost:8080/",
          "height": 35
        }
      },
      "source": [
        "def get_sum(a,b):\n",
        "  return  a + b\n",
        "\n",
        "result = get_sum(100,200)\n",
        "print('두 수의 합', result)"
      ],
      "execution_count": 71,
      "outputs": [
        {
          "output_type": "stream",
          "text": [
            "두 수의 합 300\n"
          ],
          "name": "stdout"
        }
      ]
    },
    {
      "cell_type": "code",
      "metadata": {
        "id": "uPttJExY42lL",
        "outputId": "2df2a964-c33c-4fbf-f683-45773b448b71",
        "colab": {
          "base_uri": "https://localhost:8080/",
          "height": 35
        }
      },
      "source": [
        "def get_root(a,b,c):\n",
        "  r1 = (-b + (b ** 2 - 4 * a * c) ** 0.5) / (2 * a)\n",
        "  r2 = (-b - (b ** 2 - 4 * a * c) ** 0.5) / (2 * a)\n",
        "  return r1, r2\n",
        "\n",
        "result1, result2 = get_root(1,2,-8)\n",
        "print('해는',result1, '또는', result2)"
      ],
      "execution_count": 72,
      "outputs": [
        {
          "output_type": "stream",
          "text": [
            "해는 2.0 또는 -4.0\n"
          ],
          "name": "stdout"
        }
      ]
    },
    {
      "cell_type": "code",
      "metadata": {
        "id": "s2CD5MNu5W01"
      },
      "source": [
        "# LAB 4-7 : 원의 면적과 둘레를 반환하는 함수"
      ],
      "execution_count": 73,
      "outputs": []
    },
    {
      "cell_type": "code",
      "metadata": {
        "id": "KBuTMklv5h0y",
        "outputId": "711ff39e-e595-4b1c-e212-67e58f94315a",
        "colab": {
          "base_uri": "https://localhost:8080/",
          "height": 35
        }
      },
      "source": [
        "radius = 10\n",
        "pi = 3.14\n",
        "\n",
        "def circle_area_circum(radius):\n",
        "  area = radius * radius * pi\n",
        "  circum = 2 * radius * pi\n",
        "  return area, circum\n",
        "\n",
        "area, circum = circle_area_circum(radius)\n",
        "print('반지름',radius,'인 원의 면적은', area,', 원의 둘레는', circum)"
      ],
      "execution_count": 75,
      "outputs": [
        {
          "output_type": "stream",
          "text": [
            "반지름 10 인 원의 면적은 314.0 , 원의 둘레는 62.800000000000004\n"
          ],
          "name": "stdout"
        }
      ]
    },
    {
      "cell_type": "code",
      "metadata": {
        "id": "-FYS4ueE6bvt"
      },
      "source": [
        "# LAB 4-8 : 다수의 결과를 반환하는 함수 만들기"
      ],
      "execution_count": 76,
      "outputs": []
    },
    {
      "cell_type": "code",
      "metadata": {
        "id": "irEW274K6nlR",
        "outputId": "60c295e2-f3e1-461b-c946-557adb53be44",
        "colab": {
          "base_uri": "https://localhost:8080/",
          "height": 53
        }
      },
      "source": [
        "def muliples(n,m):\n",
        "  r1 = n * 1\n",
        "  r2 = n * 2\n",
        "  r3 = n * 3\n",
        "  r4 = n * 4\n",
        "\n",
        "  return r1, r2, r3, r4\n",
        "\n",
        "r1, r2, r3, r4 = muliples(3,4)\n",
        "print(r1, r2, r3, r4)\n",
        "\n",
        "def muliples(n,m):\n",
        "  r1 = n * 1\n",
        "  r2 = n * 2\n",
        "  r3 = n * 3\n",
        "  r4 = n * 4\n",
        "  r5 = n * 5\n",
        " \n",
        "  return r1, r2, r3, r4, r5\n",
        "  \n",
        "r1, r2, r3, r4, r5 = muliples(2,5)\n",
        "print(r1, r2, r3, r4, r5)"
      ],
      "execution_count": 78,
      "outputs": [
        {
          "output_type": "stream",
          "text": [
            "3 6 9 12\n",
            "2 4 6 8 10\n"
          ],
          "name": "stdout"
        }
      ]
    },
    {
      "cell_type": "code",
      "metadata": {
        "id": "ldjjmAEK7yq1"
      },
      "source": [
        "# 4.5 전역변수"
      ],
      "execution_count": 79,
      "outputs": []
    },
    {
      "cell_type": "code",
      "metadata": {
        "id": "ZkejZZ6C8T8h"
      },
      "source": [
        "def print_sum():\n",
        "  result = a + b\n",
        "  print('print_sum()내부:',a,'와',b,'의 합은', result,'입니다')"
      ],
      "execution_count": 80,
      "outputs": []
    },
    {
      "cell_type": "code",
      "metadata": {
        "id": "IwmHrDoM9Mb6"
      },
      "source": [
        "a = 10"
      ],
      "execution_count": 81,
      "outputs": []
    },
    {
      "cell_type": "code",
      "metadata": {
        "id": "sTnrYNaC9OYY"
      },
      "source": [
        "b = 20"
      ],
      "execution_count": 82,
      "outputs": []
    },
    {
      "cell_type": "code",
      "metadata": {
        "id": "Ovemq9jm9PCb",
        "outputId": "6a5fcb33-982a-420a-e9a4-2f96c65ef08d",
        "colab": {
          "base_uri": "https://localhost:8080/",
          "height": 35
        }
      },
      "source": [
        "print_sum()"
      ],
      "execution_count": 83,
      "outputs": [
        {
          "output_type": "stream",
          "text": [
            "print_sum()내부: 10 와 20 의 합은 30 입니다\n"
          ],
          "name": "stdout"
        }
      ]
    },
    {
      "cell_type": "code",
      "metadata": {
        "id": "6z3lA2jx9QFd",
        "outputId": "1b0e1f9e-fa41-4b81-aef9-20571c7d9623",
        "colab": {
          "base_uri": "https://localhost:8080/",
          "height": 35
        }
      },
      "source": [
        "result = a + b\n",
        "print('print_sum()외부:',a,'와',b,'의 합은', result,'입니다')"
      ],
      "execution_count": 84,
      "outputs": [
        {
          "output_type": "stream",
          "text": [
            "print_sum()외부: 10 와 20 의 합은 30 입니다\n"
          ],
          "name": "stdout"
        }
      ]
    },
    {
      "cell_type": "code",
      "metadata": {
        "id": "R9fco_OH9ZgD"
      },
      "source": [
        "def print_sum():\n",
        "  a = 100\n",
        "  b = 200\n",
        "  result = a + b\n",
        "  print('print_sum()내부:',a,'와',b,'의 합은', result,'입니다')"
      ],
      "execution_count": 85,
      "outputs": []
    },
    {
      "cell_type": "code",
      "metadata": {
        "id": "oxzbzAk29kS8"
      },
      "source": [
        "a = 10"
      ],
      "execution_count": 86,
      "outputs": []
    },
    {
      "cell_type": "code",
      "metadata": {
        "id": "jDwvmK_19mrL"
      },
      "source": [
        "b = 20"
      ],
      "execution_count": 87,
      "outputs": []
    },
    {
      "cell_type": "code",
      "metadata": {
        "id": "ayy7Sr3w9nc_",
        "outputId": "6183c15d-976a-4f7d-88ca-82842242984a",
        "colab": {
          "base_uri": "https://localhost:8080/",
          "height": 35
        }
      },
      "source": [
        "print_sum()  # 내부의 값을 외부의 값보다 먼저 사용한다!!"
      ],
      "execution_count": 88,
      "outputs": [
        {
          "output_type": "stream",
          "text": [
            "print_sum()내부: 100 와 200 의 합은 300 입니다\n"
          ],
          "name": "stdout"
        }
      ]
    },
    {
      "cell_type": "code",
      "metadata": {
        "id": "5yaAC-R09onW"
      },
      "source": [
        "def print_sum():\n",
        "  global a, b\n",
        "  a = 100\n",
        "  b = 200\n",
        "  result = a + b\n",
        "  print('print_sum() 내부:', a,'and',b,'sum', result,'입니다.')\n",
        "  "
      ],
      "execution_count": 89,
      "outputs": []
    },
    {
      "cell_type": "code",
      "metadata": {
        "id": "MaTMqAof_F6I",
        "outputId": "4d94ee69-48c9-4e78-9b18-af5a93090724",
        "colab": {
          "base_uri": "https://localhost:8080/",
          "height": 53
        }
      },
      "source": [
        "print_sum()\n",
        "a = 10\n",
        "b = 20\n",
        "result = a + b\n",
        "print('print_sum() 외부:', a,'and',b,'sum', result,'입니다.')"
      ],
      "execution_count": 92,
      "outputs": [
        {
          "output_type": "stream",
          "text": [
            "print_sum() 내부: 100 and 200 sum 300 입니다.\n",
            "print_sum() 외부: 10 and 20 sum 30 입니다.\n"
          ],
          "name": "stdout"
        }
      ]
    },
    {
      "cell_type": "code",
      "metadata": {
        "id": "mECAuJ0W_SLA"
      },
      "source": [
        "# 4.6 함수의 인자 전달 방식"
      ],
      "execution_count": 93,
      "outputs": []
    },
    {
      "cell_type": "code",
      "metadata": {
        "id": "AkDj26ueIT-K"
      },
      "source": [
        "# 4.6.1 디폴트 인자"
      ],
      "execution_count": null,
      "outputs": []
    },
    {
      "cell_type": "code",
      "metadata": {
        "id": "mEhzst0V_7_3",
        "outputId": "59e282cd-3f25-4911-a37f-c8746bf0de20",
        "colab": {
          "base_uri": "https://localhost:8080/",
          "height": 53
        }
      },
      "source": [
        "def div(a,b=2):\n",
        "  return a / b\n",
        "\n",
        "print('div(4)=',div(4))\n",
        "print('div(6,3)=', div(6,3))"
      ],
      "execution_count": 100,
      "outputs": [
        {
          "output_type": "stream",
          "text": [
            "div(4)= 2.0\n",
            "div(6,3)= 2.0\n"
          ],
          "name": "stdout"
        }
      ]
    },
    {
      "cell_type": "code",
      "metadata": {
        "id": "Z4JXpAYzGguM",
        "outputId": "e5f0de5f-70ca-4e06-a7a1-1566a150efc6",
        "colab": {
          "base_uri": "https://localhost:8080/",
          "height": 72
        }
      },
      "source": [
        "def div(a=1,b=2):\n",
        "  return a / b\n",
        "\n",
        "print('div()=',div())\n",
        "print('div(4)=',div(4))\n",
        "print('div(6,3)=', div(6,3))"
      ],
      "execution_count": 101,
      "outputs": [
        {
          "output_type": "stream",
          "text": [
            "div()= 0.5\n",
            "div(4)= 2.0\n",
            "div(6,3)= 2.0\n"
          ],
          "name": "stdout"
        }
      ]
    },
    {
      "cell_type": "code",
      "metadata": {
        "id": "_Q7nquMBGhHy"
      },
      "source": [
        "# 4.6.2 키워드 인자"
      ],
      "execution_count": 102,
      "outputs": []
    },
    {
      "cell_type": "code",
      "metadata": {
        "id": "vEiG1kzOGhLX",
        "outputId": "e248e2de-57df-4df4-9cdd-7da3fbd3bcd1",
        "colab": {
          "base_uri": "https://localhost:8080/",
          "height": 173
        }
      },
      "source": [
        "result1, result2 = get_root(1,-8,b=2)"
      ],
      "execution_count": 104,
      "outputs": [
        {
          "output_type": "error",
          "ename": "TypeError",
          "evalue": "ignored",
          "traceback": [
            "\u001b[0;31m---------------------------------------------------------------------------\u001b[0m",
            "\u001b[0;31mTypeError\u001b[0m                                 Traceback (most recent call last)",
            "\u001b[0;32m<ipython-input-104-2c0e5505ad3a>\u001b[0m in \u001b[0;36m<module>\u001b[0;34m()\u001b[0m\n\u001b[0;32m----> 1\u001b[0;31m \u001b[0mresult1\u001b[0m\u001b[0;34m,\u001b[0m \u001b[0mresult2\u001b[0m \u001b[0;34m=\u001b[0m \u001b[0mget_root\u001b[0m\u001b[0;34m(\u001b[0m\u001b[0;36m1\u001b[0m\u001b[0;34m,\u001b[0m\u001b[0;34m-\u001b[0m\u001b[0;36m8\u001b[0m\u001b[0;34m,\u001b[0m\u001b[0mb\u001b[0m\u001b[0;34m=\u001b[0m\u001b[0;36m2\u001b[0m\u001b[0;34m)\u001b[0m\u001b[0;34m\u001b[0m\u001b[0;34m\u001b[0m\u001b[0m\n\u001b[0m",
            "\u001b[0;31mTypeError\u001b[0m: get_root() got multiple values for argument 'b'"
          ]
        }
      ]
    },
    {
      "cell_type": "code",
      "metadata": {
        "id": "M-mBMzPUGgw2"
      },
      "source": [
        "def func(a,b,c):\n",
        "  print(a,b,c)"
      ],
      "execution_count": 105,
      "outputs": []
    },
    {
      "cell_type": "code",
      "metadata": {
        "id": "4WtQfjVMGgSw",
        "outputId": "603ed0cc-b889-4cf9-ae0e-4e290497aab8",
        "colab": {
          "base_uri": "https://localhost:8080/",
          "height": 35
        }
      },
      "source": [
        "func(1,2,3)"
      ],
      "execution_count": 106,
      "outputs": [
        {
          "output_type": "stream",
          "text": [
            "1 2 3\n"
          ],
          "name": "stdout"
        }
      ]
    },
    {
      "cell_type": "code",
      "metadata": {
        "id": "fmtoLu9-KAOv",
        "outputId": "088fa2fe-15a2-4b6f-cb7c-59f74b89e22c",
        "colab": {
          "base_uri": "https://localhost:8080/",
          "height": 35
        }
      },
      "source": [
        "func(1,c = 2, b = 3)"
      ],
      "execution_count": 107,
      "outputs": [
        {
          "output_type": "stream",
          "text": [
            "1 3 2\n"
          ],
          "name": "stdout"
        }
      ]
    },
    {
      "cell_type": "code",
      "metadata": {
        "id": "GdNadH1uKAg8",
        "outputId": "1e69b7c8-e62c-47b7-caa7-f9b3f07407f8",
        "colab": {
          "base_uri": "https://localhost:8080/",
          "height": 137
        }
      },
      "source": [
        "func(1,b=2,3)"
      ],
      "execution_count": 108,
      "outputs": [
        {
          "output_type": "error",
          "ename": "SyntaxError",
          "evalue": "ignored",
          "traceback": [
            "\u001b[0;36m  File \u001b[0;32m\"<ipython-input-108-6ec6d43683c2>\"\u001b[0;36m, line \u001b[0;32m1\u001b[0m\n\u001b[0;31m    func(1,b=2,3)\u001b[0m\n\u001b[0m              ^\u001b[0m\n\u001b[0;31mSyntaxError\u001b[0m\u001b[0;31m:\u001b[0m positional argument follows keyword argument\n"
          ]
        }
      ]
    },
    {
      "cell_type": "code",
      "metadata": {
        "id": "6yoJr5YgKARn"
      },
      "source": [
        "def func(shape, width = 1, height=1, radius=1):\n",
        "  if shape == 0 : #   사각형 의미\n",
        "    return width*height\n",
        "  if shape == 1:  # 원 의미\n",
        "   return 3.14 * radius **2"
      ],
      "execution_count": 109,
      "outputs": []
    },
    {
      "cell_type": "code",
      "metadata": {
        "id": "ui9hx5GyKaCK",
        "outputId": "0c272fbf-325d-4d11-cbbf-3a7fa50b5d94",
        "colab": {
          "base_uri": "https://localhost:8080/",
          "height": 53
        }
      },
      "source": [
        "print(\"rect area = \",func(0,width=10,height=2))\n",
        "print(\"circle area = \", func(1,radius=5))"
      ],
      "execution_count": 110,
      "outputs": [
        {
          "output_type": "stream",
          "text": [
            "rect area =  20\n",
            "circle area =  78.5\n"
          ],
          "name": "stdout"
        }
      ]
    },
    {
      "cell_type": "code",
      "metadata": {
        "id": "1jBMtK0mKaFE",
        "outputId": "10875496-9f06-493b-f19d-27b30b2b2c19",
        "colab": {
          "base_uri": "https://localhost:8080/",
          "height": 35
        }
      },
      "source": [
        "print(\"rect area = \",func(0,radius=5))"
      ],
      "execution_count": 111,
      "outputs": [
        {
          "output_type": "stream",
          "text": [
            "rect area =  1\n"
          ],
          "name": "stdout"
        }
      ]
    },
    {
      "cell_type": "code",
      "metadata": {
        "id": "AXpFI1oOKaH-",
        "outputId": "d16f2c7b-ddbe-401f-cc68-3fb820dda3de",
        "colab": {
          "base_uri": "https://localhost:8080/",
          "height": 35
        }
      },
      "source": [
        "print(\"circle area = \", func(1,radius=5))"
      ],
      "execution_count": 112,
      "outputs": [
        {
          "output_type": "stream",
          "text": [
            "circle area =  78.5\n"
          ],
          "name": "stdout"
        }
      ]
    },
    {
      "cell_type": "code",
      "metadata": {
        "id": "i8_aJyctGgNI"
      },
      "source": [
        "# LAB 4-9 : 키워드 인자"
      ],
      "execution_count": 94,
      "outputs": []
    },
    {
      "cell_type": "code",
      "metadata": {
        "id": "wuElJzGzGlUZ"
      },
      "source": [
        "# 1. 다음과 같이 성(last name)과 이름(first name), 존칭(honorifics)을 매개변수로 받아서 출력하는 함수 print_name이 있다."
      ],
      "execution_count": 95,
      "outputs": []
    },
    {
      "cell_type": "code",
      "metadata": {
        "id": "UtFAVSlELcrO"
      },
      "source": [
        "def print_name(honorifics, first_name, last_name):\n",
        "  ''' 키워드 인자를 이용한 출력용 프로그램 '''\n",
        "  print(honorifics, first_name, last_name)"
      ],
      "execution_count": 115,
      "outputs": []
    },
    {
      "cell_type": "code",
      "metadata": {
        "id": "uf8k4ujpGwu6"
      },
      "source": [
        "# a) 다음과 같은 함수 호출의 결과는 무엇인가?"
      ],
      "execution_count": 116,
      "outputs": []
    },
    {
      "cell_type": "code",
      "metadata": {
        "id": "S4sgr39pLbXZ",
        "outputId": "365c72a1-c383-4568-e4d7-dfeff8b8e6cb",
        "colab": {
          "base_uri": "https://localhost:8080/",
          "height": 35
        }
      },
      "source": [
        "print_name(first_name='Gildong', last_name='Hong', honorifics='Dr.')"
      ],
      "execution_count": 118,
      "outputs": [
        {
          "output_type": "stream",
          "text": [
            "Dr. Gildong Hong\n"
          ],
          "name": "stdout"
        }
      ]
    },
    {
      "cell_type": "code",
      "metadata": {
        "id": "ZUIQe_MJG1Ie"
      },
      "source": [
        "# b) 다음과 같은 함수 호출의 결과는 무엇인가?"
      ],
      "execution_count": 97,
      "outputs": []
    },
    {
      "cell_type": "code",
      "metadata": {
        "id": "ude2KkJiMSuk",
        "outputId": "b0cba968-d237-4b09-c50b-a3a59675eeb0",
        "colab": {
          "base_uri": "https://localhost:8080/",
          "height": 35
        }
      },
      "source": [
        "print_name('Gildong', 'Hong', 'Dr.')"
      ],
      "execution_count": 119,
      "outputs": [
        {
          "output_type": "stream",
          "text": [
            "Gildong Hong Dr.\n"
          ],
          "name": "stdout"
        }
      ]
    },
    {
      "cell_type": "code",
      "metadata": {
        "id": "0hCXYGu3MaXX"
      },
      "source": [
        "# 4.6.3 가변적인 인자전달"
      ],
      "execution_count": 120,
      "outputs": []
    },
    {
      "cell_type": "code",
      "metadata": {
        "id": "y-01q_gmMavr"
      },
      "source": [
        "def greet(*names):\n",
        "  for name in names:\n",
        "    print('안녕하세요',name,'씨')"
      ],
      "execution_count": 121,
      "outputs": []
    },
    {
      "cell_type": "code",
      "metadata": {
        "id": "CsmtC1FVMayQ",
        "outputId": "4c5b04db-25e0-4e17-ac7e-76da67838a5b",
        "colab": {
          "base_uri": "https://localhost:8080/",
          "height": 72
        }
      },
      "source": [
        "greet('홍길동','양만춘','이순신')"
      ],
      "execution_count": 122,
      "outputs": [
        {
          "output_type": "stream",
          "text": [
            "안녕하세요 홍길동 씨\n",
            "안녕하세요 양만춘 씨\n",
            "안녕하세요 이순신 씨\n"
          ],
          "name": "stdout"
        }
      ]
    },
    {
      "cell_type": "code",
      "metadata": {
        "id": "mUDTEpGsMa1G",
        "outputId": "976a86bb-3b4b-4fad-ac61-dc6309acfea2",
        "colab": {
          "base_uri": "https://localhost:8080/",
          "height": 53
        }
      },
      "source": [
        "greet('김대희','이상민')"
      ],
      "execution_count": 123,
      "outputs": [
        {
          "output_type": "stream",
          "text": [
            "안녕하세요 김대희 씨\n",
            "안녕하세요 이상민 씨\n"
          ],
          "name": "stdout"
        }
      ]
    },
    {
      "cell_type": "code",
      "metadata": {
        "id": "1RuMWyJQMa37"
      },
      "source": [
        "def greet(*names):\n",
        "  print('length:', len(names))\n",
        "  \n",
        "  for name in names:\n",
        "    print('안녕하세요',name,'씨')"
      ],
      "execution_count": 125,
      "outputs": []
    },
    {
      "cell_type": "code",
      "metadata": {
        "id": "Ro-8mEShMagh",
        "outputId": "e737a06e-f75d-4403-e1b4-4357b0ba0940",
        "colab": {
          "base_uri": "https://localhost:8080/",
          "height": 90
        }
      },
      "source": [
        "greet('홍길동','양만춘','이순신')"
      ],
      "execution_count": 126,
      "outputs": [
        {
          "output_type": "stream",
          "text": [
            "length: 3\n",
            "안녕하세요 홍길동 씨\n",
            "안녕하세요 양만춘 씨\n",
            "안녕하세요 이순신 씨\n"
          ],
          "name": "stdout"
        }
      ]
    },
    {
      "cell_type": "code",
      "metadata": {
        "id": "YhST8jKyMabw",
        "outputId": "0853e388-4408-4a06-865f-1ae045cef036",
        "colab": {
          "base_uri": "https://localhost:8080/",
          "height": 72
        }
      },
      "source": [
        "greet('김대희','이상민')"
      ],
      "execution_count": 127,
      "outputs": [
        {
          "output_type": "stream",
          "text": [
            "length: 2\n",
            "안녕하세요 김대희 씨\n",
            "안녕하세요 이상민 씨\n"
          ],
          "name": "stdout"
        }
      ]
    },
    {
      "cell_type": "code",
      "metadata": {
        "id": "XSMGgAJmNrKV",
        "outputId": "0f21a1ab-7aef-46c5-c1c9-e4fd086d2ce8",
        "colab": {
          "base_uri": "https://localhost:8080/",
          "height": 53
        }
      },
      "source": [
        "def sum_nums(*numbers):\n",
        "  result = 0\n",
        "  for n in numbers:\n",
        "    result += n\n",
        "  return result\n",
        "\n",
        "print(sum_nums(10,20,30))\n",
        "print(sum_nums(10,20,30,40,50))"
      ],
      "execution_count": 129,
      "outputs": [
        {
          "output_type": "stream",
          "text": [
            "60\n",
            "150\n"
          ],
          "name": "stdout"
        }
      ]
    },
    {
      "cell_type": "code",
      "metadata": {
        "id": "JI7_x7-3G4Ws"
      },
      "source": [
        "# LAB 4-10 : 가변 인자의 활용"
      ],
      "execution_count": 98,
      "outputs": []
    },
    {
      "cell_type": "code",
      "metadata": {
        "id": "unvZNs4oG9RP"
      },
      "source": [
        "# 1. 가변 인자를 사용하는 sum_nums() 함수를 수정하여 인자들을 튜플 형식으로 출력한 후 모든 값들의 합과 평균을 다음과 같이 출력하시오."
      ],
      "execution_count": 99,
      "outputs": []
    },
    {
      "cell_type": "code",
      "metadata": {
        "id": "vpX5uk1fHX5N",
        "outputId": "81cf44ee-0fe8-40e4-8969-ddbb678205e6",
        "colab": {
          "base_uri": "https://localhost:8080/",
          "height": 53
        }
      },
      "source": [
        "def sum_nums(*numbers):\n",
        "  result = 0\n",
        "  for n in numbers:\n",
        "    result += n\n",
        "  return result\n",
        "\n",
        "print('3 개의 인자 (10, 20, 30)')\n",
        "print('합계 :',sum_nums(10,20,30),', 평균 :',sum_nums(10,20,30)/3)"
      ],
      "execution_count": 132,
      "outputs": [
        {
          "output_type": "stream",
          "text": [
            "3 개의 인자 (10, 20, 30)\n",
            "합계 : 60 , 평균 : 20.0\n"
          ],
          "name": "stdout"
        }
      ]
    },
    {
      "cell_type": "code",
      "metadata": {
        "id": "97AquWd6Om4W",
        "outputId": "98dd9d40-c6e2-46fe-fc44-78d68e6edcfa",
        "colab": {
          "base_uri": "https://localhost:8080/",
          "height": 53
        }
      },
      "source": [
        "def sum_nums(*numbers):\n",
        "  result = 0\n",
        "  for n in numbers:\n",
        "    result += n\n",
        "  return result\n",
        "\n",
        "print('5 개의 인자 (10, 20, 30, 40, 50)')\n",
        "print('합계 :',sum_nums(10,20,30,40,50),', 평균 :',sum_nums(10,20,30,40,50)/5)"
      ],
      "execution_count": 133,
      "outputs": [
        {
          "output_type": "stream",
          "text": [
            "5 개의 인자 (10, 20, 30, 40, 50)\n",
            "합계 : 150 , 평균 : 30.0\n"
          ],
          "name": "stdout"
        }
      ]
    },
    {
      "cell_type": "code",
      "metadata": {
        "id": "HCwuI1ESO0mA"
      },
      "source": [
        "# 2. 가변 인자를 사용하는 함수 min_nums() 함수를 구현하시오. 이 함수는 정수를 인자로 받을 수 있는데 이 인자의 개수가 가변적이다. 이 함수의 호출문이 다음과 같을 경우 다음과 같은 출력이 나타나도록 하시오."
      ],
      "execution_count": 134,
      "outputs": []
    },
    {
      "cell_type": "code",
      "metadata": {
        "id": "RMXYmciwO4Yg",
        "outputId": "39a5a32e-965a-4ff2-d563-477848ab3eff",
        "colab": {
          "base_uri": "https://localhost:8080/",
          "height": 35
        }
      },
      "source": [
        "def min_nums(*numbers):\n",
        "  result = numbers[0]\n",
        "  \n",
        "  for n in numbers:\n",
        "    if n < result : \n",
        "      result = n\n",
        "  \n",
        "  return result\n",
        "\n",
        "result = min_nums(20,40,50,10)\n",
        "print('최솟값은 ',result)"
      ],
      "execution_count": 194,
      "outputs": [
        {
          "output_type": "stream",
          "text": [
            "최솟값은  10\n"
          ],
          "name": "stdout"
        }
      ]
    },
    {
      "cell_type": "code",
      "metadata": {
        "id": "2v_hABPFQbuZ"
      },
      "source": [
        "# 4.7 재귀함수"
      ],
      "execution_count": 139,
      "outputs": []
    },
    {
      "cell_type": "code",
      "metadata": {
        "id": "Qg2ZsqXJRRwZ",
        "outputId": "1ef2b5a3-9195-4082-ceff-82665b1fb384",
        "colab": {
          "base_uri": "https://localhost:8080/",
          "height": 35
        }
      },
      "source": [
        "def factorial(n):\n",
        "  if n <= 1:\n",
        "    return 1\n",
        "  else:\n",
        "    return n*factorial(n-1)\n",
        "\n",
        "n = 6\n",
        "print('{}!={}'.format(n,factorial(n)))"
      ],
      "execution_count": 144,
      "outputs": [
        {
          "output_type": "stream",
          "text": [
            "6!=720\n"
          ],
          "name": "stdout"
        }
      ]
    },
    {
      "cell_type": "code",
      "metadata": {
        "id": "B1gwLjKrSHXN",
        "outputId": "ccebcece-cd90-4c69-9cce-88df13722bd0",
        "colab": {
          "base_uri": "https://localhost:8080/",
          "height": 35
        }
      },
      "source": [
        "def fibonacci(n):\n",
        "  if n<=1:\n",
        "    return n\n",
        "  else:\n",
        "    return(fibonacci(n-1) + fibonacci(n-2))\n",
        "\n",
        "nterm = int(input(\"몇개의 피보나치수를 원하세요?\"))"
      ],
      "execution_count": 145,
      "outputs": [
        {
          "output_type": "stream",
          "text": [
            "몇개의 피보나치수를 원하세요?10\n"
          ],
          "name": "stdout"
        }
      ]
    },
    {
      "cell_type": "code",
      "metadata": {
        "id": "bvWckX12SoEh",
        "outputId": "2dd99df4-1b2a-473b-f274-7fd22f43fddb",
        "colab": {
          "base_uri": "https://localhost:8080/",
          "height": 35
        }
      },
      "source": [
        "nterm"
      ],
      "execution_count": 146,
      "outputs": [
        {
          "output_type": "execute_result",
          "data": {
            "text/plain": [
              "10"
            ]
          },
          "metadata": {
            "tags": []
          },
          "execution_count": 146
        }
      ]
    },
    {
      "cell_type": "code",
      "metadata": {
        "id": "9fd0w1qAStsA",
        "outputId": "849d041b-44e0-4a01-de3d-9f2d01b3f1a3",
        "colab": {
          "base_uri": "https://localhost:8080/",
          "height": 35
        }
      },
      "source": [
        "fibonacci(nterm)"
      ],
      "execution_count": 147,
      "outputs": [
        {
          "output_type": "execute_result",
          "data": {
            "text/plain": [
              "55"
            ]
          },
          "metadata": {
            "tags": []
          },
          "execution_count": 147
        }
      ]
    },
    {
      "cell_type": "code",
      "metadata": {
        "id": "0dbxW7Q4SxfS",
        "outputId": "30ee58bf-02c9-4034-d820-6999d05ed943",
        "colab": {
          "base_uri": "https://localhost:8080/",
          "height": 35
        }
      },
      "source": [
        "if nterm <= 0:\n",
        "  print('error! 양수입력!!')\n",
        "else:\n",
        "  print(\"Fibonacci 수열\", end=' ')\n",
        "  for i in range(nterm):\n",
        "    print(fibonacci(i),end=' ')"
      ],
      "execution_count": 149,
      "outputs": [
        {
          "output_type": "stream",
          "text": [
            "Fibonacci 수열 0 1 1 2 3 5 8 13 21 34 "
          ],
          "name": "stdout"
        }
      ]
    },
    {
      "cell_type": "code",
      "metadata": {
        "id": "7Lv_hWjRTJtl"
      },
      "source": [
        "# 4.8 입력함수와 출력함수"
      ],
      "execution_count": 150,
      "outputs": []
    },
    {
      "cell_type": "code",
      "metadata": {
        "id": "r68BuNUwTUOr"
      },
      "source": [
        "# 4.8.1 input()함수와 int()함수"
      ],
      "execution_count": 151,
      "outputs": []
    },
    {
      "cell_type": "code",
      "metadata": {
        "id": "-I7FD65vT2Y0",
        "outputId": "e0d38570-c38f-45bb-f0fd-01710d669aa9",
        "colab": {
          "base_uri": "https://localhost:8080/",
          "height": 35
        }
      },
      "source": [
        "s1, s2 = input('문자열 2개를 입력하세요: ').split()"
      ],
      "execution_count": 152,
      "outputs": [
        {
          "output_type": "stream",
          "text": [
            "문자열 2개를 입력하세요: Hello python\n"
          ],
          "name": "stdout"
        }
      ]
    },
    {
      "cell_type": "code",
      "metadata": {
        "id": "nck-CC9sUKeP",
        "outputId": "547bfd2f-48fd-45de-989f-c53be9f51e98",
        "colab": {
          "base_uri": "https://localhost:8080/",
          "height": 35
        }
      },
      "source": [
        "s1"
      ],
      "execution_count": 153,
      "outputs": [
        {
          "output_type": "execute_result",
          "data": {
            "application/vnd.google.colaboratory.intrinsic+json": {
              "type": "string"
            },
            "text/plain": [
              "'Hello'"
            ]
          },
          "metadata": {
            "tags": []
          },
          "execution_count": 153
        }
      ]
    },
    {
      "cell_type": "code",
      "metadata": {
        "id": "eg0E1LcoUKok",
        "outputId": "6960eb8b-e7a1-45df-f1df-a049d481662f",
        "colab": {
          "base_uri": "https://localhost:8080/",
          "height": 35
        }
      },
      "source": [
        "s2"
      ],
      "execution_count": 154,
      "outputs": [
        {
          "output_type": "execute_result",
          "data": {
            "application/vnd.google.colaboratory.intrinsic+json": {
              "type": "string"
            },
            "text/plain": [
              "'python'"
            ]
          },
          "metadata": {
            "tags": []
          },
          "execution_count": 154
        }
      ]
    },
    {
      "cell_type": "code",
      "metadata": {
        "id": "AduiyumFUK13",
        "outputId": "35a4b60c-a2c9-4d04-c447-b14d80b86a3a",
        "colab": {
          "base_uri": "https://localhost:8080/",
          "height": 35
        }
      },
      "source": [
        "num1, num2, num3 = map(int,input('세 정수를 입력하세요: ').split())"
      ],
      "execution_count": 155,
      "outputs": [
        {
          "output_type": "stream",
          "text": [
            "세 정수를 입력하세요: 100 200 300\n"
          ],
          "name": "stdout"
        }
      ]
    },
    {
      "cell_type": "code",
      "metadata": {
        "id": "au8n5wIYUKyI",
        "outputId": "d9fb880d-38fd-4e91-c3b8-a2a94b0ab5a8",
        "colab": {
          "base_uri": "https://localhost:8080/",
          "height": 35
        }
      },
      "source": [
        "num1, num2, num3"
      ],
      "execution_count": 156,
      "outputs": [
        {
          "output_type": "execute_result",
          "data": {
            "text/plain": [
              "(100, 200, 300)"
            ]
          },
          "metadata": {
            "tags": []
          },
          "execution_count": 156
        }
      ]
    },
    {
      "cell_type": "code",
      "metadata": {
        "id": "t4eLwbpgUKv6",
        "outputId": "43d05a08-e158-4f9c-e00c-6e180454229e",
        "colab": {
          "base_uri": "https://localhost:8080/",
          "height": 35
        }
      },
      "source": [
        "num1, num2, num3 = input('세 정수를 ,로 구분하여 입력하세요: ').split(',')"
      ],
      "execution_count": 160,
      "outputs": [
        {
          "output_type": "stream",
          "text": [
            "세 정수를 ,로 구분하여 입력하세요: 100,200,300\n"
          ],
          "name": "stdout"
        }
      ]
    },
    {
      "cell_type": "code",
      "metadata": {
        "id": "UKTBEovPUKuf",
        "outputId": "82cb974a-6e32-4b23-8948-57959be32efd",
        "colab": {
          "base_uri": "https://localhost:8080/",
          "height": 35
        }
      },
      "source": [
        "num1, num2, num3"
      ],
      "execution_count": 161,
      "outputs": [
        {
          "output_type": "execute_result",
          "data": {
            "text/plain": [
              "('100', '200', '300')"
            ]
          },
          "metadata": {
            "tags": []
          },
          "execution_count": 161
        }
      ]
    },
    {
      "cell_type": "code",
      "metadata": {
        "id": "GMVOqxGzUKki"
      },
      "source": [
        "num1, num2, num3 = int(num1), int(num2), int(num3)"
      ],
      "execution_count": 162,
      "outputs": []
    },
    {
      "cell_type": "code",
      "metadata": {
        "id": "Pekt_QkhUKaH",
        "outputId": "78293e91-3e71-4068-8c07-71c63ede36c7",
        "colab": {
          "base_uri": "https://localhost:8080/",
          "height": 35
        }
      },
      "source": [
        "num1, num2, num3"
      ],
      "execution_count": 163,
      "outputs": [
        {
          "output_type": "execute_result",
          "data": {
            "text/plain": [
              "(100, 200, 300)"
            ]
          },
          "metadata": {
            "tags": []
          },
          "execution_count": 163
        }
      ]
    },
    {
      "cell_type": "code",
      "metadata": {
        "id": "cMAXGznQVsly"
      },
      "source": [
        "# 4.8.2 여러가지 문자열 처리 메소드"
      ],
      "execution_count": 164,
      "outputs": []
    },
    {
      "cell_type": "code",
      "metadata": {
        "id": "CkWpTy-NVvdX",
        "outputId": "642f069b-1ac4-48c9-f3e9-87d186cad806",
        "colab": {
          "base_uri": "https://localhost:8080/",
          "height": 35
        }
      },
      "source": [
        " 'hello'.upper()"
      ],
      "execution_count": 165,
      "outputs": [
        {
          "output_type": "execute_result",
          "data": {
            "application/vnd.google.colaboratory.intrinsic+json": {
              "type": "string"
            },
            "text/plain": [
              "'HELLO'"
            ]
          },
          "metadata": {
            "tags": []
          },
          "execution_count": 165
        }
      ]
    },
    {
      "cell_type": "code",
      "metadata": {
        "id": "KttuC3_iV6Ar",
        "outputId": "df1b03e4-cad2-4eb7-c446-f9324951cb0d",
        "colab": {
          "base_uri": "https://localhost:8080/",
          "height": 35
        }
      },
      "source": [
        "'Guido Van Rossum'.split()"
      ],
      "execution_count": 166,
      "outputs": [
        {
          "output_type": "execute_result",
          "data": {
            "text/plain": [
              "['Guido', 'Van', 'Rossum']"
            ]
          },
          "metadata": {
            "tags": []
          },
          "execution_count": 166
        }
      ]
    },
    {
      "cell_type": "code",
      "metadata": {
        "id": "-v0yADMbV_tv",
        "outputId": "c08217e5-0130-4766-a44c-ad1c9f2c88bd",
        "colab": {
          "base_uri": "https://localhost:8080/",
          "height": 35
        }
      },
      "source": [
        "'Apple,Banana,Orange'.split(',')"
      ],
      "execution_count": 168,
      "outputs": [
        {
          "output_type": "execute_result",
          "data": {
            "text/plain": [
              "['Apple', 'Banana', 'Orange']"
            ]
          },
          "metadata": {
            "tags": []
          },
          "execution_count": 168
        }
      ]
    },
    {
      "cell_type": "code",
      "metadata": {
        "id": "aOK_UuAFWHRj",
        "outputId": "453a6274-fc44-4172-db53-2f564fbefaf6",
        "colab": {
          "base_uri": "https://localhost:8080/",
          "height": 35
        }
      },
      "source": [
        "'Apple|Banana|Orange|Kiwi'.split('|')"
      ],
      "execution_count": 170,
      "outputs": [
        {
          "output_type": "execute_result",
          "data": {
            "text/plain": [
              "['Apple', 'Banana', 'Orange', 'Kiwi']"
            ]
          },
          "metadata": {
            "tags": []
          },
          "execution_count": 170
        }
      ]
    },
    {
      "cell_type": "code",
      "metadata": {
        "id": "wjO_PvikWO_Q"
      },
      "source": [
        "# LAB 4 - 11 : format() 메소드의 활용"
      ],
      "execution_count": 171,
      "outputs": []
    },
    {
      "cell_type": "code",
      "metadata": {
        "id": "4qJHpsYMZNrF"
      },
      "source": [
        "# 1. 위의 코드를 수정하여 이름, 나이, 직업, 사는 곳까지 다음과 같이 화면에 출력하려고 한다."
      ],
      "execution_count": null,
      "outputs": []
    },
    {
      "cell_type": "code",
      "metadata": {
        "id": "wdpZw-j7YTlr",
        "outputId": "8c6f3d8b-b90d-4ba9-aa00-47006eba5c39",
        "colab": {
          "base_uri": "https://localhost:8080/",
          "height": 90
        }
      },
      "source": [
        "이름 = input('당신의 이름을 입력해주세요 : ')\n",
        "나이 = int(input('나이를 입력해주세요 : '))\n",
        "직업 = input('직업을 입력해주세요 : ')\n",
        "사는곳 = input('사는 곳을 입력해주세요 : ')"
      ],
      "execution_count": 172,
      "outputs": [
        {
          "output_type": "stream",
          "text": [
            "당신의 이름을 입력해주세요 : 김철수\n",
            "나이를 입력해주세요 : 21\n",
            "직업을 입력해주세요 : 학생\n",
            "사는 곳을 입력해주세요 : 창원시\n"
          ],
          "name": "stdout"
        }
      ]
    },
    {
      "cell_type": "code",
      "metadata": {
        "id": "5kOzqc9LYngd"
      },
      "source": [
        "# a) 출력문에서 format() 메소드를 사용하여 출력하여라."
      ],
      "execution_count": 173,
      "outputs": []
    },
    {
      "cell_type": "code",
      "metadata": {
        "id": "iOS-jC4jYveF",
        "outputId": "2c29c612-fb4a-46aa-f927-4db7538aca31",
        "colab": {
          "base_uri": "https://localhost:8080/",
          "height": 35
        }
      },
      "source": [
        "print('당신의 이름은 {}, 나이는 {}살, 직업은 {}, 사는 곳은 {}입니다.'.format(이름,나이,직업,사는곳))"
      ],
      "execution_count": 174,
      "outputs": [
        {
          "output_type": "stream",
          "text": [
            "당신의 이름은 김철수, 나이는 21살, 직업은 학생, 사는 곳은 창원시입니다.\n"
          ],
          "name": "stdout"
        }
      ]
    },
    {
      "cell_type": "code",
      "metadata": {
        "id": "T0shj_uIY516"
      },
      "source": [
        "# b) 출력문에서 format() 메소드를 사용하지 말고 쉼표로 구분하여 출력하여라."
      ],
      "execution_count": 175,
      "outputs": []
    },
    {
      "cell_type": "code",
      "metadata": {
        "id": "0uQAh9qNY_Nt",
        "outputId": "ccc258d2-58fe-46f3-aebf-4503d35318d1",
        "colab": {
          "base_uri": "https://localhost:8080/",
          "height": 35
        }
      },
      "source": [
        "print('당신의 이름은',이름,', 나이는',나이,'살, 직업은',직업,', 사는 곳은',사는곳,'입니다.')"
      ],
      "execution_count": 176,
      "outputs": [
        {
          "output_type": "stream",
          "text": [
            "당신의 이름은 김철수 , 나이는 21 살, 직업은 학생 , 사는 곳은 창원시 입니다.\n"
          ],
          "name": "stdout"
        }
      ]
    },
    {
      "cell_type": "code",
      "metadata": {
        "id": "Lg58GW2FZLPw"
      },
      "source": [
        "# LAB 4-12 : 문자열의 여러 메소드 활용"
      ],
      "execution_count": 179,
      "outputs": []
    },
    {
      "cell_type": "code",
      "metadata": {
        "id": "l3_7WytkZ9FI"
      },
      "source": [
        "# 1. join() 메소드를 사용하여 'ABCD'의 문자열을 'A_B_C_D'와 같이 출력하여라"
      ],
      "execution_count": 180,
      "outputs": []
    },
    {
      "cell_type": "code",
      "metadata": {
        "id": "nKAFVlTmax4p",
        "outputId": "2adca65c-6cbe-4d2a-b3f4-8355f2c9304a",
        "colab": {
          "base_uri": "https://localhost:8080/",
          "height": 35
        }
      },
      "source": [
        "'_'.join('ABCD')"
      ],
      "execution_count": 181,
      "outputs": [
        {
          "output_type": "execute_result",
          "data": {
            "application/vnd.google.colaboratory.intrinsic+json": {
              "type": "string"
            },
            "text/plain": [
              "'A_B_C_D'"
            ]
          },
          "metadata": {
            "tags": []
          },
          "execution_count": 181
        }
      ]
    },
    {
      "cell_type": "code",
      "metadata": {
        "id": "V-pl-MH7a1-6"
      },
      "source": [
        "# 2. 'My favorite thing is monsters.'라는 문자열 s에 replace() 메소드를 적용하여 'My favorite thing is cartoons.'로 수정된 t문자열을 얻도록 하여라."
      ],
      "execution_count": 182,
      "outputs": []
    },
    {
      "cell_type": "code",
      "metadata": {
        "id": "ylWdUnwPbKEc",
        "outputId": "620a01b6-d65e-4493-fd12-12603b1fc8e5",
        "colab": {
          "base_uri": "https://localhost:8080/",
          "height": 35
        }
      },
      "source": [
        "s = 'My favorite thing is monsters.'\n",
        "s.replace('monsters', 'cartoons')"
      ],
      "execution_count": 183,
      "outputs": [
        {
          "output_type": "execute_result",
          "data": {
            "application/vnd.google.colaboratory.intrinsic+json": {
              "type": "string"
            },
            "text/plain": [
              "'My favorite thing is cartoons.'"
            ]
          },
          "metadata": {
            "tags": []
          },
          "execution_count": 183
        }
      ]
    },
    {
      "cell_type": "code",
      "metadata": {
        "id": "ikBrrjgBcvK1"
      },
      "source": [
        "# 4.11 내장함수"
      ],
      "execution_count": 195,
      "outputs": []
    },
    {
      "cell_type": "code",
      "metadata": {
        "id": "QMmUAOhRcvN-",
        "outputId": "fc38495f-9ad0-42ab-b39b-2e39fbfcefc7",
        "colab": {
          "base_uri": "https://localhost:8080/",
          "height": 35
        }
      },
      "source": [
        "abs(-100)"
      ],
      "execution_count": 196,
      "outputs": [
        {
          "output_type": "execute_result",
          "data": {
            "text/plain": [
              "100"
            ]
          },
          "metadata": {
            "tags": []
          },
          "execution_count": 196
        }
      ]
    },
    {
      "cell_type": "code",
      "metadata": {
        "id": "viI67JoUczvy",
        "outputId": "90c65719-9305-4b30-a0a5-249f6607cbcf",
        "colab": {
          "base_uri": "https://localhost:8080/",
          "height": 35
        }
      },
      "source": [
        "min(200,100,300,400)"
      ],
      "execution_count": 197,
      "outputs": [
        {
          "output_type": "execute_result",
          "data": {
            "text/plain": [
              "100"
            ]
          },
          "metadata": {
            "tags": []
          },
          "execution_count": 197
        }
      ]
    },
    {
      "cell_type": "code",
      "metadata": {
        "id": "xB4ntnlxc0lO",
        "outputId": "0d962616-d1fd-4df4-f131-6692e3e04c13",
        "colab": {
          "base_uri": "https://localhost:8080/",
          "height": 35
        }
      },
      "source": [
        "max(200,100,300,400)"
      ],
      "execution_count": 198,
      "outputs": [
        {
          "output_type": "execute_result",
          "data": {
            "text/plain": [
              "400"
            ]
          },
          "metadata": {
            "tags": []
          },
          "execution_count": 198
        }
      ]
    },
    {
      "cell_type": "code",
      "metadata": {
        "id": "evuoF0FMc0oW"
      },
      "source": [
        "str1 = \"FOO\""
      ],
      "execution_count": 199,
      "outputs": []
    },
    {
      "cell_type": "code",
      "metadata": {
        "id": "Lswwc1ficzzA",
        "outputId": "18d6d492-703d-471f-ce38-ba045b7d9a27",
        "colab": {
          "base_uri": "https://localhost:8080/",
          "height": 35
        }
      },
      "source": [
        "len(str1)"
      ],
      "execution_count": 200,
      "outputs": [
        {
          "output_type": "execute_result",
          "data": {
            "text/plain": [
              "3"
            ]
          },
          "metadata": {
            "tags": []
          },
          "execution_count": 200
        }
      ]
    },
    {
      "cell_type": "code",
      "metadata": {
        "id": "XvXfehmkcz2S",
        "outputId": "828a81bd-fa08-4a0b-b54d-f9870d560495",
        "colab": {
          "base_uri": "https://localhost:8080/",
          "height": 35
        }
      },
      "source": [
        "eval(\"100+200+300\")"
      ],
      "execution_count": 201,
      "outputs": [
        {
          "output_type": "execute_result",
          "data": {
            "text/plain": [
              "600"
            ]
          },
          "metadata": {
            "tags": []
          },
          "execution_count": 201
        }
      ]
    },
    {
      "cell_type": "code",
      "metadata": {
        "id": "4fsd2IEocz6u",
        "outputId": "c66d885a-fd9c-4a94-f367-de3fb15405f7",
        "colab": {
          "base_uri": "https://localhost:8080/",
          "height": 35
        }
      },
      "source": [
        "sorted(\"EABFD\")"
      ],
      "execution_count": 202,
      "outputs": [
        {
          "output_type": "execute_result",
          "data": {
            "text/plain": [
              "['A', 'B', 'D', 'E', 'F']"
            ]
          },
          "metadata": {
            "tags": []
          },
          "execution_count": 202
        }
      ]
    },
    {
      "cell_type": "code",
      "metadata": {
        "id": "byG29c02czUT"
      },
      "source": [
        "list = [200, 100, 300, 400]"
      ],
      "execution_count": 203,
      "outputs": []
    },
    {
      "cell_type": "code",
      "metadata": {
        "id": "9Srq4Xf2cukq",
        "outputId": "5efa73f2-4d12-4804-ca6d-3b0bd3520794",
        "colab": {
          "base_uri": "https://localhost:8080/",
          "height": 35
        }
      },
      "source": [
        "sorted(list)"
      ],
      "execution_count": 204,
      "outputs": [
        {
          "output_type": "execute_result",
          "data": {
            "text/plain": [
              "[100, 200, 300, 400]"
            ]
          },
          "metadata": {
            "tags": []
          },
          "execution_count": 204
        }
      ]
    },
    {
      "cell_type": "code",
      "metadata": {
        "id": "-ZKJEGe3dHp1",
        "outputId": "944f66d4-6391-4f4e-b714-c9d519d6e759",
        "colab": {
          "base_uri": "https://localhost:8080/",
          "height": 35
        }
      },
      "source": [
        "sorted(list, reverse = True)"
      ],
      "execution_count": 205,
      "outputs": [
        {
          "output_type": "execute_result",
          "data": {
            "text/plain": [
              "[400, 300, 200, 100]"
            ]
          },
          "metadata": {
            "tags": []
          },
          "execution_count": 205
        }
      ]
    },
    {
      "cell_type": "code",
      "metadata": {
        "id": "4T6luiklbTtT"
      },
      "source": [
        "n = 300"
      ],
      "execution_count": 184,
      "outputs": []
    },
    {
      "cell_type": "code",
      "metadata": {
        "id": "TsoL1KSTbjXJ",
        "outputId": "0a966761-a4e8-4f96-ad81-62588a183545",
        "colab": {
          "base_uri": "https://localhost:8080/",
          "height": 35
        }
      },
      "source": [
        "id(n)"
      ],
      "execution_count": 185,
      "outputs": [
        {
          "output_type": "execute_result",
          "data": {
            "text/plain": [
              "139992781606160"
            ]
          },
          "metadata": {
            "tags": []
          },
          "execution_count": 185
        }
      ]
    },
    {
      "cell_type": "code",
      "metadata": {
        "id": "WYVSKhl7bkDj",
        "outputId": "0d4641a7-1e55-4c80-f057-28a4af51da89",
        "colab": {
          "base_uri": "https://localhost:8080/",
          "height": 35
        }
      },
      "source": [
        "type(123)"
      ],
      "execution_count": 186,
      "outputs": [
        {
          "output_type": "execute_result",
          "data": {
            "text/plain": [
              "int"
            ]
          },
          "metadata": {
            "tags": []
          },
          "execution_count": 186
        }
      ]
    },
    {
      "cell_type": "code",
      "metadata": {
        "id": "ai2hZjaAbvgd",
        "outputId": "5b45afa9-b5eb-47b1-e365-3f710e29604d",
        "colab": {
          "base_uri": "https://localhost:8080/",
          "height": 35
        }
      },
      "source": [
        "type('Hello String!')"
      ],
      "execution_count": 187,
      "outputs": [
        {
          "output_type": "execute_result",
          "data": {
            "text/plain": [
              "str"
            ]
          },
          "metadata": {
            "tags": []
          },
          "execution_count": 187
        }
      ]
    },
    {
      "cell_type": "code",
      "metadata": {
        "id": "qRY6lQCBbySH",
        "outputId": "8e810ff0-fb86-47b6-aeb3-78950c078243",
        "colab": {
          "base_uri": "https://localhost:8080/",
          "height": 35
        }
      },
      "source": [
        "type(120.3)"
      ],
      "execution_count": 188,
      "outputs": [
        {
          "output_type": "execute_result",
          "data": {
            "text/plain": [
              "float"
            ]
          },
          "metadata": {
            "tags": []
          },
          "execution_count": 188
        }
      ]
    },
    {
      "cell_type": "code",
      "metadata": {
        "id": "o3g24y52bzzD",
        "outputId": "cfbeab80-ff7f-4a05-a203-4a52ae0bf04e",
        "colab": {
          "base_uri": "https://localhost:8080/",
          "height": 35
        }
      },
      "source": [
        "type([100,300,600])"
      ],
      "execution_count": 189,
      "outputs": [
        {
          "output_type": "execute_result",
          "data": {
            "text/plain": [
              "list"
            ]
          },
          "metadata": {
            "tags": []
          },
          "execution_count": 189
        }
      ]
    },
    {
      "cell_type": "code",
      "metadata": {
        "id": "3ME-VzyKb3Ci",
        "outputId": "fa44f3ea-a86c-4f95-c63e-84706bd3a49c",
        "colab": {
          "base_uri": "https://localhost:8080/",
          "height": 35
        }
      },
      "source": [
        "eval('10 + 20')"
      ],
      "execution_count": 190,
      "outputs": [
        {
          "output_type": "execute_result",
          "data": {
            "text/plain": [
              "30"
            ]
          },
          "metadata": {
            "tags": []
          },
          "execution_count": 190
        }
      ]
    },
    {
      "cell_type": "code",
      "metadata": {
        "id": "ApKfzk1jb6ih",
        "outputId": "d08e22e8-b4e5-4708-b083-e023add228bb",
        "colab": {
          "base_uri": "https://localhost:8080/",
          "height": 35
        }
      },
      "source": [
        "eval('(5*20) / 2')"
      ],
      "execution_count": 191,
      "outputs": [
        {
          "output_type": "execute_result",
          "data": {
            "text/plain": [
              "50.0"
            ]
          },
          "metadata": {
            "tags": []
          },
          "execution_count": 191
        }
      ]
    },
    {
      "cell_type": "code",
      "metadata": {
        "id": "_C8FUBwUb9zV",
        "outputId": "8a137db3-0040-45ed-926b-00517916d26b",
        "colab": {
          "base_uri": "https://localhost:8080/",
          "height": 35
        }
      },
      "source": [
        "chr(65)"
      ],
      "execution_count": 192,
      "outputs": [
        {
          "output_type": "execute_result",
          "data": {
            "application/vnd.google.colaboratory.intrinsic+json": {
              "type": "string"
            },
            "text/plain": [
              "'A'"
            ]
          },
          "metadata": {
            "tags": []
          },
          "execution_count": 192
        }
      ]
    },
    {
      "cell_type": "code",
      "metadata": {
        "id": "2VHtvm26b_bI",
        "outputId": "f002faf1-928e-4b5a-ee56-150132e7026c",
        "colab": {
          "base_uri": "https://localhost:8080/",
          "height": 35
        }
      },
      "source": [
        "ord('A')"
      ],
      "execution_count": 193,
      "outputs": [
        {
          "output_type": "execute_result",
          "data": {
            "text/plain": [
              "65"
            ]
          },
          "metadata": {
            "tags": []
          },
          "execution_count": 193
        }
      ]
    },
    {
      "cell_type": "code",
      "metadata": {
        "id": "GZ9Hcmd2cBFl"
      },
      "source": [
        ""
      ],
      "execution_count": null,
      "outputs": []
    }
  ]
}