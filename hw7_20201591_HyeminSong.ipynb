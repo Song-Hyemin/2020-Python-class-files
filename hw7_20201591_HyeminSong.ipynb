{
  "nbformat": 4,
  "nbformat_minor": 0,
  "metadata": {
    "colab": {
      "name": "hw7_20201591_HyeminSong.ipynb",
      "provenance": []
    },
    "kernelspec": {
      "name": "python3",
      "display_name": "Python 3"
    }
  },
  "cells": [
    {
      "cell_type": "code",
      "metadata": {
        "id": "YbxKHq1AqfZc"
      },
      "source": [
        "# 연습문제 7.1번"
      ],
      "execution_count": null,
      "outputs": []
    },
    {
      "cell_type": "code",
      "metadata": {
        "id": "eBM3o7VwqnUs"
      },
      "source": [
        "# (1)번"
      ],
      "execution_count": null,
      "outputs": []
    },
    {
      "cell_type": "code",
      "metadata": {
        "colab": {
          "base_uri": "https://localhost:8080/"
        },
        "id": "e6JOvQT1qrTQ",
        "outputId": "4709dfc8-4763-4aaf-f6be-7d3fe1068d8e"
      },
      "source": [
        "import datetime as dt\n",
        "\n",
        "couple = dt.datetime(2019,2,24)\n",
        "\n",
        "time_gap = dt.datetime.now() - couple\n",
        "\n",
        "print('춘향이와 몽룡이의 연애 시작일 : {}년 {}월 {}일'.format(couple.year,couple.month,couple.day))\n",
        "print('연애 시작일로부터 경과한 날짜 : {}일'.format(time_gap.days))\n"
      ],
      "execution_count": null,
      "outputs": [
        {
          "output_type": "stream",
          "text": [
            "춘향이와 몽룡이의 연애 시작일 : 2019년 2월 24일\n",
            "연애 시작일로부터 경과한 날짜 : 634일\n"
          ],
          "name": "stdout"
        }
      ]
    },
    {
      "cell_type": "code",
      "metadata": {
        "id": "1dN1s0Uw16Lm"
      },
      "source": [
        "# (2)번"
      ],
      "execution_count": null,
      "outputs": []
    },
    {
      "cell_type": "code",
      "metadata": {
        "colab": {
          "base_uri": "https://localhost:8080/"
        },
        "id": "XNmcXFYX18cR",
        "outputId": "bc4fdac3-5d73-499f-9cc5-b56e765d19a5"
      },
      "source": [
        "import datetime as dt\n",
        "\n",
        "couple = dt.datetime(2019,2,24)\n",
        "\n",
        "hundred = dt.timedelta(days = 100)\n",
        "twohundred = dt.timedelta(days = 200)\n",
        "fivehundred = dt.timedelta(days = 500)\n",
        "thousand = dt.timedelta(days=1000)\n",
        "\n",
        "plus100day = couple + hundred\n",
        "plus200day = couple + twohundred\n",
        "plus500day = couple + fivehundred\n",
        "plus1000day = couple + thousand\n",
        "\n",
        "print('춘향이와 몽룡이의 연애 시작일 : {}년 {}월 {}일'.format(couple.year,couple.month,couple.day))\n",
        "print('100일 기념일 : {}년 {}월 {}일'.format(plus100day.year, plus100day.month,plus100day.day))\n",
        "print('200일 기념일 : {}년 {}월 {}일'.format(plus200day.year, plus200day.month,plus200day.day))\n",
        "print('500일 기념일 : {}년 {}월 {}일'.format(plus500day.year, plus500day.month,plus500day.day))\n",
        "print('1000일 기념일 : {}년 {}월 {}일'.format(plus1000day.year, plus1000day.month,plus1000day.day))"
      ],
      "execution_count": null,
      "outputs": [
        {
          "output_type": "stream",
          "text": [
            "춘향이와 몽룡이의 연애 시작일 : 2019년 2월 24일\n",
            "100일 기념일 : 2019년 6월 4일\n",
            "200일 기념일 : 2019년 9월 12일\n",
            "500일 기념일 : 2020년 7월 8일\n",
            "1000일 기념일 : 2021년 11월 20일\n"
          ],
          "name": "stdout"
        }
      ]
    },
    {
      "cell_type": "code",
      "metadata": {
        "id": "ZQM9e4b9q2Qw"
      },
      "source": [
        "# 연습문제 7.2번"
      ],
      "execution_count": null,
      "outputs": []
    },
    {
      "cell_type": "code",
      "metadata": {
        "id": "Nn0-ikuesCrn"
      },
      "source": [
        "# (1)번"
      ],
      "execution_count": null,
      "outputs": []
    },
    {
      "cell_type": "code",
      "metadata": {
        "colab": {
          "base_uri": "https://localhost:8080/"
        },
        "id": "TIROINdysDqv",
        "outputId": "e58492b7-afe0-4bf3-cab8-34495895a6a7"
      },
      "source": [
        "def sum1to1000000():\n",
        "  import time\n",
        "\n",
        "  sum = 0\n",
        "  start_time = time.time()\n",
        "\n",
        "  for i in range(1,1000001):\n",
        "    sum = sum + i\n",
        "\n",
        "  end_time = time.time()\n",
        "  gap = end_time - start_time\n",
        "  return gap\n",
        "\n",
        "print('1에서 1,000,000까지의 합을 구하는 시간 : {:.4f}초'.format(sum1to1000000()))"
      ],
      "execution_count": null,
      "outputs": [
        {
          "output_type": "stream",
          "text": [
            "1에서 1,000,000까지의 합을 구하는 시간 : 0.0617초\n"
          ],
          "name": "stdout"
        }
      ]
    },
    {
      "cell_type": "code",
      "metadata": {
        "id": "sPlq4sT8sc7H"
      },
      "source": [
        "# (2)번"
      ],
      "execution_count": null,
      "outputs": []
    },
    {
      "cell_type": "code",
      "metadata": {
        "colab": {
          "base_uri": "https://localhost:8080/"
        },
        "id": "fyk9T4QZspVE",
        "outputId": "ba6c5526-b214-4184-9349-7e8f386bacf1"
      },
      "source": [
        "def sum1to1000000():\n",
        "  import time\n",
        "\n",
        "  sum = 0\n",
        "  start_time = time.time()\n",
        "\n",
        "  for j in range(100):\n",
        "    sum = 0\n",
        "    for i in range(1,1000001):\n",
        "      sum = sum + i\n",
        "\n",
        "  end_time = time.time()\n",
        "  gap = end_time - start_time\n",
        "  return gap\n",
        "\n",
        "print('1,000,000까지의 합을 100번 반복해서 구하는 시간 : {:.4f}초'.format(sum1to1000000()))"
      ],
      "execution_count": null,
      "outputs": [
        {
          "output_type": "stream",
          "text": [
            "1,000,000까지의 합을 100번 반복해서 구하는 시간 : 5.5460초\n"
          ],
          "name": "stdout"
        }
      ]
    },
    {
      "cell_type": "code",
      "metadata": {
        "id": "bhEQ8nLos34D"
      },
      "source": [
        "# 연습문제 7.3번"
      ],
      "execution_count": null,
      "outputs": []
    },
    {
      "cell_type": "code",
      "metadata": {
        "id": "VjEGwlFAtHGr"
      },
      "source": [
        "# (1)번"
      ],
      "execution_count": null,
      "outputs": []
    },
    {
      "cell_type": "code",
      "metadata": {
        "colab": {
          "base_uri": "https://localhost:8080/"
        },
        "id": "LxCQas8vtIdP",
        "outputId": "3ccdf857-ece9-4162-c165-8d49c60a1a5c"
      },
      "source": [
        "def HelloPython():\n",
        "  import time\n",
        "\n",
        "  start_time = time.time()\n",
        "  for i in range(100):\n",
        "    print('Hello Python!')\n",
        "  \n",
        "  end_time = time.time()\n",
        "  gap = end_time - start_time\n",
        "  return gap\n",
        "\n",
        "print('Hello Python! 출력을 100번 반복하는 시간 : {:.4f}초'.format(HelloPython()))"
      ],
      "execution_count": null,
      "outputs": [
        {
          "output_type": "stream",
          "text": [
            "Hello Python!\n",
            "Hello Python!\n",
            "Hello Python!\n",
            "Hello Python!\n",
            "Hello Python!\n",
            "Hello Python!\n",
            "Hello Python!\n",
            "Hello Python!\n",
            "Hello Python!\n",
            "Hello Python!\n",
            "Hello Python!\n",
            "Hello Python!\n",
            "Hello Python!\n",
            "Hello Python!\n",
            "Hello Python!\n",
            "Hello Python!\n",
            "Hello Python!\n",
            "Hello Python!\n",
            "Hello Python!\n",
            "Hello Python!\n",
            "Hello Python!\n",
            "Hello Python!\n",
            "Hello Python!\n",
            "Hello Python!\n",
            "Hello Python!\n",
            "Hello Python!\n",
            "Hello Python!\n",
            "Hello Python!\n",
            "Hello Python!\n",
            "Hello Python!\n",
            "Hello Python!\n",
            "Hello Python!\n",
            "Hello Python!\n",
            "Hello Python!\n",
            "Hello Python!\n",
            "Hello Python!\n",
            "Hello Python!\n",
            "Hello Python!\n",
            "Hello Python!\n",
            "Hello Python!\n",
            "Hello Python!\n",
            "Hello Python!\n",
            "Hello Python!\n",
            "Hello Python!\n",
            "Hello Python!\n",
            "Hello Python!\n",
            "Hello Python!\n",
            "Hello Python!\n",
            "Hello Python!\n",
            "Hello Python!\n",
            "Hello Python!\n",
            "Hello Python!\n",
            "Hello Python!\n",
            "Hello Python!\n",
            "Hello Python!\n",
            "Hello Python!\n",
            "Hello Python!\n",
            "Hello Python!\n",
            "Hello Python!\n",
            "Hello Python!\n",
            "Hello Python!\n",
            "Hello Python!\n",
            "Hello Python!\n",
            "Hello Python!\n",
            "Hello Python!\n",
            "Hello Python!\n",
            "Hello Python!\n",
            "Hello Python!\n",
            "Hello Python!\n",
            "Hello Python!\n",
            "Hello Python!\n",
            "Hello Python!\n",
            "Hello Python!\n",
            "Hello Python!\n",
            "Hello Python!\n",
            "Hello Python!\n",
            "Hello Python!\n",
            "Hello Python!\n",
            "Hello Python!\n",
            "Hello Python!\n",
            "Hello Python!\n",
            "Hello Python!\n",
            "Hello Python!\n",
            "Hello Python!\n",
            "Hello Python!\n",
            "Hello Python!\n",
            "Hello Python!\n",
            "Hello Python!\n",
            "Hello Python!\n",
            "Hello Python!\n",
            "Hello Python!\n",
            "Hello Python!\n",
            "Hello Python!\n",
            "Hello Python!\n",
            "Hello Python!\n",
            "Hello Python!\n",
            "Hello Python!\n",
            "Hello Python!\n",
            "Hello Python!\n",
            "Hello Python!\n",
            "Hello Python! 출력을 100번 반복하는 시간 : 0.0025초\n"
          ],
          "name": "stdout"
        }
      ]
    },
    {
      "cell_type": "code",
      "metadata": {
        "id": "mOPnLiUi37L5"
      },
      "source": [
        "# (2)번"
      ],
      "execution_count": null,
      "outputs": []
    },
    {
      "cell_type": "code",
      "metadata": {
        "id": "NmIjIoYE37VX",
        "colab": {
          "base_uri": "https://localhost:8080/"
        },
        "outputId": "8ce2af7f-64b2-48d3-cc7f-da7e01530969"
      },
      "source": [
        "def factorial(n):\n",
        "  if n <= 1:\n",
        "    return 1\n",
        "  else:\n",
        "    return n*factorial(n-1)\n",
        "\n",
        "def fact():\n",
        "  import math\n",
        "  import time\n",
        "  \n",
        "  start_time = time.time()\n",
        "  for k in range(100):\n",
        "    for i in range(1,1001):\n",
        "      i = n\n",
        "      factorial(i)\n",
        "\n",
        "  end_time = time.time()\n",
        "  gap = end_time - start_time\n",
        "\n",
        "  return gap\n",
        "\n",
        "print('1000!을 100번 반복해서 구하는 시간 : {:.4f}초'.format(fact()))"
      ],
      "execution_count": null,
      "outputs": [
        {
          "output_type": "stream",
          "text": [
            "1000!을 100번 반복해서 구하는 시간 : 0.0759초\n"
          ],
          "name": "stdout"
        }
      ]
    },
    {
      "cell_type": "code",
      "metadata": {
        "id": "xlV4VHdL37y5"
      },
      "source": [
        "# (3)번"
      ],
      "execution_count": null,
      "outputs": []
    },
    {
      "cell_type": "code",
      "metadata": {
        "id": "wONpX6YZ376F",
        "colab": {
          "base_uri": "https://localhost:8080/"
        },
        "outputId": "14231b4f-334d-4cb5-f136-2a9f3bc4c188"
      },
      "source": [
        "def threetimes():\n",
        "  import math\n",
        "  import time\n",
        "  \n",
        "  sum = 0\n",
        "  start_time = time.time()\n",
        "\n",
        "  for k in range(100):\n",
        "    for i in range(1,1001,2):\n",
        "      sum = sum + math.pow(i,3)\n",
        "\n",
        "  end_time = time.time()\n",
        "  gap = end_time - start_time\n",
        "\n",
        "  return gap\n",
        "\n",
        "print('1에서 1000까지 홀수의 세제곱 더하기를 100번 반복하는 시간 : {:.4f}초'.format(threetimes()))"
      ],
      "execution_count": null,
      "outputs": [
        {
          "output_type": "stream",
          "text": [
            "1에서 1000까지 홀수의 세제곱 더하기를 100번 반복하는 시간 : 0.0114초\n"
          ],
          "name": "stdout"
        }
      ]
    },
    {
      "cell_type": "code",
      "metadata": {
        "id": "bhY9OEGr3730"
      },
      "source": [
        "# (4)번"
      ],
      "execution_count": null,
      "outputs": []
    },
    {
      "cell_type": "code",
      "metadata": {
        "id": "EQudYjqH37Zu",
        "colab": {
          "base_uri": "https://localhost:8080/"
        },
        "outputId": "d3333e0a-c185-4ebb-db56-9733f908ce7f"
      },
      "source": [
        "def sinsum():\n",
        "  import time\n",
        "  import math\n",
        "\n",
        "  start_time = time.time()\n",
        "\n",
        "  for k in range(100):\n",
        "    sum = 0\n",
        "    for j in range(1,360,1):\n",
        "      sum = sum + math.sin(math.radians(j))\n",
        "\n",
        "    end_time = time.time()\n",
        "    gap = end_time - start_time\n",
        "  \n",
        "  return gap\n",
        "\n",
        "\n",
        "print('1에서 360도까지 sin 값의 합을 100번 반복하는 시간 : {:.4f}초'.format(sinsum()))"
      ],
      "execution_count": null,
      "outputs": [
        {
          "output_type": "stream",
          "text": [
            "1에서 360도까지 sin 값의 합을 100번 반복하는 시간 : 0.0103초\n"
          ],
          "name": "stdout"
        }
      ]
    },
    {
      "cell_type": "code",
      "metadata": {
        "id": "FuG752bv37QM"
      },
      "source": [
        "# 연습문제 7.4번"
      ],
      "execution_count": null,
      "outputs": []
    },
    {
      "cell_type": "code",
      "metadata": {
        "id": "gk0srv7-5m_d"
      },
      "source": [
        "# (1)번"
      ],
      "execution_count": null,
      "outputs": []
    },
    {
      "cell_type": "code",
      "metadata": {
        "colab": {
          "base_uri": "https://localhost:8080/"
        },
        "id": "vuXmHnNP37Em",
        "outputId": "87ee31f6-d86d-49e9-fa30-539705d7c042"
      },
      "source": [
        "def my_rand(x):\n",
        "  new_x = (421592 * x + 12345) % ( 1000001 )\n",
        "  return new_x\n",
        "\n",
        "x = 12234\n",
        "for _ in range(10):\n",
        "  x = my_rand(x)\n",
        "  print(x)"
      ],
      "execution_count": null,
      "outputs": [
        {
          "output_type": "stream",
          "text": [
            "763716\n",
            "246241\n",
            "144204\n",
            "204318\n",
            "760463\n",
            "808837\n",
            "879851\n",
            "784200\n",
            "128133\n",
            "806062\n"
          ],
          "name": "stdout"
        }
      ]
    },
    {
      "cell_type": "code",
      "metadata": {
        "id": "4VsOQnFS42Da"
      },
      "source": [
        "# (2)번"
      ],
      "execution_count": null,
      "outputs": []
    },
    {
      "cell_type": "code",
      "metadata": {
        "id": "rYLn3jEo41Rq",
        "colab": {
          "base_uri": "https://localhost:8080/"
        },
        "outputId": "56307e6d-9476-4b7f-aadb-ee60f955c150"
      },
      "source": [
        "def my_rand(x):\n",
        "  new_x = (421592 * x + 12345) % ( 1000001 )\n",
        "  return new_x\n",
        "\n",
        "import time\n",
        "\n",
        "seed = time.time()\n",
        "x = int(seed)\n",
        "\n",
        "for i in range(5):\n",
        "  x = my_rand(x)\n",
        "  print(x)"
      ],
      "execution_count": null,
      "outputs": [
        {
          "output_type": "stream",
          "text": [
            "542790\n",
            "705190\n",
            "177523\n",
            "214119\n",
            "779523\n"
          ],
          "name": "stdout"
        }
      ]
    },
    {
      "cell_type": "code",
      "metadata": {
        "colab": {
          "base_uri": "https://localhost:8080/"
        },
        "id": "kB7Df1DcB0Ab",
        "outputId": "8ee1aced-f341-4ac1-fe54-4aed6f9a7dd3"
      },
      "source": [
        "def my_rand(x):\n",
        "  new_x = (421592 * x + 12345) % ( 1000001 )\n",
        "  return new_x\n",
        "\n",
        "import time\n",
        "\n",
        "seed = time.time()\n",
        "x = int(seed)\n",
        "\n",
        "for i in range(5):\n",
        "  x = my_rand(x)\n",
        "  print(x)"
      ],
      "execution_count": 1,
      "outputs": [
        {
          "output_type": "stream",
          "text": [
            "70555\n",
            "406160\n",
            "647832\n",
            "527769\n",
            "978091\n"
          ],
          "name": "stdout"
        }
      ]
    },
    {
      "cell_type": "code",
      "metadata": {
        "id": "095Q7VLAucVP"
      },
      "source": [
        "# 연습문제 7.5번"
      ],
      "execution_count": null,
      "outputs": []
    },
    {
      "cell_type": "code",
      "metadata": {
        "colab": {
          "base_uri": "https://localhost:8080/"
        },
        "id": "XYoSVle3u9AZ",
        "outputId": "62dbb495-e030-4460-96f9-0a2ec5e40762"
      },
      "source": [
        "import math\n",
        "\n",
        "for j in range(0,181,10):\n",
        "  print('sin({0}) = {1:.3f}, cos({0}) = {2:.3f}, tan({0}) = {3:.3f}'.format(j,math.sin(math.radians(j)),math.cos(math.radians(j)),math.tan(math.radians(j))))"
      ],
      "execution_count": null,
      "outputs": [
        {
          "output_type": "stream",
          "text": [
            "sin(0) = 0.000, cos(0) = 1.000, tan(0) = 0.000\n",
            "sin(10) = 0.174, cos(10) = 0.985, tan(10) = 0.176\n",
            "sin(20) = 0.342, cos(20) = 0.940, tan(20) = 0.364\n",
            "sin(30) = 0.500, cos(30) = 0.866, tan(30) = 0.577\n",
            "sin(40) = 0.643, cos(40) = 0.766, tan(40) = 0.839\n",
            "sin(50) = 0.766, cos(50) = 0.643, tan(50) = 1.192\n",
            "sin(60) = 0.866, cos(60) = 0.500, tan(60) = 1.732\n",
            "sin(70) = 0.940, cos(70) = 0.342, tan(70) = 2.747\n",
            "sin(80) = 0.985, cos(80) = 0.174, tan(80) = 5.671\n",
            "sin(90) = 1.000, cos(90) = 0.000, tan(90) = 16331239353195370.000\n",
            "sin(100) = 0.985, cos(100) = -0.174, tan(100) = -5.671\n",
            "sin(110) = 0.940, cos(110) = -0.342, tan(110) = -2.747\n",
            "sin(120) = 0.866, cos(120) = -0.500, tan(120) = -1.732\n",
            "sin(130) = 0.766, cos(130) = -0.643, tan(130) = -1.192\n",
            "sin(140) = 0.643, cos(140) = -0.766, tan(140) = -0.839\n",
            "sin(150) = 0.500, cos(150) = -0.866, tan(150) = -0.577\n",
            "sin(160) = 0.342, cos(160) = -0.940, tan(160) = -0.364\n",
            "sin(170) = 0.174, cos(170) = -0.985, tan(170) = -0.176\n",
            "sin(180) = 0.000, cos(180) = -1.000, tan(180) = -0.000\n"
          ],
          "name": "stdout"
        }
      ]
    },
    {
      "cell_type": "code",
      "metadata": {
        "id": "VRSHVGXqvfwm"
      },
      "source": [
        "# 연습문제 7.6번"
      ],
      "execution_count": null,
      "outputs": []
    },
    {
      "cell_type": "code",
      "metadata": {
        "colab": {
          "base_uri": "https://localhost:8080/"
        },
        "id": "QcymlrwFvoLs",
        "outputId": "c65f3cf0-ec8d-4a07-a48e-612f60f12127"
      },
      "source": [
        "import math\n",
        "\n",
        "for i in range(1,11):\n",
        "  print('sqrt({0}) = {1:.3f}'.format(i,math.pow(i,1/2)))"
      ],
      "execution_count": null,
      "outputs": [
        {
          "output_type": "stream",
          "text": [
            "sqrt(1) = 1.000\n",
            "sqrt(2) = 1.414\n",
            "sqrt(3) = 1.732\n",
            "sqrt(4) = 2.000\n",
            "sqrt(5) = 2.236\n",
            "sqrt(6) = 2.449\n",
            "sqrt(7) = 2.646\n",
            "sqrt(8) = 2.828\n",
            "sqrt(9) = 3.000\n",
            "sqrt(10) = 3.162\n"
          ],
          "name": "stdout"
        }
      ]
    },
    {
      "cell_type": "code",
      "metadata": {
        "id": "KFUPKGojwKkF"
      },
      "source": [
        "# 연습문제 7.8번"
      ],
      "execution_count": null,
      "outputs": []
    },
    {
      "cell_type": "code",
      "metadata": {
        "colab": {
          "base_uri": "https://localhost:8080/"
        },
        "id": "N5yN4IxlwVBm",
        "outputId": "bfa82baa-be4e-4287-b5d4-52d9e7d149c4"
      },
      "source": [
        "import random as rd\n",
        "\n",
        "a = rd.randrange(1,7)\n",
        "b = rd.randrange(1,7)\n",
        "\n",
        "print('로미오의 주사위 숫자는 {} 입니다.'.format(a))\n",
        "print('줄리엣의 주사위 숫자는 {} 입니다.'.format(b))\n",
        "\n",
        "if a > b:\n",
        "  print('로미오가 이겼습니다.')\n",
        "elif a < b:\n",
        "  print('줄리엣이 이겼습니다.')\n",
        "else :\n",
        "  print('비겼습니다.')"
      ],
      "execution_count": null,
      "outputs": [
        {
          "output_type": "stream",
          "text": [
            "로미오의 주사위 숫자는 5 입니다.\n",
            "줄리엣의 주사위 숫자는 4 입니다.\n",
            "로미오가 이겼습니다.\n"
          ],
          "name": "stdout"
        }
      ]
    },
    {
      "cell_type": "code",
      "metadata": {
        "id": "6MDsph4SwZc3"
      },
      "source": [
        "# 연습문제 7.9번"
      ],
      "execution_count": null,
      "outputs": []
    },
    {
      "cell_type": "code",
      "metadata": {
        "colab": {
          "base_uri": "https://localhost:8080/"
        },
        "id": "2Vnk_hCqxI5n",
        "outputId": "3036f2c0-c39f-4576-98a1-501d2b24167d"
      },
      "source": [
        "import random as rd\n",
        "\n",
        "k = ['가위','바위','보']\n",
        "\n",
        "a = rd.choice(k)\n",
        "b = rd.choice(k)\n",
        "\n",
        "print('로미오의 승부 : {}'.format(a))\n",
        "print('줄리엣의 승부 : {}'.format(b))\n",
        "\n",
        "if a == b:\n",
        "  print('비겼습니다.')\n",
        "else :\n",
        "  if a == '가위':\n",
        "    if b == '바위':\n",
        "      print('줄리엣이 이겼습니다.')\n",
        "    else:\n",
        "      print('로미오가 이겼습니다.')\n",
        "  elif a == '바위':\n",
        "    if b == '보':\n",
        "      print('줄리엣이 이겼습니다.')\n",
        "    else:\n",
        "      print('로미오가 이겼습니다.')\n",
        "  elif a == '보':\n",
        "    if b == '가위':\n",
        "      print('줄리엣이 이겼습니다.')\n",
        "    else:\n",
        "      print('로미오가 이겼습니다.')"
      ],
      "execution_count": null,
      "outputs": [
        {
          "output_type": "stream",
          "text": [
            "로미오의 승부 : 바위\n",
            "줄리엣의 승부 : 가위\n",
            "로미오가 이겼습니다.\n"
          ],
          "name": "stdout"
        }
      ]
    },
    {
      "cell_type": "code",
      "metadata": {
        "id": "i081geVDyyU-"
      },
      "source": [
        "# 연습문제 7.10번"
      ],
      "execution_count": null,
      "outputs": []
    },
    {
      "cell_type": "code",
      "metadata": {
        "colab": {
          "base_uri": "https://localhost:8080/"
        },
        "id": "8-iutfn-zNod",
        "outputId": "950ab943-b5cd-4176-c9ea-21387854e613"
      },
      "source": [
        "import random as rd\n",
        "\n",
        "x = rd.randint(1,20)\n",
        "sum = 1\n",
        "\n",
        "while True:\n",
        "  n = int(input('1~20까지의 숫자를 입력하세요 : '))\n",
        "  if (n == x):\n",
        "    if sum <= 3:\n",
        "      print(sum,'번 만에 맞춘 당신은 천재!')\n",
        "      break\n",
        "    elif (sum >= 3) and (sum <= 6):\n",
        "      print(sum,'번 만에 맞추셨네요. 잘 했어요^^')\n",
        "      break\n",
        "    else:\n",
        "      print(sum,'번 만에 맞추다니 쩝쩝...')\n",
        "      break\n",
        "    \n",
        "  elif x > n:\n",
        "    print(n,'보다 큽니다!')\n",
        "    sum = sum + 1\n",
        "\n",
        "  elif x < n:\n",
        "    print(n,'보다 작습니다!')\n",
        "    sum = sum + 1\n",
        "\n"
      ],
      "execution_count": null,
      "outputs": [
        {
          "output_type": "stream",
          "text": [
            "1~20까지의 숫자를 입력하세요 : 5\n",
            "5 보다 큽니다!\n",
            "1~20까지의 숫자를 입력하세요 : 9\n",
            "9 보다 작습니다!\n",
            "1~20까지의 숫자를 입력하세요 : 7\n",
            "7 보다 큽니다!\n",
            "1~20까지의 숫자를 입력하세요 : 8\n",
            "4 번 만에 맞추셨네요. 잘 했어요^^\n"
          ],
          "name": "stdout"
        }
      ]
    },
    {
      "cell_type": "code",
      "metadata": {
        "id": "ZrtwjjBc04fh"
      },
      "source": [
        ""
      ],
      "execution_count": null,
      "outputs": []
    }
  ]
}