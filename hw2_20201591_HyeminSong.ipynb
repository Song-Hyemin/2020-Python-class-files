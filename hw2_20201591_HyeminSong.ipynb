{
  "nbformat": 4,
  "nbformat_minor": 0,
  "metadata": {
    "colab": {
      "name": "hw2_20201591_HyeminSong.ipynb",
      "provenance": [],
      "collapsed_sections": []
    },
    "kernelspec": {
      "name": "python3",
      "display_name": "Python 3"
    }
  },
  "cells": [
    {
      "cell_type": "code",
      "metadata": {
        "id": "Lgrprq7WpWC8"
      },
      "source": [
        "# 연습문제 2.2"
      ],
      "execution_count": null,
      "outputs": []
    },
    {
      "cell_type": "code",
      "metadata": {
        "id": "n1IeYtoaqW9l"
      },
      "source": [
        "width = 30"
      ],
      "execution_count": null,
      "outputs": []
    },
    {
      "cell_type": "code",
      "metadata": {
        "id": "4WN1QCdcqcNs"
      },
      "source": [
        "height = 60"
      ],
      "execution_count": null,
      "outputs": []
    },
    {
      "cell_type": "code",
      "metadata": {
        "id": "9_gTTvjXqdqi",
        "outputId": "1b9c57af-9aa7-42c9-f092-7e3bc9d39926",
        "colab": {
          "base_uri": "https://localhost:8080/",
          "height": 36
        }
      },
      "source": [
        "print(width)"
      ],
      "execution_count": null,
      "outputs": [
        {
          "output_type": "stream",
          "text": [
            "30\n"
          ],
          "name": "stdout"
        }
      ]
    },
    {
      "cell_type": "code",
      "metadata": {
        "id": "bjHFNTXcqfkb",
        "outputId": "29835bfd-f7e5-41e7-d4f3-f451a60b8e53",
        "colab": {
          "base_uri": "https://localhost:8080/",
          "height": 36
        }
      },
      "source": [
        "print(height)"
      ],
      "execution_count": null,
      "outputs": [
        {
          "output_type": "stream",
          "text": [
            "60\n"
          ],
          "name": "stdout"
        }
      ]
    },
    {
      "cell_type": "code",
      "metadata": {
        "id": "HV3fGXmjqg2O"
      },
      "source": [
        "# 연습문제 2.5"
      ],
      "execution_count": null,
      "outputs": []
    },
    {
      "cell_type": "code",
      "metadata": {
        "id": "aiC8sP55qkTU",
        "outputId": "cc40bc19-339d-40c9-f1ae-39d300fc8883",
        "colab": {
          "base_uri": "https://localhost:8080/",
          "height": 55
        }
      },
      "source": [
        "밑변 = int(input('정사각형의 밑변을 입력하시오 :'))\n",
        "면적 = 밑변 ** 2\n",
        "print('정사각형의 면적 :',면적)"
      ],
      "execution_count": null,
      "outputs": [
        {
          "output_type": "stream",
          "text": [
            "정사각형의 밑변을 입력하시오 :40\n",
            "정사각형의 면적 : 1600\n"
          ],
          "name": "stdout"
        }
      ]
    },
    {
      "cell_type": "code",
      "metadata": {
        "id": "zh7Ox65oq3ht"
      },
      "source": [
        "# 연습문제 2.6"
      ],
      "execution_count": null,
      "outputs": []
    },
    {
      "cell_type": "code",
      "metadata": {
        "id": "MXAGQfL2wTTi",
        "outputId": "be01d7f4-927b-4390-95e8-84892e8ba34b",
        "colab": {
          "base_uri": "https://localhost:8080/",
          "height": 36
        }
      },
      "source": [
        "print('1에서 10까지의 합 :', 1+2+3+4+5+6+7+8+9+10 )"
      ],
      "execution_count": null,
      "outputs": [
        {
          "output_type": "stream",
          "text": [
            "1에서 10까지의 합 : 55\n"
          ],
          "name": "stdout"
        }
      ]
    },
    {
      "cell_type": "code",
      "metadata": {
        "id": "xhOQS5x2rGAV"
      },
      "source": [
        "# 연습문제 2.7"
      ],
      "execution_count": null,
      "outputs": []
    },
    {
      "cell_type": "code",
      "metadata": {
        "id": "aGDCBJQOwjdP",
        "outputId": "89df4fb8-2d56-448e-bbd5-b780cbb50cc5",
        "colab": {
          "base_uri": "https://localhost:8080/",
          "height": 36
        }
      },
      "source": [
        "print('10! =',1*2*3*4*5*6*7*8*9*10)"
      ],
      "execution_count": null,
      "outputs": [
        {
          "output_type": "stream",
          "text": [
            "10! = 3628800\n"
          ],
          "name": "stdout"
        }
      ]
    },
    {
      "cell_type": "code",
      "metadata": {
        "id": "pO54QXvGwqo2"
      },
      "source": [
        "# 연습문제 2.8"
      ],
      "execution_count": null,
      "outputs": []
    },
    {
      "cell_type": "code",
      "metadata": {
        "id": "2AEYh1CJN-CV"
      },
      "source": [
        "a=2\n",
        "n=2"
      ],
      "execution_count": null,
      "outputs": []
    },
    {
      "cell_type": "code",
      "metadata": {
        "id": "wTcpE1BNOEL7",
        "outputId": "50ee8968-3532-4e0e-98b6-e05fbca6c5a8",
        "colab": {
          "base_uri": "https://localhost:8080/",
          "height": 129
        }
      },
      "source": [
        "print('a       n       a ** n')\n",
        "print(a,'     ',n,'     ',a**n)\n",
        "a=a+1\n",
        "print(a,'     ',n,'     ',a**n)\n",
        "a=a+1\n",
        "print(a,'     ',n,'     ',a**n)\n",
        "a=a+1\n",
        "print(a,'     ',n,'     ',a**n)\n",
        "a=a+1\n",
        "print(a,'     ',n,'     ',a**n)"
      ],
      "execution_count": null,
      "outputs": [
        {
          "output_type": "stream",
          "text": [
            "a       n       a ** n\n",
            "2       2       4\n",
            "3       2       9\n",
            "4       2       16\n",
            "5       2       25\n",
            "6       2       36\n"
          ],
          "name": "stdout"
        }
      ]
    },
    {
      "cell_type": "code",
      "metadata": {
        "id": "oAhlOhrXwzen"
      },
      "source": [
        "# 연습문제 2.9"
      ],
      "execution_count": null,
      "outputs": []
    },
    {
      "cell_type": "code",
      "metadata": {
        "id": "wf647royMsUH"
      },
      "source": [
        "섭씨온도 = 0"
      ],
      "execution_count": null,
      "outputs": []
    },
    {
      "cell_type": "code",
      "metadata": {
        "id": "I1kuogfUJzC3"
      },
      "source": [
        "화씨온도 = (9/5) * 섭씨온도 + 32"
      ],
      "execution_count": null,
      "outputs": []
    },
    {
      "cell_type": "code",
      "metadata": {
        "id": "wdKyDz-hMjfg",
        "outputId": "c5bea448-5766-458e-8c64-ec4a76c8a57a",
        "colab": {
          "base_uri": "https://localhost:8080/",
          "height": 148
        }
      },
      "source": [
        "print('섭씨     화씨')\n",
        "print(섭씨온도,'      ',화씨온도)\n",
        "섭씨온도=섭씨온도+10\n",
        "화씨온도 = (9/5) * 섭씨온도 + 32\n",
        "print(섭씨온도,'     ',화씨온도)\n",
        "섭씨온도=섭씨온도+10\n",
        "화씨온도 = (9/5) * 섭씨온도 + 32\n",
        "print(섭씨온도,'     ',화씨온도)\n",
        "섭씨온도=섭씨온도+10\n",
        "화씨온도 = (9/5) * 섭씨온도 + 32\n",
        "print(섭씨온도,'     ',화씨온도)\n",
        "섭씨온도=섭씨온도+10\n",
        "화씨온도 = (9/5) * 섭씨온도 + 32\n",
        "print(섭씨온도,'     ',화씨온도)\n",
        "섭씨온도=섭씨온도+10\n",
        "화씨온도 = (9/5) * 섭씨온도 + 32\n",
        "print(섭씨온도,'     ',화씨온도)"
      ],
      "execution_count": null,
      "outputs": [
        {
          "output_type": "stream",
          "text": [
            "섭씨     화씨\n",
            "0        32.0\n",
            "10       50.0\n",
            "20       68.0\n",
            "30       86.0\n",
            "40       104.0\n",
            "50       122.0\n"
          ],
          "name": "stdout"
        }
      ]
    },
    {
      "cell_type": "code",
      "metadata": {
        "id": "HwdfYZ2Mw5q6"
      },
      "source": [
        "# 연습문제 2.10"
      ],
      "execution_count": null,
      "outputs": []
    },
    {
      "cell_type": "code",
      "metadata": {
        "id": "14zHbBnFw8Ml",
        "outputId": "e885c32c-85b1-4d69-b092-1dccccbdecd1",
        "colab": {
          "base_uri": "https://localhost:8080/",
          "height": 55
        }
      },
      "source": [
        "섭씨온도 = int(input('섭씨온도를 입력하세요 : '))\n",
        "화씨온도 = (9/5) * 섭씨온도 + 32\n",
        "print('섭씨',섭씨온도,'도는 화씨',화씨온도,'도 입니다.')"
      ],
      "execution_count": null,
      "outputs": [
        {
          "output_type": "stream",
          "text": [
            "섭씨온도를 입력하세요 : 30\n",
            "섭씨 30 도는 화씨 86.0 도 입니다.\n"
          ],
          "name": "stdout"
        }
      ]
    },
    {
      "cell_type": "code",
      "metadata": {
        "id": "8_gZsfFfyoac"
      },
      "source": [
        "# 연습문제 2.11"
      ],
      "execution_count": null,
      "outputs": []
    },
    {
      "cell_type": "code",
      "metadata": {
        "id": "kccnVrL2y2A4",
        "outputId": "3cbc6e47-226f-41fe-ce52-b2b331b389a2",
        "colab": {
          "base_uri": "https://localhost:8080/",
          "height": 55
        }
      },
      "source": [
        "화씨온도 = int(input('화씨 온도를 입력하세요 : '))\n",
        "섭씨온도 = (화씨온도 - 32) *(5/9)\n",
        "print('화씨',화씨온도,'도는 섭씨',섭씨온도,'도 입니다.')"
      ],
      "execution_count": null,
      "outputs": [
        {
          "output_type": "stream",
          "text": [
            "화씨 온도를 입력하세요 : 86\n",
            "화씨 86 도는 섭씨 30.0 도 입니다.\n"
          ],
          "name": "stdout"
        }
      ]
    },
    {
      "cell_type": "code",
      "metadata": {
        "id": "-NqmWGPqzZ44"
      },
      "source": [
        "# 연습문제 2.12"
      ],
      "execution_count": null,
      "outputs": []
    },
    {
      "cell_type": "code",
      "metadata": {
        "id": "LqJJ2D9EzdZB",
        "outputId": "25742735-86de-4934-d4ae-024bea4410bf",
        "colab": {
          "base_uri": "https://localhost:8080/",
          "height": 36
        }
      },
      "source": [
        "PI = 3.141592\n",
        "radius = 11\n",
        "원의둘레 = 2 * PI * radius\n",
        "원의면적 = PI * (radius **2)\n",
        "print('원의 반지름 =',radius,', 원의 둘레 =',원의둘레,', 원의 면적 =',원의면적)"
      ],
      "execution_count": null,
      "outputs": [
        {
          "output_type": "stream",
          "text": [
            "원의 반지름 = 11 , 원의 둘레 = 69.115024 , 원의 면적 = 380.132632\n"
          ],
          "name": "stdout"
        }
      ]
    },
    {
      "cell_type": "code",
      "metadata": {
        "id": "NKrZgU6j0GI2"
      },
      "source": [
        "# 연습문제 2.13"
      ],
      "execution_count": null,
      "outputs": []
    },
    {
      "cell_type": "code",
      "metadata": {
        "id": "rpuPkGJW05ct",
        "outputId": "0edb4ab4-fa34-4553-b902-2c165c29c504",
        "colab": {
          "base_uri": "https://localhost:8080/",
          "height": 55
        }
      },
      "source": [
        "PI = 3.141592\n",
        "반지름 = int(input('원의 반지름을 입력하세요 : '))\n",
        "원의둘레 = 2 * PI * 반지름\n",
        "원의면적 = PI * (반지름**2)\n",
        "print('원의 둘레 =', 원의둘레, ', 원의 면적 =',원의면적)"
      ],
      "execution_count": null,
      "outputs": [
        {
          "output_type": "stream",
          "text": [
            "원의 반지름을 입력하세요 : 11\n",
            "원의 둘레 = 69.115024 , 원의 면적 = 380.132632\n"
          ],
          "name": "stdout"
        }
      ]
    },
    {
      "cell_type": "code",
      "metadata": {
        "id": "z7tzrtck1V1_"
      },
      "source": [
        "# 연습문제 2.14"
      ],
      "execution_count": null,
      "outputs": []
    },
    {
      "cell_type": "code",
      "metadata": {
        "id": "Mmu6dbMXKM1i",
        "outputId": "c849051d-dd3f-4d77-98c8-fb65b7743617",
        "colab": {
          "base_uri": "https://localhost:8080/",
          "height": 185
        }
      },
      "source": [
        "print('2의 제곱근 =',2**(1/2))\n",
        "print('3의 제곱근 =',3**(1/2))\n",
        "print('4의 제곱근 =',4**(1/2))\n",
        "print('5의 제곱근 =',5**(1/2))\n",
        "print('6의 제곱근 =',6**(1/2))\n",
        "print('7의 제곱근 =',7**(1/2))\n",
        "print('8의 제곱근 =',8**(1/2))\n",
        "print('9의 제곱근 =',9**(1/2))\n",
        "print('10의 제곱근 =',10**(1/2))\n"
      ],
      "execution_count": null,
      "outputs": [
        {
          "output_type": "stream",
          "text": [
            "2의 제곱근 = 1.4142135623730951\n",
            "3의 제곱근 = 1.7320508075688772\n",
            "4의 제곱근 = 2.0\n",
            "5의 제곱근 = 2.23606797749979\n",
            "6의 제곱근 = 2.449489742783178\n",
            "7의 제곱근 = 2.6457513110645907\n",
            "8의 제곱근 = 2.8284271247461903\n",
            "9의 제곱근 = 3.0\n",
            "10의 제곱근 = 3.1622776601683795\n"
          ],
          "name": "stdout"
        }
      ]
    },
    {
      "cell_type": "code",
      "metadata": {
        "id": "k5iyzstJ1bwZ"
      },
      "source": [
        "# 연습문제 2.15"
      ],
      "execution_count": null,
      "outputs": []
    },
    {
      "cell_type": "code",
      "metadata": {
        "id": "SIpEAoZT1xIQ",
        "outputId": "a7c7dc26-ea9f-40d8-99e5-c310b0c2b96c",
        "colab": {
          "base_uri": "https://localhost:8080/",
          "height": 73
        }
      },
      "source": [
        "a = int(input('밑변을 입력하세요 : '))\n",
        "b = int(input('높이를 입력하세요 : '))\n",
        "빗변 = (a**2 + b**2)**(1/2)\n",
        "print('빗변 :',빗변)"
      ],
      "execution_count": null,
      "outputs": [
        {
          "output_type": "stream",
          "text": [
            "밑변을 입력하세요 : 5\n",
            "높이를 입력하세요 : 12\n",
            "빗변 : 13.0\n"
          ],
          "name": "stdout"
        }
      ]
    },
    {
      "cell_type": "code",
      "metadata": {
        "id": "hb4yMUn92b9V"
      },
      "source": [
        "# 연습문제 2.16"
      ],
      "execution_count": null,
      "outputs": []
    },
    {
      "cell_type": "code",
      "metadata": {
        "id": "h84aikYpAkEY",
        "outputId": "1bcb645c-ea5d-48e4-ee0f-132c8a406a75",
        "colab": {
          "base_uri": "https://localhost:8080/"
        }
      },
      "source": [
        "print('회전하기 전 : (1+2j)')\n",
        "print('90도 회전한 후 :', (1 + 2j)*(0 + 1j)) # cos90 = 0 , sin90 = 1 을 이용함"
      ],
      "execution_count": 2,
      "outputs": [
        {
          "output_type": "stream",
          "text": [
            "회전하기 전 : (1+2j)\n",
            "90도 회전한 후 : (-2+1j)\n"
          ],
          "name": "stdout"
        }
      ]
    },
    {
      "cell_type": "code",
      "metadata": {
        "id": "KXdcBTJdTnA2",
        "outputId": "11cf42e0-868a-4e09-e468-c704576b47a1",
        "colab": {
          "base_uri": "https://localhost:8080/"
        }
      },
      "source": [
        "print('회전하기 전 : (1+2j)')\n",
        "print('30도 회전한 후 :', (1 + 2j)*((3**0.5)/2 + 0.5j)) # cos30 = (3**0.5)/2 , sin30 = 1/2 = 0.5 을 이용함\n",
        "# 문제의 실행결과에서는 '90도 회전한 후'로 출력하라고 되어있는데 문제에서 30도 회전한 값을 출력하라고 해서 '30도 회전한 후로 바꾸었습니다."
      ],
      "execution_count": 5,
      "outputs": [
        {
          "output_type": "stream",
          "text": [
            "회전하기 전 : (1+2j)\n",
            "30도 회전한 후 : (-0.1339745962155614+2.232050807568877j)\n"
          ],
          "name": "stdout"
        }
      ]
    },
    {
      "cell_type": "code",
      "metadata": {
        "id": "khGsdbZ02i3h"
      },
      "source": [
        "# 연습문제 2.17"
      ],
      "execution_count": null,
      "outputs": []
    },
    {
      "cell_type": "code",
      "metadata": {
        "id": "DSi3csv_9Fic",
        "outputId": "f9728bfd-5de9-4a1d-b160-f558127cc64a",
        "colab": {
          "base_uri": "https://localhost:8080/",
          "height": 36
        }
      },
      "source": [
        "print(2<<0, 2<<1, 2<<2, 2<<3, 2<<4, 2<<5, 2<<6, 2<<7, 2<<8, 2<<9)"
      ],
      "execution_count": null,
      "outputs": [
        {
          "output_type": "stream",
          "text": [
            "2 4 8 16 32 64 128 256 512 1024\n"
          ],
          "name": "stdout"
        }
      ]
    },
    {
      "cell_type": "code",
      "metadata": {
        "id": "DcFHgnq124cp"
      },
      "source": [
        "# 연습문제 2.18"
      ],
      "execution_count": null,
      "outputs": []
    },
    {
      "cell_type": "code",
      "metadata": {
        "id": "JPlSD1B1LxM_",
        "outputId": "01be873e-0930-42a1-fe17-08f267d82153",
        "colab": {
          "base_uri": "https://localhost:8080/",
          "height": 55
        }
      },
      "source": [
        "n = int(input('정수를 입력하세요 :'))\n",
        "print('이 수가 짝수인가요?',n%2==0)"
      ],
      "execution_count": null,
      "outputs": [
        {
          "output_type": "stream",
          "text": [
            "정수를 입력하세요 :20\n",
            "이 수가 짝수인가요? True\n"
          ],
          "name": "stdout"
        }
      ]
    },
    {
      "cell_type": "code",
      "metadata": {
        "id": "l6T3yQpbLyt7",
        "outputId": "34712ccf-1b27-4670-f617-5c85a2428b71",
        "colab": {
          "base_uri": "https://localhost:8080/",
          "height": 55
        }
      },
      "source": [
        "n = int(input('정수를 입력하세요 :'))\n",
        "print('이 수가 짝수인가요?',n%2==0)"
      ],
      "execution_count": null,
      "outputs": [
        {
          "output_type": "stream",
          "text": [
            "정수를 입력하세요 :21\n",
            "이 수가 짝수인가요? False\n"
          ],
          "name": "stdout"
        }
      ]
    },
    {
      "cell_type": "code",
      "metadata": {
        "id": "fJL6JeLL2_Mk"
      },
      "source": [
        "# 연습문제 2.19"
      ],
      "execution_count": null,
      "outputs": []
    },
    {
      "cell_type": "code",
      "metadata": {
        "id": "tgDQgEDhL5uv",
        "outputId": "18966310-9652-47e6-e6c6-36b2beddf4e7",
        "colab": {
          "base_uri": "https://localhost:8080/",
          "height": 55
        }
      },
      "source": [
        "n = int(input('정수를 입력하세요 :'))\n",
        "print('입력된 정수는 0에서 100의 범위 안에 있는 짝수인가요?',n%2==0 and n>=0 and n<=100)"
      ],
      "execution_count": null,
      "outputs": [
        {
          "output_type": "stream",
          "text": [
            "정수를 입력하세요 :120\n",
            "입력된 정수는 0에서 100의 범위 안에 있는 짝수인가요? False\n"
          ],
          "name": "stdout"
        }
      ]
    },
    {
      "cell_type": "code",
      "metadata": {
        "id": "qCXOUqqmMWtX",
        "outputId": "4c8f1c06-da7a-4ab0-9638-af042b1a305b",
        "colab": {
          "base_uri": "https://localhost:8080/",
          "height": 55
        }
      },
      "source": [
        "n = int(input('정수를 입력하세요 :'))\n",
        "print('입력된 정수는 0에서 100의 범위 안에 있는 짝수인가요?',n%2==0 and n>=0 and n<=100)"
      ],
      "execution_count": null,
      "outputs": [
        {
          "output_type": "stream",
          "text": [
            "정수를 입력하세요 :88\n",
            "입력된 정수는 0에서 100의 범위 안에 있는 짝수인가요? True\n"
          ],
          "name": "stdout"
        }
      ]
    },
    {
      "cell_type": "code",
      "metadata": {
        "id": "TfnXiFS7y1qP"
      },
      "source": [
        "# 연습문제 2.20"
      ],
      "execution_count": null,
      "outputs": []
    },
    {
      "cell_type": "code",
      "metadata": {
        "id": "nWScIPku79ar",
        "outputId": "16ac9b91-a3a4-4839-df70-1b5b97db05a5",
        "colab": {
          "base_uri": "https://localhost:8080/",
          "height": 73
        }
      },
      "source": [
        "print(bin(5),'&',bin(6),'=',bin(5&6))\n",
        "print(bin(5),'|',bin(6),'=',bin(5|6))\n",
        "print(bin(5),'^',bin(6),'=',bin(5^6))"
      ],
      "execution_count": null,
      "outputs": [
        {
          "output_type": "stream",
          "text": [
            "0b101 & 0b110 = 0b100\n",
            "0b101 | 0b110 = 0b111\n",
            "0b101 ^ 0b110 = 0b11\n"
          ],
          "name": "stdout"
        }
      ]
    },
    {
      "cell_type": "code",
      "metadata": {
        "id": "Bw1VdGmYy2ei"
      },
      "source": [
        "# 연습문제 2.21"
      ],
      "execution_count": null,
      "outputs": []
    },
    {
      "cell_type": "code",
      "metadata": {
        "id": "BeC292Cwy6uw",
        "outputId": "bb350c2c-ff0a-440e-d727-d58f91548705",
        "colab": {
          "base_uri": "https://localhost:8080/",
          "height": 73
        }
      },
      "source": [
        "정수 = int(input('정수를 입력하세요 : '))\n",
        "print(정수,'의 2진수 값 :',bin(정수))\n",
        "print(정수,'의 2진수 값에 대한 비트단위 부정값 :',bin(~9))"
      ],
      "execution_count": null,
      "outputs": [
        {
          "output_type": "stream",
          "text": [
            "정수를 입력하세요 : 9\n",
            "9 의 2진수 값 : 0b1001\n",
            "9 의 2진수 값에 대한 비트단위 부정값 : -0b1010\n"
          ],
          "name": "stdout"
        }
      ]
    },
    {
      "cell_type": "code",
      "metadata": {
        "id": "6KryNmJL0tcF"
      },
      "source": [
        "# 연습문제 2.22"
      ],
      "execution_count": null,
      "outputs": []
    },
    {
      "cell_type": "code",
      "metadata": {
        "id": "YXQwQKnH00du",
        "outputId": "23a6a687-5d80-4858-db5d-4218532570fd",
        "colab": {
          "base_uri": "https://localhost:8080/",
          "height": 92
        }
      },
      "source": [
        "a = int(input('정수 a를 입력하시오 : '))\n",
        "b = int(input('정수 b를 입력하시오 : '))\n",
        "print('a / b의 몫 :',a//b)\n",
        "print('a / b의 나머지 :',a%b)"
      ],
      "execution_count": null,
      "outputs": [
        {
          "output_type": "stream",
          "text": [
            "정수 a를 입력하시오 : 202\n",
            "정수 b를 입력하시오 : 50\n",
            "a / b의 몫 : 4\n",
            "a / b의 나머지 : 2\n"
          ],
          "name": "stdout"
        }
      ]
    },
    {
      "cell_type": "code",
      "metadata": {
        "id": "8vm5luBA2jAc"
      },
      "source": [
        "# 연습문제 2.23"
      ],
      "execution_count": null,
      "outputs": []
    },
    {
      "cell_type": "code",
      "metadata": {
        "id": "FgZbzMFr2oWY",
        "outputId": "c419258f-e469-4d2c-d4db-4ea0dcb45dda",
        "colab": {
          "base_uri": "https://localhost:8080/",
          "height": 92
        }
      },
      "source": [
        "정수 = int(input('세 자리 정수를 입력하세요 : '))\n",
        "print('백의 자리 :',정수 // 100)\n",
        "print('십의 자리 :',(정수//10)%10)\n",
        "print('일의 자리 :',정수 % 10)"
      ],
      "execution_count": null,
      "outputs": [
        {
          "output_type": "stream",
          "text": [
            "세 자리 정수를 입력하세요 : 349\n",
            "백의 자리 : 3\n",
            "십의 자리 : 4\n",
            "일의 자리 : 9\n"
          ],
          "name": "stdout"
        }
      ]
    },
    {
      "cell_type": "code",
      "metadata": {
        "id": "Inl8s0MD4KRs"
      },
      "source": [
        "# 연습문제 2.24"
      ],
      "execution_count": null,
      "outputs": []
    },
    {
      "cell_type": "code",
      "metadata": {
        "id": "4FDqOUL-4cWB",
        "outputId": "83f2cb0a-f164-43d6-f89c-5f4152f18de7",
        "colab": {
          "base_uri": "https://localhost:8080/",
          "height": 92
        }
      },
      "source": [
        "정수 = int(input('세 자리 정수를 입력하세요 : '))\n",
        "print(정수 % 10)\n",
        "print((정수//10)%10)\n",
        "print(정수 // 100)"
      ],
      "execution_count": null,
      "outputs": [
        {
          "output_type": "stream",
          "text": [
            "세 자리 정수를 입력하세요 : 349\n",
            "9\n",
            "4\n",
            "3\n"
          ],
          "name": "stdout"
        }
      ]
    }
  ]
}