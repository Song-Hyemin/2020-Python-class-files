{
  "nbformat": 4,
  "nbformat_minor": 0,
  "metadata": {
    "colab": {
      "name": "Lab3_20201591_HyeminSong.ipynb",
      "provenance": []
    },
    "kernelspec": {
      "name": "python3",
      "display_name": "Python 3"
    }
  },
  "cells": [
    {
      "cell_type": "code",
      "metadata": {
        "id": "Qj8dEr3nDFaw"
      },
      "source": [
        "age = 5"
      ],
      "execution_count": null,
      "outputs": []
    },
    {
      "cell_type": "code",
      "metadata": {
        "id": "OoOFN-76DV6c",
        "outputId": "41c77b38-81d1-4a69-ef8f-3746550f7d2a",
        "colab": {
          "base_uri": "https://localhost:8080/"
        }
      },
      "source": [
        "if age < 20:\n",
        "  print('청소년 할인')"
      ],
      "execution_count": null,
      "outputs": [
        {
          "output_type": "stream",
          "text": [
            "청소년 할인\n"
          ],
          "name": "stdout"
        }
      ]
    },
    {
      "cell_type": "code",
      "metadata": {
        "id": "i8NtT06nF3_p",
        "outputId": "9eed0d1f-2a70-4e41-96d8-b0c431296b64",
        "colab": {
          "base_uri": "https://localhost:8080/"
        }
      },
      "source": [
        "if age < 20:\n",
        "    print('청소년 할인')"
      ],
      "execution_count": null,
      "outputs": [
        {
          "output_type": "stream",
          "text": [
            "청소년 할인\n"
          ],
          "name": "stdout"
        }
      ]
    },
    {
      "cell_type": "code",
      "metadata": {
        "id": "Os12rTWeGPtC"
      },
      "source": [
        "walk_count = 800"
      ],
      "execution_count": null,
      "outputs": []
    },
    {
      "cell_type": "code",
      "metadata": {
        "id": "ProUwsERG9f_"
      },
      "source": [
        "if walk_count >= 1000:\n",
        "  print('목표 달성!!! 축하합니다~')"
      ],
      "execution_count": null,
      "outputs": []
    },
    {
      "cell_type": "code",
      "metadata": {
        "id": "nHxAdi1pHFX5"
      },
      "source": [
        "# LAB 3-1 : if 문의 사용법"
      ],
      "execution_count": null,
      "outputs": []
    },
    {
      "cell_type": "code",
      "metadata": {
        "id": "mujJJpbPIG9u"
      },
      "source": [
        "game_score = 800"
      ],
      "execution_count": null,
      "outputs": []
    },
    {
      "cell_type": "code",
      "metadata": {
        "id": "ys7lTpYsHtV0"
      },
      "source": [
        "if game_score >= 1000:\n",
        "  print('당신은 고수입니다')"
      ],
      "execution_count": null,
      "outputs": []
    },
    {
      "cell_type": "code",
      "metadata": {
        "id": "pAVTbcwjIL4d"
      },
      "source": [
        "game_score = 1300"
      ],
      "execution_count": null,
      "outputs": []
    },
    {
      "cell_type": "code",
      "metadata": {
        "id": "0PuwqrF_IFZt",
        "outputId": "1d21e236-0e44-489a-a6d8-b85ca0d12cff",
        "colab": {
          "base_uri": "https://localhost:8080/"
        }
      },
      "source": [
        "if game_score >= 1000:\n",
        "  print('당신은 고수입니다')"
      ],
      "execution_count": null,
      "outputs": [
        {
          "output_type": "stream",
          "text": [
            "당신은 고수입니다\n"
          ],
          "name": "stdout"
        }
      ]
    },
    {
      "cell_type": "code",
      "metadata": {
        "id": "B6SKKB84INQ6"
      },
      "source": [
        "num_a = 100\n",
        "num_b = 200"
      ],
      "execution_count": null,
      "outputs": []
    },
    {
      "cell_type": "code",
      "metadata": {
        "id": "gnwS5C2zIR_7"
      },
      "source": [
        "if num_a == num_b:\n",
        "  print('두 값이 일치합니다.')"
      ],
      "execution_count": null,
      "outputs": []
    },
    {
      "cell_type": "code",
      "metadata": {
        "id": "3tQVvWRuIpvf"
      },
      "source": [
        "num_a = 300\n",
        "num_b = 300"
      ],
      "execution_count": null,
      "outputs": []
    },
    {
      "cell_type": "code",
      "metadata": {
        "id": "OIHu87RXIgnv",
        "outputId": "b87cb284-1c2e-4a60-e562-6c885510542c",
        "colab": {
          "base_uri": "https://localhost:8080/"
        }
      },
      "source": [
        "if num_a == num_b:\n",
        "  print('두 값이 일치합니다.')"
      ],
      "execution_count": null,
      "outputs": [
        {
          "output_type": "stream",
          "text": [
            "두 값이 일치합니다.\n"
          ],
          "name": "stdout"
        }
      ]
    },
    {
      "cell_type": "code",
      "metadata": {
        "id": "Q5_CHcdDIpEf",
        "outputId": "33769951-2ffd-4bd5-ce01-7c3d14471691",
        "colab": {
          "base_uri": "https://localhost:8080/"
        }
      },
      "source": [
        "number = int(input('정수를 입력하세요 : '))"
      ],
      "execution_count": null,
      "outputs": [
        {
          "output_type": "stream",
          "text": [
            "정수를 입력하세요 : 16\n"
          ],
          "name": "stdout"
        }
      ]
    },
    {
      "cell_type": "code",
      "metadata": {
        "id": "1aUFe2tcKN_1"
      },
      "source": [
        "if (number % 3)== 0:\n",
        "  print(number, '은(는) 3의 배수입니다.')"
      ],
      "execution_count": null,
      "outputs": []
    },
    {
      "cell_type": "code",
      "metadata": {
        "id": "-pozr26_KYd4",
        "outputId": "a989c680-8d0e-4c22-8811-fe24f436a4bb",
        "colab": {
          "base_uri": "https://localhost:8080/"
        }
      },
      "source": [
        "number = int(input('정수를 입력하세요: '))\n",
        "if (number % 3) == 0 and (number % 5) == 0:\n",
        "  print(number, '은(는) 3의 배수이면서 5의 배수 입니다.')"
      ],
      "execution_count": null,
      "outputs": [
        {
          "output_type": "stream",
          "text": [
            "정수를 입력하세요: 12\n"
          ],
          "name": "stdout"
        }
      ]
    },
    {
      "cell_type": "code",
      "metadata": {
        "id": "iGKJLb1dKkKe"
      },
      "source": [
        "# LAB 3-2 : 변수와 if 조건식 사용하기"
      ],
      "execution_count": null,
      "outputs": []
    },
    {
      "cell_type": "code",
      "metadata": {
        "id": "sJNz9hJyLn9o"
      },
      "source": [
        "# 1번"
      ],
      "execution_count": null,
      "outputs": []
    },
    {
      "cell_type": "code",
      "metadata": {
        "id": "zyL-FGbZLFhV",
        "outputId": "bf7783ca-55a4-4e3b-e70b-f36ca7ba3853",
        "colab": {
          "base_uri": "https://localhost:8080/"
        }
      },
      "source": [
        "정수 = int(input('정수를 입력하세요 : '))\n",
        "print('n =',정수)\n",
        "if 정수 % 2 == 0:\n",
        "  print(정수, '은(는) 짝수입니다.')"
      ],
      "execution_count": null,
      "outputs": [
        {
          "output_type": "stream",
          "text": [
            "정수를 입력하세요 : 50\n",
            "n = 50\n",
            "50 은(는) 짝수입니다.\n"
          ],
          "name": "stdout"
        }
      ]
    },
    {
      "cell_type": "code",
      "metadata": {
        "id": "SorpRb2JLdYf",
        "outputId": "b7862c52-21e5-455a-e848-32cddaa9a6fa",
        "colab": {
          "base_uri": "https://localhost:8080/"
        }
      },
      "source": [
        "정수 = int(input('정수를 입력하세요 : '))\n",
        "print('n =',정수)\n",
        "if 정수 % 2 == 0:\n",
        "  print(정수, '은(는) 짝수입니다.')"
      ],
      "execution_count": null,
      "outputs": [
        {
          "output_type": "stream",
          "text": [
            "정수를 입력하세요 : 75\n",
            "n = 75\n"
          ],
          "name": "stdout"
        }
      ]
    },
    {
      "cell_type": "code",
      "metadata": {
        "id": "3b-LG6XrLpma"
      },
      "source": [
        "# 2번"
      ],
      "execution_count": null,
      "outputs": []
    },
    {
      "cell_type": "code",
      "metadata": {
        "id": "mjGVQPvNLha3",
        "outputId": "00bf1ac9-e8b9-4888-b5cc-b41227eb437b",
        "colab": {
          "base_uri": "https://localhost:8080/"
        }
      },
      "source": [
        "정수 = int(input('정수를 입력하세요 : '))\n",
        "print('x =',정수)\n",
        "if 정수 > 0:\n",
        "  print(정수, '은(는) 자연수입니다.')"
      ],
      "execution_count": null,
      "outputs": [
        {
          "output_type": "stream",
          "text": [
            "정수를 입력하세요 : 50\n",
            "x = 50\n",
            "50 은(는) 자연수입니다.\n"
          ],
          "name": "stdout"
        }
      ]
    },
    {
      "cell_type": "code",
      "metadata": {
        "id": "0anoq8SgLzg9",
        "outputId": "26640fd9-973e-40c6-a801-df968b93c11f",
        "colab": {
          "base_uri": "https://localhost:8080/"
        }
      },
      "source": [
        "정수 = int(input('정수를 입력하세요 : '))\n",
        "print('x =',정수)\n",
        "if 정수 > 0:\n",
        "  print(정수, '은(는) 자연수입니다.')"
      ],
      "execution_count": null,
      "outputs": [
        {
          "output_type": "stream",
          "text": [
            "정수를 입력하세요 : -10\n",
            "x = -10\n"
          ],
          "name": "stdout"
        }
      ]
    },
    {
      "cell_type": "code",
      "metadata": {
        "id": "JSUBmrtDL7uX"
      },
      "source": [
        "# 3.3 if-else 조건문"
      ],
      "execution_count": null,
      "outputs": []
    },
    {
      "cell_type": "code",
      "metadata": {
        "id": "s7poJhQ6MBSB"
      },
      "source": [
        "hour = 14"
      ],
      "execution_count": null,
      "outputs": []
    },
    {
      "cell_type": "code",
      "metadata": {
        "id": "unhQj1MAMDjD",
        "outputId": "71640d44-23c6-4b29-d709-11427e275286",
        "colab": {
          "base_uri": "https://localhost:8080/"
        }
      },
      "source": [
        "if hour < 12:\n",
        "  print('오전입니다.')\n",
        "if hour >= 12:\n",
        "  print('오후입니다.')"
      ],
      "execution_count": null,
      "outputs": [
        {
          "output_type": "stream",
          "text": [
            "오후입니다.\n"
          ],
          "name": "stdout"
        }
      ]
    },
    {
      "cell_type": "code",
      "metadata": {
        "id": "YN2tk5kAMLGj"
      },
      "source": [
        "hour = 14"
      ],
      "execution_count": null,
      "outputs": []
    },
    {
      "cell_type": "code",
      "metadata": {
        "id": "3O-e26ykMYpz",
        "outputId": "fc488b08-12e7-4f5b-b1aa-324c77228949",
        "colab": {
          "base_uri": "https://localhost:8080/"
        }
      },
      "source": [
        "if hour < 12:\n",
        "  print('오전입니다.')\n",
        "else:\n",
        "  print('오후입니다.')"
      ],
      "execution_count": null,
      "outputs": [
        {
          "output_type": "stream",
          "text": [
            "오후입니다.\n"
          ],
          "name": "stdout"
        }
      ]
    },
    {
      "cell_type": "code",
      "metadata": {
        "id": "h8PsuEbcMa8Z"
      },
      "source": [
        "num = -10"
      ],
      "execution_count": null,
      "outputs": []
    },
    {
      "cell_type": "code",
      "metadata": {
        "id": "jwlEOoAvMwzd",
        "outputId": "185b8d5c-4b39-47ae-a0d4-d63c705fadb5",
        "colab": {
          "base_uri": "https://localhost:8080/"
        }
      },
      "source": [
        "if num < 0 :\n",
        "  print(num, '은 음수입니다.')\n",
        "else: # num >= 0\n",
        "  print(num, '은 음수가 아닙니다.')"
      ],
      "execution_count": null,
      "outputs": [
        {
          "output_type": "stream",
          "text": [
            "-10 은 음수입니다.\n"
          ],
          "name": "stdout"
        }
      ]
    },
    {
      "cell_type": "code",
      "metadata": {
        "id": "ksh-HXjDM-no",
        "outputId": "a945e39f-e736-4ac2-ebc9-a6fc6e22bad4",
        "colab": {
          "base_uri": "https://localhost:8080/"
        }
      },
      "source": [
        "num = 9\n",
        "if num % 2 == 0:\n",
        "  print(num, '은 짝수입니다.')\n",
        "else:\n",
        "  print(num, '은 홀수입니다.')"
      ],
      "execution_count": null,
      "outputs": [
        {
          "output_type": "stream",
          "text": [
            "9 은 홀수입니다.\n"
          ],
          "name": "stdout"
        }
      ]
    },
    {
      "cell_type": "code",
      "metadata": {
        "id": "RTcuDx-OOHWP"
      },
      "source": [
        "num = -100"
      ],
      "execution_count": null,
      "outputs": []
    },
    {
      "cell_type": "code",
      "metadata": {
        "id": "KUSObrKGOH1j",
        "outputId": "5b8efbf3-feaa-4876-f7b3-78a16c644228",
        "colab": {
          "base_uri": "https://localhost:8080/"
        }
      },
      "source": [
        "if num < 0:\n",
        "  print(num, '은 음수입니다.')\n",
        "else:\n",
        "  print(num, '은 음수가 아닙니다.')\n",
        "\n",
        "  if num % 2 == 0:\n",
        "    print(num, '은 짝수 입니다.')\n",
        "  else:\n",
        "    print(num, '은 홀수입니다.')"
      ],
      "execution_count": null,
      "outputs": [
        {
          "output_type": "stream",
          "text": [
            "-100 은 음수입니다.\n"
          ],
          "name": "stdout"
        }
      ]
    },
    {
      "cell_type": "code",
      "metadata": {
        "id": "ylBAR1WnNVY2"
      },
      "source": [
        "# LAB 3-3 : if 조건문의 응용"
      ],
      "execution_count": null,
      "outputs": []
    },
    {
      "cell_type": "code",
      "metadata": {
        "id": "xAypR_YPNpFp"
      },
      "source": [
        "# 1번"
      ],
      "execution_count": null,
      "outputs": []
    },
    {
      "cell_type": "code",
      "metadata": {
        "id": "PCYjqVxnNrOT",
        "outputId": "7bb1d566-3f79-47c1-ca16-7a1c7c777fdf",
        "colab": {
          "base_uri": "https://localhost:8080/"
        }
      },
      "source": [
        "게임점수 = int(input('게임점수를 입력하시오 : '))\n",
        "print('game_score =',게임점수)\n",
        "if 게임점수 >= 1000:\n",
        "  print('고수입니다.')\n",
        "else:\n",
        "  print('입문자입니다.')"
      ],
      "execution_count": null,
      "outputs": [
        {
          "output_type": "stream",
          "text": [
            "게임점수를 입력하시오 : 800\n",
            "game_score = 800\n",
            "입문자입니다.\n"
          ],
          "name": "stdout"
        }
      ]
    },
    {
      "cell_type": "code",
      "metadata": {
        "id": "OY8cgTNZN_6Q",
        "outputId": "946ac564-6add-4862-e687-3fd8d49f5585",
        "colab": {
          "base_uri": "https://localhost:8080/"
        }
      },
      "source": [
        "게임점수 = int(input('게임점수를 입력하시오 : '))\n",
        "print('game_score =',게임점수)\n",
        "if 게임점수 >= 1000:\n",
        "  print('고수입니다.')\n",
        "else:\n",
        "  print('입문자입니다.')"
      ],
      "execution_count": null,
      "outputs": [
        {
          "output_type": "stream",
          "text": [
            "게임점수를 입력하시오 : 1300\n",
            "game_score = 1300\n",
            "고수입니다.\n"
          ],
          "name": "stdout"
        }
      ]
    },
    {
      "cell_type": "code",
      "metadata": {
        "id": "Hl7VK9zrOCe2"
      },
      "source": [
        "# 2번"
      ],
      "execution_count": null,
      "outputs": []
    },
    {
      "cell_type": "code",
      "metadata": {
        "id": "5ttP0wz7OFzG",
        "outputId": "2ac5bf76-7de5-4ddd-a785-f8a97de3948a",
        "colab": {
          "base_uri": "https://localhost:8080/"
        }
      },
      "source": [
        "정수 = int(input('한 정수를 입력하시오 : '))\n",
        "다른정수 = int(input('다른 정수를 입력하시오 : '))\n",
        "if 정수 == 다른정수:\n",
        "  print('두 값이 일치합니다.')\n",
        "else:\n",
        "  print('두 값이 일치하지 않습니다.')"
      ],
      "execution_count": null,
      "outputs": [
        {
          "output_type": "stream",
          "text": [
            "한 정수를 입력하시오 : 100\n",
            "다른 정수를 입력하시오 : 200\n",
            "두 값이 일치하지 않습니다.\n"
          ],
          "name": "stdout"
        }
      ]
    },
    {
      "cell_type": "code",
      "metadata": {
        "id": "d2hUu34PO31U",
        "outputId": "62d82649-70d2-4c8b-fd65-41fa9a9770a7",
        "colab": {
          "base_uri": "https://localhost:8080/"
        }
      },
      "source": [
        "정수 = int(input('한 정수를 입력하시오 : '))\n",
        "다른정수 = int(input('다른 정수를 입력하시오 : '))\n",
        "if 정수 == 다른정수:\n",
        "  print('두 값이 일치합니다.')\n",
        "else:\n",
        "  print('두 값이 일치하지 않습니다.')"
      ],
      "execution_count": null,
      "outputs": [
        {
          "output_type": "stream",
          "text": [
            "한 정수를 입력하시오 : 300\n",
            "다른 정수를 입력하시오 : 300\n",
            "두 값이 일치합니다.\n"
          ],
          "name": "stdout"
        }
      ]
    },
    {
      "cell_type": "code",
      "metadata": {
        "id": "lV5kPzYuPBGa"
      },
      "source": [
        "# 3번"
      ],
      "execution_count": null,
      "outputs": []
    },
    {
      "cell_type": "code",
      "metadata": {
        "id": "6IfuTGKhPERe",
        "outputId": "e92b96b9-de02-491d-dc9a-a28c51a953b7",
        "colab": {
          "base_uri": "https://localhost:8080/"
        }
      },
      "source": [
        "나이 = int(input('당신은 성인인가요(성인이면 1, 미성년이면 0): '))\n",
        "if 나이 == 0:\n",
        "  print('당신은 미성년자입니다.')"
      ],
      "execution_count": null,
      "outputs": [
        {
          "output_type": "stream",
          "text": [
            "당신은 성인인가요(성인이면 1, 미성년이면 0): 0\n",
            "당신은 미성년자입니다.\n"
          ],
          "name": "stdout"
        }
      ]
    },
    {
      "cell_type": "code",
      "metadata": {
        "id": "PjPXg_MqPcKz"
      },
      "source": [
        "나이 = int(input('당신은 성인인가요(성인이면 1, 미성년이면 0): '))\n",
        "if 나이 == 0:\n",
        "  print('당신은 미성년자입니다.')\n",
        "else:\n",
        "  결혼여부 = int(input('결혼을 하셨나요(기혼이면 1, 미혼이면 0): '))\n",
        "  if 결혼여부 == 1:\n",
        "    print('당신은 결혼한 성인입니다.')\n",
        "  else:\n",
        "    print('당신은 결혼하지 않은 성인입니다.')"
      ],
      "execution_count": null,
      "outputs": []
    },
    {
      "cell_type": "code",
      "metadata": {
        "id": "Sg380esm5Cap"
      },
      "source": [
        "# 3.3.1 복합 조건식"
      ],
      "execution_count": null,
      "outputs": []
    },
    {
      "cell_type": "code",
      "metadata": {
        "id": "qcpihW_SdCiE"
      },
      "source": [
        "a = 10\n",
        "b = 13"
      ],
      "execution_count": null,
      "outputs": []
    },
    {
      "cell_type": "code",
      "metadata": {
        "id": "jUHMfiRgdCyw",
        "outputId": "dff7a7ed-d50b-4a63-8a88-da321631fcf5",
        "colab": {
          "base_uri": "https://localhost:8080/",
          "height": 36
        }
      },
      "source": [
        "if (a%2 == 0) and (b%2 == 0):\n",
        "  print('두 수 모두 짝수입니다.')\n",
        "if (a%2 == 0) or (b%2 == 0):\n",
        "  print('두 수 중 하나 이상이 짝수입니다.')"
      ],
      "execution_count": null,
      "outputs": [
        {
          "output_type": "stream",
          "text": [
            "두 수 중 하나 이상이 짝수입니다.\n"
          ],
          "name": "stdout"
        }
      ]
    },
    {
      "cell_type": "code",
      "metadata": {
        "id": "0top3FcWdC3z"
      },
      "source": [
        "# 3.3.2 복합 조건식으로 윤년 검사하기"
      ],
      "execution_count": null,
      "outputs": []
    },
    {
      "cell_type": "code",
      "metadata": {
        "id": "2lysF12UdC1M",
        "outputId": "2f1129b0-d726-4b89-b526-34b8797731d4",
        "colab": {
          "base_uri": "https://localhost:8080/",
          "height": 36
        }
      },
      "source": [
        "year = int(input('연도를 입력하세요 : '))"
      ],
      "execution_count": null,
      "outputs": [
        {
          "output_type": "stream",
          "text": [
            "연도를 입력하세요 : 2010\n"
          ],
          "name": "stdout"
        }
      ]
    },
    {
      "cell_type": "code",
      "metadata": {
        "id": "o6xWWhsadCnF"
      },
      "source": [
        "is_leap_year = ((year % 4 == 0) and (year % 100 != 0) or (year % 400 == 0))"
      ],
      "execution_count": null,
      "outputs": []
    },
    {
      "cell_type": "code",
      "metadata": {
        "id": "ur_WBxp3dClF",
        "outputId": "ffeff253-eee7-48d1-e587-5fd4892634b6",
        "colab": {
          "base_uri": "https://localhost:8080/",
          "height": 36
        }
      },
      "source": [
        "print(year, '년은 윤년입니까?', is_leap_year)"
      ],
      "execution_count": null,
      "outputs": [
        {
          "output_type": "stream",
          "text": [
            "2010 년은 윤년입니까? False\n"
          ],
          "name": "stdout"
        }
      ]
    },
    {
      "cell_type": "code",
      "metadata": {
        "id": "EHZSoesN5CwQ"
      },
      "source": [
        "# 3.4 if-elif-else 문"
      ],
      "execution_count": null,
      "outputs": []
    },
    {
      "cell_type": "code",
      "metadata": {
        "id": "-fT7TyaV5iTp",
        "outputId": "43909af5-16b4-4dc0-9554-7fe7520c947e",
        "colab": {
          "base_uri": "https://localhost:8080/",
          "height": 36
        }
      },
      "source": [
        "score = int(input('점수를 입력하세요 : '))"
      ],
      "execution_count": null,
      "outputs": [
        {
          "output_type": "stream",
          "text": [
            "점수를 입력하세요 : 99\n"
          ],
          "name": "stdout"
        }
      ]
    },
    {
      "cell_type": "code",
      "metadata": {
        "id": "gJguT3QH51IR",
        "outputId": "15d0068d-0a12-40fa-c1ee-63bb7e3c180e",
        "colab": {
          "base_uri": "https://localhost:8080/",
          "height": 36
        }
      },
      "source": [
        "if score >= 90:\n",
        "  grade = 'A'\n",
        "elif score >= 80:\n",
        "  grade = 'B'\n",
        "elif score >= 70:\n",
        "  grade = 'C'\n",
        "elif score >= 60 :\n",
        "  grade = 'D'\n",
        "else :\n",
        "  grade = 'F'\n",
        "\n",
        "print('당신의 등급은 :',grade)"
      ],
      "execution_count": null,
      "outputs": [
        {
          "output_type": "stream",
          "text": [
            "당신의 등급은 : A\n"
          ],
          "name": "stdout"
        }
      ]
    },
    {
      "cell_type": "code",
      "metadata": {
        "id": "rLfHVjL751op"
      },
      "source": [
        "# LAB 3-5 : if-elif-else 문을 사용한 다중 조건식"
      ],
      "execution_count": null,
      "outputs": []
    },
    {
      "cell_type": "code",
      "metadata": {
        "id": "0iOLPALy51uU"
      },
      "source": [
        "# 1번"
      ],
      "execution_count": null,
      "outputs": []
    },
    {
      "cell_type": "code",
      "metadata": {
        "id": "b_zBmNTI51rq",
        "outputId": "f006df78-b180-417e-b9b3-46f010fded5c",
        "colab": {
          "base_uri": "https://localhost:8080/",
          "height": 55
        }
      },
      "source": [
        "speed = int(input('자동차의 속도를 입력하세요(단위 : km/h ): '))\n",
        "if speed >= 100:\n",
        "  속도 = '고속'\n",
        "elif speed >= 60:\n",
        "  속도 = '중속'\n",
        "else :\n",
        "  속도 = '저속'\n",
        "\n",
        "print(속도)"
      ],
      "execution_count": null,
      "outputs": [
        {
          "output_type": "stream",
          "text": [
            "자동차의 속도를 입력하세요(단위 : km/h ): 13\n",
            "저속\n"
          ],
          "name": "stdout"
        }
      ]
    },
    {
      "cell_type": "code",
      "metadata": {
        "id": "mi1v_CQ_51lC",
        "outputId": "7f3ae999-cd59-4af0-b857-5b6ba59b3847",
        "colab": {
          "base_uri": "https://localhost:8080/",
          "height": 55
        }
      },
      "source": [
        "speed = int(input('자동차의 속도를 입력하세요(단위 : km/h ): '))\n",
        "if speed >= 100:\n",
        "  속도 = '고속'\n",
        "elif speed >= 60:\n",
        "  속도 = '중속'\n",
        "else :\n",
        "  속도 = '저속'\n",
        "\n",
        "print(속도)"
      ],
      "execution_count": null,
      "outputs": [
        {
          "output_type": "stream",
          "text": [
            "자동차의 속도를 입력하세요(단위 : km/h ): 130\n",
            "고속\n"
          ],
          "name": "stdout"
        }
      ]
    },
    {
      "cell_type": "code",
      "metadata": {
        "id": "3jk7B_mb7QML"
      },
      "source": [
        "# 2번"
      ],
      "execution_count": null,
      "outputs": []
    },
    {
      "cell_type": "code",
      "metadata": {
        "id": "P2DWxyYo7S3j",
        "outputId": "2123ea72-0de8-4987-cf59-84b6078bbe3a",
        "colab": {
          "base_uri": "https://localhost:8080/",
          "height": 55
        }
      },
      "source": [
        "농도 = int(input('미세먼지 농도를 입력하세요(단위 : microgram/m^3 ): '))\n",
        "if 농도 <= 15:\n",
        "  미세먼지 = '좋음'\n",
        "elif 농도 <= 35:\n",
        "  미세먼지 = '보통'\n",
        "elif 농도 <= 75:\n",
        "  미세먼지 = '나쁨'\n",
        "else :\n",
        "  미세먼지 = '매우 나쁨'\n",
        "\n",
        "print(미세먼지)"
      ],
      "execution_count": null,
      "outputs": [
        {
          "output_type": "stream",
          "text": [
            "미세먼지 농도를 입력하세요(단위 : microgram/m^3 ): 13\n",
            "좋음\n"
          ],
          "name": "stdout"
        }
      ]
    },
    {
      "cell_type": "code",
      "metadata": {
        "id": "BwUNqTPV7w34",
        "outputId": "b61fdf4c-faea-453e-9cd1-f9dbafc1ffa8",
        "colab": {
          "base_uri": "https://localhost:8080/",
          "height": 55
        }
      },
      "source": [
        "농도 = int(input('미세먼지 농도를 입력하세요(단위 : microgram/m^3 ): '))\n",
        "if 농도 <= 15:\n",
        "  미세먼지 = '좋음'\n",
        "elif 농도 <= 35:\n",
        "  미세먼지 = '보통'\n",
        "elif 농도 <= 75:\n",
        "  미세먼지 = '나쁨'\n",
        "else :\n",
        "  미세먼지 = '매우 나쁨'\n",
        "\n",
        "print(미세먼지)"
      ],
      "execution_count": null,
      "outputs": [
        {
          "output_type": "stream",
          "text": [
            "미세먼지 농도를 입력하세요(단위 : microgram/m^3 ): 33\n",
            "보통\n"
          ],
          "name": "stdout"
        }
      ]
    },
    {
      "cell_type": "code",
      "metadata": {
        "id": "FXdr30_v71jQ"
      },
      "source": [
        "# 3.5 for 반복문"
      ],
      "execution_count": null,
      "outputs": []
    },
    {
      "cell_type": "code",
      "metadata": {
        "id": "pzihH4uGfOZP",
        "outputId": "4575095e-2c0b-4459-8056-2f62173dd794",
        "colab": {
          "base_uri": "https://localhost:8080/",
          "height": 297
        }
      },
      "source": [
        "for i in range(15):\n",
        "  print(i, 'Welcome to everyone!!')"
      ],
      "execution_count": null,
      "outputs": [
        {
          "output_type": "stream",
          "text": [
            "0 Welcome to everyone!!\n",
            "1 Welcome to everyone!!\n",
            "2 Welcome to everyone!!\n",
            "3 Welcome to everyone!!\n",
            "4 Welcome to everyone!!\n",
            "5 Welcome to everyone!!\n",
            "6 Welcome to everyone!!\n",
            "7 Welcome to everyone!!\n",
            "8 Welcome to everyone!!\n",
            "9 Welcome to everyone!!\n",
            "10 Welcome to everyone!!\n",
            "11 Welcome to everyone!!\n",
            "12 Welcome to everyone!!\n",
            "13 Welcome to everyone!!\n",
            "14 Welcome to everyone!!\n"
          ],
          "name": "stdout"
        }
      ]
    },
    {
      "cell_type": "code",
      "metadata": {
        "id": "qh4mkNvSwzkV"
      },
      "source": [
        "# LAB 3-6 : 반복문을 이용해서 다음 코드를 작성해 보자"
      ],
      "execution_count": null,
      "outputs": []
    },
    {
      "cell_type": "code",
      "metadata": {
        "id": "1CtQAPROw9C3"
      },
      "source": [
        "# 1번"
      ],
      "execution_count": null,
      "outputs": []
    },
    {
      "cell_type": "code",
      "metadata": {
        "id": "DkXRzBy5w99N",
        "outputId": "b8f9c74d-a2fe-468d-d32d-21871aec2afd",
        "colab": {
          "base_uri": "https://localhost:8080/",
          "height": 111
        }
      },
      "source": [
        "for _ in range(5):\n",
        "  print('Hello, Python!')"
      ],
      "execution_count": null,
      "outputs": [
        {
          "output_type": "stream",
          "text": [
            "Hello, Python!\n",
            "Hello, Python!\n",
            "Hello, Python!\n",
            "Hello, Python!\n",
            "Hello, Python!\n"
          ],
          "name": "stdout"
        }
      ]
    },
    {
      "cell_type": "code",
      "metadata": {
        "id": "rRa0KS6mxDyz"
      },
      "source": [
        "# 2번"
      ],
      "execution_count": null,
      "outputs": []
    },
    {
      "cell_type": "code",
      "metadata": {
        "id": "i5-po1TkxG25",
        "outputId": "a603081b-a484-44bb-9e0e-168ad5b477e9",
        "colab": {
          "base_uri": "https://localhost:8080/",
          "height": 111
        }
      },
      "source": [
        "for i in range(5):\n",
        "  print(i)"
      ],
      "execution_count": null,
      "outputs": [
        {
          "output_type": "stream",
          "text": [
            "0\n",
            "1\n",
            "2\n",
            "3\n",
            "4\n"
          ],
          "name": "stdout"
        }
      ]
    },
    {
      "cell_type": "code",
      "metadata": {
        "id": "3vULunEKxLvO",
        "outputId": "771c4278-b2eb-4be1-e438-880faa315152",
        "colab": {
          "base_uri": "https://localhost:8080/",
          "height": 111
        }
      },
      "source": [
        "for i in range(5):\n",
        "  print(i)"
      ],
      "execution_count": null,
      "outputs": [
        {
          "output_type": "stream",
          "text": [
            "0\n",
            "1\n",
            "2\n",
            "3\n",
            "4\n"
          ],
          "name": "stdout"
        }
      ]
    },
    {
      "cell_type": "code",
      "metadata": {
        "id": "vd5BYh1axi90",
        "outputId": "ce591200-67bb-4064-fc1f-a123cba518ea",
        "colab": {
          "base_uri": "https://localhost:8080/",
          "height": 36
        }
      },
      "source": [
        "list(range(5))"
      ],
      "execution_count": null,
      "outputs": [
        {
          "output_type": "execute_result",
          "data": {
            "text/plain": [
              "[0, 1, 2, 3, 4]"
            ]
          },
          "metadata": {
            "tags": []
          },
          "execution_count": 28
        }
      ]
    },
    {
      "cell_type": "code",
      "metadata": {
        "id": "ClDnFFqTxoOV",
        "outputId": "b78d62d8-df88-4745-bfce-b4bea616c63a",
        "colab": {
          "base_uri": "https://localhost:8080/",
          "height": 36
        }
      },
      "source": [
        "list(range(0,5))"
      ],
      "execution_count": null,
      "outputs": [
        {
          "output_type": "execute_result",
          "data": {
            "text/plain": [
              "[0, 1, 2, 3, 4]"
            ]
          },
          "metadata": {
            "tags": []
          },
          "execution_count": 30
        }
      ]
    },
    {
      "cell_type": "code",
      "metadata": {
        "id": "EsgokV6JxzK0",
        "outputId": "13c3f60b-2696-4a34-d3e7-82c481ca9135",
        "colab": {
          "base_uri": "https://localhost:8080/",
          "height": 36
        }
      },
      "source": [
        "list(range(0,5,3))"
      ],
      "execution_count": null,
      "outputs": [
        {
          "output_type": "execute_result",
          "data": {
            "text/plain": [
              "[0, 3]"
            ]
          },
          "metadata": {
            "tags": []
          },
          "execution_count": 32
        }
      ]
    },
    {
      "cell_type": "code",
      "metadata": {
        "id": "JfCWPhfRx3U5",
        "outputId": "36522bfc-55f7-4dae-f65f-957fdb3cae4f",
        "colab": {
          "base_uri": "https://localhost:8080/",
          "height": 36
        }
      },
      "source": [
        "list(range(-2,-10,-2))"
      ],
      "execution_count": null,
      "outputs": [
        {
          "output_type": "execute_result",
          "data": {
            "text/plain": [
              "[-2, -4, -6, -8]"
            ]
          },
          "metadata": {
            "tags": []
          },
          "execution_count": 33
        }
      ]
    },
    {
      "cell_type": "code",
      "metadata": {
        "id": "U5CUwAGOx9xk",
        "outputId": "a1ba4dd2-1970-4a79-fe6d-9a9fafd3f92a",
        "colab": {
          "base_uri": "https://localhost:8080/",
          "height": 176
        }
      },
      "source": [
        "list(range(0,5.7,0.1))"
      ],
      "execution_count": null,
      "outputs": [
        {
          "output_type": "error",
          "ename": "TypeError",
          "evalue": "ignored",
          "traceback": [
            "\u001b[0;31m---------------------------------------------------------------------------\u001b[0m",
            "\u001b[0;31mTypeError\u001b[0m                                 Traceback (most recent call last)",
            "\u001b[0;32m<ipython-input-34-83f78c1b5cef>\u001b[0m in \u001b[0;36m<module>\u001b[0;34m()\u001b[0m\n\u001b[0;32m----> 1\u001b[0;31m \u001b[0mlist\u001b[0m\u001b[0;34m(\u001b[0m\u001b[0mrange\u001b[0m\u001b[0;34m(\u001b[0m\u001b[0;36m0\u001b[0m\u001b[0;34m,\u001b[0m\u001b[0;36m5.7\u001b[0m\u001b[0;34m,\u001b[0m\u001b[0;36m0.1\u001b[0m\u001b[0;34m)\u001b[0m\u001b[0;34m)\u001b[0m\u001b[0;34m\u001b[0m\u001b[0;34m\u001b[0m\u001b[0m\n\u001b[0m",
            "\u001b[0;31mTypeError\u001b[0m: 'float' object cannot be interpreted as an integer"
          ]
        }
      ]
    },
    {
      "cell_type": "code",
      "metadata": {
        "id": "oBVqjL8vyDbG",
        "outputId": "ad2cf56d-7f65-46dd-a02d-f4b12a47ada6",
        "colab": {
          "base_uri": "https://localhost:8080/",
          "height": 36
        }
      },
      "source": [
        "list(range(0,-5,1))"
      ],
      "execution_count": null,
      "outputs": [
        {
          "output_type": "execute_result",
          "data": {
            "text/plain": [
              "[]"
            ]
          },
          "metadata": {
            "tags": []
          },
          "execution_count": 35
        }
      ]
    },
    {
      "cell_type": "code",
      "metadata": {
        "id": "yk3IhrZ_yeb-"
      },
      "source": [
        "# LAB 3-7 : range() 함수의 응용"
      ],
      "execution_count": null,
      "outputs": []
    },
    {
      "cell_type": "code",
      "metadata": {
        "id": "eyJjDAInys-o"
      },
      "source": [
        "# 1번"
      ],
      "execution_count": null,
      "outputs": []
    },
    {
      "cell_type": "code",
      "metadata": {
        "id": "0o9jH6Izyt7e",
        "outputId": "daa6081b-1b56-480d-ff6c-cae8e2c0667a",
        "colab": {
          "base_uri": "https://localhost:8080/",
          "height": 1000
        }
      },
      "source": [
        "list(range(1,101))"
      ],
      "execution_count": null,
      "outputs": [
        {
          "output_type": "execute_result",
          "data": {
            "text/plain": [
              "[1,\n",
              " 2,\n",
              " 3,\n",
              " 4,\n",
              " 5,\n",
              " 6,\n",
              " 7,\n",
              " 8,\n",
              " 9,\n",
              " 10,\n",
              " 11,\n",
              " 12,\n",
              " 13,\n",
              " 14,\n",
              " 15,\n",
              " 16,\n",
              " 17,\n",
              " 18,\n",
              " 19,\n",
              " 20,\n",
              " 21,\n",
              " 22,\n",
              " 23,\n",
              " 24,\n",
              " 25,\n",
              " 26,\n",
              " 27,\n",
              " 28,\n",
              " 29,\n",
              " 30,\n",
              " 31,\n",
              " 32,\n",
              " 33,\n",
              " 34,\n",
              " 35,\n",
              " 36,\n",
              " 37,\n",
              " 38,\n",
              " 39,\n",
              " 40,\n",
              " 41,\n",
              " 42,\n",
              " 43,\n",
              " 44,\n",
              " 45,\n",
              " 46,\n",
              " 47,\n",
              " 48,\n",
              " 49,\n",
              " 50,\n",
              " 51,\n",
              " 52,\n",
              " 53,\n",
              " 54,\n",
              " 55,\n",
              " 56,\n",
              " 57,\n",
              " 58,\n",
              " 59,\n",
              " 60,\n",
              " 61,\n",
              " 62,\n",
              " 63,\n",
              " 64,\n",
              " 65,\n",
              " 66,\n",
              " 67,\n",
              " 68,\n",
              " 69,\n",
              " 70,\n",
              " 71,\n",
              " 72,\n",
              " 73,\n",
              " 74,\n",
              " 75,\n",
              " 76,\n",
              " 77,\n",
              " 78,\n",
              " 79,\n",
              " 80,\n",
              " 81,\n",
              " 82,\n",
              " 83,\n",
              " 84,\n",
              " 85,\n",
              " 86,\n",
              " 87,\n",
              " 88,\n",
              " 89,\n",
              " 90,\n",
              " 91,\n",
              " 92,\n",
              " 93,\n",
              " 94,\n",
              " 95,\n",
              " 96,\n",
              " 97,\n",
              " 98,\n",
              " 99,\n",
              " 100]"
            ]
          },
          "metadata": {
            "tags": []
          },
          "execution_count": 38
        }
      ]
    },
    {
      "cell_type": "code",
      "metadata": {
        "id": "46mv4o26yyMC"
      },
      "source": [
        "# 2번"
      ],
      "execution_count": null,
      "outputs": []
    },
    {
      "cell_type": "code",
      "metadata": {
        "id": "v4UFp9Yjy0cU",
        "outputId": "accc9785-4b4c-4218-8a0b-974d76159672",
        "colab": {
          "base_uri": "https://localhost:8080/",
          "height": 951
        }
      },
      "source": [
        "list(range(2,101,2))"
      ],
      "execution_count": null,
      "outputs": [
        {
          "output_type": "execute_result",
          "data": {
            "text/plain": [
              "[2,\n",
              " 4,\n",
              " 6,\n",
              " 8,\n",
              " 10,\n",
              " 12,\n",
              " 14,\n",
              " 16,\n",
              " 18,\n",
              " 20,\n",
              " 22,\n",
              " 24,\n",
              " 26,\n",
              " 28,\n",
              " 30,\n",
              " 32,\n",
              " 34,\n",
              " 36,\n",
              " 38,\n",
              " 40,\n",
              " 42,\n",
              " 44,\n",
              " 46,\n",
              " 48,\n",
              " 50,\n",
              " 52,\n",
              " 54,\n",
              " 56,\n",
              " 58,\n",
              " 60,\n",
              " 62,\n",
              " 64,\n",
              " 66,\n",
              " 68,\n",
              " 70,\n",
              " 72,\n",
              " 74,\n",
              " 76,\n",
              " 78,\n",
              " 80,\n",
              " 82,\n",
              " 84,\n",
              " 86,\n",
              " 88,\n",
              " 90,\n",
              " 92,\n",
              " 94,\n",
              " 96,\n",
              " 98,\n",
              " 100]"
            ]
          },
          "metadata": {
            "tags": []
          },
          "execution_count": 40
        }
      ]
    },
    {
      "cell_type": "code",
      "metadata": {
        "id": "6PWdr-8zy49J"
      },
      "source": [
        "# 3번"
      ],
      "execution_count": null,
      "outputs": []
    },
    {
      "cell_type": "code",
      "metadata": {
        "id": "tAPJ3ZWwy9Iv",
        "outputId": "48ee7b6f-d5ff-4e75-bf9b-c6f21465d2f6",
        "colab": {
          "base_uri": "https://localhost:8080/",
          "height": 1000
        }
      },
      "source": [
        "list(range(-99,0))"
      ],
      "execution_count": null,
      "outputs": [
        {
          "output_type": "execute_result",
          "data": {
            "text/plain": [
              "[-99,\n",
              " -98,\n",
              " -97,\n",
              " -96,\n",
              " -95,\n",
              " -94,\n",
              " -93,\n",
              " -92,\n",
              " -91,\n",
              " -90,\n",
              " -89,\n",
              " -88,\n",
              " -87,\n",
              " -86,\n",
              " -85,\n",
              " -84,\n",
              " -83,\n",
              " -82,\n",
              " -81,\n",
              " -80,\n",
              " -79,\n",
              " -78,\n",
              " -77,\n",
              " -76,\n",
              " -75,\n",
              " -74,\n",
              " -73,\n",
              " -72,\n",
              " -71,\n",
              " -70,\n",
              " -69,\n",
              " -68,\n",
              " -67,\n",
              " -66,\n",
              " -65,\n",
              " -64,\n",
              " -63,\n",
              " -62,\n",
              " -61,\n",
              " -60,\n",
              " -59,\n",
              " -58,\n",
              " -57,\n",
              " -56,\n",
              " -55,\n",
              " -54,\n",
              " -53,\n",
              " -52,\n",
              " -51,\n",
              " -50,\n",
              " -49,\n",
              " -48,\n",
              " -47,\n",
              " -46,\n",
              " -45,\n",
              " -44,\n",
              " -43,\n",
              " -42,\n",
              " -41,\n",
              " -40,\n",
              " -39,\n",
              " -38,\n",
              " -37,\n",
              " -36,\n",
              " -35,\n",
              " -34,\n",
              " -33,\n",
              " -32,\n",
              " -31,\n",
              " -30,\n",
              " -29,\n",
              " -28,\n",
              " -27,\n",
              " -26,\n",
              " -25,\n",
              " -24,\n",
              " -23,\n",
              " -22,\n",
              " -21,\n",
              " -20,\n",
              " -19,\n",
              " -18,\n",
              " -17,\n",
              " -16,\n",
              " -15,\n",
              " -14,\n",
              " -13,\n",
              " -12,\n",
              " -11,\n",
              " -10,\n",
              " -9,\n",
              " -8,\n",
              " -7,\n",
              " -6,\n",
              " -5,\n",
              " -4,\n",
              " -3,\n",
              " -2,\n",
              " -1]"
            ]
          },
          "metadata": {
            "tags": []
          },
          "execution_count": 44
        }
      ]
    },
    {
      "cell_type": "code",
      "metadata": {
        "id": "WN8DDyLCzAny",
        "outputId": "d129cf1e-2d73-4634-ae3e-71258b8f6432",
        "colab": {
          "base_uri": "https://localhost:8080/",
          "height": 36
        }
      },
      "source": [
        "for i in range(5):\n",
        "  print(i, end = ' ')\n",
        "for i in range(0,5):\n",
        "  print(i, end = ' ')"
      ],
      "execution_count": null,
      "outputs": [
        {
          "output_type": "stream",
          "text": [
            "0 1 2 3 4 0 1 2 3 4 "
          ],
          "name": "stdout"
        }
      ]
    },
    {
      "cell_type": "code",
      "metadata": {
        "id": "CvYh1WF3zUnH",
        "outputId": "1b219f33-a770-45bf-e0fc-44194c1f7ec0",
        "colab": {
          "base_uri": "https://localhost:8080/",
          "height": 36
        }
      },
      "source": [
        "for i in range(0,5):\n",
        "  print(i, end = ' ')"
      ],
      "execution_count": null,
      "outputs": [
        {
          "output_type": "stream",
          "text": [
            "0 1 2 3 4 "
          ],
          "name": "stdout"
        }
      ]
    },
    {
      "cell_type": "code",
      "metadata": {
        "id": "fgRLK8IKzcp6",
        "outputId": "f55eae28-6585-486f-bf37-9378039d59f5",
        "colab": {
          "base_uri": "https://localhost:8080/",
          "height": 73
        }
      },
      "source": [
        "#표현식 1\n",
        "for i in range(2,5):\n",
        "  print(i, end = '')\n",
        "print()\n",
        "#표현식 2\n",
        "for i in range(0,10,2):\n",
        "  print(i, end ='')\n",
        "print()\n",
        "#표현식 3\n",
        "for i in range(-2,-10,-2):\n",
        "  print(i, end = '')\n",
        "print()"
      ],
      "execution_count": null,
      "outputs": [
        {
          "output_type": "stream",
          "text": [
            "234\n",
            "02468\n",
            "-2-4-6-8\n"
          ],
          "name": "stdout"
        }
      ]
    },
    {
      "cell_type": "code",
      "metadata": {
        "id": "z1EtF6J4zpmi"
      },
      "source": [
        "# 3.5.1 반복문의 활용"
      ],
      "execution_count": null,
      "outputs": []
    },
    {
      "cell_type": "code",
      "metadata": {
        "id": "bFBy7M2j0NLi",
        "outputId": "57fe54e0-f8e9-4410-e473-75770dbe923a",
        "colab": {
          "base_uri": "https://localhost:8080/",
          "height": 36
        }
      },
      "source": [
        "1+2+3+4+5"
      ],
      "execution_count": null,
      "outputs": [
        {
          "output_type": "execute_result",
          "data": {
            "text/plain": [
              "15"
            ]
          },
          "metadata": {
            "tags": []
          },
          "execution_count": 52
        }
      ]
    },
    {
      "cell_type": "code",
      "metadata": {
        "id": "D17z7w6w0Oo1"
      },
      "source": [
        "s = 0"
      ],
      "execution_count": null,
      "outputs": []
    },
    {
      "cell_type": "code",
      "metadata": {
        "id": "uN2khILr0RHx",
        "outputId": "5eb9224c-a77d-44e4-9077-6d27e097d24a",
        "colab": {
          "base_uri": "https://localhost:8080/",
          "height": 409
        }
      },
      "source": [
        "for i in range(1,11):\n",
        "  s = s + i\n",
        "  print('i= ', i)\n",
        "  print('sum = ', s)\n",
        "\n",
        "print('1에서 10까지의 합:', s)"
      ],
      "execution_count": null,
      "outputs": [
        {
          "output_type": "stream",
          "text": [
            "i=  1\n",
            "sum =  1\n",
            "i=  2\n",
            "sum =  3\n",
            "i=  3\n",
            "sum =  6\n",
            "i=  4\n",
            "sum =  10\n",
            "i=  5\n",
            "sum =  15\n",
            "i=  6\n",
            "sum =  21\n",
            "i=  7\n",
            "sum =  28\n",
            "i=  8\n",
            "sum =  36\n",
            "i=  9\n",
            "sum =  45\n",
            "i=  10\n",
            "sum =  55\n",
            "1에서 10까지의 합: 55\n"
          ],
          "name": "stdout"
        }
      ]
    },
    {
      "cell_type": "code",
      "metadata": {
        "id": "zLQcmlhn0aa2",
        "outputId": "5b26ce48-4794-4ec0-9e25-c3f0a3c22168",
        "colab": {
          "base_uri": "https://localhost:8080/",
          "height": 409
        }
      },
      "source": [
        "for i in range(1,11):\n",
        "  s = s + i\n",
        "  print('i= ', i)\n",
        "  print('sum = ', s)\n",
        "\n",
        "print('1에서 10까지의 합:', s)"
      ],
      "execution_count": null,
      "outputs": [
        {
          "output_type": "stream",
          "text": [
            "i=  1\n",
            "sum =  1\n",
            "i=  2\n",
            "sum =  3\n",
            "i=  3\n",
            "sum =  6\n",
            "i=  4\n",
            "sum =  10\n",
            "i=  5\n",
            "sum =  15\n",
            "i=  6\n",
            "sum =  21\n",
            "i=  7\n",
            "sum =  28\n",
            "i=  8\n",
            "sum =  36\n",
            "i=  9\n",
            "sum =  45\n",
            "i=  10\n",
            "sum =  55\n",
            "1에서 10까지의 합: 55\n"
          ],
          "name": "stdout"
        }
      ]
    },
    {
      "cell_type": "code",
      "metadata": {
        "id": "wNgrmvsC0_sb",
        "outputId": "32038ef8-c805-4340-b210-51a5023265bd",
        "colab": {
          "base_uri": "https://localhost:8080/",
          "height": 223
        }
      },
      "source": [
        "s = 0\n",
        "for i in range(1,11):\n",
        "  s = s + i\n",
        "  print('i = {}, s = {}'.format(i,s))\n",
        "\n",
        "print('1에서 10까지의 합:', s)"
      ],
      "execution_count": null,
      "outputs": [
        {
          "output_type": "stream",
          "text": [
            "i = 1, s = 1\n",
            "i = 2, s = 3\n",
            "i = 3, s = 6\n",
            "i = 4, s = 10\n",
            "i = 5, s = 15\n",
            "i = 6, s = 21\n",
            "i = 7, s = 28\n",
            "i = 8, s = 36\n",
            "i = 9, s = 45\n",
            "i = 10, s = 55\n",
            "1에서 10까지의 합: 55\n"
          ],
          "name": "stdout"
        }
      ]
    },
    {
      "cell_type": "code",
      "metadata": {
        "id": "_dafaEVF1oSj"
      },
      "source": [
        "# LAB 3-8 : 누적 덧셈의 응용"
      ],
      "execution_count": null,
      "outputs": []
    },
    {
      "cell_type": "code",
      "metadata": {
        "id": "dtBdxVBz16t6"
      },
      "source": [
        "# 1번"
      ],
      "execution_count": null,
      "outputs": []
    },
    {
      "cell_type": "code",
      "metadata": {
        "id": "2S26Fh9t17iz",
        "outputId": "97f24886-06c1-4a9e-bbea-a317e4091a35",
        "colab": {
          "base_uri": "https://localhost:8080/",
          "height": 36
        }
      },
      "source": [
        "s = 0\n",
        "for i in range(1,101):\n",
        "  s = s + i\n",
        "print(s)"
      ],
      "execution_count": null,
      "outputs": [
        {
          "output_type": "stream",
          "text": [
            "5050\n"
          ],
          "name": "stdout"
        }
      ]
    },
    {
      "cell_type": "code",
      "metadata": {
        "id": "zCf-WyrU2xdy"
      },
      "source": [
        "# 2번"
      ],
      "execution_count": null,
      "outputs": []
    },
    {
      "cell_type": "code",
      "metadata": {
        "id": "bj3rugJH2HxC",
        "outputId": "f4e26fea-6521-4b18-b60e-9ab0be35d535",
        "colab": {
          "base_uri": "https://localhost:8080/",
          "height": 36
        }
      },
      "source": [
        "s = 0\n",
        "for i in range(0,101,2):\n",
        "  s = s + i\n",
        "print(s)"
      ],
      "execution_count": null,
      "outputs": [
        {
          "output_type": "stream",
          "text": [
            "2550\n"
          ],
          "name": "stdout"
        }
      ]
    },
    {
      "cell_type": "code",
      "metadata": {
        "id": "wFNr4J002xEY"
      },
      "source": [
        "# 3번"
      ],
      "execution_count": null,
      "outputs": []
    },
    {
      "cell_type": "code",
      "metadata": {
        "id": "IR7T_Tta2qgk",
        "outputId": "4879b9d1-6e16-4ef2-f8b5-40c6ca35b23f",
        "colab": {
          "base_uri": "https://localhost:8080/",
          "height": 36
        }
      },
      "source": [
        "s = 0\n",
        "for i in range(1,101,2):\n",
        "  s = s + i\n",
        "print(s)"
      ],
      "execution_count": null,
      "outputs": [
        {
          "output_type": "stream",
          "text": [
            "2500\n"
          ],
          "name": "stdout"
        }
      ]
    },
    {
      "cell_type": "code",
      "metadata": {
        "id": "2jrLdS-D2vEi",
        "outputId": "019187a5-3eac-436f-c6a1-55b976c17182",
        "colab": {
          "base_uri": "https://localhost:8080/",
          "height": 55
        }
      },
      "source": [
        "n = int(input('합계를 구할 수를 입력 하세요:'))\n",
        "s = 0\n",
        "\n",
        "for i in range(0,n):\n",
        "  s = s + (i+1)\n",
        "\n",
        "print('1부터 {}까지의 합은 {}'.format(n,s))"
      ],
      "execution_count": null,
      "outputs": [
        {
          "output_type": "stream",
          "text": [
            "합계를 구할 수를 입력 하세요:5\n",
            "1부터 5까지의 합은 15\n"
          ],
          "name": "stdout"
        }
      ]
    },
    {
      "cell_type": "code",
      "metadata": {
        "id": "DMfwJ7pr3bl5",
        "outputId": "1ce41037-dc01-4669-b47d-f1fa8f5512ed",
        "colab": {
          "base_uri": "https://localhost:8080/",
          "height": 55
        }
      },
      "source": [
        "n = int(input('합계를 구할 수를 입력 하세요:'))\n",
        "s = 0\n",
        "\n",
        "for i in range(1,n+1):\n",
        "  s = s + i\n",
        "\n",
        "print('1부터 {}까지의 합은 {}'.format(n,s))"
      ],
      "execution_count": null,
      "outputs": [
        {
          "output_type": "stream",
          "text": [
            "합계를 구할 수를 입력 하세요:5\n",
            "1부터 5까지의 합은 15\n"
          ],
          "name": "stdout"
        }
      ]
    },
    {
      "cell_type": "code",
      "metadata": {
        "id": "q6rZdOmF3pve"
      },
      "source": [
        "# 3.5.2 팩토리얼 구하기"
      ],
      "execution_count": null,
      "outputs": []
    },
    {
      "cell_type": "code",
      "metadata": {
        "id": "nh95XpFJ3yuh",
        "outputId": "111603ef-1b5c-41b8-8643-cd70cc63b95c",
        "colab": {
          "base_uri": "https://localhost:8080/",
          "height": 55
        }
      },
      "source": [
        "n = int(input('수를 입력하세요:'))\n",
        "\n",
        "fact = 1\n",
        "for i in range(1,n+1):\n",
        "  fact = fact * i\n",
        "\n",
        "print('{}! = {}'.format(n,fact))"
      ],
      "execution_count": null,
      "outputs": [
        {
          "output_type": "stream",
          "text": [
            "수를 입력하세요:5\n",
            "5! = 120\n"
          ],
          "name": "stdout"
        }
      ]
    },
    {
      "cell_type": "code",
      "metadata": {
        "id": "jSDUImoX4N7b",
        "outputId": "2bcfa8a2-c5de-4ef3-966f-0039f1dc06c3",
        "colab": {
          "base_uri": "https://localhost:8080/",
          "height": 55
        }
      },
      "source": [
        "n = int(input('수를 입력하세요:'))\n",
        "\n",
        "fact = 1\n",
        "for i in range(1,n+1):\n",
        "  fact = fact * i\n",
        "\n",
        "print('{}! = {}'.format(n,fact))"
      ],
      "execution_count": null,
      "outputs": [
        {
          "output_type": "stream",
          "text": [
            "수를 입력하세요:50\n",
            "50! = 30414093201713378043612608166064768844377641568960512000000000000\n"
          ],
          "name": "stdout"
        }
      ]
    },
    {
      "cell_type": "code",
      "metadata": {
        "id": "uw-lrum-4GIL"
      },
      "source": [
        "# 3.5.3 for 문과 리스트"
      ],
      "execution_count": null,
      "outputs": []
    },
    {
      "cell_type": "code",
      "metadata": {
        "id": "ZHKo87ft4Vvs",
        "outputId": "c5e7460a-7360-4de3-fa36-fe989dfb4bf7",
        "colab": {
          "base_uri": "https://localhost:8080/",
          "height": 111
        }
      },
      "source": [
        "for i in range(1,6):\n",
        "  print(i)"
      ],
      "execution_count": null,
      "outputs": [
        {
          "output_type": "stream",
          "text": [
            "1\n",
            "2\n",
            "3\n",
            "4\n",
            "5\n"
          ],
          "name": "stdout"
        }
      ]
    },
    {
      "cell_type": "code",
      "metadata": {
        "id": "sCPZaRuX4t9M",
        "outputId": "562437ba-1e16-49f5-d2cf-2c824126793f",
        "colab": {
          "base_uri": "https://localhost:8080/",
          "height": 92
        }
      },
      "source": [
        "for i in [1, 8, 10, 5]:\n",
        "  print(i)"
      ],
      "execution_count": null,
      "outputs": [
        {
          "output_type": "stream",
          "text": [
            "1\n",
            "8\n",
            "10\n",
            "5\n"
          ],
          "name": "stdout"
        }
      ]
    },
    {
      "cell_type": "code",
      "metadata": {
        "id": "g5zEQFYn4yyJ"
      },
      "source": [
        "numbers = [11,22,33,44,55,66]"
      ],
      "execution_count": null,
      "outputs": []
    },
    {
      "cell_type": "code",
      "metadata": {
        "id": "qqbmGxsf5Bmt",
        "outputId": "06e0651c-1741-4c9f-ef73-04b7888eef45",
        "colab": {
          "base_uri": "https://localhost:8080/",
          "height": 36
        }
      },
      "source": [
        "for n in numbers:\n",
        "  print(n, end=' ')"
      ],
      "execution_count": null,
      "outputs": [
        {
          "output_type": "stream",
          "text": [
            "11 22 33 44 55 66 "
          ],
          "name": "stdout"
        }
      ]
    },
    {
      "cell_type": "code",
      "metadata": {
        "id": "7WGqM0j45GS3",
        "outputId": "56d952e7-c440-4d25-9145-0112145c25e9",
        "colab": {
          "base_uri": "https://localhost:8080/",
          "height": 36
        }
      },
      "source": [
        "for n in [11,22,33,44,55,66]:\n",
        "  print(n, end=' ')"
      ],
      "execution_count": null,
      "outputs": [
        {
          "output_type": "stream",
          "text": [
            "11 22 33 44 55 66 "
          ],
          "name": "stdout"
        }
      ]
    },
    {
      "cell_type": "code",
      "metadata": {
        "id": "ZWrA_uTi5NkB",
        "outputId": "81bc82c1-41f0-4934-f29e-e3c3255ab8f4",
        "colab": {
          "base_uri": "https://localhost:8080/",
          "height": 36
        }
      },
      "source": [
        "numbers"
      ],
      "execution_count": null,
      "outputs": [
        {
          "output_type": "execute_result",
          "data": {
            "text/plain": [
              "[11, 22, 33, 44, 55, 66]"
            ]
          },
          "metadata": {
            "tags": []
          },
          "execution_count": 81
        }
      ]
    },
    {
      "cell_type": "code",
      "metadata": {
        "id": "8M6LSA9q5f5P",
        "outputId": "0cfe5293-3dc9-43ab-e490-dcbe678f0497",
        "colab": {
          "base_uri": "https://localhost:8080/",
          "height": 36
        }
      },
      "source": [
        "sum(numbers)"
      ],
      "execution_count": null,
      "outputs": [
        {
          "output_type": "execute_result",
          "data": {
            "text/plain": [
              "231"
            ]
          },
          "metadata": {
            "tags": []
          },
          "execution_count": 82
        }
      ]
    },
    {
      "cell_type": "code",
      "metadata": {
        "id": "25J0FnKL5iSl",
        "outputId": "0ff5f2e5-89a8-48ae-fcd1-8a8207eceefc",
        "colab": {
          "base_uri": "https://localhost:8080/",
          "height": 36
        }
      },
      "source": [
        "print('1에서 100까지의 합 :', sum(range(1,101)))"
      ],
      "execution_count": null,
      "outputs": [
        {
          "output_type": "stream",
          "text": [
            "1에서 100까지의 합 : 5050\n"
          ],
          "name": "stdout"
        }
      ]
    },
    {
      "cell_type": "code",
      "metadata": {
        "id": "s-jQzx3-5z_W"
      },
      "source": [
        "st = 'Hello'"
      ],
      "execution_count": null,
      "outputs": []
    },
    {
      "cell_type": "code",
      "metadata": {
        "id": "Y9kK0-cZ51yS",
        "outputId": "e659e9ab-ff1e-4405-c721-7abebb432113",
        "colab": {
          "base_uri": "https://localhost:8080/",
          "height": 36
        }
      },
      "source": [
        "type(st)"
      ],
      "execution_count": null,
      "outputs": [
        {
          "output_type": "execute_result",
          "data": {
            "text/plain": [
              "str"
            ]
          },
          "metadata": {
            "tags": []
          },
          "execution_count": 85
        }
      ]
    },
    {
      "cell_type": "code",
      "metadata": {
        "id": "SgBXJW-o52-Y",
        "outputId": "eaf181ce-0a97-4b9f-9798-99721a668fac",
        "colab": {
          "base_uri": "https://localhost:8080/",
          "height": 36
        }
      },
      "source": [
        "list(st)"
      ],
      "execution_count": null,
      "outputs": [
        {
          "output_type": "execute_result",
          "data": {
            "text/plain": [
              "['H', 'e', 'l', 'l', 'o']"
            ]
          },
          "metadata": {
            "tags": []
          },
          "execution_count": 86
        }
      ]
    },
    {
      "cell_type": "code",
      "metadata": {
        "id": "HQ8uZ6KB53rx",
        "outputId": "0fed51cd-e80a-4963-e35c-4ab9f0d8b285",
        "colab": {
          "base_uri": "https://localhost:8080/",
          "height": 36
        }
      },
      "source": [
        "for ch in 'Soongsil':\n",
        "  print(ch, end=' ')"
      ],
      "execution_count": null,
      "outputs": [
        {
          "output_type": "stream",
          "text": [
            "S o o n g s i l "
          ],
          "name": "stdout"
        }
      ]
    },
    {
      "cell_type": "code",
      "metadata": {
        "id": "l9NWDJ9K6IeX"
      },
      "source": [
        "# 3.6 중첩 for 루프"
      ],
      "execution_count": null,
      "outputs": []
    },
    {
      "cell_type": "code",
      "metadata": {
        "id": "GxbxZl4_6LmO"
      },
      "source": [
        "# 구구단 표를 만듭시다"
      ],
      "execution_count": null,
      "outputs": []
    },
    {
      "cell_type": "code",
      "metadata": {
        "id": "L4YoHpti6g4B",
        "outputId": "8d72f11b-9058-466f-ba85-978657c61012",
        "colab": {
          "base_uri": "https://localhost:8080/",
          "height": 316
        }
      },
      "source": [
        "for i in range(2, 10):\n",
        "  print(i, '단 시작!')\n",
        "  for j in range(1,10):\n",
        "    print('{}*{} = {}'.format(i, j, i*j), end=' ')\n",
        "  print()"
      ],
      "execution_count": null,
      "outputs": [
        {
          "output_type": "stream",
          "text": [
            "2 단 시작!\n",
            "2*1 = 2 2*2 = 4 2*3 = 6 2*4 = 8 2*5 = 10 2*6 = 12 2*7 = 14 2*8 = 16 2*9 = 18 \n",
            "3 단 시작!\n",
            "3*1 = 3 3*2 = 6 3*3 = 9 3*4 = 12 3*5 = 15 3*6 = 18 3*7 = 21 3*8 = 24 3*9 = 27 \n",
            "4 단 시작!\n",
            "4*1 = 4 4*2 = 8 4*3 = 12 4*4 = 16 4*5 = 20 4*6 = 24 4*7 = 28 4*8 = 32 4*9 = 36 \n",
            "5 단 시작!\n",
            "5*1 = 5 5*2 = 10 5*3 = 15 5*4 = 20 5*5 = 25 5*6 = 30 5*7 = 35 5*8 = 40 5*9 = 45 \n",
            "6 단 시작!\n",
            "6*1 = 6 6*2 = 12 6*3 = 18 6*4 = 24 6*5 = 30 6*6 = 36 6*7 = 42 6*8 = 48 6*9 = 54 \n",
            "7 단 시작!\n",
            "7*1 = 7 7*2 = 14 7*3 = 21 7*4 = 28 7*5 = 35 7*6 = 42 7*7 = 49 7*8 = 56 7*9 = 63 \n",
            "8 단 시작!\n",
            "8*1 = 8 8*2 = 16 8*3 = 24 8*4 = 32 8*5 = 40 8*6 = 48 8*7 = 56 8*8 = 64 8*9 = 72 \n",
            "9 단 시작!\n",
            "9*1 = 9 9*2 = 18 9*3 = 27 9*4 = 36 9*5 = 45 9*6 = 54 9*7 = 63 9*8 = 72 9*9 = 81 \n"
          ],
          "name": "stdout"
        }
      ]
    },
    {
      "cell_type": "code",
      "metadata": {
        "id": "0I-bUuHL6y1z"
      },
      "source": [
        "# 3.6.1 중첩 for 루프를 이용한 패턴 만들기"
      ],
      "execution_count": null,
      "outputs": []
    },
    {
      "cell_type": "code",
      "metadata": {
        "id": "zlEt_-L77Ktf",
        "outputId": "6f337adc-1ec0-4de9-b983-68486a8aa7ec",
        "colab": {
          "base_uri": "https://localhost:8080/",
          "height": 148
        }
      },
      "source": [
        "n = 7\n",
        "for i in range(n):\n",
        "  st = ''\n",
        "  for j in range(i):\n",
        "    st = st + ' '\n",
        "  print(st + '#')\n",
        "   "
      ],
      "execution_count": null,
      "outputs": [
        {
          "output_type": "stream",
          "text": [
            "#\n",
            " #\n",
            "  #\n",
            "   #\n",
            "    #\n",
            "     #\n",
            "      #\n"
          ],
          "name": "stdout"
        }
      ]
    },
    {
      "cell_type": "code",
      "metadata": {
        "id": "J4NTThaA8mx0",
        "outputId": "70623fa1-f90b-4fac-9cda-61d6880f290c",
        "colab": {
          "base_uri": "https://localhost:8080/",
          "height": 148
        }
      },
      "source": [
        "n = 7\n",
        "for i in range(n):\n",
        "  # st = ''\n",
        "  for j in range(i):\n",
        "    st = st + ' '\n",
        "  print(st + '#')"
      ],
      "execution_count": null,
      "outputs": [
        {
          "output_type": "stream",
          "text": [
            "      #\n",
            "       #\n",
            "         #\n",
            "            #\n",
            "                #\n",
            "                     #\n",
            "                           #\n"
          ],
          "name": "stdout"
        }
      ]
    },
    {
      "cell_type": "code",
      "metadata": {
        "id": "Q33Gxtkj88Mc",
        "outputId": "f37700fb-dd45-45a5-a5ff-453f97d9ad48",
        "colab": {
          "base_uri": "https://localhost:8080/",
          "height": 148
        }
      },
      "source": [
        " n = 7\n",
        " for i in range(n):\n",
        "   print(' '*i + '#')"
      ],
      "execution_count": null,
      "outputs": [
        {
          "output_type": "stream",
          "text": [
            "#\n",
            " #\n",
            "  #\n",
            "   #\n",
            "    #\n",
            "     #\n",
            "      #\n"
          ],
          "name": "stdout"
        }
      ]
    },
    {
      "cell_type": "code",
      "metadata": {
        "id": "--G6B5Rv9Xhx"
      },
      "source": [
        "# 3.6.2 상향식 문제풀이 기법"
      ],
      "execution_count": null,
      "outputs": []
    },
    {
      "cell_type": "code",
      "metadata": {
        "id": "-FEgCdN89gKp",
        "outputId": "9e94c53c-f3a9-4fda-cfd5-82315d188897",
        "colab": {
          "base_uri": "https://localhost:8080/",
          "height": 36
        }
      },
      "source": [
        "n = 5\n",
        "for i in range(n):\n",
        "  print(n - (i+1), end=' ')"
      ],
      "execution_count": null,
      "outputs": [
        {
          "output_type": "stream",
          "text": [
            "4 3 2 1 0 "
          ],
          "name": "stdout"
        }
      ]
    },
    {
      "cell_type": "code",
      "metadata": {
        "id": "dHhfoafF9u51",
        "outputId": "52392e32-18e4-4de8-eb8b-fec4b38cdb01",
        "colab": {
          "base_uri": "https://localhost:8080/",
          "height": 36
        }
      },
      "source": [
        "n = 5\n",
        "for i in range(n):\n",
        "  print(2*i+1,end=' ')"
      ],
      "execution_count": null,
      "outputs": [
        {
          "output_type": "stream",
          "text": [
            "1 3 5 7 9 "
          ],
          "name": "stdout"
        }
      ]
    },
    {
      "cell_type": "code",
      "metadata": {
        "id": "akv8IIAt-KZG",
        "outputId": "0dfe4798-c98d-4934-ecb7-2760679fc1d9",
        "colab": {
          "base_uri": "https://localhost:8080/",
          "height": 111
        }
      },
      "source": [
        "n = 5\n",
        "for i in range(n):\n",
        "  for j in range(n-(i+1)):   #공백을 출력함\n",
        "    print(' ',end='')\n",
        "  for j in range(2*i+1):   # '+'를 출력함\n",
        "    print('+', end='')\n",
        "  print()"
      ],
      "execution_count": null,
      "outputs": [
        {
          "output_type": "stream",
          "text": [
            "    +\n",
            "   +++\n",
            "  +++++\n",
            " +++++++\n",
            "+++++++++\n"
          ],
          "name": "stdout"
        }
      ]
    },
    {
      "cell_type": "code",
      "metadata": {
        "id": "gqkk7h2Y_0xh",
        "outputId": "4bf5c7fd-a2ca-4fb1-f1f9-52f41ef01c65",
        "colab": {
          "base_uri": "https://localhost:8080/",
          "height": 111
        }
      },
      "source": [
        "n = 5\n",
        "for i in range(n):\n",
        "  print(' '* (n-(i+1)),end=' ')\n",
        "  print('+'*(2*i+1))"
      ],
      "execution_count": null,
      "outputs": [
        {
          "output_type": "stream",
          "text": [
            "     +\n",
            "    +++\n",
            "   +++++\n",
            "  +++++++\n",
            " +++++++++\n"
          ],
          "name": "stdout"
        }
      ]
    },
    {
      "cell_type": "code",
      "metadata": {
        "id": "TBR_F5XnAZgH"
      },
      "source": [
        "# 3.6.3 소수 구하기"
      ],
      "execution_count": null,
      "outputs": []
    },
    {
      "cell_type": "code",
      "metadata": {
        "id": "XMfqDtUNAgN4",
        "outputId": "8b862544-f0b1-47e2-bf70-7cea260316f5",
        "colab": {
          "base_uri": "https://localhost:8080/",
          "height": 55
        }
      },
      "source": [
        "n = int(input('수를 입력하세요: '))\n",
        "is_prime = True\n",
        "for num in range(2,n):\n",
        "  if n % num == 0:\n",
        "    is_prime = False\n",
        "print(n,'is prime :', is_prime)"
      ],
      "execution_count": null,
      "outputs": [
        {
          "output_type": "stream",
          "text": [
            "수를 입력하세요: 50\n",
            "50 is prime : False\n"
          ],
          "name": "stdout"
        }
      ]
    },
    {
      "cell_type": "code",
      "metadata": {
        "id": "C2-O-QOeA4qt",
        "outputId": "22b76876-a575-4972-8521-1b454a1bf22f",
        "colab": {
          "base_uri": "https://localhost:8080/",
          "height": 55
        }
      },
      "source": [
        "n = int(input('수를 입력하세요: '))\n",
        "is_prime = True\n",
        "for num in range(2,n):\n",
        "  if n % num == 0:\n",
        "    is_prime = False\n",
        "print(n,'is prime :', is_prime)"
      ],
      "execution_count": 107,
      "outputs": [
        {
          "output_type": "stream",
          "text": [
            "수를 입력하세요: 11\n",
            "11 is prime : True\n"
          ],
          "name": "stdout"
        }
      ]
    },
    {
      "cell_type": "code",
      "metadata": {
        "id": "z3OnAB6hBfzg",
        "outputId": "e345866c-3b5a-4538-b11c-aea81e0b66a1",
        "colab": {
          "base_uri": "https://localhost:8080/",
          "height": 36
        }
      },
      "source": [
        "primes = []\n",
        "\n",
        "for n in range(2,101):\n",
        "  is_prime = True\n",
        "  for num in range(2,n):\n",
        "    if n % num == 0:\n",
        "      is_prime = False\n",
        "  if is_prime:\n",
        "    primes.append(n)\n",
        "\n",
        "print(primes)"
      ],
      "execution_count": 109,
      "outputs": [
        {
          "output_type": "stream",
          "text": [
            "[2, 3, 5, 7, 11, 13, 17, 19, 23, 29, 31, 37, 41, 43, 47, 53, 59, 61, 67, 71, 73, 79, 83, 89, 97]\n"
          ],
          "name": "stdout"
        }
      ]
    },
    {
      "cell_type": "code",
      "metadata": {
        "id": "yKMjiAKeB_xI"
      },
      "source": [
        "# 3.7 while 반복문"
      ],
      "execution_count": 110,
      "outputs": []
    },
    {
      "cell_type": "code",
      "metadata": {
        "id": "FphL6AbmCRcX",
        "outputId": "bb7f16d3-1a6c-498e-d4f1-88b4fbabdfc0",
        "colab": {
          "base_uri": "https://localhost:8080/",
          "height": 111
        }
      },
      "source": [
        "i = 0\n",
        "while i < 5:\n",
        "  print('Welcome to everyone!!')\n",
        "  i += 1"
      ],
      "execution_count": 111,
      "outputs": [
        {
          "output_type": "stream",
          "text": [
            "Welcome to everyone!!\n",
            "Welcome to everyone!!\n",
            "Welcome to everyone!!\n",
            "Welcome to everyone!!\n",
            "Welcome to everyone!!\n"
          ],
          "name": "stdout"
        }
      ]
    },
    {
      "cell_type": "code",
      "metadata": {
        "id": "z5THxupJCtHM",
        "outputId": "df217aa4-6931-4353-f2d2-3afa4b571c3f",
        "colab": {
          "base_uri": "https://localhost:8080/",
          "height": 55
        }
      },
      "source": [
        "n = int(input('합계를 구할 수를 입력하세요 : '))\n",
        "s = 0\n",
        "i = 1\n",
        "while i <= n:\n",
        "  s = s + i\n",
        "  i += 1\n",
        "\n",
        "print('1부터 {}까지의 합은 {}'.format(n,s))"
      ],
      "execution_count": 112,
      "outputs": [
        {
          "output_type": "stream",
          "text": [
            "합계를 구할 수를 입력하세요 : 100\n",
            "1부터 100까지의 합은 5050\n"
          ],
          "name": "stdout"
        }
      ]
    },
    {
      "cell_type": "code",
      "metadata": {
        "id": "6min2aniDVAn",
        "outputId": "8870a6b7-ad55-42b0-d374-0ebe5c264962",
        "colab": {
          "base_uri": "https://localhost:8080/",
          "height": 92
        }
      },
      "source": [
        "selected = None\n",
        "\n",
        "while selected not in ['가위', '바위', '보']:\n",
        "  selected = input('가위, 바위, 보 중에서 선택하세요: ')\n",
        "print('선택한 값은: ', selected)"
      ],
      "execution_count": 118,
      "outputs": [
        {
          "output_type": "stream",
          "text": [
            "가위, 바위, 보 중에서 선택하세요: 묵\n",
            "가위, 바위, 보 중에서 선택하세요: rock\n",
            "가위, 바위, 보 중에서 선택하세요: 바위\n",
            "선택한 값은:  바위\n"
          ],
          "name": "stdout"
        }
      ]
    },
    {
      "cell_type": "code",
      "metadata": {
        "id": "HiDZ4UdZEB30",
        "outputId": "2ba2fe5e-a2ed-43ac-a0f4-3efbff7765eb",
        "colab": {
          "base_uri": "https://localhost:8080/",
          "height": 55
        }
      },
      "source": [
        "n = int(input('합계를 구할 양의 정수를 입력하세요 : '))\n",
        "s = 0\n",
        "for i in range(1,n+1):\n",
        "  s = s + i\n",
        "\n",
        "print('1부터 {}까지의 합은 {}'.format(n,s))"
      ],
      "execution_count": 119,
      "outputs": [
        {
          "output_type": "stream",
          "text": [
            "합계를 구할 양의 정수를 입력하세요 : -10\n",
            "1부터 -10까지의 합은 0\n"
          ],
          "name": "stdout"
        }
      ]
    },
    {
      "cell_type": "code",
      "metadata": {
        "id": "78qBifMdE8op",
        "outputId": "8be6dc3b-f7a7-403a-b7e3-1161adc0d35b",
        "colab": {
          "base_uri": "https://localhost:8080/",
          "height": 92
        }
      },
      "source": [
        "n = -1\n",
        "while n <= 0:\n",
        "  n = int(input('합계를 구할 양의 정수를 입력하세요 : '))\n",
        "\n",
        "s = 0\n",
        "for i in range(1,n+1):\n",
        "  s = s + i\n",
        "\n",
        "print('1부터 {}까지의 합은 {}'.format(n,s))"
      ],
      "execution_count": 120,
      "outputs": [
        {
          "output_type": "stream",
          "text": [
            "합계를 구할 양의 정수를 입력하세요 : -10\n",
            "합계를 구할 양의 정수를 입력하세요 : 0\n",
            "합계를 구할 양의 정수를 입력하세요 : 10\n",
            "1부터 10까지의 합은 55\n"
          ],
          "name": "stdout"
        }
      ]
    },
    {
      "cell_type": "code",
      "metadata": {
        "id": "SxrZk5LWFTj4"
      },
      "source": [
        "# 3.8 break 와 continue"
      ],
      "execution_count": 121,
      "outputs": []
    },
    {
      "cell_type": "code",
      "metadata": {
        "id": "-Dw4r1wiFZAa",
        "outputId": "f94e8bfc-43b0-4632-87b7-97e2535f1c21",
        "colab": {
          "base_uri": "https://localhost:8080/",
          "height": 73
        }
      },
      "source": [
        "st = 'Programming'\n",
        "\n",
        "for ch in st:\n",
        "  if ch in ['a', 'e', 'i', 'o', 'u']:\n",
        "    break\n",
        "  print(ch)\n",
        "print('The end')"
      ],
      "execution_count": 122,
      "outputs": [
        {
          "output_type": "stream",
          "text": [
            "P\n",
            "r\n",
            "The end\n"
          ],
          "name": "stdout"
        }
      ]
    },
    {
      "cell_type": "code",
      "metadata": {
        "id": "6fxUS8uQFn5t",
        "outputId": "1b4edf92-0b6d-4ac6-b604-18fb3f3df21d",
        "colab": {
          "base_uri": "https://localhost:8080/",
          "height": 185
        }
      },
      "source": [
        "st = 'Programming'\n",
        "\n",
        "for ch in st:\n",
        "  if ch in ['a', 'e', 'i', 'o', 'u']:\n",
        "    continue\n",
        "  print(ch)\n",
        "  \n",
        "print('The end')"
      ],
      "execution_count": 124,
      "outputs": [
        {
          "output_type": "stream",
          "text": [
            "P\n",
            "r\n",
            "g\n",
            "r\n",
            "m\n",
            "m\n",
            "n\n",
            "g\n",
            "The end\n"
          ],
          "name": "stdout"
        }
      ]
    },
    {
      "cell_type": "code",
      "metadata": {
        "id": "-0Zr2yyUGIQI"
      },
      "source": [
        ""
      ],
      "execution_count": null,
      "outputs": []
    }
  ]
}