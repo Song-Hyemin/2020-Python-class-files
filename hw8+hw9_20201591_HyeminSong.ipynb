{
  "nbformat": 4,
  "nbformat_minor": 0,
  "metadata": {
    "colab": {
      "name": "hw8+hw9_20201591_HyeminSong.ipynb",
      "provenance": []
    },
    "kernelspec": {
      "name": "python3",
      "display_name": "Python 3"
    }
  },
  "cells": [
    {
      "cell_type": "code",
      "metadata": {
        "id": "QxzeVd9fEfGo"
      },
      "source": [
        "# 연습문제 8.1"
      ],
      "execution_count": null,
      "outputs": []
    },
    {
      "cell_type": "code",
      "metadata": {
        "id": "2uAmm1g1Ev62"
      },
      "source": [
        "# (1)번"
      ],
      "execution_count": null,
      "outputs": []
    },
    {
      "cell_type": "code",
      "metadata": {
        "colab": {
          "base_uri": "https://localhost:8080/"
        },
        "id": "rZNsYJrYExQ7",
        "outputId": "6d6c43c5-793d-4f6e-e487-800aa2ac66da"
      },
      "source": [
        "a,b = input('두 수를 입력하시오 : ').split()\n",
        "result = int(a) * int(b)\n",
        "print('{} * {} = {}'.format(a,b,result))"
      ],
      "execution_count": null,
      "outputs": [
        {
          "output_type": "stream",
          "text": [
            "두 수를 입력하시오 : 10 2\n",
            "10 * 2 = 20\n"
          ],
          "name": "stdout"
        }
      ]
    },
    {
      "cell_type": "code",
      "metadata": {
        "id": "tQ90h0fhE-Vt"
      },
      "source": [
        "# (a) : 정수가 아닌 다른 수가 입력될 경우 예외가 발생할 것이다."
      ],
      "execution_count": null,
      "outputs": []
    },
    {
      "cell_type": "code",
      "metadata": {
        "colab": {
          "base_uri": "https://localhost:8080/"
        },
        "id": "eL8nrckHDKmG",
        "outputId": "32361b65-122b-4508-e4b8-d2e29a1ba8ce"
      },
      "source": [
        "# (b) 이 예외를 처리하는 예외 처리문 작성하기\n",
        "try:\n",
        "  a,b = input('두 수를 입력하시오 : ').split()\n",
        "  result = int(a) * int(b)\n",
        "  print('{} * {} = {}'.format(a,b,result))\n",
        "\n",
        "except:\n",
        "  print('숫자를 정확하게 입력해주세요.')"
      ],
      "execution_count": null,
      "outputs": [
        {
          "output_type": "stream",
          "text": [
            "두 수를 입력하시오 : 십 사\n",
            "숫자를 정확하게 입력해주세요.\n"
          ],
          "name": "stdout"
        }
      ]
    },
    {
      "cell_type": "code",
      "metadata": {
        "colab": {
          "base_uri": "https://localhost:8080/"
        },
        "id": "T8INpVReDOhn",
        "outputId": "6f3c7d6d-f242-40f3-a4b6-2d34e378feaf"
      },
      "source": [
        "try:\n",
        "  a,b = input('두 수를 입력하시오 : ').split()\n",
        "  result = int(a) * int(b)\n",
        "  print('{} * {} = {}'.format(a,b,result))\n",
        "\n",
        "except:\n",
        "  print('숫자를 정확하게 입력해주세요.')"
      ],
      "execution_count": null,
      "outputs": [
        {
          "output_type": "stream",
          "text": [
            "두 수를 입력하시오 : 10 2\n",
            "10 * 2 = 20\n"
          ],
          "name": "stdout"
        }
      ]
    },
    {
      "cell_type": "code",
      "metadata": {
        "id": "BGi9YgtNHnHu"
      },
      "source": [
        "# (2)번"
      ],
      "execution_count": null,
      "outputs": []
    },
    {
      "cell_type": "code",
      "metadata": {
        "colab": {
          "base_uri": "https://localhost:8080/"
        },
        "id": "tw3vtNPDHqJC",
        "outputId": "44da437e-5b8f-4a3f-f17e-aa0574685313"
      },
      "source": [
        "a,b = input('두 수를 입력하시오 : ').split()\n",
        "result = int(a) / int(b)\n",
        "print('{} / {} = {}'.format(a,b,result))"
      ],
      "execution_count": null,
      "outputs": [
        {
          "output_type": "stream",
          "text": [
            "두 수를 입력하시오 : 10 2\n",
            "10 / 2 = 5.0\n"
          ],
          "name": "stdout"
        }
      ]
    },
    {
      "cell_type": "code",
      "metadata": {
        "id": "U4QIAaadHt2-"
      },
      "source": [
        "# (a) : 나누는 수가 0일 경우 예외가 발생할 것이다."
      ],
      "execution_count": null,
      "outputs": []
    },
    {
      "cell_type": "code",
      "metadata": {
        "colab": {
          "base_uri": "https://localhost:8080/"
        },
        "id": "qse5SUNkH3Y9",
        "outputId": "3a2595e7-8888-412a-c051-62b97ee7d4cc"
      },
      "source": [
        "# (b) 이 예외를 처리하는 예외 처리문 작성하기\n",
        "try:\n",
        "  a,b = input('두 수를 입력하시오 : ').split()\n",
        "  result = int(a) / int(b)\n",
        "  print('{} / {} = {}'.format(a,b,result))\n",
        "\n",
        "except:\n",
        "  print('나누는 수를 0이 아닌 다른 수로 입력해주세요.')"
      ],
      "execution_count": null,
      "outputs": [
        {
          "output_type": "stream",
          "text": [
            "두 수를 입력하시오 : 2 0\n",
            "나누는 수를 0이 아닌 다른 수로 입력해주세요.\n"
          ],
          "name": "stdout"
        }
      ]
    },
    {
      "cell_type": "code",
      "metadata": {
        "colab": {
          "base_uri": "https://localhost:8080/"
        },
        "id": "OL6bXxIPH3Wl",
        "outputId": "72b3b3b4-367b-46b9-ff9f-2d1fc9af6dd3"
      },
      "source": [
        "try:\n",
        "  a,b = input('두 수를 입력하시오 : ').split()\n",
        "  result = int(a) / int(b)\n",
        "  print('{} / {} = {}'.format(a,b,result))\n",
        "\n",
        "except:\n",
        "  print('나누는 수를 0이 아닌 다른 수로 입력해주세요.')"
      ],
      "execution_count": null,
      "outputs": [
        {
          "output_type": "stream",
          "text": [
            "두 수를 입력하시오 : 10 2\n",
            "10 / 2 = 5.0\n"
          ],
          "name": "stdout"
        }
      ]
    },
    {
      "cell_type": "code",
      "metadata": {
        "id": "OSHVgOebH3UF"
      },
      "source": [
        "# (3)번"
      ],
      "execution_count": null,
      "outputs": []
    },
    {
      "cell_type": "code",
      "metadata": {
        "colab": {
          "base_uri": "https://localhost:8080/"
        },
        "id": "wsjKJ5DXIR3D",
        "outputId": "295b4fa1-d4a3-4bc5-a2cf-ce8d8b5ce608"
      },
      "source": [
        "a_list = [200,300,400]\n",
        "print('a_list :',a_list)\n",
        "idx = int(input('구하고자 하는 값의 인덱스를 0,1,2 중에서 입력하시오 : '))\n",
        "result = a_list[idx]\n",
        "print('결과 : ',result)"
      ],
      "execution_count": null,
      "outputs": [
        {
          "output_type": "stream",
          "text": [
            "a_list : [200, 300, 400]\n",
            "구하고자 하는 값의 인덱스를 0,1,2 중에서 입력하시오 : 0\n",
            "결과 :  200\n"
          ],
          "name": "stdout"
        }
      ]
    },
    {
      "cell_type": "code",
      "metadata": {
        "id": "_cOvby3MI7qH"
      },
      "source": [
        "# (a) : 0,1,2를 제외한 수를 넣었을 경우 예외가 발생할 것이다."
      ],
      "execution_count": null,
      "outputs": []
    },
    {
      "cell_type": "code",
      "metadata": {
        "colab": {
          "base_uri": "https://localhost:8080/"
        },
        "id": "T7HUW-_NJC8w",
        "outputId": "ec6dba5b-a91b-4a84-f290-2cc0365f5d33"
      },
      "source": [
        "# (b) 이 예외를 처리하는 예외 처리문 작성하기\n",
        "try:\n",
        "  a_list = [200,300,400]\n",
        "  print('a_list :',a_list)\n",
        "  idx = int(input('구하고자 하는 값의 인덱스를 0,1,2 중에서 입력하시오 : '))\n",
        "  result = a_list[idx]\n",
        "  print('결과 : ',result)\n",
        "\n",
        "except:\n",
        "  print('0,1,2 중 인덱스를 선택하여 입력해주세요.')"
      ],
      "execution_count": null,
      "outputs": [
        {
          "output_type": "stream",
          "text": [
            "a_list : [200, 300, 400]\n",
            "구하고자 하는 값의 인덱스를 0,1,2 중에서 입력하시오 : 3\n",
            "0,1,2 중 인덱스를 선택하여 입력해주세요.\n"
          ],
          "name": "stdout"
        }
      ]
    },
    {
      "cell_type": "code",
      "metadata": {
        "colab": {
          "base_uri": "https://localhost:8080/"
        },
        "id": "k5X3jYu7JSnK",
        "outputId": "d894521e-c50b-4a44-d10b-a1aacbc2bfd8"
      },
      "source": [
        "try:\n",
        "  a_list = [200,300,400]\n",
        "  print('a_list :',a_list)\n",
        "  idx = int(input('구하고자 하는 값의 인덱스를 0,1,2 중에서 입력하시오 : '))\n",
        "  result = a_list[idx]\n",
        "  print('결과 : ',result)\n",
        "\n",
        "except:\n",
        "  print('0,1,2 중 인덱스를 선택하여 입력해주세요.')"
      ],
      "execution_count": null,
      "outputs": [
        {
          "output_type": "stream",
          "text": [
            "a_list : [200, 300, 400]\n",
            "구하고자 하는 값의 인덱스를 0,1,2 중에서 입력하시오 : 2\n",
            "결과 :  400\n"
          ],
          "name": "stdout"
        }
      ]
    },
    {
      "cell_type": "code",
      "metadata": {
        "id": "A19clpGYJWFO"
      },
      "source": [
        "# (4)번"
      ],
      "execution_count": null,
      "outputs": []
    },
    {
      "cell_type": "code",
      "metadata": {
        "colab": {
          "base_uri": "https://localhost:8080/"
        },
        "id": "Bww4OFyiKWkH",
        "outputId": "075a3265-b33e-469d-cb42-0cd52d8918ac"
      },
      "source": [
        "f_name = input('읽어들일 파일 이름을 입력하세요 : ')\n",
        "in_file = open(f_name, 'r')\n",
        "buf = in_file.readline()\n",
        "print(buf)"
      ],
      "execution_count": null,
      "outputs": [
        {
          "output_type": "stream",
          "text": [
            "읽어들일 파일 이름을 입력하세요 : 2.txt\n",
            "2.txt 입니다.\n"
          ],
          "name": "stdout"
        }
      ]
    },
    {
      "cell_type": "code",
      "metadata": {
        "id": "nMA4T62icCmE"
      },
      "source": [
        "# (a) : 입력받은 파일이 없을 경우 예외가 발생할 것이다."
      ],
      "execution_count": null,
      "outputs": []
    },
    {
      "cell_type": "code",
      "metadata": {
        "colab": {
          "base_uri": "https://localhost:8080/"
        },
        "id": "anTYVKRmaqeD",
        "outputId": "d27463e7-07e7-404a-9ea4-6e714b0ca1ba"
      },
      "source": [
        "# (b) 이 예외를 처리하는 예외 처리문 작성하기\n",
        "try:\n",
        "  f_name = input('읽어들일 파일 이름을 입력하세요 : ')\n",
        "  in_file = open(f_name, 'r')\n",
        "  buf = in_file.readline()\n",
        "  print(buf)\n",
        "\n",
        "except FileNotFoundError:\n",
        "  print(f_name,'파일을 찾을 수 없습니다. 에러입니다. 다시 입력해주세요')"
      ],
      "execution_count": null,
      "outputs": [
        {
          "output_type": "stream",
          "text": [
            "읽어들일 파일 이름을 입력하세요 : 2\n",
            "2 파일을 찾을 수 없습니다. 에러입니다. 다시 입력해주세요\n"
          ],
          "name": "stdout"
        }
      ]
    },
    {
      "cell_type": "code",
      "metadata": {
        "colab": {
          "base_uri": "https://localhost:8080/"
        },
        "id": "oGzhAnIkcKGF",
        "outputId": "753ea510-f81d-44f3-faa4-a5740000d825"
      },
      "source": [
        "try:\n",
        "  f_name = input('읽어들일 파일 이름을 입력하세요 : ')\n",
        "  in_file = open(f_name, 'r')\n",
        "  buf = in_file.readline()\n",
        "  print(buf)\n",
        "\n",
        "except FileNotFoundError:\n",
        "  print(f_name,'파일을 찾을 수 없습니다. 에러입니다. 다시 입력해주세요')"
      ],
      "execution_count": null,
      "outputs": [
        {
          "output_type": "stream",
          "text": [
            "읽어들일 파일 이름을 입력하세요 : 2.txt\n",
            "2.txt 입니다.\n"
          ],
          "name": "stdout"
        }
      ]
    },
    {
      "cell_type": "code",
      "metadata": {
        "id": "UgpC1FHRJnaK"
      },
      "source": [
        "# 연습문제 8.2번"
      ],
      "execution_count": null,
      "outputs": []
    },
    {
      "cell_type": "code",
      "metadata": {
        "id": "XSjLI2ibc9Mz"
      },
      "source": [
        "# (1)번 : 이 상황에서는 어떤 예외가 발생하는가?"
      ],
      "execution_count": null,
      "outputs": []
    },
    {
      "cell_type": "code",
      "metadata": {
        "id": "YUOAbjC0c9GS"
      },
      "source": [
        "# 구글드라이브를 이용하여 파일을 읽어들였는데 구글 드라이브에서는 읽기전용 파일을 테스트 할 수가 없으므로 예외를 발생하는 것을 볼 수 없다.\n",
        "# python으로 실행해 본 결과 읽기전용 파일에는 쓰기를 시도할 수가 없다는 오류가 나타나였다."
      ],
      "execution_count": null,
      "outputs": []
    },
    {
      "cell_type": "code",
      "metadata": {
        "id": "w91QKoYTc8-7"
      },
      "source": [
        "# (2)번 : 이 상황을 테스트하는 프로그램을 작성하여 예외를 출력하여라"
      ],
      "execution_count": null,
      "outputs": []
    },
    {
      "cell_type": "code",
      "metadata": {
        "id": "4WmPdnLQkzjg"
      },
      "source": [
        "f_name = input('읽어들일 파일 이름을 입력하세요 : ')\n",
        "in_file = open(f_name, 'w')\n",
        "in_file.write(\"Hello Python\")\n",
        "in_file.close()"
      ],
      "execution_count": null,
      "outputs": []
    },
    {
      "cell_type": "code",
      "metadata": {
        "colab": {
          "base_uri": "https://localhost:8080/"
        },
        "id": "HrXBRktScUUO",
        "outputId": "359601c4-646d-4da4-c256-53e04ad060b3"
      },
      "source": [
        "# (3)번 : 이 예외를 처리하는 try-exception 문을 구현하여라\n",
        "try:\n",
        "  f_name = input('읽어들일 파일 이름을 입력하세요 : ')\n",
        "  in_file = open(f_name, 'w')\n",
        "  in_file.write(\"Hello Python\")\n",
        "  in_file.close()\n",
        "\n",
        "except :\n",
        "  print('에러입니다. 다시 입력해주세요')"
      ],
      "execution_count": null,
      "outputs": [
        {
          "output_type": "stream",
          "text": [
            "읽어들일 파일 이름을 입력하세요 : dssd.txt\n"
          ],
          "name": "stdout"
        }
      ]
    },
    {
      "cell_type": "code",
      "metadata": {
        "id": "tRCYXFCsMXNv"
      },
      "source": [
        "# 연습문제 9.1번"
      ],
      "execution_count": null,
      "outputs": []
    },
    {
      "cell_type": "code",
      "metadata": {
        "colab": {
          "base_uri": "https://localhost:8080/"
        },
        "id": "CA2ig0KWM6cD",
        "outputId": "eef1c360-01bc-4069-bb49-1fcb73329512"
      },
      "source": [
        "# (1)번\n",
        "print('123 + 334 = {}'.format((123).__add__(334)))"
      ],
      "execution_count": null,
      "outputs": [
        {
          "output_type": "stream",
          "text": [
            "123 + 334 = 457\n"
          ],
          "name": "stdout"
        }
      ]
    },
    {
      "cell_type": "code",
      "metadata": {
        "colab": {
          "base_uri": "https://localhost:8080/"
        },
        "id": "EPxOLoMKNl_F",
        "outputId": "3e42e664-c1ec-4b99-d553-3e7da3994ec4"
      },
      "source": [
        "# (2)번\n",
        "print('123 - 334 = {}'.format((123).__sub__(334)))"
      ],
      "execution_count": null,
      "outputs": [
        {
          "output_type": "stream",
          "text": [
            "123 - 334 = -211\n"
          ],
          "name": "stdout"
        }
      ]
    },
    {
      "cell_type": "code",
      "metadata": {
        "colab": {
          "base_uri": "https://localhost:8080/"
        },
        "id": "dXa5vZ6ON9-7",
        "outputId": "ee8a13e6-993c-4c5c-e5ae-0f61d93f6380"
      },
      "source": [
        "# (3)번\n",
        "print('123 * 334 = {}'.format((123).__mul__(334)))"
      ],
      "execution_count": null,
      "outputs": [
        {
          "output_type": "stream",
          "text": [
            "123 * 334 = 41082\n"
          ],
          "name": "stdout"
        }
      ]
    },
    {
      "cell_type": "code",
      "metadata": {
        "colab": {
          "base_uri": "https://localhost:8080/"
        },
        "id": "_HA0nEDrOC6C",
        "outputId": "54f23911-7c93-433c-936e-87e9cc08f0ee"
      },
      "source": [
        "# (4)번\n",
        "print('123 / 3 = {}'.format((123).__truediv__(3)))"
      ],
      "execution_count": null,
      "outputs": [
        {
          "output_type": "stream",
          "text": [
            "123 / 3 = 41.0\n"
          ],
          "name": "stdout"
        }
      ]
    },
    {
      "cell_type": "code",
      "metadata": {
        "id": "2Hw0V-K8OIy-"
      },
      "source": [
        "# 연습문제 9.5번"
      ],
      "execution_count": null,
      "outputs": []
    },
    {
      "cell_type": "code",
      "metadata": {
        "id": "a8o-EGLBOdc6"
      },
      "source": [
        "a=1\n",
        "b=1\n",
        "c=2\n",
        "d=3\n",
        "e=3"
      ],
      "execution_count": null,
      "outputs": []
    },
    {
      "cell_type": "code",
      "metadata": {
        "colab": {
          "base_uri": "https://localhost:8080/"
        },
        "id": "uT-JdRP9O0o9",
        "outputId": "dadb3c3c-3fbd-48cb-a17d-752826f349fa"
      },
      "source": [
        "print('a와 b는 같은 객체인가?',a is b)\n",
        "print('b와 c는 같은 객체인가?',b is c)\n",
        "print('c와 d는 같은 객체인가?',c is d)\n",
        "print('d와 e는 같은 객체인가?',d is e)"
      ],
      "execution_count": null,
      "outputs": [
        {
          "output_type": "stream",
          "text": [
            "a와 b는 같은 객체인가? True\n",
            "b와 c는 같은 객체인가? False\n",
            "c와 d는 같은 객체인가? False\n",
            "d와 e는 같은 객체인가? True\n"
          ],
          "name": "stdout"
        }
      ]
    },
    {
      "cell_type": "code",
      "metadata": {
        "id": "2L7GF_wXOSCA"
      },
      "source": [
        "# 연습문제 9.6번"
      ],
      "execution_count": null,
      "outputs": []
    },
    {
      "cell_type": "code",
      "metadata": {
        "colab": {
          "base_uri": "https://localhost:8080/"
        },
        "id": "_AD07PmZOdsV",
        "outputId": "76d857bd-b8cd-4ed4-ae82-7320f9447cf1"
      },
      "source": [
        "class Dog:\n",
        "  def __init__(self, name, age):\n",
        "    self.name = name\n",
        "    self.age = age\n",
        "  \n",
        "  def 멍(self):\n",
        "    print('my_dog의 이름은 {}이고, 나이는 {}살입니다.'.format(self.name,self.age))\n",
        "\n",
        "my_dog = Dog('Mange',3)\n",
        "\n",
        "my_dog.멍()"
      ],
      "execution_count": null,
      "outputs": [
        {
          "output_type": "stream",
          "text": [
            "my_dog의 이름은 Mange이고, 나이는 3살입니다.\n"
          ],
          "name": "stdout"
        }
      ]
    },
    {
      "cell_type": "code",
      "metadata": {
        "id": "EAY6bhbJOSSs"
      },
      "source": [
        "# 연습문제 9.7번"
      ],
      "execution_count": null,
      "outputs": []
    },
    {
      "cell_type": "code",
      "metadata": {
        "colab": {
          "base_uri": "https://localhost:8080/"
        },
        "id": "msBQryPsOeDu",
        "outputId": "6df6e05b-d84a-407e-f7da-5c1278522223"
      },
      "source": [
        "class Dog:\n",
        "  def __init__(self, name, age):\n",
        "    self.name = name\n",
        "    self.age = age\n",
        "\n",
        "  def __str__(self):\n",
        "    return '이름은 '+self.name+'이고, 나이는 '+self.age+'살입니다.)'\n",
        "\n",
        "my_dog = Dog('Mango','3')\n",
        "\n",
        "print(my_dog)\n"
      ],
      "execution_count": null,
      "outputs": [
        {
          "output_type": "stream",
          "text": [
            "이름은 Mango이고, 나이는 3살입니다.)\n"
          ],
          "name": "stdout"
        }
      ]
    },
    {
      "cell_type": "code",
      "metadata": {
        "id": "zDadXh40OSgT"
      },
      "source": [
        "# 연습문제 9.8번"
      ],
      "execution_count": null,
      "outputs": []
    },
    {
      "cell_type": "code",
      "metadata": {
        "colab": {
          "base_uri": "https://localhost:8080/"
        },
        "id": "TqWFP0QwOef2",
        "outputId": "f0ce4045-92d2-44db-931c-46d749bdfa7c"
      },
      "source": [
        "class Counter:\n",
        "  def __init__(self,number = 0):\n",
        "    self.__number = number\n",
        "\n",
        "  def reset(self):\n",
        "    self.__number = 0\n",
        "    \n",
        "  def inc(self):\n",
        "    if (self.__number >= 100):\n",
        "      self.__number = 0\n",
        "    else:\n",
        "      self.__number += 1\n",
        "    \n",
        "  def dec(self):\n",
        "    if (self.__number <0):\n",
        "      self.__number = 0\n",
        "    else:\n",
        "      self.__number -= 1\n",
        "\n",
        "  def __str__(self):\n",
        "    return 'C({})'.format(self.__number)\n",
        "\n",
        "c1 = Counter(10)\n",
        "c1.inc()\n",
        "print('c1 =',c1)"
      ],
      "execution_count": null,
      "outputs": [
        {
          "output_type": "stream",
          "text": [
            "c1 = C(11)\n"
          ],
          "name": "stdout"
        }
      ]
    },
    {
      "cell_type": "code",
      "metadata": {
        "colab": {
          "base_uri": "https://localhost:8080/"
        },
        "id": "uuZf_ihPfGrj",
        "outputId": "ee873d36-3343-47f7-e981-a9bf6642adf4"
      },
      "source": [
        "class Counter:\n",
        "  def __init__(self,number = 0):\n",
        "    self.__number = number\n",
        "\n",
        "  def reset(self):\n",
        "    self.__number = 0\n",
        "    \n",
        "  def inc(self):\n",
        "    if (self.__number >= 100):\n",
        "      self.__number = 0\n",
        "    else:\n",
        "      self.__number += 1\n",
        "    \n",
        "  def dec(self):\n",
        "    if (self.__number <0):\n",
        "      self.__number = 0\n",
        "    else:\n",
        "      self.__number -= 1\n",
        "\n",
        "  def __str__(self):\n",
        "    return 'C({})'.format(self.__number)\n",
        "\n",
        "c2 = Counter()\n",
        "c2.inc()\n",
        "c2.inc()\n",
        "c2.dec()\n",
        "print('c2 =',c2)\n",
        "c2.reset()\n",
        "print('c2 =',c2)"
      ],
      "execution_count": null,
      "outputs": [
        {
          "output_type": "stream",
          "text": [
            "c2 = C(1)\n",
            "c2 = C(0)\n"
          ],
          "name": "stdout"
        }
      ]
    },
    {
      "cell_type": "code",
      "metadata": {
        "id": "PDGbqJGROSot"
      },
      "source": [
        "# 연습문제 9.9번"
      ],
      "execution_count": null,
      "outputs": []
    },
    {
      "cell_type": "code",
      "metadata": {
        "colab": {
          "base_uri": "https://localhost:8080/"
        },
        "id": "KHhETG5DOe9V",
        "outputId": "a3b1ada7-f86f-48da-a11a-8c02237b478d"
      },
      "source": [
        "class Counter:\n",
        "  def __init__(self,number = 0):\n",
        "    self.__number = number\n",
        "\n",
        "  def reset(self):\n",
        "    self.__number = 0\n",
        "    \n",
        "  def inc(self):\n",
        "    if (self.__number >= 100):\n",
        "      self.__number = 0\n",
        "    else:\n",
        "      self.__number += 1\n",
        "    \n",
        "  def dec(self):\n",
        "    if (self.__number <0):\n",
        "      self.__number = 0\n",
        "    else:\n",
        "      self.__number -= 1\n",
        "\n",
        "  def __str__(self):\n",
        "    return 'C({})'.format(self.__number)\n",
        "\n",
        "  def __add__(self,other):\n",
        "    return 'C({})'.format(self.__number + other.__number)\n",
        "\n",
        "  def __sub__(self, other):\n",
        "    return 'C({})'.format(self.__number - other.__number)\n",
        "\n",
        "c1 = Counter(10)\n",
        "c2 = Counter(20)\n",
        "c3 = c1 + c2\n",
        "c4 = c1 - c2\n",
        "print('c3 =',c3)\n",
        "print('c4 =',c4)"
      ],
      "execution_count": null,
      "outputs": [
        {
          "output_type": "stream",
          "text": [
            "c3 = C(30)\n",
            "c4 = C(-10)\n"
          ],
          "name": "stdout"
        }
      ]
    },
    {
      "cell_type": "code",
      "metadata": {
        "id": "yLn-vZ0ROSvP"
      },
      "source": [
        "# 연습문제 9.10번"
      ],
      "execution_count": null,
      "outputs": []
    },
    {
      "cell_type": "code",
      "metadata": {
        "colab": {
          "base_uri": "https://localhost:8080/"
        },
        "id": "GZfiF75gOfQY",
        "outputId": "c3be8806-4161-4c7f-c01e-46ad59573743"
      },
      "source": [
        "class BankAccount:\n",
        "  def __init__(self,name,account_num):\n",
        "    self.__name = name\n",
        "    self.__account_num = account_num\n",
        "    self.__balance = 0\n",
        "\n",
        "  def get_name(self, name):\n",
        "    return self.__name\n",
        "    \n",
        "  def get_account_num(self, account_num):\n",
        "    return self.__account_num\n",
        "\n",
        "  def get_balance(self, balance):\n",
        "    return self.__balance\n",
        "\n",
        "  def deposit(self, money):\n",
        "    self.__balance += money\n",
        "    print('{}원이 입금되었습니다. 잔고는 {}원입니다.'.format(money, self.__balance))\n",
        "\n",
        "  def withdraw(self, money):\n",
        "    if self.__balance < money:\n",
        "      print('계좌 잔고는 {}원으로 인츨 요구 금액 {}보다 작습니다.'.format(self.__balance, money))\n",
        "    else:\n",
        "      self.__balance -= money\n",
        "\n",
        "\n",
        "  def __str__(self):\n",
        "    return '{}님의 계좌 {}의 잔고는 {}원입니다.'.format(self.__name, self.__account_num, self.__balance)\n",
        "\n",
        "\n",
        "\n",
        "account1 = BankAccount('홍길동', '1234-0001')\n",
        "print(account1)\n",
        "account1.deposit(2000)\n",
        "print(account1)\n",
        "account1.withdraw(500)\n",
        "print(account1)\n",
        "account1.withdraw(5000)"
      ],
      "execution_count": null,
      "outputs": [
        {
          "output_type": "stream",
          "text": [
            "홍길동님의 계좌 1234-0001의 잔고는 0원입니다.\n",
            "2000원이 입금되었습니다. 잔고는 2000원입니다.\n",
            "홍길동님의 계좌 1234-0001의 잔고는 2000원입니다.\n",
            "홍길동님의 계좌 1234-0001의 잔고는 1500원입니다.\n",
            "계좌 잔고는 1500원으로 인츨 요구 금액 5000보다 작습니다.\n"
          ],
          "name": "stdout"
        }
      ]
    },
    {
      "cell_type": "code",
      "metadata": {
        "id": "35gtEjq1OS1a"
      },
      "source": [
        "# 연습문제 9.11번"
      ],
      "execution_count": null,
      "outputs": []
    },
    {
      "cell_type": "code",
      "metadata": {
        "id": "pxxoKrUqm73x"
      },
      "source": [
        "class Student:\n",
        "  def __init__(self, name, student_id):\n",
        "    self.__name = name\n",
        "    self.__student_id = student_id\n",
        "    self.__korean = 0\n",
        "    self.__math = 0\n",
        "    self.__science = 0\n",
        "    self.__total_score = 0\n",
        "\n",
        "  def get_name(self, name):\n",
        "    return self.__name\n",
        "\n",
        "  def get_student_id(self, student_id):\n",
        "    return str(self.__student_id)\n",
        "\n",
        "  def set_korean_quiz(self, korean):\n",
        "    self.__korean_quiz = korean\n",
        "\n",
        "  def set_math_quiz(self, math):\n",
        "    self.__math_quiz = math\n",
        "\n",
        "  def set_science_quiz(self, science):\n",
        "    self.__science_quiz = science\n",
        "\n",
        "  def get_korean_quiz(self, korean):\n",
        "    return self.__korean_quiz\n",
        "\n",
        "  def get_math_quiz(self, math):\n",
        "    return self.__math_quiz\n",
        "\n",
        "  def get_science_quiz(self, science):\n",
        "    return self.__science_quiz\n",
        "\n",
        "  def get_total_score(self):\n",
        "    return '합계 : {}'.format(self.__korean_quiz + self.__math_quiz + self.__science_quiz)\n",
        "\n",
        "  def get_avg_score(self):\n",
        "    return '평균 : {}'.format((self.__korean_quiz + self.__math_quiz + self.__science_quiz)/3)\n",
        "\n",
        "  def __str__(self):\n",
        "    return '이름 : {}, 학번 : {}'.format(self.__name, str(self.__student_id)) +'\\n'+ '국어성적 : {}, 수학성적 : {}, 과학성적 : {}'.format(self.__korean_quiz, self.__math_quiz, self.__science_quiz) +'\\n'+ '{}, {}'.format(self.get_total_score(), self.get_avg_score())\n",
        "\n",
        "\n"
      ],
      "execution_count": null,
      "outputs": []
    },
    {
      "cell_type": "code",
      "metadata": {
        "colab": {
          "base_uri": "https://localhost:8080/"
        },
        "id": "-Fknflt8OftA",
        "outputId": "0efe4c69-cf94-4cd1-9434-0b93a10165fe"
      },
      "source": [
        "name = input('학생의 이름을 입력하세요 : ')\n",
        "student_id = input('학생의 학번을 입력하세요 : ')\n",
        "\n",
        "student = Student(name, student_id)\n",
        "\n",
        "korean_quiz = int(input('학생의 국어 성적을 입력하세요 : '))\n",
        "math_quiz = int(input('학생의 수학 성적을 입력하세요 : '))\n",
        "science_quiz = int(input('학생의 과학 성적을 입력하세요 : '))\n",
        "\n",
        "\n",
        "\n",
        "student.set_korean_quiz(korean_quiz)\n",
        "student.set_math_quiz(math_quiz)\n",
        "student.set_science_quiz(science_quiz)\n",
        "\n",
        "print(student)"
      ],
      "execution_count": null,
      "outputs": [
        {
          "output_type": "stream",
          "text": [
            "학생의 이름을 입력하세요 : 홍길동\n",
            "학생의 학번을 입력하세요 : 20200012\n",
            "학생의 국어 성적을 입력하세요 : 85\n",
            "학생의 수학 성적을 입력하세요 : 90\n",
            "학생의 과학 성적을 입력하세요 : 95\n",
            "이름 : 홍길동, 학번 : 20200012\n",
            "국어성적 : 85, 수학성적 : 90, 과학성적 : 95\n",
            "합계 : 270, 평균 : 90.0\n"
          ],
          "name": "stdout"
        }
      ]
    },
    {
      "cell_type": "code",
      "metadata": {
        "id": "5d0FcofrOTC6"
      },
      "source": [
        "# 연습문제 9.12번"
      ],
      "execution_count": null,
      "outputs": []
    },
    {
      "cell_type": "code",
      "metadata": {
        "id": "Ry8QXxCkeSPL"
      },
      "source": [
        "class TV:\n",
        "  MIN_VOLUME = 0\n",
        "  MAX_VOLUME = 20\n",
        "  MIN_CHANNEL = 0\n",
        "  MAX_CHANNEL = 200\n",
        "\n",
        "  def __init__(self, volume = 5, channel = 0, is_on = False):\n",
        "    self.__volume = volume\n",
        "    self.__channel = channel\n",
        "    self.__is_on = is_on\n",
        "  \n",
        "  def toggle_power(self):\n",
        "    self.__volume = 5\n",
        "    self.__channel = 0\n",
        "    self.__is_on = True\n",
        "    \n",
        "  \n",
        "  def get_channel(self, channel):\n",
        "    return self.__channel\n",
        "\n",
        "  def set_channel(self,channel):\n",
        "    if (self.__channel <0) or (self.__channel > 200):\n",
        "      return '채널 오류'\n",
        "    else:\n",
        "      self.__channel = channel\n",
        "\n",
        "  def get_volume(self, volume):\n",
        "    return self.__volume\n",
        "\n",
        "  def set_volume(self, volume):\n",
        "    if (self.__volume <0) or (self.__volume > 200):\n",
        "      print('채널 오류')\n",
        "    else:\n",
        "      self.__volume = volume\n",
        "\n",
        "  def volume_up(self):\n",
        "    self.__volume += 1\n",
        "    if self.__volume > TV.MAX_VOLUME:\n",
        "      self.__volume = TV.MAX_VOLUME\n",
        "\n",
        "  def volume_down(self):\n",
        "    self.__volume += 1\n",
        "    if self.__volume < TV.MIN_VOLUME:\n",
        "      self.__volume = TV.MIN_VOLUME\n",
        "\n",
        "  def channel_up(self):\n",
        "    self.__channel += 1\n",
        "    if self.__channel >= 201:\n",
        "      self.__channel = 0\n",
        "\n",
        "  def channel_down(self):\n",
        "    self.__channel -= 1\n",
        "    if self.__channel >= 201:\n",
        "      self.__channel = 200\n",
        "\n",
        "  def __str__(self):\n",
        "    if (self.__is_on == False):\n",
        "      return 'TV가 꺼짐 상태입니다.'\n",
        "    else:\n",
        "      return '볼륨 = {}, 채널 = {}'.format(self.__volume, self.__channel)\n"
      ],
      "execution_count": null,
      "outputs": []
    },
    {
      "cell_type": "code",
      "metadata": {
        "id": "-fFXSUkeOf9n",
        "colab": {
          "base_uri": "https://localhost:8080/"
        },
        "outputId": "b544c221-69bf-459e-d58a-84758b00582a"
      },
      "source": [
        "my_tv = TV()\n",
        "print(my_tv)\n",
        "my_tv.toggle_power()\n",
        "print(my_tv)\n",
        "my_tv.set_channel(45)\n",
        "print(my_tv)\n",
        "my_tv.volume_up()\n",
        "my_tv.channel_up()\n",
        "print(my_tv)"
      ],
      "execution_count": null,
      "outputs": [
        {
          "output_type": "stream",
          "text": [
            "TV가 꺼짐 상태입니다.\n",
            "볼륨 = 5, 채널 = 0\n",
            "볼륨 = 5, 채널 = 45\n",
            "볼륨 = 6, 채널 = 46\n"
          ],
          "name": "stdout"
        }
      ]
    },
    {
      "cell_type": "code",
      "metadata": {
        "id": "CE60BjmlOTKR"
      },
      "source": [
        "# 연습문제 9.13번"
      ],
      "execution_count": null,
      "outputs": []
    },
    {
      "cell_type": "code",
      "metadata": {
        "id": "Gtg_Xw5PwkBP",
        "colab": {
          "base_uri": "https://localhost:8080/"
        },
        "outputId": "0c480733-6f6a-49a1-ffb8-27319a165dbf"
      },
      "source": [
        "class Rectangle:\n",
        "  def __init__(self, x, y, width, height):\n",
        "    self.__x = x\n",
        "    self.__y = y\n",
        "    self.__width = width\n",
        "    self.__height = height\n",
        "\n",
        "  def __str__(self):\n",
        "    return 'Rectangle : (x = {}, y = {}, w = {}, h = {}), 면적 : {}'.format(self.__x, self.__y, self.__width, self.__height, self.area())\n",
        "\n",
        "  def set_x(self, x):\n",
        "    self.__x = x\n",
        "\n",
        "  def get_x(self):\n",
        "    return self.__x\n",
        "\n",
        "  def set_y(self, y):\n",
        "    self.__y = y\n",
        "\n",
        "  def get_y(self):\n",
        "    return self.__y\n",
        "\n",
        "  def set_width(self, width):\n",
        "    self.__width = width\n",
        "\n",
        "  def get_width(self):\n",
        "    return self.__width\n",
        "\n",
        "  def set_height(self, height):\n",
        "    self.__height = height\n",
        "\n",
        "  def get_height(self):\n",
        "    return self.__height\n",
        "\n",
        "  def area(self):\n",
        "    return self.__width * self.__height\n",
        "\n",
        "  def overlaps(self, r):\n",
        "    s_point1 = [self.__x, self.__y]\n",
        "    s_point2 = [self.__x + self.__width, self.__y]\n",
        "    s_point3 = [self.__x, self.__y - self.__height]\n",
        "    s_point4 = [self.__x + self.__width, self.__y - self.__height]\n",
        "    s_point = [s_point1, s_point2, s_point3, s_point4]\n",
        "\n",
        "    r_point1 = [r.__x, r.__y]\n",
        "    r_point2 = [r.__x + r.__width, r.__y]\n",
        "    r_point3 = [r.__x, r.__y - r.__height]\n",
        "    r_point4 = [r.__x + r.__width, r.__y - r.__height]\n",
        "    r_point = [r_point1, r_point2, r_point3, r_point4]\n",
        "\n",
        "    for i in s_point:\n",
        "      if (r.__x <= i[0] and i[0] <= r.__x + r.__width):\n",
        "        if (r.__y - r.__height <= i[1] and i[1] <= r.__y):\n",
        "          return True\n",
        " \n",
        "\n",
        "    for i in r_point:\n",
        "      if (self.__x <= i[0] and i[0] <= self.__x + r.__width):\n",
        "        if (self.__y - self.__height <= i[1] and i[1] <= self.__y):\n",
        "          return True\n",
        "     \n",
        "    return False\n",
        "\n",
        "  def contains(self, r):\n",
        "    s_point1 = [self.__x, self.__y]\n",
        "    s_point2 = [self.__x + self.__width, self.__y]\n",
        "    s_point3 = [self.__x, self.__y - self.__height]\n",
        "    s_point4 = [self.__x + self.__width, self.__y - self.__height]\n",
        "    s_point = [s_point1, s_point2, s_point3, s_point4]\n",
        "\n",
        "    r_point1 = [r.__x, r.__y]\n",
        "    r_point2 = [r.__x + r.__width, r.__y]\n",
        "    r_point3 = [r.__x, r.__y - r.__height]\n",
        "    r_point4 = [r.__x + r.__width, r.__y - r.__height]\n",
        "    r_point = [r_point1, r_point2, r_point3, r_point4]\n",
        "\n",
        "    k = 0\n",
        "\n",
        "    for i in r_point:\n",
        "      if (self.__x <= i[0] and i[0] <= self.__x + r.__width):\n",
        "        if (self.__y - self.__height <= i[1] and i[1] <= self.__y):\n",
        "          k += 1\n",
        "    if k == 4:\n",
        "      return True\n",
        "    else:\n",
        "      return False\n",
        "    \n",
        "\n",
        "r1 = Rectangle(0,0,100,100)\n",
        "r2 = Rectangle(0,-10,10,10)\n",
        "r3 = Rectangle(-100,0,120,100)\n",
        "\n",
        "\n",
        "print('r1 =',r1)\n",
        "print('r2 =',r2)\n",
        "print('r3 =',r3)\n",
        "\n",
        "print('r1 contains r2 :', r1.contains(r2))\n",
        "print('r1 contains r3 :', r1.contains(r3))\n",
        "print('r1 overlaps r2 :', r1.overlaps(r2))\n",
        "print('r1 overlaps r3 :', r1.overlaps(r3))"
      ],
      "execution_count": 27,
      "outputs": [
        {
          "output_type": "stream",
          "text": [
            "r1 = Rectangle : (x = 0, y = 0, w = 100, h = 100), 면적 : 10000\n",
            "r2 = Rectangle : (x = 0, y = -10, w = 10, h = 10), 면적 : 100\n",
            "r3 = Rectangle : (x = -100, y = 0, w = 120, h = 100), 면적 : 12000\n",
            "r1 contains r2 : True\n",
            "r1 contains r3 : False\n",
            "r1 overlaps r2 : True\n",
            "r1 overlaps r3 : True\n"
          ],
          "name": "stdout"
        }
      ]
    },
    {
      "cell_type": "code",
      "metadata": {
        "id": "CrxzjgBvOTRS"
      },
      "source": [
        "# 연습문제 9.14번"
      ],
      "execution_count": null,
      "outputs": []
    },
    {
      "cell_type": "code",
      "metadata": {
        "id": "crpEaJSi1H7-",
        "colab": {
          "base_uri": "https://localhost:8080/"
        },
        "outputId": "7622e4cd-1f12-40e9-d3fa-9c5d7f0ebeb6"
      },
      "source": [
        "class Circle:\n",
        "  PI = 3.14\n",
        "  def __init__(self, x, y, radius):\n",
        "    self.__x = x\n",
        "    self.__y = y\n",
        "    self.__radius = radius\n",
        "    \n",
        "  def __str__(self):\n",
        "    return 'Circle : (x = {}, y = {}, r = {}), 면적: {}'.format(self.__x, self.__y, self.__radius, self.area())\n",
        "\n",
        "  def set_x(self, x):\n",
        "    self.__x = x\n",
        "\n",
        "  def get_x(self, x):\n",
        "    return self.__x\n",
        "\n",
        "  def set_y(self, y):\n",
        "    self.__y = y\n",
        "\n",
        "  def get_y(self,y):\n",
        "    return self.__y\n",
        "    \n",
        "  def set_radius(self, radius):\n",
        "    self.__radius = radius\n",
        "\n",
        "  def get_radius(self, radius):\n",
        "    return self.__radius\n",
        "\n",
        "  def area(self):\n",
        "    return (self.__radius * self.__radius * Circle.PI)\n",
        "\n",
        "  def overlaps(c, c1):\n",
        "    if (c.__x + c.__radius) > c1.__x:\n",
        "      if (c.__y + c.__radius) > c1.__y:\n",
        "        return True\n",
        "      else:\n",
        "        return False\n",
        "    else:\n",
        "      return False  \n",
        "  \n",
        "  def contains(self, c):\n",
        "    if (c.__radius)<=(c1.__radius):\n",
        "      if (c.__x + c.__radius)<=(c1.__x + c1.__radius) and (c.__y + c.__radius)<=(c1.__y + c1.__radius):\n",
        "          return True\n",
        "    return False \n",
        "\n",
        "c1 = Circle(0,0,100)\n",
        "c2 = Circle(0,-10,10)\n",
        "c3 = Circle(-100,0,120)\n",
        "\n",
        "print('c1 =',c1)\n",
        "print('c2 =',c2)\n",
        "print('c3 =',c3)\n",
        "\n",
        "print('c1 contains c2 :', c1.contains(c2))\n",
        "print('c1 contains c3 :', c1.contains(c3))\n",
        "print('c1 overlaps c2 :', c1.overlaps(c2))\n",
        "print('c1 overlaps c3 :', c1.overlaps(c3))"
      ],
      "execution_count": 24,
      "outputs": [
        {
          "output_type": "stream",
          "text": [
            "c1 = Circle : (x = 0, y = 0, r = 100), 면적: 31400.0\n",
            "c2 = Circle : (x = 0, y = -10, r = 10), 면적: 314.0\n",
            "c3 = Circle : (x = -100, y = 0, r = 120), 면적: 45216.0\n",
            "c1 contains c2 : True\n",
            "c1 contains c3 : False\n",
            "c1 overlaps c2 : True\n",
            "c1 overlaps c3 : True\n"
          ],
          "name": "stdout"
        }
      ]
    },
    {
      "cell_type": "code",
      "metadata": {
        "id": "ssE1MKhwDxMW"
      },
      "source": [
        ""
      ],
      "execution_count": null,
      "outputs": []
    }
  ]
}