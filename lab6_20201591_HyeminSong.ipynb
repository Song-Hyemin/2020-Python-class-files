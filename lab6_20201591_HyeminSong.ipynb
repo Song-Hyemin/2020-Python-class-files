{
  "nbformat": 4,
  "nbformat_minor": 0,
  "metadata": {
    "colab": {
      "name": "lab6_20201591_HyeminSong.ipynb",
      "provenance": []
    },
    "kernelspec": {
      "name": "python3",
      "display_name": "Python 3"
    }
  },
  "cells": [
    {
      "cell_type": "code",
      "metadata": {
        "id": "1_m6ErgSFm3b"
      },
      "source": [
        "# 6.1 딕셔너리 자료형"
      ],
      "execution_count": null,
      "outputs": []
    },
    {
      "cell_type": "code",
      "metadata": {
        "id": "AZf2VDdHFu_7"
      },
      "source": [
        "person = {'이름' : '홍길동', '나이' : 26, '몸무게' : 82}"
      ],
      "execution_count": null,
      "outputs": []
    },
    {
      "cell_type": "code",
      "metadata": {
        "id": "Sm0dxECoIZWM",
        "colab": {
          "base_uri": "https://localhost:8080/",
          "height": 36
        },
        "outputId": "0f54e433-06e7-4f24-f6db-7d78d6aadb94"
      },
      "source": [
        "person['이름']"
      ],
      "execution_count": null,
      "outputs": [
        {
          "output_type": "execute_result",
          "data": {
            "application/vnd.google.colaboratory.intrinsic+json": {
              "type": "string"
            },
            "text/plain": [
              "'홍길동'"
            ]
          },
          "metadata": {
            "tags": []
          },
          "execution_count": 7
        }
      ]
    },
    {
      "cell_type": "code",
      "metadata": {
        "id": "4f-V_mKDIHn9",
        "colab": {
          "base_uri": "https://localhost:8080/"
        },
        "outputId": "6e22509b-f543-4837-9a39-98d75f326f33"
      },
      "source": [
        "person['나이']"
      ],
      "execution_count": null,
      "outputs": [
        {
          "output_type": "execute_result",
          "data": {
            "text/plain": [
              "26"
            ]
          },
          "metadata": {
            "tags": []
          },
          "execution_count": 8
        }
      ]
    },
    {
      "cell_type": "code",
      "metadata": {
        "id": "-6T2KYCIILLW",
        "colab": {
          "base_uri": "https://localhost:8080/"
        },
        "outputId": "d56b9860-19cf-4d4c-db88-d7a69b3fde6c"
      },
      "source": [
        "person['몸무게']"
      ],
      "execution_count": null,
      "outputs": [
        {
          "output_type": "execute_result",
          "data": {
            "text/plain": [
              "82"
            ]
          },
          "metadata": {
            "tags": []
          },
          "execution_count": 9
        }
      ]
    },
    {
      "cell_type": "code",
      "metadata": {
        "id": "qJw19aLcIdcN",
        "colab": {
          "base_uri": "https://localhost:8080/",
          "height": 176
        },
        "outputId": "c18dad99-8e32-4097-959f-6f669ebbe55f"
      },
      "source": [
        "person['홍길동']"
      ],
      "execution_count": null,
      "outputs": [
        {
          "output_type": "error",
          "ename": "KeyError",
          "evalue": "ignored",
          "traceback": [
            "\u001b[0;31m---------------------------------------------------------------------------\u001b[0m",
            "\u001b[0;31mKeyError\u001b[0m                                  Traceback (most recent call last)",
            "\u001b[0;32m<ipython-input-10-c967012bae48>\u001b[0m in \u001b[0;36m<module>\u001b[0;34m()\u001b[0m\n\u001b[0;32m----> 1\u001b[0;31m \u001b[0mperson\u001b[0m\u001b[0;34m[\u001b[0m\u001b[0;34m'홍길동'\u001b[0m\u001b[0;34m]\u001b[0m\u001b[0;34m\u001b[0m\u001b[0;34m\u001b[0m\u001b[0m\n\u001b[0m",
            "\u001b[0;31mKeyError\u001b[0m: '홍길동'"
          ]
        }
      ]
    },
    {
      "cell_type": "code",
      "metadata": {
        "id": "SNX52_jHIfW6"
      },
      "source": [
        "# LAB 6-1 : 딕셔너리의 생성"
      ],
      "execution_count": null,
      "outputs": []
    },
    {
      "cell_type": "code",
      "metadata": {
        "id": "W7KfkjsIIrqa"
      },
      "source": [
        "# 1번"
      ],
      "execution_count": null,
      "outputs": []
    },
    {
      "cell_type": "code",
      "metadata": {
        "id": "iHOtcHCOIurj"
      },
      "source": [
        "capital_dic = {'Korea' : 'Seoul', 'China' : 'Beijing', 'USA' : 'Washington DC'}"
      ],
      "execution_count": null,
      "outputs": []
    },
    {
      "cell_type": "code",
      "metadata": {
        "id": "Eh355jqsI8MG",
        "colab": {
          "base_uri": "https://localhost:8080/",
          "height": 36
        },
        "outputId": "f4f7fed7-1dd1-4af0-b4fb-a3dbb346c0d8"
      },
      "source": [
        "capital_dic['Korea']"
      ],
      "execution_count": null,
      "outputs": [
        {
          "output_type": "execute_result",
          "data": {
            "application/vnd.google.colaboratory.intrinsic+json": {
              "type": "string"
            },
            "text/plain": [
              "'Seoul'"
            ]
          },
          "metadata": {
            "tags": []
          },
          "execution_count": 14
        }
      ]
    },
    {
      "cell_type": "code",
      "metadata": {
        "id": "2slfds8_JANT",
        "colab": {
          "base_uri": "https://localhost:8080/",
          "height": 36
        },
        "outputId": "e327f654-1d84-409b-b2a7-bd8d72df4523"
      },
      "source": [
        "capital_dic['China']"
      ],
      "execution_count": null,
      "outputs": [
        {
          "output_type": "execute_result",
          "data": {
            "application/vnd.google.colaboratory.intrinsic+json": {
              "type": "string"
            },
            "text/plain": [
              "'Beijing'"
            ]
          },
          "metadata": {
            "tags": []
          },
          "execution_count": 15
        }
      ]
    },
    {
      "cell_type": "code",
      "metadata": {
        "id": "a6bfXQAyJCkS",
        "colab": {
          "base_uri": "https://localhost:8080/",
          "height": 36
        },
        "outputId": "181426de-69fd-4557-8238-8ad15951692f"
      },
      "source": [
        "capital_dic['USA']"
      ],
      "execution_count": null,
      "outputs": [
        {
          "output_type": "execute_result",
          "data": {
            "application/vnd.google.colaboratory.intrinsic+json": {
              "type": "string"
            },
            "text/plain": [
              "'Washington DC'"
            ]
          },
          "metadata": {
            "tags": []
          },
          "execution_count": 16
        }
      ]
    },
    {
      "cell_type": "code",
      "metadata": {
        "id": "ks5i9FwZJEcC"
      },
      "source": [
        "# 2번"
      ],
      "execution_count": null,
      "outputs": []
    },
    {
      "cell_type": "code",
      "metadata": {
        "id": "6tXIjFoVJGh3"
      },
      "source": [
        "fruits_dic = {'apple' : 5000, 'banana' : 4000, 'grape' :5300, 'melon' : 6500}"
      ],
      "execution_count": null,
      "outputs": []
    },
    {
      "cell_type": "code",
      "metadata": {
        "id": "ttCRFh8HJQe2",
        "colab": {
          "base_uri": "https://localhost:8080/"
        },
        "outputId": "a959bbdb-59d9-45d3-fd6c-4f94cf0d8fbb"
      },
      "source": [
        "print('apple의 가격은 {}원입니다.'.format(fruits_dic['apple']))\n",
        "print('banana의 가격은 {}원입니다.'.format(fruits_dic['banana']))\n",
        "print('grape의 가격은 {}원입니다.'.format(fruits_dic['grape']))\n",
        "print('melon의 가격은 {}원입니다.'.format(fruits_dic['melon']))"
      ],
      "execution_count": null,
      "outputs": [
        {
          "output_type": "stream",
          "text": [
            "apple의 가격은 5000원입니다.\n",
            "banana의 가격은 4000원입니다.\n",
            "grape의 가격은 5300원입니다.\n",
            "melon의 가격은 6500원입니다.\n"
          ],
          "name": "stdout"
        }
      ]
    },
    {
      "cell_type": "code",
      "metadata": {
        "id": "vvwHHUE8JnxQ"
      },
      "source": [
        "# 6.2 딕셔너리의 삽입과 삭제"
      ],
      "execution_count": null,
      "outputs": []
    },
    {
      "cell_type": "code",
      "metadata": {
        "id": "eHjn8HEXJrkf"
      },
      "source": [
        "person['직업'] = '율도국의 왕'"
      ],
      "execution_count": null,
      "outputs": []
    },
    {
      "cell_type": "code",
      "metadata": {
        "id": "2K0Wf4AfJ_sR",
        "colab": {
          "base_uri": "https://localhost:8080/"
        },
        "outputId": "d5b8dc9c-65ed-4cd4-c005-a9c116670d43"
      },
      "source": [
        "person"
      ],
      "execution_count": null,
      "outputs": [
        {
          "output_type": "execute_result",
          "data": {
            "text/plain": [
              "{'나이': 26, '몸무게': 82, '이름': '홍길동', '직업': '율도국의 왕'}"
            ]
          },
          "metadata": {
            "tags": []
          },
          "execution_count": 22
        }
      ]
    },
    {
      "cell_type": "code",
      "metadata": {
        "id": "cPKlW17fKBSc"
      },
      "source": [
        "person['나이'] = 27"
      ],
      "execution_count": null,
      "outputs": []
    },
    {
      "cell_type": "code",
      "metadata": {
        "id": "CIp4LNt4KJpL",
        "colab": {
          "base_uri": "https://localhost:8080/"
        },
        "outputId": "31196c9d-0bd4-4979-84c2-37939f9b5250"
      },
      "source": [
        "person"
      ],
      "execution_count": null,
      "outputs": [
        {
          "output_type": "execute_result",
          "data": {
            "text/plain": [
              "{'나이': 27, '몸무게': 82, '이름': '홍길동', '직업': '율도국의 왕'}"
            ]
          },
          "metadata": {
            "tags": []
          },
          "execution_count": 24
        }
      ]
    },
    {
      "cell_type": "code",
      "metadata": {
        "id": "y5w-GnozKKye"
      },
      "source": [
        "del person['나이']"
      ],
      "execution_count": null,
      "outputs": []
    },
    {
      "cell_type": "code",
      "metadata": {
        "id": "PK52UkLEKW_j",
        "colab": {
          "base_uri": "https://localhost:8080/"
        },
        "outputId": "1556385f-b124-4cc5-e5c5-0baca56d419f"
      },
      "source": [
        "person"
      ],
      "execution_count": null,
      "outputs": [
        {
          "output_type": "execute_result",
          "data": {
            "text/plain": [
              "{'몸무게': 82, '이름': '홍길동', '직업': '율도국의 왕'}"
            ]
          },
          "metadata": {
            "tags": []
          },
          "execution_count": 26
        }
      ]
    },
    {
      "cell_type": "code",
      "metadata": {
        "id": "lZW3UB3yKXsi"
      },
      "source": [
        "# LAB 6-2 : 딕셔너리의 항목 추가와 삭제 "
      ],
      "execution_count": null,
      "outputs": []
    },
    {
      "cell_type": "code",
      "metadata": {
        "id": "ZfgQw5G9Kdt0"
      },
      "source": [
        "# 1번"
      ],
      "execution_count": null,
      "outputs": []
    },
    {
      "cell_type": "code",
      "metadata": {
        "id": "idXHO30-KfKu"
      },
      "source": [
        "person['특기'] = '분신술'"
      ],
      "execution_count": null,
      "outputs": []
    },
    {
      "cell_type": "code",
      "metadata": {
        "id": "XSwKj5U1Ko3g",
        "colab": {
          "base_uri": "https://localhost:8080/"
        },
        "outputId": "009d42b7-aa2f-42af-b714-4c4742f10d13"
      },
      "source": [
        "person"
      ],
      "execution_count": null,
      "outputs": [
        {
          "output_type": "execute_result",
          "data": {
            "text/plain": [
              "{'나이': 26, '몸무게': 82, '이름': '홍길동', '특기': '분신술'}"
            ]
          },
          "metadata": {
            "tags": []
          },
          "execution_count": 43
        }
      ]
    },
    {
      "cell_type": "code",
      "metadata": {
        "id": "tfqG8yMXKqPe"
      },
      "source": [
        "# 2번"
      ],
      "execution_count": null,
      "outputs": []
    },
    {
      "cell_type": "code",
      "metadata": {
        "id": "RKLW8SjeLKqi"
      },
      "source": [
        "person['아버지'] = '홍판서'"
      ],
      "execution_count": null,
      "outputs": []
    },
    {
      "cell_type": "code",
      "metadata": {
        "id": "M0xp1QIULM90",
        "colab": {
          "base_uri": "https://localhost:8080/"
        },
        "outputId": "03adc6fc-d307-4e6e-8dc4-0309b8d1bbed"
      },
      "source": [
        "person"
      ],
      "execution_count": null,
      "outputs": [
        {
          "output_type": "execute_result",
          "data": {
            "text/plain": [
              "{'나이': 26, '몸무게': 82, '아버지': '홍판서', '이름': '홍길동', '특기': '분신술'}"
            ]
          },
          "metadata": {
            "tags": []
          },
          "execution_count": 47
        }
      ]
    },
    {
      "cell_type": "code",
      "metadata": {
        "id": "pL9og6QLLNWE"
      },
      "source": [
        "# 3번"
      ],
      "execution_count": null,
      "outputs": []
    },
    {
      "cell_type": "code",
      "metadata": {
        "id": "xwHebz1GLPiE"
      },
      "source": [
        "del person['나이']"
      ],
      "execution_count": null,
      "outputs": []
    },
    {
      "cell_type": "code",
      "metadata": {
        "id": "cQpGtpogLTfZ",
        "colab": {
          "base_uri": "https://localhost:8080/"
        },
        "outputId": "3d08eabb-46a2-4175-8b5c-252efa657923"
      },
      "source": [
        "person"
      ],
      "execution_count": null,
      "outputs": [
        {
          "output_type": "execute_result",
          "data": {
            "text/plain": [
              "{'몸무게': 82, '아버지': '홍판서', '이름': '홍길동', '특기': '분신술'}"
            ]
          },
          "metadata": {
            "tags": []
          },
          "execution_count": 50
        }
      ]
    },
    {
      "cell_type": "code",
      "metadata": {
        "id": "KcHQiJPNLUba"
      },
      "source": [
        "# 6.3 딕셔너리와 연산자"
      ],
      "execution_count": null,
      "outputs": []
    },
    {
      "cell_type": "code",
      "metadata": {
        "id": "69JoW5R3LZpq",
        "colab": {
          "base_uri": "https://localhost:8080/"
        },
        "outputId": "3698cf93-526d-4eb9-c5ed-a414adda798b"
      },
      "source": [
        "'직업' in person"
      ],
      "execution_count": null,
      "outputs": [
        {
          "output_type": "execute_result",
          "data": {
            "text/plain": [
              "False"
            ]
          },
          "metadata": {
            "tags": []
          },
          "execution_count": 52
        }
      ]
    },
    {
      "cell_type": "code",
      "metadata": {
        "id": "d-NGsaXALmtH"
      },
      "source": [
        "# LAB 6-3 : 딕셔너리와 연산"
      ],
      "execution_count": null,
      "outputs": []
    },
    {
      "cell_type": "code",
      "metadata": {
        "id": "5a1b_GYWL0ID"
      },
      "source": [
        "# 1번"
      ],
      "execution_count": null,
      "outputs": []
    },
    {
      "cell_type": "code",
      "metadata": {
        "id": "D4XNzI3PL1JM"
      },
      "source": [
        "capital_dic = {'Korea' : 'Seoul', 'China' : 'Beijing', 'USA' : 'Washington DC'}"
      ],
      "execution_count": null,
      "outputs": []
    },
    {
      "cell_type": "code",
      "metadata": {
        "id": "3T5J0sUTL5PN",
        "colab": {
          "base_uri": "https://localhost:8080/"
        },
        "outputId": "d9ef8c77-a76a-42a1-e848-2d81bc602279"
      },
      "source": [
        "'Korea' in capital_dic"
      ],
      "execution_count": null,
      "outputs": [
        {
          "output_type": "execute_result",
          "data": {
            "text/plain": [
              "True"
            ]
          },
          "metadata": {
            "tags": []
          },
          "execution_count": 56
        }
      ]
    },
    {
      "cell_type": "code",
      "metadata": {
        "id": "cPzCb08OL8gZ",
        "colab": {
          "base_uri": "https://localhost:8080/"
        },
        "outputId": "5d7008ea-8283-40b4-86d4-ceda56bc00a0"
      },
      "source": [
        "'China' in capital_dic"
      ],
      "execution_count": null,
      "outputs": [
        {
          "output_type": "execute_result",
          "data": {
            "text/plain": [
              "True"
            ]
          },
          "metadata": {
            "tags": []
          },
          "execution_count": 57
        }
      ]
    },
    {
      "cell_type": "code",
      "metadata": {
        "id": "V0QMpGhsL_Kh",
        "colab": {
          "base_uri": "https://localhost:8080/"
        },
        "outputId": "7f031ed3-acdc-4b16-fe34-f6cf7afa3a08"
      },
      "source": [
        "'Indonesia' in capital_dic"
      ],
      "execution_count": null,
      "outputs": [
        {
          "output_type": "execute_result",
          "data": {
            "text/plain": [
              "False"
            ]
          },
          "metadata": {
            "tags": []
          },
          "execution_count": 58
        }
      ]
    },
    {
      "cell_type": "code",
      "metadata": {
        "id": "XMOdMpdhMBq5",
        "colab": {
          "base_uri": "https://localhost:8080/"
        },
        "outputId": "78148d36-d833-4a6e-c183-d434ada9f495"
      },
      "source": [
        "'Beijing' in capital_dic"
      ],
      "execution_count": null,
      "outputs": [
        {
          "output_type": "execute_result",
          "data": {
            "text/plain": [
              "False"
            ]
          },
          "metadata": {
            "tags": []
          },
          "execution_count": 59
        }
      ]
    },
    {
      "cell_type": "code",
      "metadata": {
        "id": "HGs4HgFxMEk2"
      },
      "source": [
        "# 6.4 딕셔너리의 메소드"
      ],
      "execution_count": null,
      "outputs": []
    },
    {
      "cell_type": "code",
      "metadata": {
        "id": "QmqGVGR8MLzu",
        "colab": {
          "base_uri": "https://localhost:8080/"
        },
        "outputId": "6dede9ec-f2f1-44a2-e4c1-74222ef425c3"
      },
      "source": [
        "person.keys()"
      ],
      "execution_count": null,
      "outputs": [
        {
          "output_type": "execute_result",
          "data": {
            "text/plain": [
              "dict_keys(['이름', '몸무게', '특기', '아버지'])"
            ]
          },
          "metadata": {
            "tags": []
          },
          "execution_count": 61
        }
      ]
    },
    {
      "cell_type": "code",
      "metadata": {
        "id": "dMenrk44MNz-",
        "colab": {
          "base_uri": "https://localhost:8080/"
        },
        "outputId": "671bc929-dd99-47ac-d6b2-25ab30d0c3af"
      },
      "source": [
        "person.values()"
      ],
      "execution_count": null,
      "outputs": [
        {
          "output_type": "execute_result",
          "data": {
            "text/plain": [
              "dict_values(['홍길동', 82, '분신술', '홍판서'])"
            ]
          },
          "metadata": {
            "tags": []
          },
          "execution_count": 62
        }
      ]
    },
    {
      "cell_type": "code",
      "metadata": {
        "id": "7fpagifSMR2W",
        "colab": {
          "base_uri": "https://localhost:8080/"
        },
        "outputId": "038ddae8-43fe-4bfb-e8bc-7bec35f1eaa5"
      },
      "source": [
        "person.items()"
      ],
      "execution_count": null,
      "outputs": [
        {
          "output_type": "execute_result",
          "data": {
            "text/plain": [
              "dict_items([('이름', '홍길동'), ('몸무게', 82), ('특기', '분신술'), ('아버지', '홍판서')])"
            ]
          },
          "metadata": {
            "tags": []
          },
          "execution_count": 63
        }
      ]
    },
    {
      "cell_type": "code",
      "metadata": {
        "id": "FS0h82rZMYLP",
        "colab": {
          "base_uri": "https://localhost:8080/"
        },
        "outputId": "7789ac7d-724a-4c73-8566-16809d89f809"
      },
      "source": [
        "person"
      ],
      "execution_count": null,
      "outputs": [
        {
          "output_type": "execute_result",
          "data": {
            "text/plain": [
              "{'몸무게': 82, '아버지': '홍판서', '이름': '홍길동', '특기': '분신술'}"
            ]
          },
          "metadata": {
            "tags": []
          },
          "execution_count": 64
        }
      ]
    },
    {
      "cell_type": "code",
      "metadata": {
        "id": "Nzy4AJbEMnsj"
      },
      "source": [
        "person.clear()"
      ],
      "execution_count": null,
      "outputs": []
    },
    {
      "cell_type": "code",
      "metadata": {
        "id": "AUtVps0kMpnh",
        "colab": {
          "base_uri": "https://localhost:8080/"
        },
        "outputId": "0cb2deb7-7aa7-446e-82d0-abf49512e070"
      },
      "source": [
        "person"
      ],
      "execution_count": null,
      "outputs": [
        {
          "output_type": "execute_result",
          "data": {
            "text/plain": [
              "{}"
            ]
          },
          "metadata": {
            "tags": []
          },
          "execution_count": 66
        }
      ]
    },
    {
      "cell_type": "code",
      "metadata": {
        "id": "ZizkmKDrNMeW"
      },
      "source": [
        "person = {'이름' : '홍길동', '나이' : 26, '몸무게' : 82}"
      ],
      "execution_count": null,
      "outputs": []
    },
    {
      "cell_type": "code",
      "metadata": {
        "id": "zdine895NMiK",
        "colab": {
          "base_uri": "https://localhost:8080/"
        },
        "outputId": "a875d7f2-6eaf-4f97-9ab6-9325ce5af615"
      },
      "source": [
        "person.popitem()"
      ],
      "execution_count": null,
      "outputs": [
        {
          "output_type": "execute_result",
          "data": {
            "text/plain": [
              "('몸무게', 82)"
            ]
          },
          "metadata": {
            "tags": []
          },
          "execution_count": 70
        }
      ]
    },
    {
      "cell_type": "code",
      "metadata": {
        "id": "kL8iLkjzNNJ1",
        "colab": {
          "base_uri": "https://localhost:8080/"
        },
        "outputId": "0cde91bc-0a98-4c1e-e1de-bab124a3a07c"
      },
      "source": [
        "person"
      ],
      "execution_count": null,
      "outputs": [
        {
          "output_type": "execute_result",
          "data": {
            "text/plain": [
              "{'나이': 26, '이름': '홍길동'}"
            ]
          },
          "metadata": {
            "tags": []
          },
          "execution_count": 71
        }
      ]
    },
    {
      "cell_type": "code",
      "metadata": {
        "id": "1xfId8gDNbKR",
        "colab": {
          "base_uri": "https://localhost:8080/"
        },
        "outputId": "df92fd99-d5d9-43ba-fd19-87062aaf54d4"
      },
      "source": [
        "person.pop('나이')"
      ],
      "execution_count": null,
      "outputs": [
        {
          "output_type": "execute_result",
          "data": {
            "text/plain": [
              "26"
            ]
          },
          "metadata": {
            "tags": []
          },
          "execution_count": 72
        }
      ]
    },
    {
      "cell_type": "code",
      "metadata": {
        "id": "rdOpkgtcNbcT",
        "colab": {
          "base_uri": "https://localhost:8080/"
        },
        "outputId": "7df12f1f-4ec2-40fb-adc9-da00007b49a1"
      },
      "source": [
        "person"
      ],
      "execution_count": null,
      "outputs": [
        {
          "output_type": "execute_result",
          "data": {
            "text/plain": [
              "{'이름': '홍길동'}"
            ]
          },
          "metadata": {
            "tags": []
          },
          "execution_count": 73
        }
      ]
    },
    {
      "cell_type": "code",
      "metadata": {
        "id": "dmqAaRDANbaI"
      },
      "source": [
        "person.clear()"
      ],
      "execution_count": null,
      "outputs": []
    },
    {
      "cell_type": "code",
      "metadata": {
        "id": "jiwBYfJpNgfx",
        "colab": {
          "base_uri": "https://localhost:8080/"
        },
        "outputId": "203b39a9-4ba5-44ba-c447-1dbf6a2da4dd"
      },
      "source": [
        "person"
      ],
      "execution_count": null,
      "outputs": [
        {
          "output_type": "execute_result",
          "data": {
            "text/plain": [
              "{}"
            ]
          },
          "metadata": {
            "tags": []
          },
          "execution_count": 75
        }
      ]
    },
    {
      "cell_type": "code",
      "metadata": {
        "id": "zK0-iyd8MqD_"
      },
      "source": [
        "# LAB 6-4 : 딕셔너리의 활용"
      ],
      "execution_count": null,
      "outputs": []
    },
    {
      "cell_type": "code",
      "metadata": {
        "id": "cf2XNRTjM9KS"
      },
      "source": [
        "# 1번"
      ],
      "execution_count": null,
      "outputs": []
    },
    {
      "cell_type": "code",
      "metadata": {
        "id": "wSA8LM9AM-UA"
      },
      "source": [
        "fruits_dic = {'apple' : 6000, 'melon' : 3000, 'banana' : 5000, 'orange' : 7000}"
      ],
      "execution_count": null,
      "outputs": []
    },
    {
      "cell_type": "code",
      "metadata": {
        "id": "rTCicObENjLe"
      },
      "source": [
        "# 2번"
      ],
      "execution_count": null,
      "outputs": []
    },
    {
      "cell_type": "code",
      "metadata": {
        "id": "uFJ04UMBNlMR",
        "colab": {
          "base_uri": "https://localhost:8080/"
        },
        "outputId": "746a481b-f3bd-4db0-b76e-55cf464aeff1"
      },
      "source": [
        "fruits_dic.keys()"
      ],
      "execution_count": null,
      "outputs": [
        {
          "output_type": "execute_result",
          "data": {
            "text/plain": [
              "dict_keys(['apple', 'melon', 'banana', 'orange'])"
            ]
          },
          "metadata": {
            "tags": []
          },
          "execution_count": 78
        }
      ]
    },
    {
      "cell_type": "code",
      "metadata": {
        "id": "OemkMwfXNonK"
      },
      "source": [
        "# 3번"
      ],
      "execution_count": null,
      "outputs": []
    },
    {
      "cell_type": "code",
      "metadata": {
        "id": "6ciGD7n4NqGR",
        "colab": {
          "base_uri": "https://localhost:8080/"
        },
        "outputId": "95b48a8b-d2e0-4639-a3a1-caec5642f163"
      },
      "source": [
        "fruits_dic.values()"
      ],
      "execution_count": null,
      "outputs": [
        {
          "output_type": "execute_result",
          "data": {
            "text/plain": [
              "dict_values([6000, 3000, 5000, 7000])"
            ]
          },
          "metadata": {
            "tags": []
          },
          "execution_count": 80
        }
      ]
    },
    {
      "cell_type": "code",
      "metadata": {
        "id": "PV0LvRWxNtTU"
      },
      "source": [
        "# 4번"
      ],
      "execution_count": null,
      "outputs": []
    },
    {
      "cell_type": "code",
      "metadata": {
        "id": "Chdwmm3XNuuz",
        "colab": {
          "base_uri": "https://localhost:8080/"
        },
        "outputId": "cf3ed23a-82c6-4e82-fa7e-42f222611e8b"
      },
      "source": [
        "fruits_dic.pop('apple')"
      ],
      "execution_count": null,
      "outputs": [
        {
          "output_type": "execute_result",
          "data": {
            "text/plain": [
              "6000"
            ]
          },
          "metadata": {
            "tags": []
          },
          "execution_count": 82
        }
      ]
    },
    {
      "cell_type": "code",
      "metadata": {
        "id": "X2gSW_GiNzJF",
        "colab": {
          "base_uri": "https://localhost:8080/"
        },
        "outputId": "088c50ec-7b23-464d-9ad6-8af9ed26e72f"
      },
      "source": [
        "fruits_dic"
      ],
      "execution_count": null,
      "outputs": [
        {
          "output_type": "execute_result",
          "data": {
            "text/plain": [
              "{'banana': 5000, 'melon': 3000, 'orange': 7000}"
            ]
          },
          "metadata": {
            "tags": []
          },
          "execution_count": 83
        }
      ]
    },
    {
      "cell_type": "code",
      "metadata": {
        "id": "3XZiJQ9lN98y"
      },
      "source": [
        "# 5번"
      ],
      "execution_count": null,
      "outputs": []
    },
    {
      "cell_type": "code",
      "metadata": {
        "id": "-UuzOTx3N3RU"
      },
      "source": [
        "fruits_dic.clear()"
      ],
      "execution_count": null,
      "outputs": []
    },
    {
      "cell_type": "code",
      "metadata": {
        "id": "q7txDXAxN6a1",
        "colab": {
          "base_uri": "https://localhost:8080/"
        },
        "outputId": "aef245c9-688a-498d-f736-f5161d1a8d6c"
      },
      "source": [
        "fruits_dic"
      ],
      "execution_count": null,
      "outputs": [
        {
          "output_type": "execute_result",
          "data": {
            "text/plain": [
              "{}"
            ]
          },
          "metadata": {
            "tags": []
          },
          "execution_count": 85
        }
      ]
    },
    {
      "cell_type": "code",
      "metadata": {
        "id": "4Wizah_sORQO"
      },
      "source": [
        "person = {'이름' : '홍길동', '나이' : 26, '몸무게' : 82}"
      ],
      "execution_count": null,
      "outputs": []
    },
    {
      "cell_type": "code",
      "metadata": {
        "id": "smyDMFFNOUsB",
        "colab": {
          "base_uri": "https://localhost:8080/"
        },
        "outputId": "24af50df-2131-416b-cebc-cbe22f715514"
      },
      "source": [
        "for key in person:\n",
        "  print('{} : {}'.format(key, person[key]))"
      ],
      "execution_count": null,
      "outputs": [
        {
          "output_type": "stream",
          "text": [
            "이름 : 홍길동\n",
            "나이 : 26\n",
            "몸무게 : 82\n"
          ],
          "name": "stdout"
        }
      ]
    },
    {
      "cell_type": "code",
      "metadata": {
        "id": "S_4IVi6CN8-U"
      },
      "source": [
        "# 6.5 리스트와 딕셔너리의 비교"
      ],
      "execution_count": null,
      "outputs": []
    },
    {
      "cell_type": "code",
      "metadata": {
        "id": "fDto2xQyOFrI",
        "colab": {
          "base_uri": "https://localhost:8080/"
        },
        "outputId": "7f524553-d663-42a1-fa3c-a61776121cf5"
      },
      "source": [
        "lst = [11,22,33,44,55]\n",
        "print('pop(0) 이전 :',lst)\n",
        "print('pop(0) 이전 lst[1] = ',lst[1])\n",
        "lst.pop(0)"
      ],
      "execution_count": null,
      "outputs": [
        {
          "output_type": "stream",
          "text": [
            "pop(0) 이전 : [11, 22, 33, 44, 55]\n",
            "pop(0) 이전 lst[1] =  22\n"
          ],
          "name": "stdout"
        },
        {
          "output_type": "execute_result",
          "data": {
            "text/plain": [
              "11"
            ]
          },
          "metadata": {
            "tags": []
          },
          "execution_count": 89
        }
      ]
    },
    {
      "cell_type": "code",
      "metadata": {
        "id": "f1Ykzsd-PhQI",
        "colab": {
          "base_uri": "https://localhost:8080/"
        },
        "outputId": "c4571edc-62e3-4ad2-8ec0-fbdb7589239f"
      },
      "source": [
        "print('pop(0) 이후 :',lst)\n",
        "print('pop(0) 이후 lst[1] = ',lst[1])"
      ],
      "execution_count": null,
      "outputs": [
        {
          "output_type": "stream",
          "text": [
            "pop(0) 이후 : [22, 33, 44, 55]\n",
            "pop(0) 이후 lst[1] =  33\n"
          ],
          "name": "stdout"
        }
      ]
    },
    {
      "cell_type": "code",
      "metadata": {
        "id": "aG_qPc0MPuUq",
        "colab": {
          "base_uri": "https://localhost:8080/"
        },
        "outputId": "2c134db3-198c-4451-bbef-e11b24c4221b"
      },
      "source": [
        "dic = {0:11,1:22,2:33,3:44,4:55}\n",
        "print('pop(0) 이전 :',dic.items())\n",
        "print('pop(0) 이전 dic[1] = ',dic[1])\n",
        "dic.pop(0)\n",
        "print('pop(0) 이후 :',dic.items())\n",
        "print('pop(0) 이후 dic[1] = ',dic[1])"
      ],
      "execution_count": null,
      "outputs": [
        {
          "output_type": "stream",
          "text": [
            "pop(0) 이전 : dict_items([(0, 11), (1, 22), (2, 33), (3, 44), (4, 55)])\n",
            "pop(0) 이전 dic[1] =  22\n",
            "pop(0) 이후 : dict_items([(1, 22), (2, 33), (3, 44), (4, 55)])\n",
            "pop(0) 이후 dic[1] =  22\n"
          ],
          "name": "stdout"
        }
      ]
    },
    {
      "cell_type": "code",
      "metadata": {
        "id": "h-aVgRlkQRLQ"
      },
      "source": [
        "# LAB 6-5 : 딕셔너리의 활용"
      ],
      "execution_count": null,
      "outputs": []
    },
    {
      "cell_type": "code",
      "metadata": {
        "id": "5hUIYqokQ-Em"
      },
      "source": [
        "# 1번"
      ],
      "execution_count": null,
      "outputs": []
    },
    {
      "cell_type": "code",
      "metadata": {
        "id": "dqisMmCOQ-_r"
      },
      "source": [
        "fruits_dic = {'apple' : 6000, 'melon' : 3000, 'banana' : 5000, 'orange' : 7000}"
      ],
      "execution_count": null,
      "outputs": []
    },
    {
      "cell_type": "code",
      "metadata": {
        "id": "VIjB9mAFRD2J",
        "colab": {
          "base_uri": "https://localhost:8080/"
        },
        "outputId": "039ca3b1-7f25-4636-a159-da60bcd4861b"
      },
      "source": [
        "fruits_list = []\n",
        "for key in fruits_dic:\n",
        "  fruits_list.append(key)\n",
        "\n",
        "fruits_list"
      ],
      "execution_count": null,
      "outputs": [
        {
          "output_type": "execute_result",
          "data": {
            "text/plain": [
              "['apple', 'melon', 'banana', 'orange']"
            ]
          },
          "metadata": {
            "tags": []
          },
          "execution_count": 107
        }
      ]
    },
    {
      "cell_type": "code",
      "metadata": {
        "id": "bx0GMQGkRGH8"
      },
      "source": [
        "# 2번"
      ],
      "execution_count": null,
      "outputs": []
    },
    {
      "cell_type": "code",
      "metadata": {
        "id": "Vz72BWJRRfex",
        "colab": {
          "base_uri": "https://localhost:8080/"
        },
        "outputId": "141303db-fe92-479e-ee7b-afd19189fc69"
      },
      "source": [
        "fruits_list = []\n",
        "for key in fruits_dic:\n",
        "  fruits_list.append(fruits_dic[key])\n",
        "\n",
        "fruits_list"
      ],
      "execution_count": null,
      "outputs": [
        {
          "output_type": "execute_result",
          "data": {
            "text/plain": [
              "[6000, 3000, 5000, 7000]"
            ]
          },
          "metadata": {
            "tags": []
          },
          "execution_count": 106
        }
      ]
    },
    {
      "cell_type": "code",
      "metadata": {
        "id": "1LTR8QcZRxh2"
      },
      "source": [
        "# 3번"
      ],
      "execution_count": null,
      "outputs": []
    },
    {
      "cell_type": "code",
      "metadata": {
        "id": "5zslInLtR7NQ",
        "colab": {
          "base_uri": "https://localhost:8080/"
        },
        "outputId": "e55dc78e-6446-4f69-83a7-19b47dd6b466"
      },
      "source": [
        "num = len(fruits_dic)\n",
        "print('fruits_dic 딕셔너리의 항목의 개수 :',num)"
      ],
      "execution_count": null,
      "outputs": [
        {
          "output_type": "stream",
          "text": [
            "fruits_dic 딕셔너리의 항목의 개수 : 4\n"
          ],
          "name": "stdout"
        }
      ]
    },
    {
      "cell_type": "code",
      "metadata": {
        "id": "T9M1Eab6SDeD"
      },
      "source": [
        "# 4번"
      ],
      "execution_count": null,
      "outputs": []
    },
    {
      "cell_type": "code",
      "metadata": {
        "id": "TBrynCtJSRO5",
        "colab": {
          "base_uri": "https://localhost:8080/"
        },
        "outputId": "5a13d8d1-48d7-4a24-ac50-24a9ce862569"
      },
      "source": [
        "if ('apple' in fruits_dic) == True:\n",
        "  print('apple is in fruits_dic')\n",
        "else:\n",
        "  print('apple is not in fruits_dic')\n",
        "\n",
        "if ('mango' in fruits_dic) == True:\n",
        "  print('mango is in fruits_dic')\n",
        "else:\n",
        "  print('mango is not in fruits_dic')"
      ],
      "execution_count": null,
      "outputs": [
        {
          "output_type": "stream",
          "text": [
            "apple is in fruits_dic\n",
            "mango is not in fruits_dic\n"
          ],
          "name": "stdout"
        }
      ]
    },
    {
      "cell_type": "code",
      "metadata": {
        "id": "5l2dmrJATEWy"
      },
      "source": [
        "# 6.6 튜플 자료형"
      ],
      "execution_count": null,
      "outputs": []
    },
    {
      "cell_type": "code",
      "metadata": {
        "id": "jkT517AKTSr-"
      },
      "source": [
        "t = (1,2,3,4)"
      ],
      "execution_count": null,
      "outputs": []
    },
    {
      "cell_type": "code",
      "metadata": {
        "id": "RJ7GS8T-TqKQ",
        "colab": {
          "base_uri": "https://localhost:8080/"
        },
        "outputId": "0cfddf4b-bcbe-4c9b-cd5b-b09cfcc88a8e"
      },
      "source": [
        "type(t)"
      ],
      "execution_count": null,
      "outputs": [
        {
          "output_type": "execute_result",
          "data": {
            "text/plain": [
              "tuple"
            ]
          },
          "metadata": {
            "tags": []
          },
          "execution_count": 112
        }
      ]
    },
    {
      "cell_type": "code",
      "metadata": {
        "id": "RDXBAXRYTsJ7",
        "colab": {
          "base_uri": "https://localhost:8080/"
        },
        "outputId": "250f242d-3182-4878-97c7-6d1c91a4386e"
      },
      "source": [
        "t[0]"
      ],
      "execution_count": null,
      "outputs": [
        {
          "output_type": "execute_result",
          "data": {
            "text/plain": [
              "1"
            ]
          },
          "metadata": {
            "tags": []
          },
          "execution_count": 113
        }
      ]
    },
    {
      "cell_type": "code",
      "metadata": {
        "id": "DK911EKATuPW",
        "colab": {
          "base_uri": "https://localhost:8080/"
        },
        "outputId": "3b31eb0b-eba9-4a0f-d2a8-0d66db9207c1"
      },
      "source": [
        "t[1]"
      ],
      "execution_count": null,
      "outputs": [
        {
          "output_type": "execute_result",
          "data": {
            "text/plain": [
              "2"
            ]
          },
          "metadata": {
            "tags": []
          },
          "execution_count": 114
        }
      ]
    },
    {
      "cell_type": "code",
      "metadata": {
        "id": "pkpp_IuCTyS1"
      },
      "source": [
        "tuple0 = ()"
      ],
      "execution_count": null,
      "outputs": []
    },
    {
      "cell_type": "code",
      "metadata": {
        "id": "2fD0SQuhT0Rw",
        "colab": {
          "base_uri": "https://localhost:8080/"
        },
        "outputId": "a2738360-9786-4cac-ce32-020cbe1bde81"
      },
      "source": [
        "tuple0"
      ],
      "execution_count": null,
      "outputs": [
        {
          "output_type": "execute_result",
          "data": {
            "text/plain": [
              "()"
            ]
          },
          "metadata": {
            "tags": []
          },
          "execution_count": 116
        }
      ]
    },
    {
      "cell_type": "code",
      "metadata": {
        "id": "nAIFCVlpT1Nb"
      },
      "source": [
        "# 주의 : 하나의 요소를 가지는 튜플 선언"
      ],
      "execution_count": null,
      "outputs": []
    },
    {
      "cell_type": "code",
      "metadata": {
        "id": "_KXLslSyUBgJ"
      },
      "source": [
        "# 1) 잘못된 튜플 선언 :"
      ],
      "execution_count": null,
      "outputs": []
    },
    {
      "cell_type": "code",
      "metadata": {
        "id": "P72cc-5WUETZ"
      },
      "source": [
        "tup = (100)"
      ],
      "execution_count": null,
      "outputs": []
    },
    {
      "cell_type": "code",
      "metadata": {
        "id": "yEd4jnAtUG2q",
        "colab": {
          "base_uri": "https://localhost:8080/"
        },
        "outputId": "1a6eee36-4910-4ddb-9168-66f4275a0dca"
      },
      "source": [
        "tup"
      ],
      "execution_count": null,
      "outputs": [
        {
          "output_type": "execute_result",
          "data": {
            "text/plain": [
              "100"
            ]
          },
          "metadata": {
            "tags": []
          },
          "execution_count": 120
        }
      ]
    },
    {
      "cell_type": "code",
      "metadata": {
        "id": "SyA1IlbHUHT7",
        "colab": {
          "base_uri": "https://localhost:8080/"
        },
        "outputId": "456637b7-b99f-4382-89a6-48eb20480108"
      },
      "source": [
        "type(tup)"
      ],
      "execution_count": null,
      "outputs": [
        {
          "output_type": "execute_result",
          "data": {
            "text/plain": [
              "int"
            ]
          },
          "metadata": {
            "tags": []
          },
          "execution_count": 121
        }
      ]
    },
    {
      "cell_type": "code",
      "metadata": {
        "id": "hRti7Lb4UH5P"
      },
      "source": [
        "# 2) 올바른 튜플 선언 : "
      ],
      "execution_count": null,
      "outputs": []
    },
    {
      "cell_type": "code",
      "metadata": {
        "id": "cLguPM6WUMbE"
      },
      "source": [
        "tup = (100,)"
      ],
      "execution_count": null,
      "outputs": []
    },
    {
      "cell_type": "code",
      "metadata": {
        "id": "2p5ZMxnfUOtV",
        "colab": {
          "base_uri": "https://localhost:8080/"
        },
        "outputId": "d0088a33-ce72-49e4-fc8b-3fcbb851412e"
      },
      "source": [
        "tup"
      ],
      "execution_count": null,
      "outputs": [
        {
          "output_type": "execute_result",
          "data": {
            "text/plain": [
              "(100,)"
            ]
          },
          "metadata": {
            "tags": []
          },
          "execution_count": 124
        }
      ]
    },
    {
      "cell_type": "code",
      "metadata": {
        "id": "JKRl39u0UPBE",
        "colab": {
          "base_uri": "https://localhost:8080/"
        },
        "outputId": "4f9785b9-dcad-4ad8-912d-68503807ff15"
      },
      "source": [
        "type(tup)"
      ],
      "execution_count": null,
      "outputs": [
        {
          "output_type": "execute_result",
          "data": {
            "text/plain": [
              "tuple"
            ]
          },
          "metadata": {
            "tags": []
          },
          "execution_count": 125
        }
      ]
    },
    {
      "cell_type": "code",
      "metadata": {
        "id": "EIEZNscrUP2v"
      },
      "source": [
        "# LAB 6-6 : 튜플의 생성과 패킹, 언패킹"
      ],
      "execution_count": null,
      "outputs": []
    },
    {
      "cell_type": "code",
      "metadata": {
        "id": "BWoXJWCaU3-B"
      },
      "source": [
        "# 1번"
      ],
      "execution_count": null,
      "outputs": []
    },
    {
      "cell_type": "code",
      "metadata": {
        "id": "cFaFUtmeU5-E"
      },
      "source": [
        "the_day = (1919,3,1)"
      ],
      "execution_count": null,
      "outputs": []
    },
    {
      "cell_type": "code",
      "metadata": {
        "id": "nAuzP2LWU9q2"
      },
      "source": [
        "year,month,day = the_day"
      ],
      "execution_count": null,
      "outputs": []
    },
    {
      "cell_type": "code",
      "metadata": {
        "id": "e_8tUOj-VDDE",
        "colab": {
          "base_uri": "https://localhost:8080/"
        },
        "outputId": "aa9d526c-bbc5-45ec-c0cd-3e41bceedcdb"
      },
      "source": [
        "print('{0}년 {1}월 {2}일은 삼일절입니다.'.format(year,month,day))"
      ],
      "execution_count": null,
      "outputs": [
        {
          "output_type": "stream",
          "text": [
            "1919년 3월 1일은 삼일절입니다.\n"
          ],
          "name": "stdout"
        }
      ]
    },
    {
      "cell_type": "code",
      "metadata": {
        "id": "s6sKqcpbVLDM"
      },
      "source": [
        "# 2번"
      ],
      "execution_count": null,
      "outputs": []
    },
    {
      "cell_type": "code",
      "metadata": {
        "id": "qam0CH-XVRU1",
        "colab": {
          "base_uri": "https://localhost:8080/"
        },
        "outputId": "78dbc1d1-01f8-452e-f0d3-a9c985d15f8f"
      },
      "source": [
        "list_a = [10,20,30]\n",
        "tuple_a = tuple(list_a)\n",
        "c,b,a = tuple_a\n",
        "print('a =',a)\n",
        "print('b =',b)\n",
        "print('c =',c)"
      ],
      "execution_count": null,
      "outputs": [
        {
          "output_type": "stream",
          "text": [
            "a = 30\n",
            "b = 20\n",
            "c = 10\n"
          ],
          "name": "stdout"
        }
      ]
    },
    {
      "cell_type": "code",
      "metadata": {
        "id": "AhHILzWGVwnY"
      },
      "source": [
        "# 6.7 튜플의 연산"
      ],
      "execution_count": null,
      "outputs": []
    },
    {
      "cell_type": "code",
      "metadata": {
        "id": "_2Uw7_sNV8sv"
      },
      "source": [
        "t0 = (10,20,30)"
      ],
      "execution_count": null,
      "outputs": []
    },
    {
      "cell_type": "code",
      "metadata": {
        "id": "1x11WiGvXPl6"
      },
      "source": [
        "t1 = t0 + t0"
      ],
      "execution_count": null,
      "outputs": []
    },
    {
      "cell_type": "code",
      "metadata": {
        "id": "sxrhF363XRwd",
        "colab": {
          "base_uri": "https://localhost:8080/"
        },
        "outputId": "579f45b7-702e-4a58-b8c2-bfadbdc44698"
      },
      "source": [
        "t1"
      ],
      "execution_count": null,
      "outputs": [
        {
          "output_type": "execute_result",
          "data": {
            "text/plain": [
              "(10, 20, 30, 10, 20, 30)"
            ]
          },
          "metadata": {
            "tags": []
          },
          "execution_count": 139
        }
      ]
    },
    {
      "cell_type": "code",
      "metadata": {
        "id": "uQ9p-3oFXSX4"
      },
      "source": [
        "t2 = t0 *2"
      ],
      "execution_count": null,
      "outputs": []
    },
    {
      "cell_type": "code",
      "metadata": {
        "id": "heQ6OFzUXUgs",
        "colab": {
          "base_uri": "https://localhost:8080/"
        },
        "outputId": "b35c4b74-8aa8-4658-cb7a-8a5e93804cf7"
      },
      "source": [
        "t2"
      ],
      "execution_count": null,
      "outputs": [
        {
          "output_type": "execute_result",
          "data": {
            "text/plain": [
              "(10, 20, 30, 10, 20, 30)"
            ]
          },
          "metadata": {
            "tags": []
          },
          "execution_count": 141
        }
      ]
    },
    {
      "cell_type": "code",
      "metadata": {
        "id": "hySBKNR-XU-V"
      },
      "source": [
        "t4 = t0 +(40,)"
      ],
      "execution_count": null,
      "outputs": []
    },
    {
      "cell_type": "code",
      "metadata": {
        "id": "GZTFNWCIXYPV",
        "colab": {
          "base_uri": "https://localhost:8080/"
        },
        "outputId": "6cfb961d-5b42-4adb-973b-ec543136508a"
      },
      "source": [
        "t4"
      ],
      "execution_count": null,
      "outputs": [
        {
          "output_type": "execute_result",
          "data": {
            "text/plain": [
              "(10, 20, 30, 40)"
            ]
          },
          "metadata": {
            "tags": []
          },
          "execution_count": 143
        }
      ]
    },
    {
      "cell_type": "code",
      "metadata": {
        "id": "94GYSbCmXYno"
      },
      "source": [
        "t = (10,20,30,20,20,10,50)"
      ],
      "execution_count": null,
      "outputs": []
    },
    {
      "cell_type": "code",
      "metadata": {
        "id": "jL4Ll-OQXfnY",
        "colab": {
          "base_uri": "https://localhost:8080/"
        },
        "outputId": "2f455e08-b2f2-43a5-ae86-686767ad655e"
      },
      "source": [
        "t.count(10)"
      ],
      "execution_count": null,
      "outputs": [
        {
          "output_type": "execute_result",
          "data": {
            "text/plain": [
              "2"
            ]
          },
          "metadata": {
            "tags": []
          },
          "execution_count": 145
        }
      ]
    },
    {
      "cell_type": "code",
      "metadata": {
        "id": "Mjh7xsUUXgn6"
      },
      "source": [
        "# LAB 6-7 : 튜플의 활용"
      ],
      "execution_count": null,
      "outputs": []
    },
    {
      "cell_type": "code",
      "metadata": {
        "id": "1JpzZBsbXkp5"
      },
      "source": [
        "# 1번"
      ],
      "execution_count": null,
      "outputs": []
    },
    {
      "cell_type": "code",
      "metadata": {
        "id": "nh_IjPKYXl-J"
      },
      "source": [
        "person = ('홍길동',2019001,179)"
      ],
      "execution_count": null,
      "outputs": []
    },
    {
      "cell_type": "code",
      "metadata": {
        "id": "0PKzyjYDX46v",
        "colab": {
          "base_uri": "https://localhost:8080/"
        },
        "outputId": "28762110-52a6-4449-f689-d69910e6f1e3"
      },
      "source": [
        "print('person =',person)"
      ],
      "execution_count": null,
      "outputs": [
        {
          "output_type": "stream",
          "text": [
            "person = ('홍길동', 2019001, 179)\n"
          ],
          "name": "stdout"
        }
      ]
    },
    {
      "cell_type": "code",
      "metadata": {
        "id": "VJG57RQXYlK2"
      },
      "source": [
        "# 2번"
      ],
      "execution_count": null,
      "outputs": []
    },
    {
      "cell_type": "code",
      "metadata": {
        "id": "52D4cvQxYmXK",
        "colab": {
          "base_uri": "https://localhost:8080/",
          "height": 176
        },
        "outputId": "f2288c8b-ab5c-4871-f5ae-c1db00cf7036"
      },
      "source": [
        "person[1] = 2019003"
      ],
      "execution_count": null,
      "outputs": [
        {
          "output_type": "error",
          "ename": "TypeError",
          "evalue": "ignored",
          "traceback": [
            "\u001b[0;31m---------------------------------------------------------------------------\u001b[0m",
            "\u001b[0;31mTypeError\u001b[0m                                 Traceback (most recent call last)",
            "\u001b[0;32m<ipython-input-162-4be21f748159>\u001b[0m in \u001b[0;36m<module>\u001b[0;34m()\u001b[0m\n\u001b[0;32m----> 1\u001b[0;31m \u001b[0mperson\u001b[0m\u001b[0;34m[\u001b[0m\u001b[0;36m1\u001b[0m\u001b[0;34m]\u001b[0m \u001b[0;34m=\u001b[0m \u001b[0;36m2019003\u001b[0m\u001b[0;34m\u001b[0m\u001b[0;34m\u001b[0m\u001b[0m\n\u001b[0m",
            "\u001b[0;31mTypeError\u001b[0m: 'tuple' object does not support item assignment"
          ]
        }
      ]
    },
    {
      "cell_type": "code",
      "metadata": {
        "id": "ekgVoaRpYKnv"
      },
      "source": [
        "# 3번"
      ],
      "execution_count": null,
      "outputs": []
    },
    {
      "cell_type": "code",
      "metadata": {
        "id": "stehhCtoX55d"
      },
      "source": [
        "person_list = list(person)"
      ],
      "execution_count": null,
      "outputs": []
    },
    {
      "cell_type": "code",
      "metadata": {
        "id": "iaPKiiK5YJ09"
      },
      "source": [
        "person_list[1] = 2019003"
      ],
      "execution_count": null,
      "outputs": []
    },
    {
      "cell_type": "code",
      "metadata": {
        "id": "G0YPHGM4YWuD"
      },
      "source": [
        "person = tuple(person_list)"
      ],
      "execution_count": null,
      "outputs": []
    },
    {
      "cell_type": "code",
      "metadata": {
        "id": "drC7N0aBYQ0v",
        "colab": {
          "base_uri": "https://localhost:8080/"
        },
        "outputId": "d68231b7-ec91-4af6-8566-03b1f19cbc79"
      },
      "source": [
        "print('학번 변동 후 person =',person)"
      ],
      "execution_count": null,
      "outputs": [
        {
          "output_type": "stream",
          "text": [
            "학번 변동 후 person = ('홍길동', 2019003, 179)\n"
          ],
          "name": "stdout"
        }
      ]
    },
    {
      "cell_type": "code",
      "metadata": {
        "id": "HFxbgB54YezV"
      },
      "source": [
        "# 6.8 함수 반환문과 튜플 활용"
      ],
      "execution_count": null,
      "outputs": []
    },
    {
      "cell_type": "code",
      "metadata": {
        "id": "HlmIhgmYZCUD"
      },
      "source": [
        "def area_and_circum(radius):\n",
        "  area = 3.14 * radius **2\n",
        "  circum = 2 * 3.14 * radius\n",
        "  return area, circum"
      ],
      "execution_count": null,
      "outputs": []
    },
    {
      "cell_type": "code",
      "metadata": {
        "id": "90Hydm9oZJzt"
      },
      "source": [
        "r = 4"
      ],
      "execution_count": null,
      "outputs": []
    },
    {
      "cell_type": "code",
      "metadata": {
        "id": "Kp0msrRJZPNg"
      },
      "source": [
        "a, c = area_and_circum(r)"
      ],
      "execution_count": null,
      "outputs": []
    },
    {
      "cell_type": "code",
      "metadata": {
        "id": "IjGtt66xZbE7",
        "colab": {
          "base_uri": "https://localhost:8080/"
        },
        "outputId": "420c1f8b-30c8-423c-87ff-05a218848727"
      },
      "source": [
        "a"
      ],
      "execution_count": null,
      "outputs": [
        {
          "output_type": "execute_result",
          "data": {
            "text/plain": [
              "50.24"
            ]
          },
          "metadata": {
            "tags": []
          },
          "execution_count": 169
        }
      ]
    },
    {
      "cell_type": "code",
      "metadata": {
        "id": "GvlE-wstZbrD",
        "colab": {
          "base_uri": "https://localhost:8080/"
        },
        "outputId": "eaf72590-bb21-4747-dce7-e09ed85e2c0c"
      },
      "source": [
        "c"
      ],
      "execution_count": null,
      "outputs": [
        {
          "output_type": "execute_result",
          "data": {
            "text/plain": [
              "25.12"
            ]
          },
          "metadata": {
            "tags": []
          },
          "execution_count": 170
        }
      ]
    },
    {
      "cell_type": "code",
      "metadata": {
        "id": "kIDPLBXzZTA6",
        "colab": {
          "base_uri": "https://localhost:8080/"
        },
        "outputId": "c93b5624-e6d2-4349-9daf-4f9865decf9b"
      },
      "source": [
        "print('반지름 {}인 원의 면적과 둘레 : {}, {}'.format(r,a,c))"
      ],
      "execution_count": null,
      "outputs": [
        {
          "output_type": "stream",
          "text": [
            "반지름 4인 원의 면적과 둘레 : 50.24, 25.12\n"
          ],
          "name": "stdout"
        }
      ]
    },
    {
      "cell_type": "code",
      "metadata": {
        "id": "q31tf09rZaPo"
      },
      "source": [
        "# LAB 6-8 : 튜플의 반환"
      ],
      "execution_count": null,
      "outputs": []
    },
    {
      "cell_type": "code",
      "metadata": {
        "id": "s4RVxnOQZf44"
      },
      "source": [
        "# 1번"
      ],
      "execution_count": null,
      "outputs": []
    },
    {
      "cell_type": "code",
      "metadata": {
        "id": "lXAnm-09aQVt"
      },
      "source": [
        "def square(x,y):\n",
        "  x제곱 = x ** 2\n",
        "  y제곱 = y ** 2\n",
        "  return x제곱, y제곱"
      ],
      "execution_count": null,
      "outputs": []
    },
    {
      "cell_type": "code",
      "metadata": {
        "id": "Gdr6qEPbZgxn",
        "colab": {
          "base_uri": "https://localhost:8080/"
        },
        "outputId": "c669dfdb-067f-43f6-bbb9-bbe1ecd202e0"
      },
      "source": [
        "x = 10\n",
        "y = 20\n",
        "x_sq, y_sq = square(x,y)\n",
        "print('{} 제곱 = {}, {} 제곱 = {}'.format(x, x_sq, y, y_sq))"
      ],
      "execution_count": null,
      "outputs": [
        {
          "output_type": "stream",
          "text": [
            "10 제곱 = 100, 20 제곱 = 400\n"
          ],
          "name": "stdout"
        }
      ]
    },
    {
      "cell_type": "code",
      "metadata": {
        "id": "lwInaYWoZrJh"
      },
      "source": [
        "# 2번"
      ],
      "execution_count": null,
      "outputs": []
    },
    {
      "cell_type": "code",
      "metadata": {
        "id": "6gmqX89tbMJ4",
        "colab": {
          "base_uri": "https://localhost:8080/"
        },
        "outputId": "a0526d86-457b-4cfb-bfde-5bbe58dd7140"
      },
      "source": [
        "(10,20,30) + (40,50,60)"
      ],
      "execution_count": null,
      "outputs": [
        {
          "output_type": "execute_result",
          "data": {
            "text/plain": [
              "(10, 20, 30, 40, 50, 60)"
            ]
          },
          "metadata": {
            "tags": []
          },
          "execution_count": 177
        }
      ]
    },
    {
      "cell_type": "code",
      "metadata": {
        "id": "eOazC9elbnMp"
      },
      "source": [
        "# 3번"
      ],
      "execution_count": null,
      "outputs": []
    },
    {
      "cell_type": "code",
      "metadata": {
        "id": "o8L1wqTdbwob",
        "colab": {
          "base_uri": "https://localhost:8080/"
        },
        "outputId": "f4939c3c-10fd-432f-c760-21b32c240327"
      },
      "source": [
        "print('Hello ' * 3)"
      ],
      "execution_count": null,
      "outputs": [
        {
          "output_type": "stream",
          "text": [
            "Hello Hello Hello \n"
          ],
          "name": "stdout"
        }
      ]
    },
    {
      "cell_type": "code",
      "metadata": {
        "id": "73MRW-Pab4Gp",
        "colab": {
          "base_uri": "https://localhost:8080/"
        },
        "outputId": "590852e9-b75d-46ec-9f93-c8e3ab28a08e"
      },
      "source": [
        "print(('Hello ',) * 3)"
      ],
      "execution_count": null,
      "outputs": [
        {
          "output_type": "stream",
          "text": [
            "('Hello ', 'Hello ', 'Hello ')\n"
          ],
          "name": "stdout"
        }
      ]
    },
    {
      "cell_type": "code",
      "metadata": {
        "id": "XjCZd7Zlb80q"
      },
      "source": [
        "# 두 출력문의 차이점 : 위의 출력문은 Hello라는 문자열의 단순한 반복이고 아래의 출력문은 Hello라는 문자열을 담은 하나의 요소를 가진 튜플을 반복한 출력문이다."
      ],
      "execution_count": null,
      "outputs": []
    },
    {
      "cell_type": "code",
      "metadata": {
        "id": "KgQp9ngA7JHP"
      },
      "source": [
        "# 6.9 집합 자료형"
      ],
      "execution_count": 1,
      "outputs": []
    },
    {
      "cell_type": "code",
      "metadata": {
        "id": "wC6KK_8V7Kxt"
      },
      "source": [
        "set0 = set()"
      ],
      "execution_count": 2,
      "outputs": []
    },
    {
      "cell_type": "code",
      "metadata": {
        "colab": {
          "base_uri": "https://localhost:8080/"
        },
        "id": "BsgCbajP7ctb",
        "outputId": "2445455a-2365-4f36-90ae-8d56917d2c29"
      },
      "source": [
        "set0"
      ],
      "execution_count": 3,
      "outputs": [
        {
          "output_type": "execute_result",
          "data": {
            "text/plain": [
              "set()"
            ]
          },
          "metadata": {
            "tags": []
          },
          "execution_count": 3
        }
      ]
    },
    {
      "cell_type": "code",
      "metadata": {
        "id": "4M95dW2i7dZF"
      },
      "source": [
        "set0 = {}"
      ],
      "execution_count": 4,
      "outputs": []
    },
    {
      "cell_type": "code",
      "metadata": {
        "colab": {
          "base_uri": "https://localhost:8080/"
        },
        "id": "pUOqXJh07fy_",
        "outputId": "7322394f-bc09-416e-e97c-5ea0eaaf3ce4"
      },
      "source": [
        "set0"
      ],
      "execution_count": 5,
      "outputs": [
        {
          "output_type": "execute_result",
          "data": {
            "text/plain": [
              "{}"
            ]
          },
          "metadata": {
            "tags": []
          },
          "execution_count": 5
        }
      ]
    },
    {
      "cell_type": "code",
      "metadata": {
        "colab": {
          "base_uri": "https://localhost:8080/"
        },
        "id": "FdGYfPli7gpv",
        "outputId": "ed247ab2-947f-4c32-b72f-a8de290a5bcc"
      },
      "source": [
        "type(set0)"
      ],
      "execution_count": 6,
      "outputs": [
        {
          "output_type": "execute_result",
          "data": {
            "text/plain": [
              "dict"
            ]
          },
          "metadata": {
            "tags": []
          },
          "execution_count": 6
        }
      ]
    },
    {
      "cell_type": "code",
      "metadata": {
        "id": "G64yLXWv7h3t"
      },
      "source": [
        "n_tuple = (1,2,3,4,2,3,4)"
      ],
      "execution_count": 7,
      "outputs": []
    },
    {
      "cell_type": "code",
      "metadata": {
        "id": "v4kl6u937ucW"
      },
      "source": [
        "set2 = set(n_tuple)"
      ],
      "execution_count": 8,
      "outputs": []
    },
    {
      "cell_type": "code",
      "metadata": {
        "colab": {
          "base_uri": "https://localhost:8080/"
        },
        "id": "tMo_b_u17wtN",
        "outputId": "41cbc258-6478-4fbe-d0c6-b61dde64a27d"
      },
      "source": [
        "set2"
      ],
      "execution_count": 9,
      "outputs": [
        {
          "output_type": "execute_result",
          "data": {
            "text/plain": [
              "{1, 2, 3, 4}"
            ]
          },
          "metadata": {
            "tags": []
          },
          "execution_count": 9
        }
      ]
    },
    {
      "cell_type": "code",
      "metadata": {
        "id": "SqHAZgF07xUi"
      },
      "source": [
        "h_str = 'hello'"
      ],
      "execution_count": 10,
      "outputs": []
    },
    {
      "cell_type": "code",
      "metadata": {
        "id": "YxWrz63y7zjl"
      },
      "source": [
        "h_set = set(h_str)"
      ],
      "execution_count": 11,
      "outputs": []
    },
    {
      "cell_type": "code",
      "metadata": {
        "colab": {
          "base_uri": "https://localhost:8080/"
        },
        "id": "ooAbZbkf71jP",
        "outputId": "8616add9-66e6-4fda-829e-a32285afee6c"
      },
      "source": [
        "h_set"
      ],
      "execution_count": 12,
      "outputs": [
        {
          "output_type": "execute_result",
          "data": {
            "text/plain": [
              "{'e', 'h', 'l', 'o'}"
            ]
          },
          "metadata": {
            "tags": []
          },
          "execution_count": 12
        }
      ]
    },
    {
      "cell_type": "code",
      "metadata": {
        "id": "qiwbrhuI72fj"
      },
      "source": [
        "# LAB 6-9 : 집합의 생성"
      ],
      "execution_count": 13,
      "outputs": []
    },
    {
      "cell_type": "code",
      "metadata": {
        "id": "iQ3WcH5F7-yT"
      },
      "source": [
        "# 1번"
      ],
      "execution_count": 14,
      "outputs": []
    },
    {
      "cell_type": "code",
      "metadata": {
        "id": "sEhnxYDT7_3O"
      },
      "source": [
        "lst = ['apple', 'mango', 'banana']"
      ],
      "execution_count": 15,
      "outputs": []
    },
    {
      "cell_type": "code",
      "metadata": {
        "id": "Dl7mT-ET8GEz"
      },
      "source": [
        "s1 = set(lst)"
      ],
      "execution_count": 17,
      "outputs": []
    },
    {
      "cell_type": "code",
      "metadata": {
        "colab": {
          "base_uri": "https://localhost:8080/"
        },
        "id": "8a47quSi8IpZ",
        "outputId": "dae5e95d-0247-4906-8e0e-966227f56a19"
      },
      "source": [
        "print('s1 =',s1)"
      ],
      "execution_count": 19,
      "outputs": [
        {
          "output_type": "stream",
          "text": [
            "s1 = {'banana', 'mango', 'apple'}\n"
          ],
          "name": "stdout"
        }
      ]
    },
    {
      "cell_type": "code",
      "metadata": {
        "id": "vqA7mrew8MsE"
      },
      "source": [
        "# 2번"
      ],
      "execution_count": 20,
      "outputs": []
    },
    {
      "cell_type": "code",
      "metadata": {
        "id": "7mvHyNc48R_Y"
      },
      "source": [
        "greet = 'Good afternoon'"
      ],
      "execution_count": 21,
      "outputs": []
    },
    {
      "cell_type": "code",
      "metadata": {
        "id": "ovdOV8Nw8VZH"
      },
      "source": [
        "s2 = set(greet)"
      ],
      "execution_count": 22,
      "outputs": []
    },
    {
      "cell_type": "code",
      "metadata": {
        "colab": {
          "base_uri": "https://localhost:8080/"
        },
        "id": "av5IQxLL8W3i",
        "outputId": "198da1c1-9e60-4459-c351-fa7cd11edd6d"
      },
      "source": [
        "print('s2 =',s2)"
      ],
      "execution_count": 23,
      "outputs": [
        {
          "output_type": "stream",
          "text": [
            "s2 = {'n', 'r', 't', 'a', 'G', 'o', ' ', 'e', 'f', 'd'}\n"
          ],
          "name": "stdout"
        }
      ]
    },
    {
      "cell_type": "code",
      "metadata": {
        "id": "x-NTdQhV8Yv5"
      },
      "source": [
        "# 6.10 집합의 메소드"
      ],
      "execution_count": 24,
      "outputs": []
    },
    {
      "cell_type": "code",
      "metadata": {
        "id": "kqt8LycJ8hjn"
      },
      "source": [
        "s = {100,100,200,200,300,400}"
      ],
      "execution_count": 25,
      "outputs": []
    },
    {
      "cell_type": "code",
      "metadata": {
        "colab": {
          "base_uri": "https://localhost:8080/"
        },
        "id": "3wd3VibU8rfT",
        "outputId": "d32ce64a-4121-45b7-de2b-2de57fdc0179"
      },
      "source": [
        "s"
      ],
      "execution_count": 26,
      "outputs": [
        {
          "output_type": "execute_result",
          "data": {
            "text/plain": [
              "{100, 200, 300, 400}"
            ]
          },
          "metadata": {
            "tags": []
          },
          "execution_count": 26
        }
      ]
    },
    {
      "cell_type": "code",
      "metadata": {
        "id": "zAgNp5T88ruC"
      },
      "source": [
        "s.add(500)"
      ],
      "execution_count": 27,
      "outputs": []
    },
    {
      "cell_type": "code",
      "metadata": {
        "colab": {
          "base_uri": "https://localhost:8080/"
        },
        "id": "bZSS7ZDP8tJ0",
        "outputId": "72b2be8f-cde4-47cc-8859-bce7400c1fc7"
      },
      "source": [
        "s"
      ],
      "execution_count": 28,
      "outputs": [
        {
          "output_type": "execute_result",
          "data": {
            "text/plain": [
              "{100, 200, 300, 400, 500}"
            ]
          },
          "metadata": {
            "tags": []
          },
          "execution_count": 28
        }
      ]
    },
    {
      "cell_type": "code",
      "metadata": {
        "id": "SWJHIO2G8tay"
      },
      "source": [
        "s.discard(100)"
      ],
      "execution_count": 29,
      "outputs": []
    },
    {
      "cell_type": "code",
      "metadata": {
        "colab": {
          "base_uri": "https://localhost:8080/"
        },
        "id": "sWN-x4ur8v0F",
        "outputId": "9d76f658-da70-49c1-a8cd-1798546a71be"
      },
      "source": [
        "s"
      ],
      "execution_count": 30,
      "outputs": [
        {
          "output_type": "execute_result",
          "data": {
            "text/plain": [
              "{200, 300, 400, 500}"
            ]
          },
          "metadata": {
            "tags": []
          },
          "execution_count": 30
        }
      ]
    },
    {
      "cell_type": "code",
      "metadata": {
        "id": "7Ui_FuOn8wNK"
      },
      "source": [
        "s1 = {1,2,3,4,5,6}"
      ],
      "execution_count": 31,
      "outputs": []
    },
    {
      "cell_type": "code",
      "metadata": {
        "id": "KfgAvvRk82hb"
      },
      "source": [
        "s2 = {4,5,6,7,8,9}"
      ],
      "execution_count": 32,
      "outputs": []
    },
    {
      "cell_type": "code",
      "metadata": {
        "colab": {
          "base_uri": "https://localhost:8080/"
        },
        "id": "ms4M0J8J84K2",
        "outputId": "f5334598-0153-40ee-f1ce-c31391f2267a"
      },
      "source": [
        "s1.union(s2)"
      ],
      "execution_count": 33,
      "outputs": [
        {
          "output_type": "execute_result",
          "data": {
            "text/plain": [
              "{1, 2, 3, 4, 5, 6, 7, 8, 9}"
            ]
          },
          "metadata": {
            "tags": []
          },
          "execution_count": 33
        }
      ]
    },
    {
      "cell_type": "code",
      "metadata": {
        "colab": {
          "base_uri": "https://localhost:8080/"
        },
        "id": "fwxKK9NN850a",
        "outputId": "409253f7-8893-4d7d-d6b9-125f7dfc9873"
      },
      "source": [
        "s1|s2"
      ],
      "execution_count": 34,
      "outputs": [
        {
          "output_type": "execute_result",
          "data": {
            "text/plain": [
              "{1, 2, 3, 4, 5, 6, 7, 8, 9}"
            ]
          },
          "metadata": {
            "tags": []
          },
          "execution_count": 34
        }
      ]
    },
    {
      "cell_type": "code",
      "metadata": {
        "colab": {
          "base_uri": "https://localhost:8080/"
        },
        "id": "kx-9yplC88pd",
        "outputId": "f7512404-b73b-4917-ade3-4c638dd00aaf"
      },
      "source": [
        "s1 & s2"
      ],
      "execution_count": 35,
      "outputs": [
        {
          "output_type": "execute_result",
          "data": {
            "text/plain": [
              "{4, 5, 6}"
            ]
          },
          "metadata": {
            "tags": []
          },
          "execution_count": 35
        }
      ]
    },
    {
      "cell_type": "code",
      "metadata": {
        "colab": {
          "base_uri": "https://localhost:8080/"
        },
        "id": "vLeYQhsO8_GM",
        "outputId": "295110d6-f8e4-4640-ef95-d92804e18e83"
      },
      "source": [
        "s1.intersection(s2)"
      ],
      "execution_count": 36,
      "outputs": [
        {
          "output_type": "execute_result",
          "data": {
            "text/plain": [
              "{4, 5, 6}"
            ]
          },
          "metadata": {
            "tags": []
          },
          "execution_count": 36
        }
      ]
    },
    {
      "cell_type": "code",
      "metadata": {
        "colab": {
          "base_uri": "https://localhost:8080/"
        },
        "id": "f8c9tHCq9Bgq",
        "outputId": "fc95ef05-ab5b-42d3-de2d-3449b2a404a2"
      },
      "source": [
        "s1-s2"
      ],
      "execution_count": 37,
      "outputs": [
        {
          "output_type": "execute_result",
          "data": {
            "text/plain": [
              "{1, 2, 3}"
            ]
          },
          "metadata": {
            "tags": []
          },
          "execution_count": 37
        }
      ]
    },
    {
      "cell_type": "code",
      "metadata": {
        "colab": {
          "base_uri": "https://localhost:8080/"
        },
        "id": "QQXJJxty9DRe",
        "outputId": "25b108b5-289b-494a-9754-7595427e74d0"
      },
      "source": [
        "s1.difference(s2)"
      ],
      "execution_count": 39,
      "outputs": [
        {
          "output_type": "execute_result",
          "data": {
            "text/plain": [
              "{1, 2, 3}"
            ]
          },
          "metadata": {
            "tags": []
          },
          "execution_count": 39
        }
      ]
    },
    {
      "cell_type": "code",
      "metadata": {
        "colab": {
          "base_uri": "https://localhost:8080/"
        },
        "id": "FFAtfyyh9Hm_",
        "outputId": "7c532f71-3992-4cbb-9f36-e864e3ba245b"
      },
      "source": [
        "s1 ^ s2"
      ],
      "execution_count": 40,
      "outputs": [
        {
          "output_type": "execute_result",
          "data": {
            "text/plain": [
              "{1, 2, 3, 7, 8, 9}"
            ]
          },
          "metadata": {
            "tags": []
          },
          "execution_count": 40
        }
      ]
    },
    {
      "cell_type": "code",
      "metadata": {
        "colab": {
          "base_uri": "https://localhost:8080/"
        },
        "id": "rwPeqKUW9L59",
        "outputId": "1caf8876-0d6b-4fff-c502-2c6e16f506ad"
      },
      "source": [
        "s1.symmetric_difference(s2)"
      ],
      "execution_count": 41,
      "outputs": [
        {
          "output_type": "execute_result",
          "data": {
            "text/plain": [
              "{1, 2, 3, 7, 8, 9}"
            ]
          },
          "metadata": {
            "tags": []
          },
          "execution_count": 41
        }
      ]
    },
    {
      "cell_type": "code",
      "metadata": {
        "id": "UT8cFHSH9Qjh"
      },
      "source": [
        "s3 = {5,6,9,10,11}"
      ],
      "execution_count": 42,
      "outputs": []
    },
    {
      "cell_type": "code",
      "metadata": {
        "colab": {
          "base_uri": "https://localhost:8080/"
        },
        "id": "mxm919KD9c0K",
        "outputId": "f48a42de-c2ee-494a-eddd-8ba94dd85a0c"
      },
      "source": [
        "s1 & s2 & s3"
      ],
      "execution_count": 43,
      "outputs": [
        {
          "output_type": "execute_result",
          "data": {
            "text/plain": [
              "{5, 6}"
            ]
          },
          "metadata": {
            "tags": []
          },
          "execution_count": 43
        }
      ]
    },
    {
      "cell_type": "code",
      "metadata": {
        "id": "NYheBJJu9evh"
      },
      "source": [
        "s1 = {1,2,3,4,5}"
      ],
      "execution_count": 44,
      "outputs": []
    },
    {
      "cell_type": "code",
      "metadata": {
        "id": "xpr-KD8d9gqs"
      },
      "source": [
        "s2 = {1,2,3}"
      ],
      "execution_count": 45,
      "outputs": []
    },
    {
      "cell_type": "code",
      "metadata": {
        "id": "3wCPqFOR9iDm"
      },
      "source": [
        "s3 = {1,2,6}"
      ],
      "execution_count": 46,
      "outputs": []
    },
    {
      "cell_type": "code",
      "metadata": {
        "colab": {
          "base_uri": "https://localhost:8080/"
        },
        "id": "OUlUcYht9jdu",
        "outputId": "52bf3fb0-c73a-45e0-e714-a60263c1b388"
      },
      "source": [
        "s2.issubset(s1)"
      ],
      "execution_count": 47,
      "outputs": [
        {
          "output_type": "execute_result",
          "data": {
            "text/plain": [
              "True"
            ]
          },
          "metadata": {
            "tags": []
          },
          "execution_count": 47
        }
      ]
    },
    {
      "cell_type": "code",
      "metadata": {
        "colab": {
          "base_uri": "https://localhost:8080/"
        },
        "id": "8T-O2GmJ9laY",
        "outputId": "a26f0b7d-cdfb-4077-cd38-d1870e392fc4"
      },
      "source": [
        "s1.issuperset(s2)"
      ],
      "execution_count": 48,
      "outputs": [
        {
          "output_type": "execute_result",
          "data": {
            "text/plain": [
              "True"
            ]
          },
          "metadata": {
            "tags": []
          },
          "execution_count": 48
        }
      ]
    },
    {
      "cell_type": "code",
      "metadata": {
        "id": "YAR4oYZT-Il-"
      },
      "source": [
        "s1 = {1,2,3}"
      ],
      "execution_count": 58,
      "outputs": []
    },
    {
      "cell_type": "code",
      "metadata": {
        "id": "ElLvZ3pj-LZT"
      },
      "source": [
        "s2 = {10,20,30}"
      ],
      "execution_count": 59,
      "outputs": []
    },
    {
      "cell_type": "code",
      "metadata": {
        "colab": {
          "base_uri": "https://localhost:8080/"
        },
        "id": "6AZM1OoK9sx6",
        "outputId": "c7ac688b-0e7e-4b94-ef34-435381da120f"
      },
      "source": [
        "s1.isdisjoint(s2)"
      ],
      "execution_count": 60,
      "outputs": [
        {
          "output_type": "execute_result",
          "data": {
            "text/plain": [
              "True"
            ]
          },
          "metadata": {
            "tags": []
          },
          "execution_count": 60
        }
      ]
    },
    {
      "cell_type": "code",
      "metadata": {
        "id": "v1Wl3elJ9vP4"
      },
      "source": [
        "# LAB 6-10 : 집합의 연산"
      ],
      "execution_count": 50,
      "outputs": []
    },
    {
      "cell_type": "code",
      "metadata": {
        "id": "DAshwf_m91Od"
      },
      "source": [
        "# 1번"
      ],
      "execution_count": 51,
      "outputs": []
    },
    {
      "cell_type": "code",
      "metadata": {
        "id": "mrOchemK92jv"
      },
      "source": [
        "s1 = {10,20,30,40}"
      ],
      "execution_count": 61,
      "outputs": []
    },
    {
      "cell_type": "code",
      "metadata": {
        "id": "_TB_GODh94V9"
      },
      "source": [
        "s2 = {30,40,50,60,70}"
      ],
      "execution_count": 62,
      "outputs": []
    },
    {
      "cell_type": "code",
      "metadata": {
        "colab": {
          "base_uri": "https://localhost:8080/"
        },
        "id": "F23iyONp95-d",
        "outputId": "08d233cf-a051-4ee3-ff87-543d80ea0f83"
      },
      "source": [
        "s1 | s2"
      ],
      "execution_count": 63,
      "outputs": [
        {
          "output_type": "execute_result",
          "data": {
            "text/plain": [
              "{10, 20, 30, 40, 50, 60, 70}"
            ]
          },
          "metadata": {
            "tags": []
          },
          "execution_count": 63
        }
      ]
    },
    {
      "cell_type": "code",
      "metadata": {
        "colab": {
          "base_uri": "https://localhost:8080/"
        },
        "id": "D78hIW0U97OP",
        "outputId": "aebff83d-6544-4771-8a08-5c734a4653f8"
      },
      "source": [
        "s1 & s2"
      ],
      "execution_count": 64,
      "outputs": [
        {
          "output_type": "execute_result",
          "data": {
            "text/plain": [
              "{30, 40}"
            ]
          },
          "metadata": {
            "tags": []
          },
          "execution_count": 64
        }
      ]
    },
    {
      "cell_type": "code",
      "metadata": {
        "colab": {
          "base_uri": "https://localhost:8080/"
        },
        "id": "jkaM-sNM9-iZ",
        "outputId": "eb479024-cdd7-4746-a3cc-f7845b436309"
      },
      "source": [
        "s1 - s2"
      ],
      "execution_count": 65,
      "outputs": [
        {
          "output_type": "execute_result",
          "data": {
            "text/plain": [
              "{10, 20}"
            ]
          },
          "metadata": {
            "tags": []
          },
          "execution_count": 65
        }
      ]
    },
    {
      "cell_type": "code",
      "metadata": {
        "colab": {
          "base_uri": "https://localhost:8080/"
        },
        "id": "-Evg9RcT-A_7",
        "outputId": "176a1a3f-3f7d-4595-fa11-28a5cd67c598"
      },
      "source": [
        "s1 ^ s2"
      ],
      "execution_count": 66,
      "outputs": [
        {
          "output_type": "execute_result",
          "data": {
            "text/plain": [
              "{10, 20, 50, 60, 70}"
            ]
          },
          "metadata": {
            "tags": []
          },
          "execution_count": 66
        }
      ]
    },
    {
      "cell_type": "code",
      "metadata": {
        "colab": {
          "base_uri": "https://localhost:8080/"
        },
        "id": "Q_3lS7Cp-C7j",
        "outputId": "f3dcd575-90cb-4252-fb61-79f4ea33c352"
      },
      "source": [
        "s1.issubset(s2)"
      ],
      "execution_count": 67,
      "outputs": [
        {
          "output_type": "execute_result",
          "data": {
            "text/plain": [
              "False"
            ]
          },
          "metadata": {
            "tags": []
          },
          "execution_count": 67
        }
      ]
    },
    {
      "cell_type": "code",
      "metadata": {
        "colab": {
          "base_uri": "https://localhost:8080/"
        },
        "id": "4-Y9Mtj0-Sl8",
        "outputId": "abc1ab92-07ab-40db-e696-8e6759093bfb"
      },
      "source": [
        "s1.issuperset(s2)"
      ],
      "execution_count": 69,
      "outputs": [
        {
          "output_type": "execute_result",
          "data": {
            "text/plain": [
              "False"
            ]
          },
          "metadata": {
            "tags": []
          },
          "execution_count": 69
        }
      ]
    },
    {
      "cell_type": "code",
      "metadata": {
        "colab": {
          "base_uri": "https://localhost:8080/"
        },
        "id": "n1o4eIcV-VaG",
        "outputId": "380384bf-c9bd-4e07-c927-1a51a6f717eb"
      },
      "source": [
        "s1.isdisjoint(s2)"
      ],
      "execution_count": 70,
      "outputs": [
        {
          "output_type": "execute_result",
          "data": {
            "text/plain": [
              "False"
            ]
          },
          "metadata": {
            "tags": []
          },
          "execution_count": 70
        }
      ]
    },
    {
      "cell_type": "code",
      "metadata": {
        "id": "Za2_9Cwd-ZJV"
      },
      "source": [
        "# 6.11 곱집합"
      ],
      "execution_count": 71,
      "outputs": []
    },
    {
      "cell_type": "code",
      "metadata": {
        "id": "qSQ2HSd4-oH3"
      },
      "source": [
        "def product_set(set1,set2):\n",
        "  res = set()\n",
        "  for i in set1:\n",
        "    for j in set2:\n",
        "      res = res|{(i,j)}\n",
        "  return res"
      ],
      "execution_count": 77,
      "outputs": []
    },
    {
      "cell_type": "code",
      "metadata": {
        "id": "plVdG3yq-_W_"
      },
      "source": [
        "A = {1,3}\n",
        "B = {2,4}\n",
        "AXB = product_set(A,B)"
      ],
      "execution_count": 78,
      "outputs": []
    },
    {
      "cell_type": "code",
      "metadata": {
        "colab": {
          "base_uri": "https://localhost:8080/"
        },
        "id": "1POLpK87_eFV",
        "outputId": "54773268-350b-456a-c832-c47b3efff29a"
      },
      "source": [
        "AXB"
      ],
      "execution_count": 79,
      "outputs": [
        {
          "output_type": "execute_result",
          "data": {
            "text/plain": [
              "{(1, 2), (1, 4), (3, 2), (3, 4)}"
            ]
          },
          "metadata": {
            "tags": []
          },
          "execution_count": 79
        }
      ]
    },
    {
      "cell_type": "code",
      "metadata": {
        "id": "APq9QHp--_SO"
      },
      "source": [
        "# LAB 6-11 : 곱집합 연산"
      ],
      "execution_count": 72,
      "outputs": []
    },
    {
      "cell_type": "code",
      "metadata": {
        "id": "fHnTGaL7_CgL"
      },
      "source": [
        "# 1번"
      ],
      "execution_count": 73,
      "outputs": []
    },
    {
      "cell_type": "code",
      "metadata": {
        "id": "XqJaa_vZ_zqS"
      },
      "source": [
        "def product_set(set1,set2):\n",
        "  res = set()\n",
        "  for i in set1:\n",
        "    for j in set2:\n",
        "      res = res|{(i,j)}\n",
        "  return res"
      ],
      "execution_count": 82,
      "outputs": []
    },
    {
      "cell_type": "code",
      "metadata": {
        "id": "q2-VfIAT_Dgm"
      },
      "source": [
        "A = {1,2}"
      ],
      "execution_count": 83,
      "outputs": []
    },
    {
      "cell_type": "code",
      "metadata": {
        "id": "tdR9A1Qp_FJy"
      },
      "source": [
        "B = {'A','B','C'}"
      ],
      "execution_count": 84,
      "outputs": []
    },
    {
      "cell_type": "code",
      "metadata": {
        "id": "K4t7fQtE_H7s"
      },
      "source": [
        "AXB = product_set(A,B)\n",
        "BXA = product_set(B,A)\n",
        "AXA = product_set(A,A)\n",
        "BXB = product_set(B,B)"
      ],
      "execution_count": 85,
      "outputs": []
    },
    {
      "cell_type": "code",
      "metadata": {
        "colab": {
          "base_uri": "https://localhost:8080/"
        },
        "id": "MXQJbEyWAC22",
        "outputId": "d9d176f4-1eb6-4079-fcfb-8470c0cbc07f"
      },
      "source": [
        "print('1) AXB =',AXB)\n",
        "print('2) BXA =',BXA)\n",
        "print('3) AXA =',AXA)\n",
        "print('4) BXB =',BXB)"
      ],
      "execution_count": 86,
      "outputs": [
        {
          "output_type": "stream",
          "text": [
            "1) AXB = {(2, 'C'), (2, 'B'), (1, 'C'), (1, 'B'), (1, 'A'), (2, 'A')}\n",
            "2) BXA = {('A', 2), ('B', 2), ('C', 1), ('B', 1), ('A', 1), ('C', 2)}\n",
            "3) AXA = {(1, 2), (1, 1), (2, 1), (2, 2)}\n",
            "4) BXB = {('A', 'B'), ('A', 'C'), ('C', 'C'), ('C', 'B'), ('B', 'C'), ('B', 'B'), ('B', 'A'), ('C', 'A'), ('A', 'A')}\n"
          ],
          "name": "stdout"
        }
      ]
    },
    {
      "cell_type": "code",
      "metadata": {
        "id": "zb6-dj7VARqb"
      },
      "source": [
        "# 곱집합"
      ],
      "execution_count": 87,
      "outputs": []
    },
    {
      "cell_type": "code",
      "metadata": {
        "id": "prvulktLAX6j"
      },
      "source": [
        "def exp(input_set,exponent):\n",
        "  res = input_set\n",
        "  for _ in range(exponent-1):\n",
        "    res = product_set(res,input_set)\n",
        "  return res"
      ],
      "execution_count": 88,
      "outputs": []
    },
    {
      "cell_type": "code",
      "metadata": {
        "id": "qWcLrP4XAqH1"
      },
      "source": [
        "A = {1,3}\n",
        "A3 = exp(A,3)"
      ],
      "execution_count": 90,
      "outputs": []
    },
    {
      "cell_type": "code",
      "metadata": {
        "colab": {
          "base_uri": "https://localhost:8080/"
        },
        "id": "9t6r_Db6AvaJ",
        "outputId": "7b472003-3c2a-4231-ee11-721a44ce032f"
      },
      "source": [
        "A3"
      ],
      "execution_count": 91,
      "outputs": [
        {
          "output_type": "execute_result",
          "data": {
            "text/plain": [
              "{((1, 1), 1),\n",
              " ((1, 1), 3),\n",
              " ((1, 3), 1),\n",
              " ((1, 3), 3),\n",
              " ((3, 1), 1),\n",
              " ((3, 1), 3),\n",
              " ((3, 3), 1),\n",
              " ((3, 3), 3)}"
            ]
          },
          "metadata": {
            "tags": []
          },
          "execution_count": 91
        }
      ]
    },
    {
      "cell_type": "code",
      "metadata": {
        "id": "64SOQAztAzXH"
      },
      "source": [
        "def product_set(set1,set2):\n",
        "  res = set()\n",
        "  for i in set1:\n",
        "    for j in set2:\n",
        "      res = res | {(i,j)}\n",
        "  return res"
      ],
      "execution_count": 92,
      "outputs": []
    },
    {
      "cell_type": "code",
      "metadata": {
        "colab": {
          "base_uri": "https://localhost:8080/"
        },
        "id": "JDPqlfgoBRha",
        "outputId": "20f07c53-8b3c-4786-f0a3-15a81dd0d2f8"
      },
      "source": [
        "cases = {1,2,3,4,5,6}\n",
        "cases_2times = product_set(cases,cases)\n",
        "cases_2times"
      ],
      "execution_count": 94,
      "outputs": [
        {
          "output_type": "execute_result",
          "data": {
            "text/plain": [
              "{(1, 1),\n",
              " (1, 2),\n",
              " (1, 3),\n",
              " (1, 4),\n",
              " (1, 5),\n",
              " (1, 6),\n",
              " (2, 1),\n",
              " (2, 2),\n",
              " (2, 3),\n",
              " (2, 4),\n",
              " (2, 5),\n",
              " (2, 6),\n",
              " (3, 1),\n",
              " (3, 2),\n",
              " (3, 3),\n",
              " (3, 4),\n",
              " (3, 5),\n",
              " (3, 6),\n",
              " (4, 1),\n",
              " (4, 2),\n",
              " (4, 3),\n",
              " (4, 4),\n",
              " (4, 5),\n",
              " (4, 6),\n",
              " (5, 1),\n",
              " (5, 2),\n",
              " (5, 3),\n",
              " (5, 4),\n",
              " (5, 5),\n",
              " (5, 6),\n",
              " (6, 1),\n",
              " (6, 2),\n",
              " (6, 3),\n",
              " (6, 4),\n",
              " (6, 5),\n",
              " (6, 6)}"
            ]
          },
          "metadata": {
            "tags": []
          },
          "execution_count": 94
        }
      ]
    },
    {
      "cell_type": "code",
      "metadata": {
        "colab": {
          "base_uri": "https://localhost:8080/"
        },
        "id": "UoyVX1yqBY69",
        "outputId": "632cc37b-2ae9-4767-d351-80278a2dcf15"
      },
      "source": [
        "{sum(tuple_element) for tuple_element in cases_2times}\n"
      ],
      "execution_count": 98,
      "outputs": [
        {
          "output_type": "execute_result",
          "data": {
            "text/plain": [
              "{2, 3, 4, 5, 6, 7, 8, 9, 10, 11, 12}"
            ]
          },
          "metadata": {
            "tags": []
          },
          "execution_count": 98
        }
      ]
    },
    {
      "cell_type": "code",
      "metadata": {
        "colab": {
          "base_uri": "https://localhost:8080/"
        },
        "id": "ddTmsBr2CPQK",
        "outputId": "5c98756e-c296-4faa-aad1-c22d50201a97"
      },
      "source": [
        "[sum(tuple_element) for tuple_element in cases_2times]"
      ],
      "execution_count": 99,
      "outputs": [
        {
          "output_type": "execute_result",
          "data": {
            "text/plain": [
              "[4,\n",
              " 12,\n",
              " 11,\n",
              " 3,\n",
              " 8,\n",
              " 7,\n",
              " 6,\n",
              " 7,\n",
              " 3,\n",
              " 6,\n",
              " 10,\n",
              " 8,\n",
              " 9,\n",
              " 6,\n",
              " 9,\n",
              " 4,\n",
              " 7,\n",
              " 5,\n",
              " 2,\n",
              " 10,\n",
              " 5,\n",
              " 8,\n",
              " 9,\n",
              " 9,\n",
              " 5,\n",
              " 5,\n",
              " 6,\n",
              " 11,\n",
              " 8,\n",
              " 8,\n",
              " 10,\n",
              " 7,\n",
              " 4,\n",
              " 7,\n",
              " 7,\n",
              " 6]"
            ]
          },
          "metadata": {
            "tags": []
          },
          "execution_count": 99
        }
      ]
    },
    {
      "cell_type": "code",
      "metadata": {
        "colab": {
          "base_uri": "https://localhost:8080/"
        },
        "id": "G7M0LU09DEs9",
        "outputId": "6b7ef74c-a5fe-4696-c275-7f6c8fcd17ed"
      },
      "source": [
        "sum_set = {sum(tup) for tup in cases_2times}\n",
        "print('sum_set =',sum_set)\n",
        "sum_list = [sum(tup) for tup in cases_2times]\n",
        "print('sum_list =',sum_list)"
      ],
      "execution_count": 100,
      "outputs": [
        {
          "output_type": "stream",
          "text": [
            "sum_set = {2, 3, 4, 5, 6, 7, 8, 9, 10, 11, 12}\n",
            "sum_list = [4, 12, 11, 3, 8, 7, 6, 7, 3, 6, 10, 8, 9, 6, 9, 4, 7, 5, 2, 10, 5, 8, 9, 9, 5, 5, 6, 11, 8, 8, 10, 7, 4, 7, 7, 6]\n"
          ],
          "name": "stdout"
        }
      ]
    },
    {
      "cell_type": "code",
      "metadata": {
        "id": "kpP9qudGDpOW"
      },
      "source": [
        "cases_3times = product_set(cases,cases_2times)"
      ],
      "execution_count": 101,
      "outputs": []
    },
    {
      "cell_type": "code",
      "metadata": {
        "colab": {
          "base_uri": "https://localhost:8080/"
        },
        "id": "2xxZQnfhDvp7",
        "outputId": "82861b6d-3abd-4154-e5b5-fa4f3ca9870e"
      },
      "source": [
        "cases_3times"
      ],
      "execution_count": 102,
      "outputs": [
        {
          "output_type": "execute_result",
          "data": {
            "text/plain": [
              "{(1, (1, 1)),\n",
              " (1, (1, 2)),\n",
              " (1, (1, 3)),\n",
              " (1, (1, 4)),\n",
              " (1, (1, 5)),\n",
              " (1, (1, 6)),\n",
              " (1, (2, 1)),\n",
              " (1, (2, 2)),\n",
              " (1, (2, 3)),\n",
              " (1, (2, 4)),\n",
              " (1, (2, 5)),\n",
              " (1, (2, 6)),\n",
              " (1, (3, 1)),\n",
              " (1, (3, 2)),\n",
              " (1, (3, 3)),\n",
              " (1, (3, 4)),\n",
              " (1, (3, 5)),\n",
              " (1, (3, 6)),\n",
              " (1, (4, 1)),\n",
              " (1, (4, 2)),\n",
              " (1, (4, 3)),\n",
              " (1, (4, 4)),\n",
              " (1, (4, 5)),\n",
              " (1, (4, 6)),\n",
              " (1, (5, 1)),\n",
              " (1, (5, 2)),\n",
              " (1, (5, 3)),\n",
              " (1, (5, 4)),\n",
              " (1, (5, 5)),\n",
              " (1, (5, 6)),\n",
              " (1, (6, 1)),\n",
              " (1, (6, 2)),\n",
              " (1, (6, 3)),\n",
              " (1, (6, 4)),\n",
              " (1, (6, 5)),\n",
              " (1, (6, 6)),\n",
              " (2, (1, 1)),\n",
              " (2, (1, 2)),\n",
              " (2, (1, 3)),\n",
              " (2, (1, 4)),\n",
              " (2, (1, 5)),\n",
              " (2, (1, 6)),\n",
              " (2, (2, 1)),\n",
              " (2, (2, 2)),\n",
              " (2, (2, 3)),\n",
              " (2, (2, 4)),\n",
              " (2, (2, 5)),\n",
              " (2, (2, 6)),\n",
              " (2, (3, 1)),\n",
              " (2, (3, 2)),\n",
              " (2, (3, 3)),\n",
              " (2, (3, 4)),\n",
              " (2, (3, 5)),\n",
              " (2, (3, 6)),\n",
              " (2, (4, 1)),\n",
              " (2, (4, 2)),\n",
              " (2, (4, 3)),\n",
              " (2, (4, 4)),\n",
              " (2, (4, 5)),\n",
              " (2, (4, 6)),\n",
              " (2, (5, 1)),\n",
              " (2, (5, 2)),\n",
              " (2, (5, 3)),\n",
              " (2, (5, 4)),\n",
              " (2, (5, 5)),\n",
              " (2, (5, 6)),\n",
              " (2, (6, 1)),\n",
              " (2, (6, 2)),\n",
              " (2, (6, 3)),\n",
              " (2, (6, 4)),\n",
              " (2, (6, 5)),\n",
              " (2, (6, 6)),\n",
              " (3, (1, 1)),\n",
              " (3, (1, 2)),\n",
              " (3, (1, 3)),\n",
              " (3, (1, 4)),\n",
              " (3, (1, 5)),\n",
              " (3, (1, 6)),\n",
              " (3, (2, 1)),\n",
              " (3, (2, 2)),\n",
              " (3, (2, 3)),\n",
              " (3, (2, 4)),\n",
              " (3, (2, 5)),\n",
              " (3, (2, 6)),\n",
              " (3, (3, 1)),\n",
              " (3, (3, 2)),\n",
              " (3, (3, 3)),\n",
              " (3, (3, 4)),\n",
              " (3, (3, 5)),\n",
              " (3, (3, 6)),\n",
              " (3, (4, 1)),\n",
              " (3, (4, 2)),\n",
              " (3, (4, 3)),\n",
              " (3, (4, 4)),\n",
              " (3, (4, 5)),\n",
              " (3, (4, 6)),\n",
              " (3, (5, 1)),\n",
              " (3, (5, 2)),\n",
              " (3, (5, 3)),\n",
              " (3, (5, 4)),\n",
              " (3, (5, 5)),\n",
              " (3, (5, 6)),\n",
              " (3, (6, 1)),\n",
              " (3, (6, 2)),\n",
              " (3, (6, 3)),\n",
              " (3, (6, 4)),\n",
              " (3, (6, 5)),\n",
              " (3, (6, 6)),\n",
              " (4, (1, 1)),\n",
              " (4, (1, 2)),\n",
              " (4, (1, 3)),\n",
              " (4, (1, 4)),\n",
              " (4, (1, 5)),\n",
              " (4, (1, 6)),\n",
              " (4, (2, 1)),\n",
              " (4, (2, 2)),\n",
              " (4, (2, 3)),\n",
              " (4, (2, 4)),\n",
              " (4, (2, 5)),\n",
              " (4, (2, 6)),\n",
              " (4, (3, 1)),\n",
              " (4, (3, 2)),\n",
              " (4, (3, 3)),\n",
              " (4, (3, 4)),\n",
              " (4, (3, 5)),\n",
              " (4, (3, 6)),\n",
              " (4, (4, 1)),\n",
              " (4, (4, 2)),\n",
              " (4, (4, 3)),\n",
              " (4, (4, 4)),\n",
              " (4, (4, 5)),\n",
              " (4, (4, 6)),\n",
              " (4, (5, 1)),\n",
              " (4, (5, 2)),\n",
              " (4, (5, 3)),\n",
              " (4, (5, 4)),\n",
              " (4, (5, 5)),\n",
              " (4, (5, 6)),\n",
              " (4, (6, 1)),\n",
              " (4, (6, 2)),\n",
              " (4, (6, 3)),\n",
              " (4, (6, 4)),\n",
              " (4, (6, 5)),\n",
              " (4, (6, 6)),\n",
              " (5, (1, 1)),\n",
              " (5, (1, 2)),\n",
              " (5, (1, 3)),\n",
              " (5, (1, 4)),\n",
              " (5, (1, 5)),\n",
              " (5, (1, 6)),\n",
              " (5, (2, 1)),\n",
              " (5, (2, 2)),\n",
              " (5, (2, 3)),\n",
              " (5, (2, 4)),\n",
              " (5, (2, 5)),\n",
              " (5, (2, 6)),\n",
              " (5, (3, 1)),\n",
              " (5, (3, 2)),\n",
              " (5, (3, 3)),\n",
              " (5, (3, 4)),\n",
              " (5, (3, 5)),\n",
              " (5, (3, 6)),\n",
              " (5, (4, 1)),\n",
              " (5, (4, 2)),\n",
              " (5, (4, 3)),\n",
              " (5, (4, 4)),\n",
              " (5, (4, 5)),\n",
              " (5, (4, 6)),\n",
              " (5, (5, 1)),\n",
              " (5, (5, 2)),\n",
              " (5, (5, 3)),\n",
              " (5, (5, 4)),\n",
              " (5, (5, 5)),\n",
              " (5, (5, 6)),\n",
              " (5, (6, 1)),\n",
              " (5, (6, 2)),\n",
              " (5, (6, 3)),\n",
              " (5, (6, 4)),\n",
              " (5, (6, 5)),\n",
              " (5, (6, 6)),\n",
              " (6, (1, 1)),\n",
              " (6, (1, 2)),\n",
              " (6, (1, 3)),\n",
              " (6, (1, 4)),\n",
              " (6, (1, 5)),\n",
              " (6, (1, 6)),\n",
              " (6, (2, 1)),\n",
              " (6, (2, 2)),\n",
              " (6, (2, 3)),\n",
              " (6, (2, 4)),\n",
              " (6, (2, 5)),\n",
              " (6, (2, 6)),\n",
              " (6, (3, 1)),\n",
              " (6, (3, 2)),\n",
              " (6, (3, 3)),\n",
              " (6, (3, 4)),\n",
              " (6, (3, 5)),\n",
              " (6, (3, 6)),\n",
              " (6, (4, 1)),\n",
              " (6, (4, 2)),\n",
              " (6, (4, 3)),\n",
              " (6, (4, 4)),\n",
              " (6, (4, 5)),\n",
              " (6, (4, 6)),\n",
              " (6, (5, 1)),\n",
              " (6, (5, 2)),\n",
              " (6, (5, 3)),\n",
              " (6, (5, 4)),\n",
              " (6, (5, 5)),\n",
              " (6, (5, 6)),\n",
              " (6, (6, 1)),\n",
              " (6, (6, 2)),\n",
              " (6, (6, 3)),\n",
              " (6, (6, 4)),\n",
              " (6, (6, 5)),\n",
              " (6, (6, 6))}"
            ]
          },
          "metadata": {
            "tags": []
          },
          "execution_count": 102
        }
      ]
    },
    {
      "cell_type": "code",
      "metadata": {
        "id": "c0NyTYrgDwv0"
      },
      "source": [
        "def tuple_sum(tup):\n",
        "  if isinstance(tup,int):\n",
        "    return tup\n",
        "  else:\n",
        "    accum = 0\n",
        "    for element in tup:\n",
        "      accum += tuple_sum(element)\n",
        "  return accum"
      ],
      "execution_count": 104,
      "outputs": []
    },
    {
      "cell_type": "code",
      "metadata": {
        "colab": {
          "base_uri": "https://localhost:8080/"
        },
        "id": "VeKUAyCwEAWx",
        "outputId": "ea37d62d-df66-4a5f-c016-afe687204bce"
      },
      "source": [
        "cases"
      ],
      "execution_count": 105,
      "outputs": [
        {
          "output_type": "execute_result",
          "data": {
            "text/plain": [
              "{1, 2, 3, 4, 5, 6}"
            ]
          },
          "metadata": {
            "tags": []
          },
          "execution_count": 105
        }
      ]
    },
    {
      "cell_type": "code",
      "metadata": {
        "colab": {
          "base_uri": "https://localhost:8080/"
        },
        "id": "PszEh6GtENTm",
        "outputId": "5622c91e-abb1-4997-f9ba-e8d257f05772"
      },
      "source": [
        "cases_2times"
      ],
      "execution_count": 106,
      "outputs": [
        {
          "output_type": "execute_result",
          "data": {
            "text/plain": [
              "{(1, 1),\n",
              " (1, 2),\n",
              " (1, 3),\n",
              " (1, 4),\n",
              " (1, 5),\n",
              " (1, 6),\n",
              " (2, 1),\n",
              " (2, 2),\n",
              " (2, 3),\n",
              " (2, 4),\n",
              " (2, 5),\n",
              " (2, 6),\n",
              " (3, 1),\n",
              " (3, 2),\n",
              " (3, 3),\n",
              " (3, 4),\n",
              " (3, 5),\n",
              " (3, 6),\n",
              " (4, 1),\n",
              " (4, 2),\n",
              " (4, 3),\n",
              " (4, 4),\n",
              " (4, 5),\n",
              " (4, 6),\n",
              " (5, 1),\n",
              " (5, 2),\n",
              " (5, 3),\n",
              " (5, 4),\n",
              " (5, 5),\n",
              " (5, 6),\n",
              " (6, 1),\n",
              " (6, 2),\n",
              " (6, 3),\n",
              " (6, 4),\n",
              " (6, 5),\n",
              " (6, 6)}"
            ]
          },
          "metadata": {
            "tags": []
          },
          "execution_count": 106
        }
      ]
    },
    {
      "cell_type": "code",
      "metadata": {
        "colab": {
          "base_uri": "https://localhost:8080/"
        },
        "id": "OxVKLCEyEOrp",
        "outputId": "b3940b02-7541-411f-eb8a-47a679e92a06"
      },
      "source": [
        "cases_3times"
      ],
      "execution_count": 107,
      "outputs": [
        {
          "output_type": "execute_result",
          "data": {
            "text/plain": [
              "{(1, (1, 1)),\n",
              " (1, (1, 2)),\n",
              " (1, (1, 3)),\n",
              " (1, (1, 4)),\n",
              " (1, (1, 5)),\n",
              " (1, (1, 6)),\n",
              " (1, (2, 1)),\n",
              " (1, (2, 2)),\n",
              " (1, (2, 3)),\n",
              " (1, (2, 4)),\n",
              " (1, (2, 5)),\n",
              " (1, (2, 6)),\n",
              " (1, (3, 1)),\n",
              " (1, (3, 2)),\n",
              " (1, (3, 3)),\n",
              " (1, (3, 4)),\n",
              " (1, (3, 5)),\n",
              " (1, (3, 6)),\n",
              " (1, (4, 1)),\n",
              " (1, (4, 2)),\n",
              " (1, (4, 3)),\n",
              " (1, (4, 4)),\n",
              " (1, (4, 5)),\n",
              " (1, (4, 6)),\n",
              " (1, (5, 1)),\n",
              " (1, (5, 2)),\n",
              " (1, (5, 3)),\n",
              " (1, (5, 4)),\n",
              " (1, (5, 5)),\n",
              " (1, (5, 6)),\n",
              " (1, (6, 1)),\n",
              " (1, (6, 2)),\n",
              " (1, (6, 3)),\n",
              " (1, (6, 4)),\n",
              " (1, (6, 5)),\n",
              " (1, (6, 6)),\n",
              " (2, (1, 1)),\n",
              " (2, (1, 2)),\n",
              " (2, (1, 3)),\n",
              " (2, (1, 4)),\n",
              " (2, (1, 5)),\n",
              " (2, (1, 6)),\n",
              " (2, (2, 1)),\n",
              " (2, (2, 2)),\n",
              " (2, (2, 3)),\n",
              " (2, (2, 4)),\n",
              " (2, (2, 5)),\n",
              " (2, (2, 6)),\n",
              " (2, (3, 1)),\n",
              " (2, (3, 2)),\n",
              " (2, (3, 3)),\n",
              " (2, (3, 4)),\n",
              " (2, (3, 5)),\n",
              " (2, (3, 6)),\n",
              " (2, (4, 1)),\n",
              " (2, (4, 2)),\n",
              " (2, (4, 3)),\n",
              " (2, (4, 4)),\n",
              " (2, (4, 5)),\n",
              " (2, (4, 6)),\n",
              " (2, (5, 1)),\n",
              " (2, (5, 2)),\n",
              " (2, (5, 3)),\n",
              " (2, (5, 4)),\n",
              " (2, (5, 5)),\n",
              " (2, (5, 6)),\n",
              " (2, (6, 1)),\n",
              " (2, (6, 2)),\n",
              " (2, (6, 3)),\n",
              " (2, (6, 4)),\n",
              " (2, (6, 5)),\n",
              " (2, (6, 6)),\n",
              " (3, (1, 1)),\n",
              " (3, (1, 2)),\n",
              " (3, (1, 3)),\n",
              " (3, (1, 4)),\n",
              " (3, (1, 5)),\n",
              " (3, (1, 6)),\n",
              " (3, (2, 1)),\n",
              " (3, (2, 2)),\n",
              " (3, (2, 3)),\n",
              " (3, (2, 4)),\n",
              " (3, (2, 5)),\n",
              " (3, (2, 6)),\n",
              " (3, (3, 1)),\n",
              " (3, (3, 2)),\n",
              " (3, (3, 3)),\n",
              " (3, (3, 4)),\n",
              " (3, (3, 5)),\n",
              " (3, (3, 6)),\n",
              " (3, (4, 1)),\n",
              " (3, (4, 2)),\n",
              " (3, (4, 3)),\n",
              " (3, (4, 4)),\n",
              " (3, (4, 5)),\n",
              " (3, (4, 6)),\n",
              " (3, (5, 1)),\n",
              " (3, (5, 2)),\n",
              " (3, (5, 3)),\n",
              " (3, (5, 4)),\n",
              " (3, (5, 5)),\n",
              " (3, (5, 6)),\n",
              " (3, (6, 1)),\n",
              " (3, (6, 2)),\n",
              " (3, (6, 3)),\n",
              " (3, (6, 4)),\n",
              " (3, (6, 5)),\n",
              " (3, (6, 6)),\n",
              " (4, (1, 1)),\n",
              " (4, (1, 2)),\n",
              " (4, (1, 3)),\n",
              " (4, (1, 4)),\n",
              " (4, (1, 5)),\n",
              " (4, (1, 6)),\n",
              " (4, (2, 1)),\n",
              " (4, (2, 2)),\n",
              " (4, (2, 3)),\n",
              " (4, (2, 4)),\n",
              " (4, (2, 5)),\n",
              " (4, (2, 6)),\n",
              " (4, (3, 1)),\n",
              " (4, (3, 2)),\n",
              " (4, (3, 3)),\n",
              " (4, (3, 4)),\n",
              " (4, (3, 5)),\n",
              " (4, (3, 6)),\n",
              " (4, (4, 1)),\n",
              " (4, (4, 2)),\n",
              " (4, (4, 3)),\n",
              " (4, (4, 4)),\n",
              " (4, (4, 5)),\n",
              " (4, (4, 6)),\n",
              " (4, (5, 1)),\n",
              " (4, (5, 2)),\n",
              " (4, (5, 3)),\n",
              " (4, (5, 4)),\n",
              " (4, (5, 5)),\n",
              " (4, (5, 6)),\n",
              " (4, (6, 1)),\n",
              " (4, (6, 2)),\n",
              " (4, (6, 3)),\n",
              " (4, (6, 4)),\n",
              " (4, (6, 5)),\n",
              " (4, (6, 6)),\n",
              " (5, (1, 1)),\n",
              " (5, (1, 2)),\n",
              " (5, (1, 3)),\n",
              " (5, (1, 4)),\n",
              " (5, (1, 5)),\n",
              " (5, (1, 6)),\n",
              " (5, (2, 1)),\n",
              " (5, (2, 2)),\n",
              " (5, (2, 3)),\n",
              " (5, (2, 4)),\n",
              " (5, (2, 5)),\n",
              " (5, (2, 6)),\n",
              " (5, (3, 1)),\n",
              " (5, (3, 2)),\n",
              " (5, (3, 3)),\n",
              " (5, (3, 4)),\n",
              " (5, (3, 5)),\n",
              " (5, (3, 6)),\n",
              " (5, (4, 1)),\n",
              " (5, (4, 2)),\n",
              " (5, (4, 3)),\n",
              " (5, (4, 4)),\n",
              " (5, (4, 5)),\n",
              " (5, (4, 6)),\n",
              " (5, (5, 1)),\n",
              " (5, (5, 2)),\n",
              " (5, (5, 3)),\n",
              " (5, (5, 4)),\n",
              " (5, (5, 5)),\n",
              " (5, (5, 6)),\n",
              " (5, (6, 1)),\n",
              " (5, (6, 2)),\n",
              " (5, (6, 3)),\n",
              " (5, (6, 4)),\n",
              " (5, (6, 5)),\n",
              " (5, (6, 6)),\n",
              " (6, (1, 1)),\n",
              " (6, (1, 2)),\n",
              " (6, (1, 3)),\n",
              " (6, (1, 4)),\n",
              " (6, (1, 5)),\n",
              " (6, (1, 6)),\n",
              " (6, (2, 1)),\n",
              " (6, (2, 2)),\n",
              " (6, (2, 3)),\n",
              " (6, (2, 4)),\n",
              " (6, (2, 5)),\n",
              " (6, (2, 6)),\n",
              " (6, (3, 1)),\n",
              " (6, (3, 2)),\n",
              " (6, (3, 3)),\n",
              " (6, (3, 4)),\n",
              " (6, (3, 5)),\n",
              " (6, (3, 6)),\n",
              " (6, (4, 1)),\n",
              " (6, (4, 2)),\n",
              " (6, (4, 3)),\n",
              " (6, (4, 4)),\n",
              " (6, (4, 5)),\n",
              " (6, (4, 6)),\n",
              " (6, (5, 1)),\n",
              " (6, (5, 2)),\n",
              " (6, (5, 3)),\n",
              " (6, (5, 4)),\n",
              " (6, (5, 5)),\n",
              " (6, (5, 6)),\n",
              " (6, (6, 1)),\n",
              " (6, (6, 2)),\n",
              " (6, (6, 3)),\n",
              " (6, (6, 4)),\n",
              " (6, (6, 5)),\n",
              " (6, (6, 6))}"
            ]
          },
          "metadata": {
            "tags": []
          },
          "execution_count": 107
        }
      ]
    },
    {
      "cell_type": "code",
      "metadata": {
        "id": "yBnmW_LaEQB1"
      },
      "source": [
        "sums = [tuple_sum(tup) for tup in cases_3times]"
      ],
      "execution_count": 108,
      "outputs": []
    },
    {
      "cell_type": "code",
      "metadata": {
        "colab": {
          "base_uri": "https://localhost:8080/"
        },
        "id": "_5Jig9bKEXuJ",
        "outputId": "cc1525f8-378e-4733-b174-5b56aab408c6"
      },
      "source": [
        "print(sums)"
      ],
      "execution_count": 109,
      "outputs": [
        {
          "output_type": "stream",
          "text": [
            "[12, 5, 8, 9, 9, 10, 10, 12, 14, 10, 6, 8, 9, 6, 9, 10, 15, 10, 13, 13, 7, 13, 10, 7, 8, 12, 9, 13, 7, 14, 7, 6, 10, 8, 5, 12, 13, 9, 10, 11, 11, 9, 14, 11, 12, 12, 12, 9, 15, 15, 8, 13, 6, 17, 8, 9, 13, 16, 9, 13, 11, 18, 7, 7, 14, 11, 4, 10, 10, 11, 12, 12, 14, 12, 9, 13, 12, 13, 12, 5, 11, 8, 5, 6, 16, 14, 11, 11, 6, 13, 11, 12, 13, 8, 11, 8, 8, 9, 9, 11, 12, 13, 16, 11, 8, 7, 11, 12, 12, 7, 8, 9, 8, 12, 5, 13, 7, 16, 16, 14, 9, 12, 11, 10, 10, 10, 8, 12, 10, 13, 15, 10, 10, 9, 15, 13, 15, 10, 15, 6, 14, 14, 4, 11, 7, 17, 6, 14, 11, 8, 7, 9, 10, 8, 10, 13, 10, 6, 9, 7, 10, 15, 14, 15, 9, 7, 9, 9, 14, 13, 10, 14, 12, 9, 10, 11, 4, 5, 10, 15, 16, 6, 9, 10, 12, 13, 11, 10, 11, 9, 11, 8, 12, 12, 11, 11, 8, 11, 17, 9, 14, 11, 10, 8, 7, 8, 11, 12, 11, 13, 13, 3, 12, 14, 8, 7]\n"
          ],
          "name": "stdout"
        }
      ]
    },
    {
      "cell_type": "code",
      "metadata": {
        "id": "I0XRNfeREYqk"
      },
      "source": [
        "sums = {tuple_sum(tup) for tup in cases_3times}"
      ],
      "execution_count": 110,
      "outputs": []
    },
    {
      "cell_type": "code",
      "metadata": {
        "colab": {
          "base_uri": "https://localhost:8080/"
        },
        "id": "ne_0AXb8EcPn",
        "outputId": "c4ae977e-4dd3-49c9-8f21-f4fc881c2ba2"
      },
      "source": [
        "print(sums)"
      ],
      "execution_count": 111,
      "outputs": [
        {
          "output_type": "stream",
          "text": [
            "{3, 4, 5, 6, 7, 8, 9, 10, 11, 12, 13, 14, 15, 16, 17, 18}\n"
          ],
          "name": "stdout"
        }
      ]
    },
    {
      "cell_type": "code",
      "metadata": {
        "id": "yLypQmsMEc7q"
      },
      "source": [
        "# LAB 6-12 : 복수로 주사위를 던졌을 때 특정값 이상을 얻을 확률 구하기"
      ],
      "execution_count": 112,
      "outputs": []
    },
    {
      "cell_type": "code",
      "metadata": {
        "id": "Ic12FlviEjNp"
      },
      "source": [
        "def tuple_sum(tup):\n",
        "  if isinstance(tup,int):\n",
        "    return tup\n",
        "  else:\n",
        "    accum = 0\n",
        "    for element in tup:\n",
        "      accum += tuple_sum(element)\n",
        "  return accum\n",
        "\n",
        "def product_set(set1,set2):\n",
        "  res = set()\n",
        "  for i in set1:\n",
        "    for j in set2:\n",
        "      res = res|{(i,j)}\n",
        "  return res\n",
        "  \n",
        "def exp(input_set,exponent):\n",
        "  res = input_set\n",
        "  for _ in range(exponent-1):\n",
        "    res = product_set(res,input_set)\n",
        "  return res"
      ],
      "execution_count": 113,
      "outputs": []
    },
    {
      "cell_type": "code",
      "metadata": {
        "id": "AAa84077Ev0B"
      },
      "source": [
        "# 1번"
      ],
      "execution_count": 114,
      "outputs": []
    },
    {
      "cell_type": "code",
      "metadata": {
        "id": "UUacnyouFCdj"
      },
      "source": [
        "a = len(product_set(cases,cases_2times))"
      ],
      "execution_count": 118,
      "outputs": []
    },
    {
      "cell_type": "code",
      "metadata": {
        "colab": {
          "base_uri": "https://localhost:8080/"
        },
        "id": "G1eh43vVEw55",
        "outputId": "d3b60069-441a-440f-ef02-fa65fa5d3d5c"
      },
      "source": [
        "print('주사위를 세 번 던져 발생할 수 있는 사건은 {}가지 경우가 존재합니다'.format(a))"
      ],
      "execution_count": 119,
      "outputs": [
        {
          "output_type": "stream",
          "text": [
            "주사위를 세 번 던져 발생할 수 있는 사건은 216가지 경우가 존재합니다\n"
          ],
          "name": "stdout"
        }
      ]
    },
    {
      "cell_type": "code",
      "metadata": {
        "id": "qqDwsKq-FN5T"
      },
      "source": [
        "# 2번"
      ],
      "execution_count": 120,
      "outputs": []
    },
    {
      "cell_type": "code",
      "metadata": {
        "id": "gk10bYGoO0EZ"
      },
      "source": [
        "b = 0\n",
        "for tup in cases_3times:\n",
        "  if tuple_sum(tup) >= 10:\n",
        "    b = b + 1"
      ],
      "execution_count": 154,
      "outputs": []
    },
    {
      "cell_type": "code",
      "metadata": {
        "colab": {
          "base_uri": "https://localhost:8080/"
        },
        "id": "HHCTaDJpGCCw",
        "outputId": "e7e86e3f-08e2-4516-c12b-5fb300b883e6"
      },
      "source": [
        "print('주사위를 세 번 던져 나온 눈의 합이 10 이상인 경우는 {}가지입니다'.format(b))"
      ],
      "execution_count": 155,
      "outputs": [
        {
          "output_type": "stream",
          "text": [
            "주사위를 세 번 던져 나온 눈의 합이 10 이상인 경우는 135가지입니다\n"
          ],
          "name": "stdout"
        }
      ]
    },
    {
      "cell_type": "code",
      "metadata": {
        "id": "E-5QYfN7GX2t"
      },
      "source": [
        "# 3번"
      ],
      "execution_count": 121,
      "outputs": []
    },
    {
      "cell_type": "code",
      "metadata": {
        "id": "Wzz3zTmKPfiI"
      },
      "source": [
        "def prob_over(x):\n",
        "  b = 0\n",
        "  p = 0\n",
        "  for tup in cases_3times:\n",
        "    if tuple_sum(tup) >= x:\n",
        "      b = b + 1\n",
        "      p = b / len(product_set(cases,cases_2times)) * 100\n",
        "  return p"
      ],
      "execution_count": 160,
      "outputs": []
    },
    {
      "cell_type": "code",
      "metadata": {
        "colab": {
          "base_uri": "https://localhost:8080/"
        },
        "id": "qTDkRuY-GZSW",
        "outputId": "7ac86ca8-2c76-4422-c391-f32a147c7427"
      },
      "source": [
        "for i in range(3,19):\n",
        "  print('눈의 합으로 {}이상을 얻을 확률 {:.2f}%'.format(i,prob_over(i)))"
      ],
      "execution_count": 169,
      "outputs": [
        {
          "output_type": "stream",
          "text": [
            "눈의 합으로 3이상을 얻을 확률 100.00%\n",
            "눈의 합으로 4이상을 얻을 확률 99.54%\n",
            "눈의 합으로 5이상을 얻을 확률 98.15%\n",
            "눈의 합으로 6이상을 얻을 확률 95.37%\n",
            "눈의 합으로 7이상을 얻을 확률 90.74%\n",
            "눈의 합으로 8이상을 얻을 확률 83.80%\n",
            "눈의 합으로 9이상을 얻을 확률 74.07%\n",
            "눈의 합으로 10이상을 얻을 확률 62.50%\n",
            "눈의 합으로 11이상을 얻을 확률 50.00%\n",
            "눈의 합으로 12이상을 얻을 확률 37.50%\n",
            "눈의 합으로 13이상을 얻을 확률 25.93%\n",
            "눈의 합으로 14이상을 얻을 확률 16.20%\n",
            "눈의 합으로 15이상을 얻을 확률 9.26%\n",
            "눈의 합으로 16이상을 얻을 확률 4.63%\n",
            "눈의 합으로 17이상을 얻을 확률 1.85%\n",
            "눈의 합으로 18이상을 얻을 확률 0.46%\n"
          ],
          "name": "stdout"
        }
      ]
    },
    {
      "cell_type": "code",
      "metadata": {
        "id": "gxdNUGtjGgbZ"
      },
      "source": [
        "# 6.12 zip() 함수를 이용한 집적화"
      ],
      "execution_count": 122,
      "outputs": []
    },
    {
      "cell_type": "code",
      "metadata": {
        "id": "JzLE0B4AHBEx"
      },
      "source": [
        "empty_iterator = zip()"
      ],
      "execution_count": 123,
      "outputs": []
    },
    {
      "cell_type": "code",
      "metadata": {
        "id": "20b2bLnFHXwT"
      },
      "source": [
        "result = set(empty_iterator)"
      ],
      "execution_count": 124,
      "outputs": []
    },
    {
      "cell_type": "code",
      "metadata": {
        "colab": {
          "base_uri": "https://localhost:8080/"
        },
        "id": "LQOvcdgWHasG",
        "outputId": "d22f6703-55ce-496b-bef7-8b6deb797d3a"
      },
      "source": [
        "result"
      ],
      "execution_count": 125,
      "outputs": [
        {
          "output_type": "execute_result",
          "data": {
            "text/plain": [
              "set()"
            ]
          },
          "metadata": {
            "tags": []
          },
          "execution_count": 125
        }
      ]
    },
    {
      "cell_type": "code",
      "metadata": {
        "id": "J4CsQ4NxHb_R"
      },
      "source": [
        "lst = ['a','b','hello','this']"
      ],
      "execution_count": 126,
      "outputs": []
    },
    {
      "cell_type": "code",
      "metadata": {
        "id": "rPHKJBILHisY"
      },
      "source": [
        "my_iterator = zip(lst)"
      ],
      "execution_count": 127,
      "outputs": []
    },
    {
      "cell_type": "code",
      "metadata": {
        "colab": {
          "base_uri": "https://localhost:8080/"
        },
        "id": "dB2tRtcGHlfx",
        "outputId": "e35578eb-04c5-4c54-b12d-23a62c38f527"
      },
      "source": [
        "my_iterator"
      ],
      "execution_count": 128,
      "outputs": [
        {
          "output_type": "execute_result",
          "data": {
            "text/plain": [
              "<zip at 0x7f6b34c25948>"
            ]
          },
          "metadata": {
            "tags": []
          },
          "execution_count": 128
        }
      ]
    },
    {
      "cell_type": "code",
      "metadata": {
        "colab": {
          "base_uri": "https://localhost:8080/"
        },
        "id": "238i5R_qHmMt",
        "outputId": "c88fb483-1b9e-4d31-f9e6-792760b9e0a9"
      },
      "source": [
        "set(my_iterator)"
      ],
      "execution_count": 129,
      "outputs": [
        {
          "output_type": "execute_result",
          "data": {
            "text/plain": [
              "{('a',), ('b',), ('hello',), ('this',)}"
            ]
          },
          "metadata": {
            "tags": []
          },
          "execution_count": 129
        }
      ]
    },
    {
      "cell_type": "code",
      "metadata": {
        "id": "lR-0tQmqIBoq"
      },
      "source": [
        "str_list = ['hello','world']"
      ],
      "execution_count": 130,
      "outputs": []
    },
    {
      "cell_type": "code",
      "metadata": {
        "id": "ihu5ESMLIGiT"
      },
      "source": [
        "int_tuple = (1,2)"
      ],
      "execution_count": 131,
      "outputs": []
    },
    {
      "cell_type": "code",
      "metadata": {
        "id": "CSkQg8DsIJmp"
      },
      "source": [
        "int_list = [400,500]"
      ],
      "execution_count": 132,
      "outputs": []
    },
    {
      "cell_type": "code",
      "metadata": {
        "id": "A1xyvodYHoHc"
      },
      "source": [
        "zip_list = list(zip(str_list, int_tuple, int_list))"
      ],
      "execution_count": 135,
      "outputs": []
    },
    {
      "cell_type": "code",
      "metadata": {
        "colab": {
          "base_uri": "https://localhost:8080/"
        },
        "id": "EAxg0ZNRILzP",
        "outputId": "2bbe1ed1-98f9-47ea-f5e3-1d8d72a956af"
      },
      "source": [
        "zip_list"
      ],
      "execution_count": 136,
      "outputs": [
        {
          "output_type": "execute_result",
          "data": {
            "text/plain": [
              "[('hello', 1, 400), ('world', 2, 500)]"
            ]
          },
          "metadata": {
            "tags": []
          },
          "execution_count": 136
        }
      ]
    },
    {
      "cell_type": "code",
      "metadata": {
        "id": "Wu-TqSfrINnX"
      },
      "source": [
        "a,b,c = zip(*zip_list)"
      ],
      "execution_count": 137,
      "outputs": []
    },
    {
      "cell_type": "code",
      "metadata": {
        "colab": {
          "base_uri": "https://localhost:8080/"
        },
        "id": "Fd3G3uywITcI",
        "outputId": "92889035-271f-45be-de7d-cd492e30356f"
      },
      "source": [
        "a"
      ],
      "execution_count": 138,
      "outputs": [
        {
          "output_type": "execute_result",
          "data": {
            "text/plain": [
              "('hello', 'world')"
            ]
          },
          "metadata": {
            "tags": []
          },
          "execution_count": 138
        }
      ]
    },
    {
      "cell_type": "code",
      "metadata": {
        "colab": {
          "base_uri": "https://localhost:8080/"
        },
        "id": "7J2xDsaEIWF3",
        "outputId": "975e99ef-0978-4987-ec73-53e68a332443"
      },
      "source": [
        "b"
      ],
      "execution_count": 139,
      "outputs": [
        {
          "output_type": "execute_result",
          "data": {
            "text/plain": [
              "(1, 2)"
            ]
          },
          "metadata": {
            "tags": []
          },
          "execution_count": 139
        }
      ]
    },
    {
      "cell_type": "code",
      "metadata": {
        "colab": {
          "base_uri": "https://localhost:8080/"
        },
        "id": "hqHh1FTrIWjr",
        "outputId": "4f6386f2-612f-4b25-c93b-10af474e6223"
      },
      "source": [
        "c"
      ],
      "execution_count": 140,
      "outputs": [
        {
          "output_type": "execute_result",
          "data": {
            "text/plain": [
              "(400, 500)"
            ]
          },
          "metadata": {
            "tags": []
          },
          "execution_count": 140
        }
      ]
    },
    {
      "cell_type": "code",
      "metadata": {
        "id": "T3QdVx8-IW_B"
      },
      "source": [
        "# 6.13 튜플과 스트링의 슬라이싱"
      ],
      "execution_count": 141,
      "outputs": []
    },
    {
      "cell_type": "code",
      "metadata": {
        "id": "UCXo_nlwIdnD"
      },
      "source": [
        "tu = (0,1,2,3,4,5,6,7,8,9)"
      ],
      "execution_count": 142,
      "outputs": []
    },
    {
      "cell_type": "code",
      "metadata": {
        "colab": {
          "base_uri": "https://localhost:8080/"
        },
        "id": "OTYYl10VIiNd",
        "outputId": "7f2671ca-8e98-47f9-f482-8ebb18897cf8"
      },
      "source": [
        "tu[1:5]"
      ],
      "execution_count": 143,
      "outputs": [
        {
          "output_type": "execute_result",
          "data": {
            "text/plain": [
              "(1, 2, 3, 4)"
            ]
          },
          "metadata": {
            "tags": []
          },
          "execution_count": 143
        }
      ]
    },
    {
      "cell_type": "code",
      "metadata": {
        "colab": {
          "base_uri": "https://localhost:8080/"
        },
        "id": "wYRrqzkHIjI9",
        "outputId": "08e07f17-787d-4709-c11c-27a5077ba220"
      },
      "source": [
        "tu[0:10:3]"
      ],
      "execution_count": 145,
      "outputs": [
        {
          "output_type": "execute_result",
          "data": {
            "text/plain": [
              "(0, 3, 6, 9)"
            ]
          },
          "metadata": {
            "tags": []
          },
          "execution_count": 145
        }
      ]
    },
    {
      "cell_type": "code",
      "metadata": {
        "colab": {
          "base_uri": "https://localhost:8080/"
        },
        "id": "DieUXqzBIlKJ",
        "outputId": "dd687c52-05c7-4a61-e1b2-f0a1fbc62f88"
      },
      "source": [
        "tu[::-1]"
      ],
      "execution_count": 146,
      "outputs": [
        {
          "output_type": "execute_result",
          "data": {
            "text/plain": [
              "(9, 8, 7, 6, 5, 4, 3, 2, 1, 0)"
            ]
          },
          "metadata": {
            "tags": []
          },
          "execution_count": 146
        }
      ]
    },
    {
      "cell_type": "code",
      "metadata": {
        "id": "2018MGjgIntu"
      },
      "source": [
        "text = 'hello world'"
      ],
      "execution_count": 147,
      "outputs": []
    },
    {
      "cell_type": "code",
      "metadata": {
        "colab": {
          "base_uri": "https://localhost:8080/",
          "height": 36
        },
        "id": "7bjH4RsKIqm2",
        "outputId": "a47e74f8-9916-4ba5-abd2-b432ccc17e7c"
      },
      "source": [
        "text[1:5]"
      ],
      "execution_count": 148,
      "outputs": [
        {
          "output_type": "execute_result",
          "data": {
            "application/vnd.google.colaboratory.intrinsic+json": {
              "type": "string"
            },
            "text/plain": [
              "'ello'"
            ]
          },
          "metadata": {
            "tags": []
          },
          "execution_count": 148
        }
      ]
    },
    {
      "cell_type": "code",
      "metadata": {
        "colab": {
          "base_uri": "https://localhost:8080/",
          "height": 36
        },
        "id": "FemB4BTsIsIu",
        "outputId": "bb313afe-6145-464b-f1e4-f5117b04722f"
      },
      "source": [
        "text[6:]"
      ],
      "execution_count": 149,
      "outputs": [
        {
          "output_type": "execute_result",
          "data": {
            "application/vnd.google.colaboratory.intrinsic+json": {
              "type": "string"
            },
            "text/plain": [
              "'world'"
            ]
          },
          "metadata": {
            "tags": []
          },
          "execution_count": 149
        }
      ]
    },
    {
      "cell_type": "code",
      "metadata": {
        "colab": {
          "base_uri": "https://localhost:8080/",
          "height": 36
        },
        "id": "R9mzNqOpItgs",
        "outputId": "25fdd24b-b317-40a8-c0cc-018e7744dec6"
      },
      "source": [
        "text[::3]"
      ],
      "execution_count": 150,
      "outputs": [
        {
          "output_type": "execute_result",
          "data": {
            "application/vnd.google.colaboratory.intrinsic+json": {
              "type": "string"
            },
            "text/plain": [
              "'hlwl'"
            ]
          },
          "metadata": {
            "tags": []
          },
          "execution_count": 150
        }
      ]
    },
    {
      "cell_type": "code",
      "metadata": {
        "colab": {
          "base_uri": "https://localhost:8080/",
          "height": 36
        },
        "id": "QVYtJpBxIv_n",
        "outputId": "3e9dbfb0-32c8-4d12-aa4f-12f8a3b2312a"
      },
      "source": [
        "text[::-1]"
      ],
      "execution_count": 151,
      "outputs": [
        {
          "output_type": "execute_result",
          "data": {
            "application/vnd.google.colaboratory.intrinsic+json": {
              "type": "string"
            },
            "text/plain": [
              "'dlrow olleh'"
            ]
          },
          "metadata": {
            "tags": []
          },
          "execution_count": 151
        }
      ]
    },
    {
      "cell_type": "code",
      "metadata": {
        "id": "bhKdf8ILIyQP"
      },
      "source": [
        ""
      ],
      "execution_count": null,
      "outputs": []
    }
  ]
}