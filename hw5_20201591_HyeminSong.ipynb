{
  "nbformat": 4,
  "nbformat_minor": 0,
  "metadata": {
    "colab": {
      "name": "hw5_20201591_HyeminSong.ipynb",
      "provenance": [],
      "collapsed_sections": []
    },
    "kernelspec": {
      "name": "python3",
      "display_name": "Python 3"
    }
  },
  "cells": [
    {
      "cell_type": "code",
      "metadata": {
        "id": "coOt8THxP1rG"
      },
      "source": [
        "# 연습문제 5.3번"
      ],
      "execution_count": null,
      "outputs": []
    },
    {
      "cell_type": "code",
      "metadata": {
        "id": "Wk4b3fneY-iE"
      },
      "source": [
        "list1 = [3,5,7]\n",
        "list2 = [2,3,4,5,6]"
      ],
      "execution_count": null,
      "outputs": []
    },
    {
      "cell_type": "code",
      "metadata": {
        "id": "Bs6VpYRsY-en",
        "outputId": "82cf9808-000a-4c9b-a657-85d2e4d9454b",
        "colab": {
          "base_uri": "https://localhost:8080/"
        }
      },
      "source": [
        "for i in range(len(list1)):\n",
        "  for k in range(len(list2)):\n",
        "    print('{0} * {1} = {2}'.format(int(list1[i]),int(list2[k]),int(list1[i])*int(list2[k])))"
      ],
      "execution_count": null,
      "outputs": [
        {
          "output_type": "stream",
          "text": [
            "3 * 2 = 6\n",
            "3 * 3 = 9\n",
            "3 * 4 = 12\n",
            "3 * 5 = 15\n",
            "3 * 6 = 18\n",
            "5 * 2 = 10\n",
            "5 * 3 = 15\n",
            "5 * 4 = 20\n",
            "5 * 5 = 25\n",
            "5 * 6 = 30\n",
            "7 * 2 = 14\n",
            "7 * 3 = 21\n",
            "7 * 4 = 28\n",
            "7 * 5 = 35\n",
            "7 * 6 = 42\n"
          ],
          "name": "stdout"
        }
      ]
    },
    {
      "cell_type": "code",
      "metadata": {
        "id": "YWfARY70QSOz"
      },
      "source": [
        "# 연습문제 5.4번"
      ],
      "execution_count": null,
      "outputs": []
    },
    {
      "cell_type": "code",
      "metadata": {
        "id": "X2etEFmEYYq_",
        "outputId": "aeadf55b-7711-4f05-e2f4-8be552e5ec0b",
        "colab": {
          "base_uri": "https://localhost:8080/"
        }
      },
      "source": [
        "a = [2,3,4,5,6]\n",
        "rev_a = []\n",
        "print('a =',a)\n",
        "\n",
        "for i in range(len(a)):\n",
        "  k = a.pop()\n",
        "  rev_a.append(k)\n",
        "\n",
        "print('rev_a = {}'.format(rev_a))"
      ],
      "execution_count": null,
      "outputs": [
        {
          "output_type": "stream",
          "text": [
            "a = [2, 3, 4, 5, 6]\n",
            "rev_a = [6, 5, 4, 3, 2]\n"
          ],
          "name": "stdout"
        }
      ]
    },
    {
      "cell_type": "code",
      "metadata": {
        "id": "kC4U4ToqYYli"
      },
      "source": [
        "for i in range(0,len(a)+1):\n",
        "  a.pop(i)"
      ],
      "execution_count": null,
      "outputs": []
    },
    {
      "cell_type": "code",
      "metadata": {
        "id": "POVIuGEyQSHP"
      },
      "source": [
        "# 연습문제 5.5번"
      ],
      "execution_count": null,
      "outputs": []
    },
    {
      "cell_type": "code",
      "metadata": {
        "id": "aVU-5gw2Zrau"
      },
      "source": [
        "list1 = ['I like', 'I love']\n",
        "list2 = ['fan cake.', 'kiwi juice.', 'espresso.']"
      ],
      "execution_count": null,
      "outputs": []
    },
    {
      "cell_type": "code",
      "metadata": {
        "id": "l__2s_tuZrUJ",
        "outputId": "fd89bc1c-7a7b-4466-f5c7-d4a71fb2d5e9",
        "colab": {
          "base_uri": "https://localhost:8080/"
        }
      },
      "source": [
        "print(list1[0] ,list2[0])\n",
        "print(list1[0] ,list2[1])\n",
        "print(list1[0] ,list2[2])\n",
        "print(list1[1] ,list2[0])\n",
        "print(list1[1] ,list2[1])\n",
        "print(list1[1] ,list2[2])"
      ],
      "execution_count": null,
      "outputs": [
        {
          "output_type": "stream",
          "text": [
            "I like fan cake.\n",
            "I like kiwi juice.\n",
            "I like espresso.\n",
            "I love fan cake.\n",
            "I love kiwi juice.\n",
            "I love espresso.\n"
          ],
          "name": "stdout"
        }
      ]
    },
    {
      "cell_type": "code",
      "metadata": {
        "id": "EuRIjFRdQIUk"
      },
      "source": [
        "# 연습문제 5.7번"
      ],
      "execution_count": null,
      "outputs": []
    },
    {
      "cell_type": "code",
      "metadata": {
        "id": "BEMQUFB3TDqb"
      },
      "source": [
        "n_list = [10,20,30,50,60]"
      ],
      "execution_count": null,
      "outputs": []
    },
    {
      "cell_type": "code",
      "metadata": {
        "id": "BgI48EtoTQ9Q"
      },
      "source": [
        "sum = n_list[0] + n_list[1] + n_list[2] + n_list[3]+ n_list[4]"
      ],
      "execution_count": null,
      "outputs": []
    },
    {
      "cell_type": "code",
      "metadata": {
        "id": "Is8xZtLKTIFE",
        "outputId": "1851908b-229d-43f7-cfec-c1427eb3011f",
        "colab": {
          "base_uri": "https://localhost:8080/"
        }
      },
      "source": [
        "print('리스트 원소들 :',n_list)\n",
        "print('리스트 원소들의 합 :',sum)"
      ],
      "execution_count": null,
      "outputs": [
        {
          "output_type": "stream",
          "text": [
            "리스트 원소들 : [10, 20, 30, 50, 60]\n",
            "리스트 원소들의 합 : 170\n"
          ],
          "name": "stdout"
        }
      ]
    },
    {
      "cell_type": "code",
      "metadata": {
        "id": "XK3xviarQWNL"
      },
      "source": [
        "# 연습문제 5.8번"
      ],
      "execution_count": null,
      "outputs": []
    },
    {
      "cell_type": "code",
      "metadata": {
        "id": "JQqxQkjdTdb7"
      },
      "source": [
        "n_list = [10,20,30,50,60]"
      ],
      "execution_count": null,
      "outputs": []
    },
    {
      "cell_type": "code",
      "metadata": {
        "id": "-KW1W-B7TiL4"
      },
      "source": [
        "곱 = n_list[0] * n_list[1] * n_list[2] * n_list[3] * n_list[4]"
      ],
      "execution_count": null,
      "outputs": []
    },
    {
      "cell_type": "code",
      "metadata": {
        "id": "Zi9Yb3h-TEIg",
        "outputId": "9a078366-1639-467c-f9a8-44ec40b8ca33",
        "colab": {
          "base_uri": "https://localhost:8080/"
        }
      },
      "source": [
        "print('리스트 원소들 :',n_list)\n",
        "print('리스트 원소들의 곱 :',곱)"
      ],
      "execution_count": null,
      "outputs": [
        {
          "output_type": "stream",
          "text": [
            "리스트 원소들 : [10, 20, 30, 50, 60]\n",
            "리스트 원소들의 곱 : 18000000\n"
          ],
          "name": "stdout"
        }
      ]
    },
    {
      "cell_type": "code",
      "metadata": {
        "id": "WRkl6wf9QXPg"
      },
      "source": [
        "# 연습문제 5.9번"
      ],
      "execution_count": null,
      "outputs": []
    },
    {
      "cell_type": "code",
      "metadata": {
        "id": "m7OzpRJqTeII"
      },
      "source": [
        "n_list = [10,20,30,50,60]"
      ],
      "execution_count": null,
      "outputs": []
    },
    {
      "cell_type": "code",
      "metadata": {
        "id": "7PyjmEJgYDND",
        "outputId": "bc83c167-94fe-4c68-ca37-3da3fdfc541d",
        "colab": {
          "base_uri": "https://localhost:8080/"
        }
      },
      "source": [
        "print('리스트 원소들 :',n_list)\n",
        "\n",
        "n_list.sort(reverse = True)   # 내림차순으로 정렬했을 때 제일 왼쪽의 값이 최댓값이 된다.\n",
        "\n",
        "print('리스트의 원소들 중 최댓값 :',n_list[0])"
      ],
      "execution_count": null,
      "outputs": [
        {
          "output_type": "stream",
          "text": [
            "리스트 원소들 : [10, 20, 30, 50, 60]\n",
            "리스트의 원소들 중 최댓값 : 60\n"
          ],
          "name": "stdout"
        }
      ]
    },
    {
      "cell_type": "code",
      "metadata": {
        "id": "W9UI3qBfQYLx"
      },
      "source": [
        "# 연습문제 5.10번"
      ],
      "execution_count": null,
      "outputs": []
    },
    {
      "cell_type": "code",
      "metadata": {
        "id": "oRhQ7gEETfLl"
      },
      "source": [
        "n_list = [10,20,30,50,60]"
      ],
      "execution_count": null,
      "outputs": []
    },
    {
      "cell_type": "code",
      "metadata": {
        "id": "Bfd0xogNUcik",
        "outputId": "5e24ee9d-8994-4bdd-d415-524799fad7e4",
        "colab": {
          "base_uri": "https://localhost:8080/"
        }
      },
      "source": [
        "n_list.sort()   # 오름차순으로 정렬했을 때 제일 왼쪽의 값이 최솟값이 된다.\n",
        "\n",
        "print('리스트 원소들 :',n_list)\n",
        "print('리스트의 원소들 중 최솟값 :',n_list[0])"
      ],
      "execution_count": null,
      "outputs": [
        {
          "output_type": "stream",
          "text": [
            "리스트 원소들 : [10, 20, 30, 50, 60]\n",
            "리스트의 원소들 중 최솟값 : 10\n"
          ],
          "name": "stdout"
        }
      ]
    },
    {
      "cell_type": "code",
      "metadata": {
        "id": "B9aoRubVQY_E"
      },
      "source": [
        "# 연습문제 5.11번"
      ],
      "execution_count": null,
      "outputs": []
    },
    {
      "cell_type": "code",
      "metadata": {
        "id": "-nb0PsMiUhoL",
        "outputId": "03b2d274-a614-4b32-d305-9296d5bd89c7",
        "colab": {
          "base_uri": "https://localhost:8080/"
        }
      },
      "source": [
        "num = input('5개의 수를 입력하세요: ').split(' ')\n",
        "\n",
        "for i in range(len(num)):\n",
        "  num[i] = int(num[i])\n",
        "\n",
        "a = []\n",
        "for k in num:\n",
        "  a.append(k)\n",
        "\n",
        "print('합 :',sum(a))\n",
        "print('평균 :',sum(a)/len(a))\n",
        "print('최댓값 :',max(a))\n",
        "print('최솟값 :',min(a))"
      ],
      "execution_count": null,
      "outputs": [
        {
          "output_type": "stream",
          "text": [
            "5개의 수를 입력하세요: 45 67 20 34 2\n",
            "합 : 168\n",
            "평균 : 33.6\n",
            "최댓값 : 67\n",
            "최솟값 : 2\n"
          ],
          "name": "stdout"
        }
      ]
    },
    {
      "cell_type": "code",
      "metadata": {
        "id": "nrxM2JCwQaFI"
      },
      "source": [
        "# 연습문제 5.12번"
      ],
      "execution_count": null,
      "outputs": []
    },
    {
      "cell_type": "code",
      "metadata": {
        "id": "UjqevYtxbXCP",
        "outputId": "45663298-0890-44ba-a3f5-187fdfe7e52a",
        "colab": {
          "base_uri": "https://localhost:8080/"
        }
      },
      "source": [
        "n = int(input('n을 입력하세요 : '))\n",
        "nums = input('{}개의 수를 입력하세요: '.format(n)).split(' ')\n",
        "\n",
        "for i in range(len(nums)):\n",
        "  nums[i] = int(nums[i])\n",
        "\n",
        "b = []\n",
        "for k in nums:\n",
        "  b.append(k)\n",
        "\n",
        "print('합 :',sum(b))\n",
        "print('평균 :',sum(b)/len(b))\n",
        "print('최댓값 :',max(b))\n",
        "print('최솟값 :',min(b))"
      ],
      "execution_count": null,
      "outputs": [
        {
          "output_type": "stream",
          "text": [
            "n을 입력하세요 : 6\n",
            "6개의 수를 입력하세요: 45 67 20 34 2 100\n",
            "합 : 268\n",
            "평균 : 44.666666666666664\n",
            "최댓값 : 100\n",
            "최솟값 : 2\n"
          ],
          "name": "stdout"
        }
      ]
    },
    {
      "cell_type": "code",
      "metadata": {
        "id": "vFz9F6HmRT2I"
      },
      "source": [
        "# (1)"
      ],
      "execution_count": null,
      "outputs": []
    },
    {
      "cell_type": "code",
      "metadata": {
        "id": "LfQPzrnkbXHE",
        "outputId": "2569cd44-e34d-49d5-fa6d-734daaf8fea0",
        "colab": {
          "base_uri": "https://localhost:8080/"
        }
      },
      "source": [
        "n = int(input('n을 입력하세요 : '))\n",
        "nums = input('{}개의 수를 입력하세요: '.format(n)).split(' ')\n",
        "\n",
        "for i in range(len(nums)):\n",
        "  nums[i] = int(nums[i])\n",
        "\n",
        "b = []\n",
        "for k in nums:\n",
        "  b.append(k)\n",
        "\n",
        "print('합 :',sum(b))\n",
        "print('평균 :',sum(b)/len(b))\n",
        "print('최댓값 :',max(b))\n",
        "print('최솟값 :',min(b))"
      ],
      "execution_count": null,
      "outputs": [
        {
          "output_type": "stream",
          "text": [
            "n을 입력하세요 : 3\n",
            "3개의 수를 입력하세요: 1 2 3\n",
            "합 : 6\n",
            "평균 : 2.0\n",
            "최댓값 : 3\n",
            "최솟값 : 1\n"
          ],
          "name": "stdout"
        }
      ]
    },
    {
      "cell_type": "code",
      "metadata": {
        "id": "yE_KgESVRTZi"
      },
      "source": [
        "# (2)"
      ],
      "execution_count": null,
      "outputs": []
    },
    {
      "cell_type": "code",
      "metadata": {
        "id": "DYxBNnBrbXFc",
        "outputId": "9dd07771-05fc-422b-e5b5-2bbfd62711d4",
        "colab": {
          "base_uri": "https://localhost:8080/"
        }
      },
      "source": [
        "n = int(input('n을 입력하세요 : '))\n",
        "nums = input('{}개의 수를 입력하세요: '.format(n)).split(' ')\n",
        "\n",
        "for i in range(len(nums)):\n",
        "  nums[i] = int(nums[i])\n",
        "\n",
        "b = []\n",
        "for k in nums:\n",
        "  b.append(k)\n",
        "\n",
        "print('합 :',sum(b))\n",
        "print('평균 :',sum(b)/len(b))\n",
        "print('최댓값 :',max(b))\n",
        "print('최솟값 :',min(b))"
      ],
      "execution_count": null,
      "outputs": [
        {
          "output_type": "stream",
          "text": [
            "n을 입력하세요 : 5\n",
            "5개의 수를 입력하세요: 10 2 30 3 28\n",
            "합 : 73\n",
            "평균 : 14.6\n",
            "최댓값 : 30\n",
            "최솟값 : 2\n"
          ],
          "name": "stdout"
        }
      ]
    },
    {
      "cell_type": "code",
      "metadata": {
        "id": "xMRYt63KRS3x"
      },
      "source": [
        "# (3)"
      ],
      "execution_count": null,
      "outputs": []
    },
    {
      "cell_type": "code",
      "metadata": {
        "id": "jO7sMtPjbW9L",
        "outputId": "bc2000fc-ae51-4613-b5a1-cd419e3b523a",
        "colab": {
          "base_uri": "https://localhost:8080/"
        }
      },
      "source": [
        "n = int(input('n을 입력하세요 : '))\n",
        "nums = input('{}개의 수를 입력하세요: '.format(n)).split(' ')\n",
        "\n",
        "for i in range(len(nums)):\n",
        "  nums[i] = int(nums[i])\n",
        "\n",
        "b = []\n",
        "for k in nums:\n",
        "  b.append(k)\n",
        "\n",
        "print('합 :',sum(b))\n",
        "print('평균 :',sum(b)/len(b))\n",
        "print('최댓값 :',max(b))\n",
        "print('최솟값 :',min(b))"
      ],
      "execution_count": null,
      "outputs": [
        {
          "output_type": "stream",
          "text": [
            "n을 입력하세요 : 10\n",
            "10개의 수를 입력하세요: 34 56 7 9 23 10 2 30 3 28\n",
            "합 : 202\n",
            "평균 : 20.2\n",
            "최댓값 : 56\n",
            "최솟값 : 2\n"
          ],
          "name": "stdout"
        }
      ]
    },
    {
      "cell_type": "code",
      "metadata": {
        "id": "TrSezj3jQcKJ"
      },
      "source": [
        "# 연습문제 5.13번"
      ],
      "execution_count": null,
      "outputs": []
    },
    {
      "cell_type": "code",
      "metadata": {
        "id": "2bxu5UWOR9mB",
        "outputId": "9dec2235-d9ac-4a85-8979-d55ef744dac0",
        "colab": {
          "base_uri": "https://localhost:8080/"
        }
      },
      "source": [
        "import math\n",
        "\n",
        "number = input('10개의 수를 입력하세요: ').split(' ')\n",
        "\n",
        "for i in range(len(number)):\n",
        "  number[i] = int(number[i])\n",
        "\n",
        "n = []\n",
        "for j in number:\n",
        "  n.append(j)\n",
        "\n",
        "total = 0\n",
        "for k in number:\n",
        "  total = total + (k - sum(n)/len(n))**2\n",
        "\n",
        "print('합 :',sum(n))\n",
        "print('평균 :',sum(n)/len(n))\n",
        "print('표준편차 : {:0.2f}'.format(math.sqrt(total/len(n))))"
      ],
      "execution_count": null,
      "outputs": [
        {
          "output_type": "stream",
          "text": [
            "10개의 수를 입력하세요: 45 67 20 34 2 100 23 45 67 89\n",
            "합 : 492\n",
            "평균 : 49.2\n",
            "표준편차 : 29.72\n"
          ],
          "name": "stdout"
        }
      ]
    },
    {
      "cell_type": "code",
      "metadata": {
        "id": "ARMPMFiUQdm0"
      },
      "source": [
        "# 연습문제 5.15번"
      ],
      "execution_count": null,
      "outputs": []
    },
    {
      "cell_type": "code",
      "metadata": {
        "id": "Hxc08C_PSK4H"
      },
      "source": [
        "greet = 'Have a beautiful day.'"
      ],
      "execution_count": null,
      "outputs": []
    },
    {
      "cell_type": "code",
      "metadata": {
        "id": "s1AWK5DdSLNn",
        "outputId": "0c5305eb-cf69-490e-c9c1-8400039b19fc",
        "colab": {
          "base_uri": "https://localhost:8080/",
          "height": 36
        }
      },
      "source": [
        "greet[0:4]"
      ],
      "execution_count": null,
      "outputs": [
        {
          "output_type": "execute_result",
          "data": {
            "application/vnd.google.colaboratory.intrinsic+json": {
              "type": "string"
            },
            "text/plain": [
              "'Have'"
            ]
          },
          "metadata": {
            "tags": []
          },
          "execution_count": 35
        }
      ]
    },
    {
      "cell_type": "code",
      "metadata": {
        "id": "ZIJcMYPWSLqh",
        "outputId": "0efb049a-fd93-43a3-83fa-59e6e0bc2afd",
        "colab": {
          "base_uri": "https://localhost:8080/",
          "height": 36
        }
      },
      "source": [
        "greet[7:16]"
      ],
      "execution_count": null,
      "outputs": [
        {
          "output_type": "execute_result",
          "data": {
            "application/vnd.google.colaboratory.intrinsic+json": {
              "type": "string"
            },
            "text/plain": [
              "'beautiful'"
            ]
          },
          "metadata": {
            "tags": []
          },
          "execution_count": 37
        }
      ]
    },
    {
      "cell_type": "code",
      "metadata": {
        "id": "kJsiapLySLLN",
        "outputId": "61e3e232-c349-4e61-82ec-8c1d486bf179",
        "colab": {
          "base_uri": "https://localhost:8080/",
          "height": 36
        }
      },
      "source": [
        "greet[17:20]"
      ],
      "execution_count": null,
      "outputs": [
        {
          "output_type": "execute_result",
          "data": {
            "application/vnd.google.colaboratory.intrinsic+json": {
              "type": "string"
            },
            "text/plain": [
              "'day'"
            ]
          },
          "metadata": {
            "tags": []
          },
          "execution_count": 40
        }
      ]
    },
    {
      "cell_type": "code",
      "metadata": {
        "id": "mBa-lFolQfPy"
      },
      "source": [
        "# 연습문제 5.17번"
      ],
      "execution_count": null,
      "outputs": []
    },
    {
      "cell_type": "code",
      "metadata": {
        "id": "ecMV-_vIQru4"
      },
      "source": [
        "# (1)"
      ],
      "execution_count": null,
      "outputs": []
    },
    {
      "cell_type": "code",
      "metadata": {
        "id": "wCdUWlChQvbr"
      },
      "source": [
        "animals = ['dog', 'cat', 'tiger', 'lion']"
      ],
      "execution_count": null,
      "outputs": []
    },
    {
      "cell_type": "code",
      "metadata": {
        "id": "09pDkqsLQvY3",
        "outputId": "21020f0c-d8e4-42b7-972d-277b0f3961dc",
        "colab": {
          "base_uri": "https://localhost:8080/"
        }
      },
      "source": [
        "print('animals = {}'.format(animals))"
      ],
      "execution_count": null,
      "outputs": [
        {
          "output_type": "stream",
          "text": [
            "animals = ['dog', 'cat', 'tiger', 'lion']\n"
          ],
          "name": "stdout"
        }
      ]
    },
    {
      "cell_type": "code",
      "metadata": {
        "id": "BRdS4U9TQvW-"
      },
      "source": [
        "# (2)"
      ],
      "execution_count": null,
      "outputs": []
    },
    {
      "cell_type": "code",
      "metadata": {
        "id": "47-IJYUclABp"
      },
      "source": [
        "animals = ['dog', 'cat', 'tiger', 'lion']"
      ],
      "execution_count": null,
      "outputs": []
    },
    {
      "cell_type": "code",
      "metadata": {
        "id": "W6ZDhb6TQvUV",
        "outputId": "0e846a67-d415-4a61-8978-f8bc65f5ae3d",
        "colab": {
          "base_uri": "https://localhost:8080/"
        }
      },
      "source": [
        "p = animals[0]\n",
        "a = animals.pop(0)\n",
        "animals.append(p)\n",
        "print(animals)"
      ],
      "execution_count": null,
      "outputs": [
        {
          "output_type": "stream",
          "text": [
            "['cat', 'tiger', 'lion', 'dog']\n"
          ],
          "name": "stdout"
        }
      ]
    },
    {
      "cell_type": "code",
      "metadata": {
        "id": "Vuvz3u5xQvRf"
      },
      "source": [
        "# (3)"
      ],
      "execution_count": null,
      "outputs": []
    },
    {
      "cell_type": "code",
      "metadata": {
        "id": "c9ySbBTyQvOo",
        "outputId": "059562c2-d4eb-45b4-af2e-9a83e7ea490e",
        "colab": {
          "base_uri": "https://localhost:8080/"
        }
      },
      "source": [
        "animals = ['dog', 'cat', 'tiger', 'lion']\n",
        "for a in animals:\n",
        "  print('I love {}.'.format(a))\n"
      ],
      "execution_count": null,
      "outputs": [
        {
          "output_type": "stream",
          "text": [
            "I love dog.\n",
            "I love cat.\n",
            "I love tiger.\n",
            "I love lion.\n"
          ],
          "name": "stdout"
        }
      ]
    },
    {
      "cell_type": "code",
      "metadata": {
        "id": "i_rNP_30QgWW"
      },
      "source": [
        "# 연습문제 5.18번"
      ],
      "execution_count": null,
      "outputs": []
    },
    {
      "cell_type": "code",
      "metadata": {
        "id": "maom1DYpVMfE"
      },
      "source": [
        "s_list = ['abc', 'bcd', 'bcdefg', 'abba', 'cddc', 'opq']"
      ],
      "execution_count": null,
      "outputs": []
    },
    {
      "cell_type": "code",
      "metadata": {
        "id": "ht88EaE5VMhn"
      },
      "source": [
        "# (1)"
      ],
      "execution_count": null,
      "outputs": []
    },
    {
      "cell_type": "code",
      "metadata": {
        "id": "Ru6hxmP8VMlJ",
        "outputId": "49bd34fb-ebd5-4c75-b865-a192e28aa29c",
        "colab": {
          "base_uri": "https://localhost:8080/"
        }
      },
      "source": [
        "small = s_list[0]\n",
        "\n",
        "for i in s_list:\n",
        "  if len(small) > len(i):\n",
        "    small = i\n",
        "\n",
        "print('가장 길이가 짧은 문자열 : {}'.format(small))"
      ],
      "execution_count": null,
      "outputs": [
        {
          "output_type": "stream",
          "text": [
            "가장 길이가 짧은 문자열 : abc\n"
          ],
          "name": "stdout"
        }
      ]
    },
    {
      "cell_type": "code",
      "metadata": {
        "id": "FjqB9UVCVMbc"
      },
      "source": [
        "# (2)"
      ],
      "execution_count": null,
      "outputs": []
    },
    {
      "cell_type": "code",
      "metadata": {
        "id": "pjzUMHUtWbK6",
        "outputId": "e8f5f88d-bf4d-4c35-b21c-89bc8ae0873b",
        "colab": {
          "base_uri": "https://localhost:8080/"
        }
      },
      "source": [
        "big = s_list[0]\n",
        "\n",
        "for i in s_list:\n",
        "  if len(big) < len(i):\n",
        "    big = i\n",
        "\n",
        "print('가장 길이가 긴 문자열 : {}'.format(big))"
      ],
      "execution_count": null,
      "outputs": [
        {
          "output_type": "stream",
          "text": [
            "가장 길이가 긴 문자열 : bcdefg\n"
          ],
          "name": "stdout"
        }
      ]
    },
    {
      "cell_type": "code",
      "metadata": {
        "id": "qWnOVvESWbZn"
      },
      "source": [
        "# (3)"
      ],
      "execution_count": null,
      "outputs": []
    },
    {
      "cell_type": "code",
      "metadata": {
        "id": "M5rxz_i3WbEq",
        "outputId": "e55efb81-08f5-49ca-fb7d-6bdd8cb946a0",
        "colab": {
          "base_uri": "https://localhost:8080/"
        }
      },
      "source": [
        "s_list.sort(key=len)\n",
        "big = s_list[0]\n",
        "same = []\n",
        "\n",
        "for i in s_list:\n",
        "  if len(big) == len(i):\n",
        "    same.append(i)\n",
        "\n",
        "print('가장 길이가 긴 문자열 : {}'.format(same))"
      ],
      "execution_count": null,
      "outputs": [
        {
          "output_type": "stream",
          "text": [
            "가장 길이가 긴 문자열 : ['abc', 'bcd', 'opq']\n"
          ],
          "name": "stdout"
        }
      ]
    },
    {
      "cell_type": "code",
      "metadata": {
        "id": "0ro_WhTmQhjj"
      },
      "source": [
        "# 연습문제 5.19번"
      ],
      "execution_count": null,
      "outputs": []
    },
    {
      "cell_type": "code",
      "metadata": {
        "id": "ACgHzopfYEbR"
      },
      "source": [
        "s_list = ['abc', 'bcd', 'abc', 'abba', 'cddc', 'opq', 'opq']"
      ],
      "execution_count": 3,
      "outputs": []
    },
    {
      "cell_type": "code",
      "metadata": {
        "id": "UdNBg5VVYEgv",
        "outputId": "f4d6a85c-ccd4-4dbf-c7ac-413a65ef28bb",
        "colab": {
          "base_uri": "https://localhost:8080/"
        }
      },
      "source": [
        "new_s_list = []\n",
        "new_s_list.append(s_list[0])\n",
        "\n",
        "\n",
        "for i in range(1,len(s_list)):\n",
        "  p = s_list[i]\n",
        "  if (p not in new_s_list) == True:\n",
        "    new_s_list.append(s_list[i])\n",
        "\n",
        "print('s_list = {}'.format(s_list))\n",
        "print('new_s_list = {}'.format(new_s_list)) "
      ],
      "execution_count": 5,
      "outputs": [
        {
          "output_type": "stream",
          "text": [
            "s_list = ['abc', 'bcd', 'abc', 'abba', 'cddc', 'opq', 'opq']\n",
            "new_s_list = ['abc', 'bcd', 'abba', 'cddc', 'opq']\n"
          ],
          "name": "stdout"
        }
      ]
    },
    {
      "cell_type": "code",
      "metadata": {
        "id": "vqDV36YfQijB"
      },
      "source": [
        "# 연습문제 5.20번"
      ],
      "execution_count": null,
      "outputs": []
    },
    {
      "cell_type": "code",
      "metadata": {
        "id": "rB1CKEDubM1Z",
        "outputId": "9f589282-bca0-42d0-ae40-ca7b1392c824",
        "colab": {
          "base_uri": "https://localhost:8080/"
        }
      },
      "source": [
        "src = ['a','a','a','a','b','b','b']\n",
        "output = []\n",
        "count = 0\n",
        "\n",
        "for i in range(len(src)):\n",
        "  if i == 0:\n",
        "    output.append(src[i])\n",
        "    count = count + 1\n",
        "  else:\n",
        "    if src[i-1] == src[i]:\n",
        "      count = count + 1\n",
        "    else :\n",
        "      output.append(count)\n",
        "      output.append(src[i])\n",
        "      count = 1\n",
        "      \n",
        "output.append(count)\n",
        "\n",
        "output_str = \"\"\n",
        "for i in output:\n",
        "  output_str = output_str + str(i)\n",
        "  \n",
        "print(\"scr = 'aaaabbb'\")      \n",
        "print(\"output = '{}'\".format(output_str))"
      ],
      "execution_count": null,
      "outputs": [
        {
          "output_type": "stream",
          "text": [
            "scr = 'aaaabbb'\n",
            "output = 'a4b3'\n"
          ],
          "name": "stdout"
        }
      ]
    },
    {
      "cell_type": "code",
      "metadata": {
        "id": "Kk9GEi9lyR_0",
        "outputId": "956a0b07-8366-4dac-b99b-510b72e9bea9",
        "colab": {
          "base_uri": "https://localhost:8080/"
        }
      },
      "source": [
        "src = ['a','a','a','a','b','c','c','c','c','a','a','a','a','a','c','c','c','f','g']\n",
        "output = []\n",
        "count = 0\n",
        "\n",
        "for i in range(len(src)):\n",
        "  if i == 0:\n",
        "    output.append(src[i])\n",
        "    count = count + 1\n",
        "  else:\n",
        "    if src[i-1] == src[i]:\n",
        "      count = count + 1\n",
        "    else :\n",
        "      output.append(count)\n",
        "      output.append(src[i])\n",
        "      count = 1\n",
        "      \n",
        "output.append(count)\n",
        "\n",
        "output_str = \"\"\n",
        "for i in output:\n",
        "  output_str = output_str + str(i)\n",
        "  \n",
        "print(\"scr = 'aaaabccccaaaaacccfg'\")      \n",
        "print(\"output = '{}'\".format(output_str))"
      ],
      "execution_count": null,
      "outputs": [
        {
          "output_type": "stream",
          "text": [
            "scr = 'aaaabccccaaaaacccfg'\n",
            "output = 'a4b1c4a5c3f1g1'\n"
          ],
          "name": "stdout"
        }
      ]
    },
    {
      "cell_type": "code",
      "metadata": {
        "id": "UtQ5enBYySdD",
        "outputId": "d115c681-b8d5-445b-f228-2b3f6ffe1bda",
        "colab": {
          "base_uri": "https://localhost:8080/"
        }
      },
      "source": [
        "src = []\n",
        "output = []\n",
        "count = 0\n",
        "\n",
        "for i in range(len(src)):\n",
        "  if i == 0:\n",
        "    output.append(src[i])\n",
        "    count = count + 1\n",
        "  else:\n",
        "    if src[i-1] == src[i]:\n",
        "      count = count + 1\n",
        "    else :\n",
        "      output.append(count)\n",
        "      output.append(src[i])\n",
        "      count = 1\n",
        "      \n",
        "output.append(count)\n",
        "\n",
        "output_str = \"\"\n",
        "for i in output:\n",
        "  output_str = output_str + str(i)\n",
        "  \n",
        "if src == []:\n",
        "  print(\"scr = ''\") \n",
        "  print(\"output = ''\")\n",
        "\n",
        "else:\n",
        "  print(\"scr = ''\")      \n",
        "  print(\"output = '{}'\".format(output_str))\n"
      ],
      "execution_count": null,
      "outputs": [
        {
          "output_type": "stream",
          "text": [
            "scr = ''\n",
            "output = ''\n"
          ],
          "name": "stdout"
        }
      ]
    },
    {
      "cell_type": "code",
      "metadata": {
        "id": "pZ_4FOK0yrD7",
        "outputId": "9336a069-6fca-4936-fdc5-d3629826e1f5",
        "colab": {
          "base_uri": "https://localhost:8080/"
        }
      },
      "source": [
        "src = ['a']\n",
        "output = []\n",
        "count = 0\n",
        "\n",
        "for i in range(len(src)):\n",
        "  if i == 0:\n",
        "    output.append(src[i])\n",
        "    count = count + 1\n",
        "  else:\n",
        "    if src[i-1] == src[i]:\n",
        "      count = count + 1\n",
        "    else :\n",
        "      output.append(count)\n",
        "      output.append(src[i])\n",
        "      count = 1\n",
        "      \n",
        "output.append(count)\n",
        "\n",
        "output_str = \"\"\n",
        "for i in output:\n",
        "  output_str = output_str + str(i)\n",
        "  \n",
        "print(\"scr = 'a'\")      \n",
        "print(\"output = '{}'\".format(output_str))"
      ],
      "execution_count": null,
      "outputs": [
        {
          "output_type": "stream",
          "text": [
            "scr = 'a'\n",
            "output = 'a1'\n"
          ],
          "name": "stdout"
        }
      ]
    },
    {
      "cell_type": "code",
      "metadata": {
        "id": "UNl2eAAQQj-s"
      },
      "source": [
        "# 연습문제 5.21번"
      ],
      "execution_count": null,
      "outputs": []
    },
    {
      "cell_type": "code",
      "metadata": {
        "id": "oT9AlomQjMvt",
        "outputId": "22144a17-ee10-4577-db3f-347fa170e10f",
        "colab": {
          "base_uri": "https://localhost:8080/"
        }
      },
      "source": [
        "scr = ['a',2,'b',3,'c',6,'a',2,'c',3,'f',1,'g',1]\n",
        "print(\"scr = 'a2b3c6a2c3f1g1'\")\n",
        "print(\"output = '\",end='')\n",
        "\n",
        "for i in range(0,len(scr),2):\n",
        "  print(scr[i] * scr[i+1],end='')\n",
        "\n",
        "print(\"'\",end='')"
      ],
      "execution_count": null,
      "outputs": [
        {
          "output_type": "stream",
          "text": [
            "scr = 'a2b3c6a2c3f1g1'\n",
            "output = 'aabbbccccccaacccfg'"
          ],
          "name": "stdout"
        }
      ]
    },
    {
      "cell_type": "code",
      "metadata": {
        "id": "i8LRu29tQlZe"
      },
      "source": [
        "# 연습문제 5.22번"
      ],
      "execution_count": null,
      "outputs": []
    },
    {
      "cell_type": "code",
      "metadata": {
        "id": "KjvNBZBmdGHW",
        "outputId": "8451be8c-3e2a-4175-b2b4-15222579501e",
        "colab": {
          "base_uri": "https://localhost:8080/"
        }
      },
      "source": [
        "n = int(input('n을 입력하시오 : '))\n",
        "snake_list = list(range(1,(n*n)+1))\n",
        "\n",
        "if n % 2 == 0:\n",
        "  for i in range(0,n,2):\n",
        "    print(snake_list[n*i:(n*i)+n])\n",
        "    print(snake_list[(n*i)+2*n-1:n*i+n-1:-1])\n",
        "\n",
        "else:\n",
        "  for i in range(0,n-1,2):\n",
        "    print(snake_list[n*i:(n*i)+n])\n",
        "    print(snake_list[(n*i)+2*n-1:n*i+n-1:-1])\n",
        "  print(snake_list[n*(n-1):n*(n-1)+n])"
      ],
      "execution_count": null,
      "outputs": [
        {
          "output_type": "stream",
          "text": [
            "n을 입력하시오 : 5\n",
            "[1, 2, 3, 4, 5]\n",
            "[10, 9, 8, 7, 6]\n",
            "[11, 12, 13, 14, 15]\n",
            "[20, 19, 18, 17, 16]\n",
            "[21, 22, 23, 24, 25]\n"
          ],
          "name": "stdout"
        }
      ]
    },
    {
      "cell_type": "code",
      "metadata": {
        "id": "9Xle263BdGE3",
        "outputId": "95accfe3-a920-42b6-a1a7-656598c23f85",
        "colab": {
          "base_uri": "https://localhost:8080/"
        }
      },
      "source": [
        "n = int(input('n을 입력하시오 : '))\n",
        "snake_list = list(range(1,(n*n)+1))\n",
        "\n",
        "if n % 2 == 0:\n",
        "  for i in range(0,n,2):\n",
        "    print(snake_list[n*i:(n*i)+n])\n",
        "    print(snake_list[(n*i)+2*n-1:n*i+n-1:-1])\n",
        "\n",
        "else:\n",
        "  for i in range(0,n-1,2):\n",
        "    print(snake_list[n*i:(n*i)+n])\n",
        "    print(snake_list[(n*i)+2*n-1:n*i+n-1:-1])\n",
        "  print(snake_list[n*(n-1):n*(n-1)+n])"
      ],
      "execution_count": null,
      "outputs": [
        {
          "output_type": "stream",
          "text": [
            "n을 입력하시오 : 6\n",
            "[1, 2, 3, 4, 5, 6]\n",
            "[12, 11, 10, 9, 8, 7]\n",
            "[13, 14, 15, 16, 17, 18]\n",
            "[24, 23, 22, 21, 20, 19]\n",
            "[25, 26, 27, 28, 29, 30]\n",
            "[36, 35, 34, 33, 32, 31]\n"
          ],
          "name": "stdout"
        }
      ]
    },
    {
      "cell_type": "code",
      "metadata": {
        "id": "itDffsiiQmTT"
      },
      "source": [
        "# 연습문제 5.23번"
      ],
      "execution_count": null,
      "outputs": []
    },
    {
      "cell_type": "code",
      "metadata": {
        "id": "4uRpDVPjl4J-"
      },
      "source": [
        "# (1)"
      ],
      "execution_count": null,
      "outputs": []
    },
    {
      "cell_type": "code",
      "metadata": {
        "id": "m0Nv0wcbm_u9",
        "outputId": "b980d23d-4b7f-4a58-ec2d-4f48c39f1bf2",
        "colab": {
          "base_uri": "https://localhost:8080/"
        }
      },
      "source": [
        "person1 = ['온달', 20, 1, 180.0, 100.0]\n",
        "person2 = ['이사부', 25, 1, 170.0, 70.0]\n",
        "person3 = ['평강', 22, 0, 169.0, 60.0]\n",
        "person4 = ['혁거세', 40, 1, 150.0, 50.0]\n",
        "\n",
        "person_list = person1 + person3 + person4\n",
        "\n",
        "def how_many_persons(person_list):\n",
        "  n_persons = len(person_list) // len(person1)\n",
        "  return n_persons\n",
        "\n",
        "n_persons = how_many_persons(person_list)\n",
        "print(str(n_persons) + '명의 정보가 담겨 있습니다.')"
      ],
      "execution_count": 3,
      "outputs": [
        {
          "output_type": "stream",
          "text": [
            "3명의 정보가 담겨 있습니다.\n"
          ],
          "name": "stdout"
        }
      ]
    },
    {
      "cell_type": "code",
      "metadata": {
        "id": "B5oyq16cl4rx"
      },
      "source": [
        "# (2)"
      ],
      "execution_count": null,
      "outputs": []
    },
    {
      "cell_type": "code",
      "metadata": {
        "id": "c1Ez3rG6l4wp",
        "outputId": "5a94e545-f4b0-4fda-bc1a-2631fa37346e",
        "colab": {
          "base_uri": "https://localhost:8080/"
        }
      },
      "source": [
        "person1 = ['온달', 20, 1, 180.0, 100.0]\n",
        "person2 = ['이사부', 25, 1, 170.0, 70.0]\n",
        "person3 = ['평강', 22, 0, 169.0, 60.0]\n",
        "person4 = ['혁거세', 40, 1, 150.0, 50.0]\n",
        "\n",
        "person_list = person1 + person2 + person3 + person4\n",
        "\n",
        "def compute_average_age(person_list):\n",
        "  ave = person_list[1:24:5]\n",
        "  평균 = sum(ave) / len(ave)\n",
        "  return 평균\n",
        "\n",
        "average_age = compute_average_age(person_list)\n",
        "print('평균 나이는 ' + str(average_age) + '세입니다.')"
      ],
      "execution_count": 34,
      "outputs": [
        {
          "output_type": "stream",
          "text": [
            "평균 나이는 26.75세입니다.\n"
          ],
          "name": "stdout"
        }
      ]
    },
    {
      "cell_type": "code",
      "metadata": {
        "id": "qwBu3P6Ll4um"
      },
      "source": [
        "# (3)"
      ],
      "execution_count": null,
      "outputs": []
    },
    {
      "cell_type": "code",
      "metadata": {
        "id": "KT9Bzi6ol4RZ",
        "outputId": "01a7f092-f26f-49f4-cd90-f785ff3b1a5a",
        "colab": {
          "base_uri": "https://localhost:8080/"
        }
      },
      "source": [
        "person1 = ['온달', 20, 1, 180.0, 100.0]\n",
        "person2 = ['이사부', 25, 1, 170.0, 70.0]\n",
        "person3 = ['평강', 22, 0, 169.0, 60.0]\n",
        "person4 = ['혁거세', 40, 1, 150.0, 50.0]\n",
        "\n",
        "person_list = person1 + person2 + person3 + person4\n",
        "\n",
        "\n",
        "def count_males_females(person_list):\n",
        "  n_male = 0\n",
        "  n_female = 0\n",
        "  \n",
        "  for i in range(2,len(person_list),5):\n",
        "    if person_list[i] == 1:\n",
        "      n_male = n_male + 1\n",
        "    else : \n",
        "      n_female = n_female + 1\n",
        "  return n_male,n_female\n",
        "\n",
        "n_male, n_female = count_males_females(person_list)\n",
        "\n",
        "print('리스트에는 남자가',n_male,'명, 여자가', n_female, '명입니다.')\n",
        "\n",
        "\n"
      ],
      "execution_count": 22,
      "outputs": [
        {
          "output_type": "stream",
          "text": [
            "리스트에는 남자가 3 명, 여자가 1 명입니다.\n"
          ],
          "name": "stdout"
        }
      ]
    },
    {
      "cell_type": "code",
      "metadata": {
        "id": "c3WtRFqQl9oU"
      },
      "source": [
        "# (4)"
      ],
      "execution_count": null,
      "outputs": []
    },
    {
      "cell_type": "code",
      "metadata": {
        "id": "-DzGsReZl4Gs",
        "outputId": "a0ff2f57-0f2a-429b-a1fc-0720122e9843",
        "colab": {
          "base_uri": "https://localhost:8080/"
        }
      },
      "source": [
        "person1 = ['온달', 20, 1, 180.0, 100.0]\n",
        "person2 = ['이사부', 25, 1, 170.0, 70.0]\n",
        "person3 = ['평강', 22, 0, 169.0, 60.0]\n",
        "person4 = ['혁거세', 40, 1, 150.0, 50.0]\n",
        "\n",
        "person_list = person1 + person2 + person3 + person4\n",
        "\n",
        "def display_persons(person_list):\n",
        "  for i in range(0,4,1):\n",
        "    print(person_list[5*i:5*(i+1)])\n",
        "\n",
        "display_persons(person_list)\n"
      ],
      "execution_count": 40,
      "outputs": [
        {
          "output_type": "stream",
          "text": [
            "['온달', 20, 1, 180.0, 100.0]\n",
            "['이사부', 25, 1, 170.0, 70.0]\n",
            "['평강', 22, 0, 169.0, 60.0]\n",
            "['혁거세', 40, 1, 150.0, 50.0]\n"
          ],
          "name": "stdout"
        }
      ]
    },
    {
      "cell_type": "code",
      "metadata": {
        "id": "htsMvTOkQnQS"
      },
      "source": [
        "# 연습문제 5.24번"
      ],
      "execution_count": null,
      "outputs": []
    },
    {
      "cell_type": "code",
      "metadata": {
        "id": "HV0T8sH3ooxU",
        "outputId": "9fc658f7-637a-484f-86fd-db51d649a518",
        "colab": {
          "base_uri": "https://localhost:8080/"
        }
      },
      "source": [
        "list_a = []\n",
        "\n",
        "for i in range(1,10001):\n",
        "  p = 0\n",
        "\n",
        "  for k in range(1,i):\n",
        "    if (i % k) == 0:\n",
        "      p = p + k\n",
        "\n",
        "  if i == p :\n",
        "    for j in range(1,i):\n",
        "      if (i % j) == 0:\n",
        "        list_a.append(j)\n",
        "\n",
        "    print('{0}은 완전수입니다'.format(i))\n",
        "    print('{0}의 약수 : {1}, 약수의 합 = {2}'.format(i,list_a,p))\n",
        "\n",
        "    list_a = []"
      ],
      "execution_count": 36,
      "outputs": [
        {
          "output_type": "stream",
          "text": [
            "6은 완전수입니다\n",
            "6의 약수 : [1, 2, 3], 약수의 합 = 6\n",
            "28은 완전수입니다\n",
            "28의 약수 : [1, 2, 4, 7, 14], 약수의 합 = 28\n",
            "496은 완전수입니다\n",
            "496의 약수 : [1, 2, 4, 8, 16, 31, 62, 124, 248], 약수의 합 = 496\n",
            "8128은 완전수입니다\n",
            "8128의 약수 : [1, 2, 4, 8, 16, 32, 64, 127, 254, 508, 1016, 2032, 4064], 약수의 합 = 8128\n"
          ],
          "name": "stdout"
        }
      ]
    },
    {
      "cell_type": "code",
      "metadata": {
        "id": "KaYFxmILzYse"
      },
      "source": [
        ""
      ],
      "execution_count": null,
      "outputs": []
    }
  ]
}